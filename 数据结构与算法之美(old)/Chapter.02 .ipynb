{
 "cells": [
  {
   "cell_type": "markdown",
   "metadata": {},
   "source": [
    "广义上讲，数据结构是指一组数据的存储结构，算法就是操作数据的一组方法。\n",
    "\n",
    "数据结构是位算法服务的，算法要作用在特定的数据结构上。"
   ]
  },
  {
   "cell_type": "markdown",
   "metadata": {},
   "source": [
    "数据结构：数组、链表、栈、队列、散列表、二叉树、堆、跳表、图、trie树\n",
    "\n",
    "算法：递归、排序、二分查找、搜索、哈希算法、贪心算法、分治算法、回溯算法、动态规划、字符串匹配算法"
   ]
  },
  {
   "cell_type": "markdown",
   "metadata": {},
   "source": [
    "1. 边学边练，适度刷题\n",
    "2. 多问，多思考\n",
    "3. 坚持\n",
    "4. 只是沉淀"
   ]
  },
  {
   "cell_type": "code",
   "execution_count": null,
   "metadata": {},
   "outputs": [],
   "source": []
  }
 ],
 "metadata": {
  "kernelspec": {
   "display_name": "Python 3",
   "language": "python",
   "name": "python3"
  },
  "language_info": {
   "codemirror_mode": {
    "name": "ipython",
    "version": 3
   },
   "file_extension": ".py",
   "mimetype": "text/x-python",
   "name": "python",
   "nbconvert_exporter": "python",
   "pygments_lexer": "ipython3",
   "version": "3.7.0"
  }
 },
 "nbformat": 4,
 "nbformat_minor": 2
}
