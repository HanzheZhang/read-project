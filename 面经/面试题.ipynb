{
 "cells": [
  {
   "cell_type": "markdown",
   "metadata": {},
   "source": [
    "[面试题](https://zhuanlan.zhihu.com/p/37215216)"
   ]
  },
  {
   "cell_type": "code",
   "execution_count": 2,
   "metadata": {},
   "outputs": [],
   "source": [
    "# 有一个jsonline格式的文件file.txt大小约为10k\n",
    "def get_line():\n",
    "    with open('file.txt', 'rb') as f:\n",
    "        return f.readlines()\n",
    "    \n",
    "for e in get_line():\n",
    "    process(e)"
   ]
  },
  {
   "cell_type": "code",
   "execution_count": 4,
   "metadata": {},
   "outputs": [],
   "source": [
    "# 现在要处理一个大小为10G的文件，但是内存只有4G，\n",
    "# 如果在只修改get_lines 函数而其他代码保持不变的情况下，\n",
    "# 应该如何实现？需要考虑的问题都有那些？\n",
    "def get_line():\n",
    "    with open('file.txt', 'rb') as f:\n",
    "        for i in f:\n",
    "            yield i\n",
    "# 要考虑的问题有：内存只有4G无法一次性读入10G文件，\n",
    "# 需要分批读入分批读入数据要记录每次读入数据的位置。\n",
    "# 分批每次读取数据的大小，太小会在读取操作花费过多时间。"
   ]
  },
  {
   "cell_type": "code",
   "execution_count": 10,
   "metadata": {},
   "outputs": [
    {
     "ename": "IndentationError",
     "evalue": "expected an indented block (<ipython-input-10-e632e5e69897>, line 6)",
     "output_type": "error",
     "traceback": [
      "\u001b[1;36m  File \u001b[1;32m\"<ipython-input-10-e632e5e69897>\"\u001b[1;36m, line \u001b[1;32m6\u001b[0m\n\u001b[1;33m    \"\"\"\u001b[0m\n\u001b[1;37m       \n^\u001b[0m\n\u001b[1;31mIndentationError\u001b[0m\u001b[1;31m:\u001b[0m expected an indented block\n"
     ]
    }
   ],
   "source": [
    "def print_directory_contents(s_path):\n",
    "\"\"\"\n",
    "这个函数接收文件夹的名称作为输入参数\n",
    "返回该文件夹中文件的路径\n",
    "以及其包含文件夹中文件的路径\n",
    "\"\"\"\n",
    "import os\n",
    "\n",
    "for s_child in os.listdir(s_path):\n",
    "    s_child_path = os.path.join(s_path, s_child)\n",
    "    if os.path.isdir(s_child_path):\n",
    "        print_directory_contents(s_child_path)\n",
    "    else:\n",
    "        print(s_child_path)"
   ]
  },
  {
   "cell_type": "code",
   "execution_count": null,
   "metadata": {},
   "outputs": [],
   "source": []
  }
 ],
 "metadata": {
  "kernelspec": {
   "display_name": "Python 3",
   "language": "python",
   "name": "python3"
  },
  "language_info": {
   "codemirror_mode": {
    "name": "ipython",
    "version": 3
   },
   "file_extension": ".py",
   "mimetype": "text/x-python",
   "name": "python",
   "nbconvert_exporter": "python",
   "pygments_lexer": "ipython3",
   "version": "3.7.0"
  }
 },
 "nbformat": 4,
 "nbformat_minor": 2
}
