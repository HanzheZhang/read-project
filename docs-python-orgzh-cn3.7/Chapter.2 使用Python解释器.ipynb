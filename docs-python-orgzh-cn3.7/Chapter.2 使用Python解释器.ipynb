{
 "cells": [
  {
   "cell_type": "markdown",
   "metadata": {},
   "source": [
    "# 2.1.调用解释器"
   ]
  },
  {
   "cell_type": "markdown",
   "metadata": {},
   "source": [
    "python解释器通常放在/usr/local/bin/python3.7\n",
    "\n",
    "把/usr/local/bin放在unix shell的搜索路径当中，这样键入命令“python3.7”就能运行。\n",
    "\n",
    "在windows机器上，Python安装通常放在C:/Python37中。设置环境变量，在命令提示符窗口输入“set path=%path%;C:/python37”。"
   ]
  },
  {
   "cell_type": "code",
   "execution_count": null,
   "metadata": {},
   "outputs": [],
   "source": []
  }
 ],
 "metadata": {
  "kernelspec": {
   "display_name": "Python 3",
   "language": "python",
   "name": "python3"
  },
  "language_info": {
   "codemirror_mode": {
    "name": "ipython",
    "version": 3
   },
   "file_extension": ".py",
   "mimetype": "text/x-python",
   "name": "python",
   "nbconvert_exporter": "python",
   "pygments_lexer": "ipython3",
   "version": "3.7.0"
  }
 },
 "nbformat": 4,
 "nbformat_minor": 2
}
