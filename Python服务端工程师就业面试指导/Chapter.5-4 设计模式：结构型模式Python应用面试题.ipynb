{
 "cells": [
  {
   "cell_type": "markdown",
   "metadata": {},
   "source": [
    "- 装饰器模式（Decorator）：无需子类化扩展对象功能\n",
    "- 代理模式（Proxy）：把一个对象的操作代理到另一个对象\n",
    "- 适配器模式（Adapter）：通过一个间接层适配统一接口\n",
    "- 外观模式（Facade）：简化复杂对象的访问问题\n",
    "- 享元模式（Flyweight）：通过对象复用（池）改善资源利用，比如连接池\n",
    "- Model-View-Controller（MVC）：解耦展示逻辑和业务逻辑"
   ]
  },
  {
   "cell_type": "markdown",
   "metadata": {},
   "source": [
    "代理模式\n",
    "- 把一个对象的操作代理到另一个对象\n",
    "- 通常使用has-a关系"
   ]
  },
  {
   "cell_type": "code",
   "execution_count": 2,
   "metadata": {},
   "outputs": [],
   "source": [
    "from collections import deque\n",
    "\n",
    "\n",
    "class Stack(object):\n",
    "    def __init__(self):\n",
    "        self._deque = deque()\n",
    "        \n",
    "    def push(self, value):\n",
    "        return self._deque.append(value)\n",
    "    \n",
    "    def pop(self):\n",
    "        return self._deque.pop()\n",
    "        \n",
    "    def empty(self):\n",
    "        return len(self._deque) == 0"
   ]
  },
  {
   "cell_type": "markdown",
   "metadata": {},
   "source": [
    "适配器模式\n",
    "- 把不同对象的接口适配到同一个接口\n",
    "- 当我们需要给不同的对象统一接口的时候可以使用适配器模式"
   ]
  },
  {
   "cell_type": "code",
   "execution_count": 3,
   "metadata": {},
   "outputs": [
    {
     "name": "stdout",
     "output_type": "stream",
     "text": [
      "a Dog goes woof\n",
      "a Cat goes meow\n"
     ]
    }
   ],
   "source": [
    "class Dog:\n",
    "    def __init__(self):\n",
    "        self.name = \"Dog\"\n",
    "        \n",
    "    def bark(self):\n",
    "        return \"woof\"\n",
    "    \n",
    "    \n",
    "class Cat:\n",
    "    def __init__(self):\n",
    "        self.name = 'Cat'\n",
    "        \n",
    "    def meow(self):\n",
    "        return \"meow\"\n",
    "    \n",
    "    \n",
    "class Adapter:\n",
    "    def __init__(self, obj, **adaptered_methods):\n",
    "        self.obj = obj\n",
    "        self.__dict__.update(adaptered_methods)\n",
    "        \n",
    "    def __getattr__(self, attr):\n",
    "        return getattr(self.obj, attr)\n",
    "    \n",
    "    \n",
    "objects = []\n",
    "dog = Dog()\n",
    "objects.append(Adapter(dog, make_noise=dog.bark))\n",
    "cat = Cat()\n",
    "objects.append(Adapter(cat, make_noise=cat.meow))\n",
    "for obj in objects:\n",
    "    print(\"a {} goes {}\".format(obj.name, obj.make_noise()))"
   ]
  },
  {
   "cell_type": "code",
   "execution_count": null,
   "metadata": {},
   "outputs": [],
   "source": []
  }
 ],
 "metadata": {
  "kernelspec": {
   "display_name": "Python 3",
   "language": "python",
   "name": "python3"
  },
  "language_info": {
   "codemirror_mode": {
    "name": "ipython",
    "version": 3
   },
   "file_extension": ".py",
   "mimetype": "text/x-python",
   "name": "python",
   "nbconvert_exporter": "python",
   "pygments_lexer": "ipython3",
   "version": "3.7.0"
  }
 },
 "nbformat": 4,
 "nbformat_minor": 2
}
