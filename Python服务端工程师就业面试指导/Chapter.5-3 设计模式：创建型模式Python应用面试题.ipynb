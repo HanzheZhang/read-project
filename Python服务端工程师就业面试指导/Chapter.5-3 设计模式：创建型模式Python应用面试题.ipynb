{
 "cells": [
  {
   "cell_type": "markdown",
   "metadata": {},
   "source": [
    "常见创建型设计模式\n",
    "- 工厂模式（Factory）：解决对象创建问题\n",
    "- 构造模式（Builder）：控制复杂对象的创建\n",
    "- 原型模式（Prototype）：通过原型的克隆创建新的实例\n",
    "- 单例（Borg/Singleton）：一个类只能创建同一个对象\n",
    "- 对象池模式（Pool）：预先分配同一类型的一组实例\n",
    "- 惰性计算模式（Lazy Evaluation）：延迟计算（python的property）"
   ]
  },
  {
   "cell_type": "markdown",
   "metadata": {},
   "source": [
    "工厂模式\n",
    "- 解决对象创建问题\n",
    "- 解耦对象的创建和使用\n",
    "- 包括工厂方法和抽象工厂"
   ]
  },
  {
   "cell_type": "code",
   "execution_count": 1,
   "metadata": {},
   "outputs": [],
   "source": [
    "# 工厂模式\n",
    "class DogToy:\n",
    "    def speak(self):\n",
    "        print(\"wang wang\")\n",
    "        \n",
    "\n",
    "class CatToy:\n",
    "    def speak(self):\n",
    "        print(\"miao miao\")\n",
    "        \n",
    "    \n",
    "def toy_factory(toy_type):\n",
    "    if toy_type == 'dog':\n",
    "        return DogToy()\n",
    "    elif toy_type == 'cat':\n",
    "        return CatToy()"
   ]
  },
  {
   "cell_type": "markdown",
   "metadata": {},
   "source": [
    "构造模式\n",
    "- 用来控制复杂对象的构造\n",
    "- 创建和表示分离。比如你要买电脑，工厂模式直接给你需要的电脑\n",
    "- 但是构造模式允许你自己定义电脑的配置，组装完成后给你"
   ]
  },
  {
   "cell_type": "markdown",
   "metadata": {},
   "source": [
    "原型模式\n",
    "- 通过克隆原型来创建新的实例\n",
    "- 可以使用相同的原型，通过修改部分属性来创建新的示例\n",
    "- 用途：对于一些创建实例开销比较高的地方可以用原型模式"
   ]
  },
  {
   "cell_type": "markdown",
   "metadata": {},
   "source": [
    "单例模式\n",
    "- 单例模式：一个类创建出来的对象都是同一个\n",
    "- Python的模块其实就是单例的，只会导入一次\n",
    "- 使用共享同一个实例的方式来创建单例模式"
   ]
  },
  {
   "cell_type": "code",
   "execution_count": 3,
   "metadata": {},
   "outputs": [
    {
     "name": "stdout",
     "output_type": "stream",
     "text": [
      "True\n"
     ]
    }
   ],
   "source": [
    "class Singleton:\n",
    "    def __new__(cls, *args, **kwargs):\n",
    "        if not hasattr(cls, '_instance'):\n",
    "            _instance = super().__new__(cls, *args, **kwargs)\n",
    "            cls._instance = _instance\n",
    "        return cls._instance \n",
    "    \n",
    "\n",
    "class MyClass(Singleton):\n",
    "    pass\n",
    "\n",
    "\n",
    "c1 = MyClass()\n",
    "c2 = MyClass()\n",
    "print(c1 is c2)"
   ]
  },
  {
   "cell_type": "code",
   "execution_count": null,
   "metadata": {},
   "outputs": [],
   "source": []
  }
 ],
 "metadata": {
  "kernelspec": {
   "display_name": "Python 3",
   "language": "python",
   "name": "python3"
  },
  "language_info": {
   "codemirror_mode": {
    "name": "ipython",
    "version": 3
   },
   "file_extension": ".py",
   "mimetype": "text/x-python",
   "name": "python",
   "nbconvert_exporter": "python",
   "pygments_lexer": "ipython3",
   "version": "3.7.0"
  }
 },
 "nbformat": 4,
 "nbformat_minor": 2
}
