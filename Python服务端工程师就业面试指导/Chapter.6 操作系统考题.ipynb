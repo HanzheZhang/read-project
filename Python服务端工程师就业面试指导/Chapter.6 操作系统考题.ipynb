{
 "cells": [
  {
   "cell_type": "markdown",
   "metadata": {},
   "source": [
    "Linux常用命令\n",
    "- man\n",
    "- --help\n",
    "- chown/chmod/chgrp\n",
    "- ls/rm/cd/cp/mv/touch/rename/ln\n",
    "- locate/find/grep\n",
    "- cat/tail/head/more/less\n",
    "- ps\n",
    "- kill\n",
    "- top/htop\n",
    "- free\n",
    "- ifconfig\n",
    "- lsof/netstat\n",
    "- ssh/scp 远程登陆/复制\n",
    "- tcpdump 抓包\n",
    "- useradd/usermod\n",
    "- groupadd/groupmod"
   ]
  },
  {
   "cell_type": "markdown",
   "metadata": {},
   "source": [
    "## 操作系统线程和进程常考题"
   ]
  },
  {
   "cell_type": "markdown",
   "metadata": {},
   "source": [
    "进程和线程的区别\n",
    "- 进程是对运行时程序的封装，是系统资源调度和分配的基本单位\n",
    "- 线程是进程的子任务，cpu调度和分配的基本单位，实现进程内并发\n",
    "- 一个进程可以包含多个线程，线程依赖进程存在，并共享进程内存"
   ]
  },
  {
   "cell_type": "markdown",
   "metadata": {},
   "source": [
    "什么是线程安全\n",
    "\n",
    "Python哪些操作是线程安全的\n",
    "- 一个操作可以在多线程环境中安全使用，获取正确的结果\n",
    "- 线程安全的操作好比线程是顺序执行而不是并发执行的\n",
    "- 一般如果涉及到写操作需要考虑如何让多个线程安全访问数据"
   ]
  },
  {
   "cell_type": "markdown",
   "metadata": {},
   "source": [
    "线程同步的方式\n",
    "- 互斥量（锁）：通过互斥机制防止多个线程同时访问公共资源\n",
    "- 信号量：控制同一时刻多个线程访问统一资源的线程数\n",
    "- 事件（信号）：通过通知的方式保持多个线程同步"
   ]
  },
  {
   "cell_type": "markdown",
   "metadata": {},
   "source": [
    "进程间通信方式\n",
    "- 管道/匿名管道/又名管道\n",
    "- 信号\n",
    "- 消息队列\n",
    "- 共享内存\n",
    "- 信号量\n",
    "- 套接字（socket）"
   ]
  },
  {
   "cell_type": "markdown",
   "metadata": {},
   "source": [
    "python中如何使用多线程\n",
    "\n",
    "threading模块\n",
    "- threading.Tread 类用来创建线程\n",
    "- start()方法启动线程\n",
    "- 可以用join()等待线程结束"
   ]
  },
  {
   "cell_type": "markdown",
   "metadata": {},
   "source": [
    "Python中如何使用多进程\n",
    "- multiprocessing多进程模块\n",
    "- Mulyiprocessing.Process类实现多进程\n",
    "- 一般用在CPU密集程序里，避免GIL的影响"
   ]
  },
  {
   "cell_type": "markdown",
   "metadata": {},
   "source": [
    "## 操作系统内存管理机制常见考题"
   ]
  },
  {
   "cell_type": "markdown",
   "metadata": {},
   "source": [
    "分页机制：逻辑地址和物理地址分离的内存分配管理方案\n",
    "- 程序的逻辑地址分为固定大小的页\n",
    "- 物理地址划分为同样大小的帧\n",
    "- 通过页表对应逻辑地址和物理地址"
   ]
  },
  {
   "cell_type": "markdown",
   "metadata": {},
   "source": [
    "分段机制：为了满足代码的一些逻辑需求\n",
    "- 数据共享、数据保护、动态链接\n",
    "- 通过段表实现逻辑地址和物理地址的映射关系\n",
    "- 每个段内部是连续内存分配，段和段之间是离散分配的"
   ]
  },
  {
   "cell_type": "markdown",
   "metadata": {},
   "source": [
    "分页vs分段\n",
    "- 页是出于内存利用率的角度提出的离散分配机制\n",
    "- 段是出于用户角度，用户数据保护、数据隔离等用途的管理机制\n",
    "- 页的大小是固定的，操作系统决定；段的大小不确定，用户程序决定"
   ]
  },
  {
   "cell_type": "markdown",
   "metadata": {},
   "source": [
    "虚拟内存\n",
    "- 局部性原理，程序运行时侯只有部分必要信息装入内存\n",
    "- 内存中暂时不需要的内容放到硬盘上\n",
    "- 系统似乎提供了比实际内存大得多的容量，称之为虚拟内存"
   ]
  },
  {
   "cell_type": "markdown",
   "metadata": {},
   "source": [
    "Python的垃圾回收机制原理\n",
    "- 引用计数为主（缺点：循环引用无法解决）\n",
    "- 引用标记清除和分代回收解决引用计数的问题\n",
    "- 引用计数为主 + 标记清除和分代回收为辅"
   ]
  },
  {
   "cell_type": "code",
   "execution_count": null,
   "metadata": {},
   "outputs": [],
   "source": []
  }
 ],
 "metadata": {
  "kernelspec": {
   "display_name": "Python 3",
   "language": "python",
   "name": "python3"
  },
  "language_info": {
   "codemirror_mode": {
    "name": "ipython",
    "version": 3
   },
   "file_extension": ".py",
   "mimetype": "text/x-python",
   "name": "python",
   "nbconvert_exporter": "python",
   "pygments_lexer": "ipython3",
   "version": "3.7.0"
  }
 },
 "nbformat": 4,
 "nbformat_minor": 2
}
