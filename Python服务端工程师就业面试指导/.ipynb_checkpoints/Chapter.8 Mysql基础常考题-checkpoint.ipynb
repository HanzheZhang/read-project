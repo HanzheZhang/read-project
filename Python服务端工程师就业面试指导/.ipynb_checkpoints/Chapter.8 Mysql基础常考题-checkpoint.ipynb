{
 "cells": [
  {
   "cell_type": "markdown",
   "metadata": {},
   "source": [
    "- 事务原理、特性、事务并发控制\n",
    "- 常用的字段、含义和区别\n",
    "- 常用数据库引擎和区别"
   ]
  },
  {
   "cell_type": "markdown",
   "metadata": {},
   "source": [
    "事务\n",
    "- 事务是数据库并发控制的基本单位\n",
    "- 事务可以看作是一系列SQL语句的集合\n",
    "- 事务必须要么全部执行成功，要么全部执行失败"
   ]
  },
  {
   "cell_type": "markdown",
   "metadata": {},
   "source": []
  }
 ],
 "metadata": {
  "kernelspec": {
   "display_name": "Python 3",
   "language": "python",
   "name": "python3"
  },
  "language_info": {
   "codemirror_mode": {
    "name": "ipython",
    "version": 3
   },
   "file_extension": ".py",
   "mimetype": "text/x-python",
   "name": "python",
   "nbconvert_exporter": "python",
   "pygments_lexer": "ipython3",
   "version": "3.7.0"
  }
 },
 "nbformat": 4,
 "nbformat_minor": 2
}
