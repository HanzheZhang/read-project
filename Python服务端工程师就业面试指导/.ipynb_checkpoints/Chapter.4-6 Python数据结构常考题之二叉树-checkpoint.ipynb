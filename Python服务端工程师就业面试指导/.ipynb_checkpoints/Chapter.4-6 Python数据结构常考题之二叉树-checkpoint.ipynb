{
 "cells": [
  {
   "cell_type": "markdown",
   "metadata": {},
   "source": [
    "二叉树：二叉树涉及到递归和指针操作，常结合递归考察\n",
    "- 二叉树的操作很多可以用递归的方式解决，不了解递归会比较吃力\n",
    "- 常考题：二叉树的镜像/反转二叉树\n",
    "- 常考题：如何层序遍历二叉树（广度优先）"
   ]
  },
  {
   "cell_type": "code",
   "execution_count": 1,
   "metadata": {},
   "outputs": [],
   "source": [
    "class TreeNode:\n",
    "    def __init__(self, val, left, right):\n",
    "        self.val, self.left, self.right = val, left, right"
   ]
  },
  {
   "cell_type": "code",
   "execution_count": 2,
   "metadata": {},
   "outputs": [],
   "source": [
    "# 遍历二叉树\n",
    "def pre(root):\n",
    "    if root:\n",
    "        print(root)\n",
    "        pre(left)\n",
    "        pre(right)"
   ]
  },
  {
   "cell_type": "code",
   "execution_count": 3,
   "metadata": {},
   "outputs": [],
   "source": [
    "# 反转二叉树\n",
    "\"\"\"\n",
    "翻转一棵二叉树。\n",
    "\n",
    "示例：\n",
    "\n",
    "输入：\n",
    "\n",
    "     4\n",
    "   /   \\\n",
    "  2     7\n",
    " / \\   / \\\n",
    "1   3 6   9\n",
    "输出：\n",
    "\n",
    "     4\n",
    "   /   \\\n",
    "  7     2\n",
    " / \\   / \\\n",
    "9   6 3   1\n",
    "\"\"\"\n",
    "class Solution:\n",
    "    def invertTree(self, root: TreeNode) -> TreeNode:\n",
    "        if root:\n",
    "            root.left, root.right = root.right, root.left\n",
    "            self.invertTree(root.left)\n",
    "            self.invertTree(root.right)\n",
    "        return root"
   ]
  },
  {
   "cell_type": "code",
   "execution_count": 6,
   "metadata": {},
   "outputs": [],
   "source": [
    "# 102. 二叉树的层次遍历\n",
    "\"\"\"\n",
    "给定一个二叉树，返回其按层次遍历的节点值。 \n",
    "（即逐层地，从左到右访问所有节点）。\n",
    "\n",
    "例如:\n",
    "给定二叉树: [3,9,20,null,null,15,7],\n",
    "\n",
    "    3\n",
    "   / \\\n",
    "  9  20\n",
    "    /  \\\n",
    "   15   7\n",
    "返回其层次遍历结果：\n",
    "\n",
    "[\n",
    "  [3],\n",
    "  [9,20],\n",
    "  [15,7]\n",
    "]\n",
    "\"\"\"\n",
    "class Solution:\n",
    "    def levelOrder(self, root: TreeNode):# -> List[List[int]]:\n",
    "        if root is None:\n",
    "            return []\n",
    "        result = []\n",
    "        root_nodes = [root]\n",
    "        next_nodes = []\n",
    "        result.append([i.val for i in root_nodes])\n",
    "        while root_nodes or next_nodes:\n",
    "            for node in root_nodes:\n",
    "                if node.left:\n",
    "                    next_nodes.append(node.left)\n",
    "                if node.right:\n",
    "                    next_nodes.append(node.right)\n",
    "            if next_nodes:\n",
    "                result.append([i.val for i in next_nodes])\n",
    "            root_nodes = next_nodes\n",
    "            next_nodes = []\n",
    "        return result"
   ]
  },
  {
   "cell_type": "code",
   "execution_count": null,
   "metadata": {},
   "outputs": [],
   "source": []
  }
 ],
 "metadata": {
  "kernelspec": {
   "display_name": "Python 3",
   "language": "python",
   "name": "python3"
  },
  "language_info": {
   "codemirror_mode": {
    "name": "ipython",
    "version": 3
   },
   "file_extension": ".py",
   "mimetype": "text/x-python",
   "name": "python",
   "nbconvert_exporter": "python",
   "pygments_lexer": "ipython3",
   "version": "3.7.0"
  }
 },
 "nbformat": 4,
 "nbformat_minor": 2
}
