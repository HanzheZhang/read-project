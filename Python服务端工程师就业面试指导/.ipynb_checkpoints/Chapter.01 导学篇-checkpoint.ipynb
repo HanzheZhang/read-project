{
 "cells": [
  {
   "cell_type": "markdown",
   "metadata": {},
   "source": [
    "课程目的：\n",
    "- python后端开发者系统梳理面试知识\n",
    "- 增加面试成功率\n",
    "- 提升后端开发技能"
   ]
  },
  {
   "cell_type": "markdown",
   "metadata": {},
   "source": [
    "python服务端工程师岗位职责：\n",
    "- 实现网站后台业务逻辑\n",
    "- 为网站/客户端提供接口\n",
    "- 为产品/运营等提供后台网站工具"
   ]
  },
  {
   "cell_type": "markdown",
   "metadata": {},
   "source": [
    "岗位特点：\n",
    "- 知识多又杂 编程语言/数据库算法/网络/架构。。。\n",
    "- 工作多样 写接口/写网站/写工具/写前端/写后端/写脚本。。。\n",
    "- 软技能"
   ]
  },
  {
   "cell_type": "markdown",
   "metadata": {},
   "source": [
    "课程内容：\n",
    "1. 面试技巧\n",
    "2. python语言\n",
    "3. 算法与数据结构\n",
    "4. 编程范式\n",
    "5. 操作系统\n",
    "6. 网络编程\n",
    "7. 数据库\n",
    "8. Web框架\n",
    "9. 系统设计\n",
    "10. 面试经验"
   ]
  },
  {
   "cell_type": "code",
   "execution_count": null,
   "metadata": {},
   "outputs": [],
   "source": []
  }
 ],
 "metadata": {
  "kernelspec": {
   "display_name": "Python 3",
   "language": "python",
   "name": "python3"
  },
  "language_info": {
   "codemirror_mode": {
    "name": "ipython",
    "version": 3
   },
   "file_extension": ".py",
   "mimetype": "text/x-python",
   "name": "python",
   "nbconvert_exporter": "python",
   "pygments_lexer": "ipython3",
   "version": "3.6.5"
  }
 },
 "nbformat": 4,
 "nbformat_minor": 2
}
