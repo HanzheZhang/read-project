{
 "cells": [
  {
   "cell_type": "markdown",
   "metadata": {},
   "source": [
    "常考点：\n",
    "- 参数传递\n",
    "- （不）可变对象\n",
    "- 可变参数"
   ]
  },
  {
   "cell_type": "markdown",
   "metadata": {},
   "source": [
    "例题：\n",
    "- 以下Python代码分别输出什么？"
   ]
  },
  {
   "cell_type": "code",
   "execution_count": 1,
   "metadata": {},
   "outputs": [
    {
     "name": "stdout",
     "output_type": "stream",
     "text": [
      "[0]\n",
      "[0, 0]\n"
     ]
    }
   ],
   "source": [
    "# 可变类型作为参数\n",
    "def flist(l):\n",
    "    l.append(0)\n",
    "    print(l)\n",
    "    \n",
    "l = []\n",
    "flist(l)\n",
    "flist(l)"
   ]
  },
  {
   "cell_type": "code",
   "execution_count": 3,
   "metadata": {},
   "outputs": [
    {
     "name": "stdout",
     "output_type": "stream",
     "text": [
      "hehea\n",
      "hehea\n"
     ]
    }
   ],
   "source": [
    "# 不可变类型作为参数\n",
    "def fstr(s):\n",
    "    s += 'a'\n",
    "    print(s)\n",
    "    \n",
    "s = \"hehe\"\n",
    "fstr(s)\n",
    "fstr(s)"
   ]
  },
  {
   "cell_type": "markdown",
   "metadata": {},
   "source": [
    "Python如何传递参数\n",
    "- Python唯一支持的参数传递是共享传参\n",
    "- Call by Object(Call by Object Reference or Call by Sharing)\n",
    "- Call by sharing(共享传参)。函数形参获得实参中各个引用的副本   "
   ]
  },
  {
   "cell_type": "markdown",
   "metadata": {},
   "source": [
    "Python可变/不可变对象\n",
    "- 不可变对象：bool/int/float/tuple/str/frozenset\n",
    "- 可变对象：set/list/dict/"
   ]
  },
  {
   "cell_type": "markdown",
   "metadata": {},
   "source": [
    "Python异常机制\n",
    "1. BaseException\n",
    "2. SystemExit/KeyboardInterrupt/GeneratorExit（系统相关异常）\n",
    "3. Exception"
   ]
  },
  {
   "cell_type": "markdown",
   "metadata": {},
   "source": [
    "使用异常的常见场景\n",
    "- 网络请求（超时，连接错误）\n",
    "- 资源访问（权限问题，资源不存在）\n",
    "- 代码逻辑（越界访问、KeyError）"
   ]
  },
  {
   "cell_type": "markdown",
   "metadata": {},
   "source": [
    "自定义异常\n",
    "- 继承Exception实现自定义异常\n",
    "- 给异常加上一些附加信息\n",
    "- 处理一些业务相关的特定异常（raise MyException）"
   ]
  },
  {
   "cell_type": "markdown",
   "metadata": {},
   "source": [
    "Python性能分析和优化\n",
    "- GIL，Global Interpreter Lock\n",
    "- Cpython解释器的内存管理并不是线程安全的\n",
    "- 保护多线程情况下对Python对象的访问\n",
    "- Cpython使用简单的锁机制避免多个线程同时执行字节码"
   ]
  },
  {
   "cell_type": "markdown",
   "metadata": {},
   "source": [
    "GIL的影响：限制了程序的多核执行\n",
    "- 同一时间只能有一个线程执行字节码\n",
    "- CPU密集程序难以利用多核优势\n",
    "- IO期间会释放GIL，对IO密集程序影响不大"
   ]
  },
  {
   "cell_type": "markdown",
   "metadata": {},
   "source": [
    "如何规避GIL影响\n",
    "- CPU密集可以使用多进程+进程池\n",
    "- IO密集使用多线程/协程\n",
    "- cpython扩展"
   ]
  },
  {
   "cell_type": "markdown",
   "metadata": {},
   "source": [
    "分析程序性能\n",
    "- 二八定律，大部分时间耗时在少量代码上\n",
    "- 内置的profile/cprofile等工具\n",
    "- 使用pyflame的火焰图工具"
   ]
  },
  {
   "cell_type": "markdown",
   "metadata": {},
   "source": [
    "服务端性能优化措施\n",
    "- 数据结构与算法优化\n",
    "- 数据库层：索引优化，慢查询消除，批量操作减少IO，NoSQL\n",
    "- 网络IO：批量操作，pipline操作减少IO\n",
    "- 缓存：使用内存数据库redis/memcached\n",
    "- 异步：asyncio，celery\n",
    "- 并发：gevent/多线程"
   ]
  },
  {
   "cell_type": "markdown",
   "metadata": {},
   "source": [
    "生成器 Generator\n",
    "- 生成器就是可以生成值的函数\n",
    "- 当一个函数里有了yield关键字就成了生成器\n",
    "- 生成器可以挂起执行并且保持当前执行的状态"
   ]
  },
  {
   "cell_type": "markdown",
   "metadata": {},
   "source": [
    "Python单元测试 Unit Testing\n",
    "- 针对程序模块进行正确性检验\n",
    "- 一个函数，一个类进行验证\n",
    "- 自底向上保证程序正确性"
   ]
  },
  {
   "cell_type": "markdown",
   "metadata": {},
   "source": [
    "单元测试库\n",
    "- nose/pytest\n",
    "- mock模块用来模拟替换网络请求\n",
    "- coverage统计测试覆盖率"
   ]
  },
  {
   "cell_type": "markdown",
   "metadata": {},
   "source": [
    "Python深拷贝和浅拷贝\n",
    "- 什么是深拷贝？什么是浅拷贝？\n",
    "- Python中如何实现深拷贝？\n",
    "- Python中如何正确初始化一个二维数组？"
   ]
  },
  {
   "cell_type": "code",
   "execution_count": null,
   "metadata": {},
   "outputs": [],
   "source": []
  }
 ],
 "metadata": {
  "kernelspec": {
   "display_name": "Python 3",
   "language": "python",
   "name": "python3"
  },
  "language_info": {
   "codemirror_mode": {
    "name": "ipython",
    "version": 3
   },
   "file_extension": ".py",
   "mimetype": "text/x-python",
   "name": "python",
   "nbconvert_exporter": "python",
   "pygments_lexer": "ipython3",
   "version": "3.7.0"
  }
 },
 "nbformat": 4,
 "nbformat_minor": 2
}
