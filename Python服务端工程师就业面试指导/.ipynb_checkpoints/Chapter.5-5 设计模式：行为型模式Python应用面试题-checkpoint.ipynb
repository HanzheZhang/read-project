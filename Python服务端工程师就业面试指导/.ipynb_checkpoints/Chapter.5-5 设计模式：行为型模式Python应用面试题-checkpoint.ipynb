{
 "cells": [
  {
   "cell_type": "markdown",
   "metadata": {},
   "source": [
    "- 迭代器模式（Iterator）：通过统一的接口迭代对象\n",
    "- 观察者模式（Observer）：对象发生改变的时候，观察者执行相应动作\n",
    "- 策略模式（Strategy）：针对不同规模输入使用不同的策略"
   ]
  },
  {
   "cell_type": "markdown",
   "metadata": {},
   "source": [
    "迭代器模式\n",
    "- Python内置对迭代器的支持\n",
    "- Python里可以实现__next__和__iter__实现迭代器"
   ]
  },
  {
   "cell_type": "code",
   "execution_count": 2,
   "metadata": {},
   "outputs": [
    {
     "name": "stdout",
     "output_type": "stream",
     "text": [
      "2\n",
      "1\n"
     ]
    }
   ],
   "source": [
    "from collections import deque\n",
    "\n",
    "\n",
    "class Stack(object):\n",
    "    def __init__(self):\n",
    "        self._deque = deque()\n",
    "        \n",
    "    def push(self, value):\n",
    "        return self._deque.append(value)\n",
    "    \n",
    "    def pop(self):\n",
    "        return self._deque.pop()\n",
    "        \n",
    "    def empty(self):\n",
    "        return len(self._deque) == 0\n",
    "    \n",
    "    def __iter__(self):\n",
    "        res = []\n",
    "        for i in self._deque:\n",
    "            res.append(i)\n",
    "        for i in reversed(res):\n",
    "            yield i\n",
    "            \n",
    "\n",
    "s = Stack()\n",
    "s.push(1)\n",
    "s.push(2)\n",
    "for i in s:\n",
    "    print(i)"
   ]
  },
  {
   "cell_type": "markdown",
   "metadata": {},
   "source": [
    "观察者模式\n",
    "- 发布订阅是一种最常用的实现方式\n",
    "- 发布订阅用于解耦逻辑\n",
    "- 可以通过回调等方式实现，当发生事件时，调用相应的回调函数"
   ]
  },
  {
   "cell_type": "markdown",
   "metadata": {},
   "source": [
    "策略模式\n",
    "- 根据不同的输入采用不同的策略\n",
    "- 对外暴露统一的接口，内部采用不同的策略计算\n",
    "- 比如买东西超过10个八折，超过20个七折"
   ]
  },
  {
   "cell_type": "code",
   "execution_count": null,
   "metadata": {},
   "outputs": [],
   "source": []
  }
 ],
 "metadata": {
  "kernelspec": {
   "display_name": "Python 3",
   "language": "python",
   "name": "python3"
  },
  "language_info": {
   "codemirror_mode": {
    "name": "ipython",
    "version": 3
   },
   "file_extension": ".py",
   "mimetype": "text/x-python",
   "name": "python",
   "nbconvert_exporter": "python",
   "pygments_lexer": "ipython3",
   "version": "3.7.0"
  }
 },
 "nbformat": 4,
 "nbformat_minor": 2
}
