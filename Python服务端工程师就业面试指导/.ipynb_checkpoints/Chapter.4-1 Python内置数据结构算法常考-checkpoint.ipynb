{
 "cells": [
  {
   "cell_type": "markdown",
   "metadata": {},
   "source": [
    "数据结构/算法 | 内置语言 | 内置库\n",
    "------------- | -------- | ------\n",
    "线性结构 | list/tuple | array/collections.namedtuple\n",
    "链式结构 | | collections.deque(双端队列)\n",
    "字典结构 | dict | collections.Counter（计数器）/OrderedDict（有序字典）\n",
    "集合结构 | set/frozenset |\n",
    "排序结构 | sorted |\n",
    "二分算法 | | bisect模块\n",
    "堆算法 | | heapq模块\n",
    "缓存算法 | | functools.lru_cache(Least Tecent Used, python3)"
   ]
  },
  {
   "cell_type": "markdown",
   "metadata": {},
   "source": [
    "collections模块\n",
    "- namedtuple() \n",
    "- deque\n",
    "- Counter\n",
    "- OrderedDict\n",
    "- defaultdict"
   ]
  },
  {
   "cell_type": "code",
   "execution_count": 1,
   "metadata": {},
   "outputs": [
    {
     "name": "stdout",
     "output_type": "stream",
     "text": [
      "1 1 2 2\n"
     ]
    }
   ],
   "source": [
    "import collections\n",
    "\n",
    "\n",
    "Point = collections.namedtuple('Point', 'x, y')\n",
    "p = Point(1,2)\n",
    "print(p.x, p[0], p.y, p[1])"
   ]
  },
  {
   "cell_type": "code",
   "execution_count": 3,
   "metadata": {},
   "outputs": [
    {
     "name": "stdout",
     "output_type": "stream",
     "text": [
      "deque([0, 1]) 2 3\n"
     ]
    }
   ],
   "source": [
    "de = collections.deque()\n",
    "de.append(1)\n",
    "de.append(2)\n",
    "de.appendleft(0)\n",
    "de.appendleft(3)\n",
    "print(de, de.pop(), de.popleft())"
   ]
  },
  {
   "cell_type": "code",
   "execution_count": 5,
   "metadata": {},
   "outputs": [
    {
     "name": "stdout",
     "output_type": "stream",
     "text": [
      "Counter({'a': 3, 'd': 2, 'f': 2, 's': 2}) [('a', 3), ('d', 2), ('f', 2), ('s', 2)]\n"
     ]
    }
   ],
   "source": [
    "c = collections.Counter(\"adfsafdsa\")\n",
    "print(c, c.most_common())"
   ]
  },
  {
   "cell_type": "code",
   "execution_count": 7,
   "metadata": {},
   "outputs": [
    {
     "name": "stdout",
     "output_type": "stream",
     "text": [
      "odict_keys(['c', 'a', 'b'])\n"
     ]
    }
   ],
   "source": [
    "od = collections.OrderedDict()\n",
    "od['c'] = 'c'\n",
    "od['a'] = 'a'\n",
    "od['b'] = 'b'\n",
    "print(od.keys())"
   ]
  },
  {
   "cell_type": "code",
   "execution_count": 8,
   "metadata": {},
   "outputs": [
    {
     "name": "stdout",
     "output_type": "stream",
     "text": [
      "0\n"
     ]
    }
   ],
   "source": [
    "dd = collections.defaultdict(int)\n",
    "print(dd['a'])"
   ]
  },
  {
   "cell_type": "markdown",
   "metadata": {},
   "source": [
    "Python dict 底层结构：使用哈希表\n",
    "- 为了支持快速查找使用了哈希表作为底层结构\n",
    "- 哈希表平均查找时间复杂度O(1)\n",
    "- CPython解释器使用二次探查解决哈希冲突问题\n",
    "- **哈希表的冲突和扩容是重要问题**"
   ]
  },
  {
   "cell_type": "markdown",
   "metadata": {},
   "source": [
    "Python list/tuple区别\n",
    "- 都是线性结构，支持下标访问\n",
    "- list是可变对象，tuple保存的引用不可变\n",
    "- list没法作为字典的key，tuple可以"
   ]
  },
  {
   "cell_type": "markdown",
   "metadata": {},
   "source": [
    "LRUCache:Least-Tecently-Used 替换掉最近最少使用的对象\n",
    "- 缓存提出策略，当缓存空间不够用时需要一种方式剔除key\n",
    "- LRU、LFU等\n",
    "- LRU通过使用一个循环双端队列不断把最新访问的key放到表头实现"
   ]
  },
  {
   "cell_type": "markdown",
   "metadata": {},
   "source": [
    "LRUCache实现：\n",
    "- 利用Python内置的dict+collections.OrderedDict实现\n",
    "- dict用来当作k\\v键值对的缓存\n",
    "- OrderedDict用来实现更新最近访问的key"
   ]
  },
  {
   "cell_type": "code",
   "execution_count": 9,
   "metadata": {},
   "outputs": [],
   "source": [
    "from collections import OrderedDict\n",
    "\n",
    "\n",
    "class LRUCache:\n",
    "    \n",
    "    def __init__(self, capacity=128):\n",
    "        self.od = OrderedDict()\n",
    "        self.capacity = capacity\n",
    "        \n",
    "    def get(self, key):\n",
    "        if key in self.od:\n",
    "            val = self.od[key]\n",
    "            self.od.move_to_end(key)\n",
    "            return val\n",
    "        else:\n",
    "            return -1\n",
    "        \n",
    "    def put(self, key, value):\n",
    "        if key in self.od:\n",
    "            del self.od[key]\n",
    "            self.od[key] = value\n",
    "        else:\n",
    "            self.od[key] = value\n",
    "            if len(self.od) > self.capacity:\n",
    "                self.od.popitem(last=False)"
   ]
  },
  {
   "cell_type": "code",
   "execution_count": null,
   "metadata": {},
   "outputs": [],
   "source": []
  }
 ],
 "metadata": {
  "kernelspec": {
   "display_name": "Python 3",
   "language": "python",
   "name": "python3"
  },
  "language_info": {
   "codemirror_mode": {
    "name": "ipython",
    "version": 3
   },
   "file_extension": ".py",
   "mimetype": "text/x-python",
   "name": "python",
   "nbconvert_exporter": "python",
   "pygments_lexer": "ipython3",
   "version": "3.6.5"
  }
 },
 "nbformat": 4,
 "nbformat_minor": 2
}
