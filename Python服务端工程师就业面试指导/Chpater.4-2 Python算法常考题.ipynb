{
 "cells": [
  {
   "cell_type": "markdown",
   "metadata": {},
   "source": [
    "算法常考点：\n",
    "- 常考排序算法：冒泡排序、快速排序、归并排序、堆排序\n",
    "- 线性查找、二分查找等\n",
    "- 能独立实现代码、能够分析时间空间复杂度"
   ]
  },
  {
   "cell_type": "markdown",
   "metadata": {},
   "source": [
    "常用排序算法的时间空间复杂度\n",
    "\n",
    "排序算法 | 最差时间分析 | 平均时间复杂度 | 稳定度 | 空间复杂度\n",
    "-------- | ------------ | -------------- | ------ | ----------\n",
    "冒泡算法 | O(n^2) | O(n^2) | 稳定 | O(1)\n",
    "选择排序 | O(n^2) | O(n^2) | 不稳定 | O(1)\n",
    "插入排序 | O(n^2) | O(n^2) | 稳定 | O(1)\n",
    "快速排序 | O(n^2) | O(n^2) | 不稳定 | O(log2n)-O(n)\n",
    "堆排序 | O(n\\*log2n) | O(n\\*log2n) | 不稳定 | O(1)"
   ]
  },
  {
   "cell_type": "markdown",
   "metadata": {},
   "source": [
    "Python web后端常考数据结构\n",
    "- 常见的数据结构：链表、队列、栈、二叉树、堆\n",
    "- 使用内置结构实现高级数据结构，比如内置的list/deque实现栈\n",
    "- Leetcode或者《剑指offer》上的常见题"
   ]
  },
  {
   "cell_type": "markdown",
   "metadata": {},
   "source": [
    "常考数据结构之链表：单链表、双链表、循环双端链表\n",
    "- 如何使用Python来表示链表结构\n",
    "- 实现链表常见操作，比如插入节点、反转链表、合并多个链表\n",
    "- Leetcode练习常见链表题目"
   ]
  },
  {
   "cell_type": "code",
   "execution_count": 3,
   "metadata": {},
   "outputs": [],
   "source": [
    "# Leetcode 206. 反转链表\n",
    "\"\"\"\n",
    "反转一个单链表。\n",
    "\n",
    "示例:\n",
    "输入: 1->2->3->4->5->NULL\n",
    "输出: 5->4->3->2->1->NULL\n",
    "\n",
    "进阶:\n",
    "你可以迭代或递归地反转链表。你能否用两种方法解决这道题？\n",
    "\"\"\"\n",
    "# Definition for singly-linked list.\n",
    "class ListNode:\n",
    "    def __init__(self, x):\n",
    "        self.val = x\n",
    "        self.next = None\n",
    "\n",
    "class Solution:\n",
    "    \n",
    "    def reverseList(self, head: ListNode) -> ListNode:\n",
    "        pre = None\n",
    "        cur = head\n",
    "        while cur:\n",
    "            nextnode = cur.next\n",
    "            cur.next = pre\n",
    "            pre = cur\n",
    "            cur = nextnode\n",
    "        return pre"
   ]
  },
  {
   "cell_type": "markdown",
   "metadata": {},
   "source": [
    "队列：先进先出\n",
    "- append和pop操作\n",
    "- 使用Python的list或者collections.deque实现队列"
   ]
  },
  {
   "cell_type": "code",
   "execution_count": null,
   "metadata": {},
   "outputs": [],
   "source": []
  }
 ],
 "metadata": {
  "kernelspec": {
   "display_name": "Python 3",
   "language": "python",
   "name": "python3"
  },
  "language_info": {
   "codemirror_mode": {
    "name": "ipython",
    "version": 3
   },
   "file_extension": ".py",
   "mimetype": "text/x-python",
   "name": "python",
   "nbconvert_exporter": "python",
   "pygments_lexer": "ipython3",
   "version": "3.6.5"
  }
 },
 "nbformat": 4,
 "nbformat_minor": 2
}
