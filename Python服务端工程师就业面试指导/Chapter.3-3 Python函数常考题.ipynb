{
 "cells": [
  {
   "cell_type": "markdown",
   "metadata": {},
   "source": [
    "常考点：\n",
    "- 参数传递\n",
    "- （不）可变对象\n",
    "- 可变参数"
   ]
  },
  {
   "cell_type": "markdown",
   "metadata": {},
   "source": [
    "例题：\n",
    "- 以下Python代码分别输出什么？"
   ]
  },
  {
   "cell_type": "code",
   "execution_count": 1,
   "metadata": {},
   "outputs": [
    {
     "name": "stdout",
     "output_type": "stream",
     "text": [
      "[0]\n",
      "[0, 0]\n"
     ]
    }
   ],
   "source": [
    "# 可变类型作为参数\n",
    "def flist(l):\n",
    "    l.append(0)\n",
    "    print(l)\n",
    "    \n",
    "l = []\n",
    "flist(l)\n",
    "flist(l)"
   ]
  },
  {
   "cell_type": "code",
   "execution_count": 3,
   "metadata": {},
   "outputs": [
    {
     "name": "stdout",
     "output_type": "stream",
     "text": [
      "hehea\n",
      "hehea\n"
     ]
    }
   ],
   "source": [
    "# 不可变类型作为参数\n",
    "def fstr(s):\n",
    "    s += 'a'\n",
    "    print(s)\n",
    "    \n",
    "s = \"hehe\"\n",
    "fstr(s)\n",
    "fstr(s)"
   ]
  },
  {
   "cell_type": "markdown",
   "metadata": {},
   "source": [
    "Python如何传递参数\n",
    "- Python唯一支持的参数传递是共享传参\n",
    "- Call by Object(Call by Object Reference or Call by Sharing)\n",
    "- Call by sharing(共享传参)。函数形参获得实参中各个引用的副本   "
   ]
  },
  {
   "cell_type": "markdown",
   "metadata": {},
   "source": [
    "Python可变/不可变对象\n",
    "- 不可变对象：bool/int/float/tuple/str/frozenset\n",
    "- 可变对象：set/list/dict/"
   ]
  },
  {
   "cell_type": "code",
   "execution_count": null,
   "metadata": {},
   "outputs": [],
   "source": []
  }
 ],
 "metadata": {
  "kernelspec": {
   "display_name": "Python 3",
   "language": "python",
   "name": "python3"
  },
  "language_info": {
   "codemirror_mode": {
    "name": "ipython",
    "version": 3
   },
   "file_extension": ".py",
   "mimetype": "text/x-python",
   "name": "python",
   "nbconvert_exporter": "python",
   "pygments_lexer": "ipython3",
   "version": "3.6.5"
  }
 },
 "nbformat": 4,
 "nbformat_minor": 2
}
