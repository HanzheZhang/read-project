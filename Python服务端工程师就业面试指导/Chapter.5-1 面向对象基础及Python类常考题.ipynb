{
 "cells": [
  {
   "cell_type": "markdown",
   "metadata": {},
   "source": [
    "Object Oriented Programming(OOP)\n",
    "- 把对象作为基本单元，把对象抽象成类，包含成员和方法\n",
    "- 数据封装、继承、多态\n",
    "- Python中使用类来实现。过程式编程(函数)、OOP（类）"
   ]
  },
  {
   "cell_type": "markdown",
   "metadata": {},
   "source": [
    "组合与继承\n",
    "- 组合是使用其他的类实例作为自己的一个属性\n",
    "- 子类继承父类的属性和方法\n",
    "- 优先使用组合保持代码简单"
   ]
  },
  {
   "cell_type": "markdown",
   "metadata": {},
   "source": [
    "类变量和实例变量的区别\n",
    "- 类变量由所有实例共享\n",
    "- 实例变量由实例单独享有，不同实例之间不影响\n",
    "- 当我们需要在一个类的不同实例之间共享变量的时候使用类变量"
   ]
  },
  {
   "cell_type": "markdown",
   "metadata": {},
   "source": [
    "classmethod/staticmethod区别\n",
    "- 都可以通过Class.method()的方式使用\n",
    "- classmethod第一个参量是cls，可以引用类变量\n",
    "- staticmethod使用起来和普通函数一样，只不过放在类里去组织"
   ]
  },
  {
   "cell_type": "markdown",
   "metadata": {},
   "source": [
    "什么是元类？使用场景\n",
    "- 元类(Meta Class)是创建类的类\n",
    "- 元类允许我们控制类的生成，比如修改类的属性\n",
    "- 使用type来定义元类\n",
    "- 元类最常见的一个使用场景就是ORM框架"
   ]
  },
  {
   "cell_type": "code",
   "execution_count": 6,
   "metadata": {},
   "outputs": [
    {
     "name": "stdout",
     "output_type": "stream",
     "text": [
      "['__class__', '__delattr__', '__dict__', '__dir__', '__doc__', '__eq__', '__format__', '__ge__', '__getattribute__', '__gt__', '__hash__', '__init__', '__init_subclass__', '__le__', '__lt__', '__module__', '__ne__', '__new__', '__reduce__', '__reduce_ex__', '__repr__', '__setattr__', '__sizeof__', '__str__', '__subclasshook__', '__weakref__', 'bar', 'hello']\n"
     ]
    }
   ],
   "source": [
    "class Base:\n",
    "    pass\n",
    "\n",
    "class Child(Base):\n",
    "    pass\n",
    "\n",
    "#等价定义，注意Base后面要加上逗号\n",
    "someChild = type('Child', (Base,), {})\n",
    "\n",
    "#加上方法\n",
    "class ChildWithMethod(Base):\n",
    "    bor = True\n",
    "    \n",
    "    def hello(self):\n",
    "        print('hello')\n",
    "        \n",
    "def hello(self):\n",
    "    print('hello')\n",
    "    \n",
    "# 等价定义\n",
    "ChildWithMethod = type(\n",
    "    'ChildWithMethod', (Base,), {'bar':True, 'hello':hello}\n",
    ")\n",
    "\n",
    "class LowercaseMeta(type):\n",
    "    \"\"\" 修改类的属性名称为小写的元类 \"\"\"\n",
    "    def __new__(mcs, name, bases, attrs):\n",
    "        lower_attrs = {}\n",
    "        for k, v in attrs.items():\n",
    "            if not k.startswith('__'):\n",
    "                lower_attrs[k.lower()] =  v\n",
    "            else:\n",
    "                lower_attrs[k] = v\n",
    "        return type.__new__(mcs, name, bases, lower_attrs)\n",
    "    \n",
    "\n",
    "class LowercaseClass(metaclass=LowercaseMeta):\n",
    "    BAR = True\n",
    "    \n",
    "    def HELLO(self):\n",
    "        print('hello')\n",
    "        \n",
    "print(dir(LowercaseClass))"
   ]
  },
  {
   "cell_type": "code",
   "execution_count": null,
   "metadata": {},
   "outputs": [],
   "source": []
  }
 ],
 "metadata": {
  "kernelspec": {
   "display_name": "Python 3",
   "language": "python",
   "name": "python3"
  },
  "language_info": {
   "codemirror_mode": {
    "name": "ipython",
    "version": 3
   },
   "file_extension": ".py",
   "mimetype": "text/x-python",
   "name": "python",
   "nbconvert_exporter": "python",
   "pygments_lexer": "ipython3",
   "version": "3.7.0"
  }
 },
 "nbformat": 4,
 "nbformat_minor": 2
}
