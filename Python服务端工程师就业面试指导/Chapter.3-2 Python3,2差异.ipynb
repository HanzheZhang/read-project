{
 "cells": [
  {
   "cell_type": "markdown",
   "metadata": {},
   "source": [
    "Python3改进\n",
    "- print成为函数\n",
    "- 编码问题。Python3不再有Unicode对象，默认str就是unicode\n",
    "- 除法变化。Python3除号返回浮点数\n",
    "- 类型注解（type hint）。帮助IDE实现类型检查\n",
    "- 优化super()方便直接调用父类函数\n",
    "- 高级解包操作。a,b,*rest = range(10)\n",
    "- Keyword only arguments. 限定关键字参数\n",
    "- Chained exceptions. Python3重新抛出异常不会丢失栈信息\n",
    "- 一切返回迭代器(range,zip,map,dict.values,etc)are all iterators"
   ]
  },
  {
   "cell_type": "code",
   "execution_count": 8,
   "metadata": {},
   "outputs": [
    {
     "name": "stdout",
     "output_type": "stream",
     "text": [
      "Help on built-in function print in module builtins:\n",
      "\n",
      "print(...)\n",
      "    print(value, ..., sep=' ', end='\\n', file=sys.stdout, flush=False)\n",
      "    \n",
      "    Prints the values to a stream, or to sys.stdout by default.\n",
      "    Optional keyword arguments:\n",
      "    file:  a file-like object (stream); defaults to the current sys.stdout.\n",
      "    sep:   string inserted between values, default a space.\n",
      "    end:   string appended after the last value, default a newline.\n",
      "    flush: whether to forcibly flush the stream.\n",
      "\n"
     ]
    }
   ],
   "source": [
    "# print成为函数\n",
    "help(print)"
   ]
  },
  {
   "cell_type": "code",
   "execution_count": 7,
   "metadata": {},
   "outputs": [
    {
     "name": "stdout",
     "output_type": "stream",
     "text": [
      "hello me\n"
     ]
    }
   ],
   "source": [
    "# 类型注解（type hint）。帮助IDE实现类型检查\n",
    "def hello(name:str) -> str:\n",
    "    return 'hello ' + name\n",
    "\n",
    "print(hello('me'))"
   ]
  },
  {
   "cell_type": "code",
   "execution_count": 9,
   "metadata": {},
   "outputs": [
    {
     "name": "stdout",
     "output_type": "stream",
     "text": [
      "0 1 [2, 3, 4, 5, 6, 7, 8, 9]\n"
     ]
    }
   ],
   "source": [
    "# 高级解包操作。a,b,*rest = range(10)\n",
    "a, b, *c = range(10)\n",
    "print(a,b,c)"
   ]
  },
  {
   "cell_type": "code",
   "execution_count": 10,
   "metadata": {},
   "outputs": [
    {
     "name": "stdout",
     "output_type": "stream",
     "text": [
      "6\n"
     ]
    }
   ],
   "source": [
    "# Keyword only arguments. 限定关键字参数\n",
    "def add(a, b, *, c):\n",
    "    return a+b+c\n",
    "\n",
    "print(add(1,2,c=3))"
   ]
  },
  {
   "cell_type": "code",
   "execution_count": 14,
   "metadata": {},
   "outputs": [
    {
     "name": "stdout",
     "output_type": "stream",
     "text": [
      "range(0, 10)\n"
     ]
    }
   ],
   "source": [
    "# 一切返回迭代器range,zip,map,dict.values,etc are all iterators\n",
    "print(range(10))"
   ]
  },
  {
   "cell_type": "markdown",
   "metadata": {},
   "source": [
    "Python3 新增\n",
    "- yield from 链接子生成器\n",
    "- asyncio内置库，async/await原生协程支持异步编程\n",
    "- 新的内置库 enum，mock，asyncio，ipaddress，concurrent.futures等"
   ]
  },
  {
   "cell_type": "markdown",
   "metadata": {},
   "source": [
    "Python3 改进\n",
    "- 生成的pyc文件统一放到\\__pycache__\n",
    "- 一些内置库的修改。urllib，selector等\n",
    "- 性能优化等"
   ]
  },
  {
   "cell_type": "markdown",
   "metadata": {},
   "source": [
    "Python2/3兼容工具\n",
    "- six模块\n",
    "- 2to3等工具转换代码\n",
    "- \\__future__"
   ]
  },
  {
   "cell_type": "code",
   "execution_count": null,
   "metadata": {},
   "outputs": [],
   "source": []
  }
 ],
 "metadata": {
  "kernelspec": {
   "display_name": "Python 3",
   "language": "python",
   "name": "python3"
  },
  "language_info": {
   "codemirror_mode": {
    "name": "ipython",
    "version": 3
   },
   "file_extension": ".py",
   "mimetype": "text/x-python",
   "name": "python",
   "nbconvert_exporter": "python",
   "pygments_lexer": "ipython3",
   "version": "3.6.5"
  }
 },
 "nbformat": 4,
 "nbformat_minor": 2
}
