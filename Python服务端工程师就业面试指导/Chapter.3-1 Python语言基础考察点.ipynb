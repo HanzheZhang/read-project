{
 "cells": [
  {
   "cell_type": "markdown",
   "metadata": {},
   "source": [
    "## Python语言特性"
   ]
  },
  {
   "cell_type": "markdown",
   "metadata": {},
   "source": [
    "- 动态强类型语言\n",
    "    - 动态还是静态指的是编译期还是运行期确定类型\n",
    "    - 强类型指的是不会发生隐式类型转换"
   ]
  },
  {
   "cell_type": "markdown",
   "metadata": {},
   "source": [
    "- Python作为后端语言优缺点\n",
    "    - 胶水语言，轮子多，应用广泛\n",
    "    - 语言灵活，生产力高\n",
    "    - 性能问题，代码维护问题，python2/3兼容问题"
   ]
  },
  {
   "cell_type": "markdown",
   "metadata": {},
   "source": [
    "- 鸭子类型：当看到一只鸟走起来像鸭子、游泳起来像鸭子、叫起来像鸭子、那么这只鸟就可以被称为鸭子\n",
    "    - 鸭子类型更关系的是接口而非类型\n",
    "    - 关注点在对象的行为，而不是类型（duck typing）\n",
    "    - 比如：file，StringIO，socket对象都支持read/write方法（file like object）\n",
    "    - 再比如定义了__iter__魔术方法的对象可以用for迭代"
   ]
  },
  {
   "cell_type": "code",
   "execution_count": 4,
   "metadata": {},
   "outputs": [
    {
     "name": "stdout",
     "output_type": "stream",
     "text": [
      "gua gua\n",
      "person:gua gua\n",
      "<class '__main__.Duck'> <class '__main__.Person'>\n",
      "True True\n"
     ]
    }
   ],
   "source": [
    "class Duck:\n",
    "    def quack(self):\n",
    "        print(\"gua gua\")\n",
    "        \n",
    "        \n",
    "class Person:\n",
    "    def quack(self):\n",
    "        print(\"person:gua gua\")\n",
    "        \n",
    "        \n",
    "def in_the_forest(duck):\n",
    "    duck.quack()\n",
    "    \n",
    "    \n",
    "def game():\n",
    "    donald = Duck()\n",
    "    john = Person()\n",
    "    in_the_forest(donald)\n",
    "    in_the_forest(john)\n",
    "    print(type(donald), type(john))\n",
    "    print(isinstance(donald, Duck), isinstance(john, Person))\n",
    "    \n",
    "    \n",
    "game()"
   ]
  },
  {
   "cell_type": "markdown",
   "metadata": {},
   "source": [
    "- monkey patch\n",
    "    - 所谓的monkey patch就是运行时替换\n",
    "    - 比如gevent库需要修改内置的socket\n",
    "    - from gevent import monkey；monkey.patch_socket()"
   ]
  },
  {
   "cell_type": "code",
   "execution_count": 7,
   "metadata": {},
   "outputs": [
    {
     "name": "stdout",
     "output_type": "stream",
     "text": [
      "<class 'gevent._socket3.socket'>\n",
      "After monkey patch\n",
      "<class 'gevent._socket3.socket'>\n",
      "<built-in function select>\n",
      "After moneky patch\n",
      "<function select at 0x000002B11FFEDEA0>\n"
     ]
    }
   ],
   "source": [
    "import socket\n",
    "print(socket.socket)\n",
    "\n",
    "print(\"After monkey patch\")\n",
    "from gevent import monkey\n",
    "monkey.patch_socket()\n",
    "print(socket.socket)\n",
    "\n",
    "import select\n",
    "print(select.select)\n",
    "monkey.patch_select()\n",
    "print(\"After moneky patch\")\n",
    "print(select.select)"
   ]
  },
  {
   "cell_type": "code",
   "execution_count": 1,
   "metadata": {},
   "outputs": [
    {
     "name": "stdout",
     "output_type": "stream",
     "text": [
      "1562421063.0840535\n",
      "1234\n"
     ]
    }
   ],
   "source": [
    "import time\n",
    "print(time.time())\n",
    "\n",
    "def _time():\n",
    "    return 1234\n",
    "\n",
    "time.time = _time\n",
    "print(time.time())"
   ]
  },
  {
   "cell_type": "markdown",
   "metadata": {},
   "source": [
    "- 自省 Introspection\n",
    "    - 运行时判断一个对象的类型的能力\n",
    "    - python一切皆对象，用type，id，isinstance获取对象类型信息\n",
    "    - Inspect模块提供了更多获得对象信息的函数"
   ]
  },
  {
   "cell_type": "code",
   "execution_count": 2,
   "metadata": {},
   "outputs": [
    {
     "name": "stdout",
     "output_type": "stream",
     "text": [
      "<class 'list'> <class 'dict'>\n",
      "True True\n",
      "3 HEADtail\n",
      "1789215104712 1789215986672\n"
     ]
    }
   ],
   "source": [
    "l1 = [1,2,3]\n",
    "d = dict(a=1)\n",
    "\n",
    "print(type(l1), type(d))\n",
    "print(isinstance(l1, list), isinstance(d, dict))\n",
    "\n",
    "def add(a,b):\n",
    "    if isinstance(a, int):\n",
    "        return a + b\n",
    "    elif isinstance(a, str):\n",
    "        return a.upper() + b\n",
    "    \n",
    "print(add(1,2), add('head', 'tail'))\n",
    "print(id(l1), id(d))"
   ]
  },
  {
   "cell_type": "markdown",
   "metadata": {},
   "source": [
    "- 列表或字典推导 List or Dict Comprehension\n",
    "    - [i for i in range(10 if i%2 == 0]\n",
    "    - 一种快速生成list/dict/set的方式，用来替代map/filter等\n",
    "    - （i for i in range(10 if i%2 == 0）返回生成器"
   ]
  },
  {
   "cell_type": "code",
   "execution_count": 4,
   "metadata": {},
   "outputs": [
    {
     "name": "stdout",
     "output_type": "stream",
     "text": [
      "[0, 1, 2, 3, 4, 5, 6, 7, 8, 9] {'a': 1, 'b': 2, 'c': 3} <class 'generator'>\n"
     ]
    }
   ],
   "source": [
    "a = ['a','b','c']\n",
    "b = [1,2,3]\n",
    "\n",
    "c = [i for i in range(10)]\n",
    "d = {k:v for k,v in zip(a,b)}\n",
    "e = (i for i in range(10))\n",
    "print(c, d, type(e))"
   ]
  },
  {
   "cell_type": "markdown",
   "metadata": {},
   "source": [
    "- Python之禅 The Zen of Python\n",
    "    - python编程准则\n",
    "    - import this"
   ]
  },
  {
   "cell_type": "code",
   "execution_count": 5,
   "metadata": {},
   "outputs": [
    {
     "name": "stdout",
     "output_type": "stream",
     "text": [
      "The Zen of Python, by Tim Peters\n",
      "\n",
      "Beautiful is better than ugly.\n",
      "Explicit is better than implicit.\n",
      "Simple is better than complex.\n",
      "Complex is better than complicated.\n",
      "Flat is better than nested.\n",
      "Sparse is better than dense.\n",
      "Readability counts.\n",
      "Special cases aren't special enough to break the rules.\n",
      "Although practicality beats purity.\n",
      "Errors should never pass silently.\n",
      "Unless explicitly silenced.\n",
      "In the face of ambiguity, refuse the temptation to guess.\n",
      "There should be one-- and preferably only one --obvious way to do it.\n",
      "Although that way may not be obvious at first unless you're Dutch.\n",
      "Now is better than never.\n",
      "Although never is often better than *right* now.\n",
      "If the implementation is hard to explain, it's a bad idea.\n",
      "If the implementation is easy to explain, it may be a good idea.\n",
      "Namespaces are one honking great idea -- let's do more of those!\n"
     ]
    }
   ],
   "source": [
    "import this"
   ]
  },
  {
   "cell_type": "markdown",
   "metadata": {},
   "source": [
    "Python之禅 by Tim Peters\n",
    " \n",
    "优美胜于丑陋（Python 以编写优美的代码为目标）\n",
    "\n",
    "明了胜于晦涩（优美的代码应当是明了的，命名规范，风格相似）\n",
    "\n",
    "简洁胜于复杂（优美的代码应当是简洁的，不要有复杂的内部实现）\n",
    "\n",
    "复杂胜于凌乱（如果复杂不可避免，那代码间也不能有难懂的关系，要保持接口简洁）\n",
    "\n",
    "扁平胜于嵌套（优美的代码应当是扁平的，不能有太多的嵌套）\n",
    "\n",
    "间隔胜于紧凑（优美的代码有适当的间隔，不要奢望一行代码解决问题）\n",
    "\n",
    "可读性很重要（优美的代码是可读的）\n",
    "\n",
    "即便假借特例的实用性之名，也不可违背这些规则（这些规则至高无上）\n",
    "\n",
    "不要包容所有错误，除非你确定需要这样做（精准地捕获异常，不写 except:pass 风格的代码）\n",
    " \n",
    "当存在多种可能，不要尝试去猜测\n",
    "\n",
    "而是尽量找一种，最好是唯一一种明显的解决方案（如果不确定，就用穷举法）\n",
    "\n",
    "虽然这并不容易，因为你不是 Python 之父（这里的 Dutch 是指 Guido ）\n",
    " \n",
    "做也许好过不做，但不假思索就动手还不如不做（动手之前要细思量）\n",
    " \n",
    "如果你无法向人描述你的方案，那肯定不是一个好方案；反之亦然（方案测评标准）\n",
    " \n",
    "命名空间是一种绝妙的理念，我们应当多加利用（倡导与号召）"
   ]
  }
 ],
 "metadata": {
  "kernelspec": {
   "display_name": "Python 3",
   "language": "python",
   "name": "python3"
  },
  "language_info": {
   "codemirror_mode": {
    "name": "ipython",
    "version": 3
   },
   "file_extension": ".py",
   "mimetype": "text/x-python",
   "name": "python",
   "nbconvert_exporter": "python",
   "pygments_lexer": "ipython3",
   "version": "3.6.5"
  }
 },
 "nbformat": 4,
 "nbformat_minor": 2
}
