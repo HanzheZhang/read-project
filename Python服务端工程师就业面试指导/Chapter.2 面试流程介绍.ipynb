{
 "cells": [
  {
   "cell_type": "markdown",
   "metadata": {},
   "source": [
    "python后端职位分析\n",
    "- 基础知识\n",
    "- 高并发知识"
   ]
  },
  {
   "cell_type": "markdown",
   "metadata": {},
   "source": [
    "面试流程和环节\n",
    "- 一面：基础\n",
    "- 二面：项目\n",
    "- 三面：设计"
   ]
  },
  {
   "cell_type": "markdown",
   "metadata": {},
   "source": [
    "社招重视项目和设计\n",
    "- 参与过哪些项目？有没有知名项目\n",
    "- 在项目中承担的职责\n",
    "- 有没有系统设计经验？"
   ]
  },
  {
   "cell_type": "markdown",
   "metadata": {},
   "source": [
    "行为面试\n",
    "- 自我介绍\n",
    "    - 口头表达能力\n",
    "    - 沟通交流面试"
   ]
  },
  {
   "cell_type": "markdown",
   "metadata": {},
   "source": [
    "HR面试\n",
    "- 薪资待遇\n",
    "- 职业规划\n",
    "- 自我介绍/沟通交流等"
   ]
  },
  {
   "cell_type": "markdown",
   "metadata": {},
   "source": [
    "## Python后端面试技术栈"
   ]
  },
  {
   "cell_type": "markdown",
   "metadata": {},
   "source": [
    "- web请求的流程\n",
    "    1. 浏览器发起请求\n",
    "    2. 负载均衡\n",
    "    3. web框架\n",
    "    4. 业务逻辑\n",
    "    5. 数据库缓存"
   ]
  },
  {
   "cell_type": "markdown",
   "metadata": {},
   "source": [
    "- python语言基础\n",
    "    - 语言特点\n",
    "    - 语法基础\n",
    "    - 高级特性"
   ]
  },
  {
   "cell_type": "markdown",
   "metadata": {},
   "source": [
    "- 算法和数据结构\n",
    "    - 常用算法和数据结构\n",
    "    - 分析时间/空间复杂度\n",
    "    - 实现常见数据结构和算法"
   ]
  },
  {
   "cell_type": "markdown",
   "metadata": {},
   "source": [
    "- 编程范式\n",
    "    - 面向对象编程\n",
    "    - 常用设计模式\n",
    "    - 函数式编程"
   ]
  },
  {
   "cell_type": "markdown",
   "metadata": {},
   "source": [
    "- 操作系统\n",
    "    - 常用linux命令\n",
    "    - 进程/线程\n",
    "    - 内存管理"
   ]
  },
  {
   "cell_type": "markdown",
   "metadata": {},
   "source": [
    "- 网络编程\n",
    "    - 常用TCP/ID/HTTP协议\n",
    "    - Socket编程基础\n",
    "    - Python并发库"
   ]
  },
  {
   "cell_type": "markdown",
   "metadata": {},
   "source": [
    " - 数据库\n",
    "     - Mysql，索引优化\n",
    "     - 关系型和NoSQL的使用场景\n",
    "     - Redis缓存"
   ]
  },
  {
   "cell_type": "markdown",
   "metadata": {},
   "source": [
    "- Python Web框架\n",
    "    - 常用框架对比，RESTful\n",
    "    - WSGI原理\n",
    "    - Web安全问题"
   ]
  },
  {
   "cell_type": "markdown",
   "metadata": {},
   "source": [
    "- 系统设计\n",
    "    - 设计原则，如何分析\n",
    "    - 后端系统常用组件\n",
    "    - 技术选型和实现"
   ]
  },
  {
   "cell_type": "markdown",
   "metadata": {},
   "source": [
    "## Python初/中级工程师技能要求"
   ]
  },
  {
   "cell_type": "markdown",
   "metadata": {},
   "source": [
    "- 初级工程师\n",
    "    - 扎实的计算机理论基础\n",
    "    - 代码规范，风格良好\n",
    "    - 能在指导下靠谱地完成业务需求"
   ]
  },
  {
   "cell_type": "markdown",
   "metadata": {},
   "source": [
    "- 中级工程师\n",
    "    - 扎实的计算机理论基础和丰富的项目经验\n",
    "    - 能独立设计和完成项目需求\n",
    "    - 熟悉常用Web组件(缓存、消息队列等)，具备一定的系统设计能力"
   ]
  },
  {
   "cell_type": "markdown",
   "metadata": {},
   "source": [
    "面试准备\n",
    "- 工作内容和业务紧密相关\n",
    "- 平台决定成长（业务体量）\n",
    "- 准备面试需要有的放矢，跟职位相匹配"
   ]
  },
  {
   "cell_type": "markdown",
   "metadata": {},
   "source": [
    "简历内容：表现个人优势，突出关键信息\n",
    "- 基本信息：姓名、学校、学历、联系方式\n",
    "- 职业技能：编程语言、框架、数据库、开发工具\n",
    "- 关键项目经验：担任职责、用到的技术栈\n",
    "- 简历加分项\n",
    "    - 知名项目经验\n",
    "    - 技术栈比较匹配\n",
    "    - 开源项目（github/技术blog/linux/unix geek）\n",
    "- 简历注意事项\n",
    "    - 内容精简，突出重点\n",
    "    - 注意格式，推荐pdf\n",
    "    - 信息真实，不弄虚作假"
   ]
  },
  {
   "cell_type": "markdown",
   "metadata": {},
   "source": [
    "自我介绍\n",
    "- 个人信息\n",
    "- 掌握的技术，参加过的项目\n",
    "- 应聘的岗位，表达对该岗位的看法和兴趣"
   ]
  },
  {
   "cell_type": "markdown",
   "metadata": {},
   "source": [
    "行为面试题与问答技巧\n",
    "- 行为面试：根据候选人过去的行为评测其胜任能力\n",
    "    - 人在面对相似的场景时会倾向于重复过去的行为模式\n",
    "- 常见问法\n",
    "    - 说说你曾经\n",
    "    - 说说你做过的这个项目\n",
    "    - 说说你碰到过的技术难题？你是如何解决的？有哪些收获？\n",
    "- STAR模型\n",
    "    - 情境situation：什么情况下发生的\n",
    "    - 任务task：如何明确任务的\n",
    "    - 行动action：采取了什么样的行动\n",
    "    - 结果result：结果怎么样？学到了什么\n",
    "- 你还有什么要问我的吗？\n",
    "    - 表现出兴趣：问问工作内容、技术栈、团队、项目等\n",
    "    - 问自己关心的技术问题"
   ]
  },
  {
   "cell_type": "markdown",
   "metadata": {},
   "source": [
    "练习：讲讲你觉得最有技术含量的项目\n",
    "- 讲讲你做过的最有难度的项目\n",
    "- 做了哪些工作？承担的职责是什么？\n",
    "- 遇到的困难是什么？如何解决的？"
   ]
  },
  {
   "cell_type": "code",
   "execution_count": null,
   "metadata": {},
   "outputs": [],
   "source": []
  }
 ],
 "metadata": {
  "kernelspec": {
   "display_name": "Python 3",
   "language": "python",
   "name": "python3"
  },
  "language_info": {
   "codemirror_mode": {
    "name": "ipython",
    "version": 3
   },
   "file_extension": ".py",
   "mimetype": "text/x-python",
   "name": "python",
   "nbconvert_exporter": "python",
   "pygments_lexer": "ipython3",
   "version": "3.6.5"
  }
 },
 "nbformat": 4,
 "nbformat_minor": 2
}
