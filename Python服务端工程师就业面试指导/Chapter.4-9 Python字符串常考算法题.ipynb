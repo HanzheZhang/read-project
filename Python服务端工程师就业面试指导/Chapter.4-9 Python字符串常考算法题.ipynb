{
 "cells": [
  {
   "cell_type": "markdown",
   "metadata": {},
   "source": [
    "- Python内置了很多字符串操作，比如split，upper，replace等\n",
    "- 常考题：反转一个字符串\n",
    "- 常考题：判断一个数字是否是回文数"
   ]
  },
  {
   "cell_type": "code",
   "execution_count": 1,
   "metadata": {},
   "outputs": [
    {
     "data": {
      "text/plain": [
       "'\\n编写一个函数，其作用是将输入的字符串反转过来。输入字符串以字符数组 char[] 的形式给出。\\n不要给另外的数组分配额外的空间，你必须原地修改输入数组、使用 O(1) 的额外空间解决这一问题。\\n你可以假设数组中的所有字符都是 ASCII 码表中的可打印字符。\\n\\n示例 1：\\n输入：[\"h\",\"e\",\"l\",\"l\",\"o\"]\\n输出：[\"o\",\"l\",\"l\",\"e\",\"h\"]\\n\\n示例 2：\\n输入：[\"H\",\"a\",\"n\",\"n\",\"a\",\"h\"]\\n输出：[\"h\",\"a\",\"n\",\"n\",\"a\",\"H\"]\\n'"
      ]
     },
     "execution_count": 1,
     "metadata": {},
     "output_type": "execute_result"
    }
   ],
   "source": [
    "# 344. 反转字符串\n",
    "\"\"\"\n",
    "编写一个函数，其作用是将输入的字符串反转过来。输入字符串以字符数组 char[] 的形式给出。\n",
    "不要给另外的数组分配额外的空间，你必须原地修改输入数组、使用 O(1) 的额外空间解决这一问题。\n",
    "你可以假设数组中的所有字符都是 ASCII 码表中的可打印字符。\n",
    "\n",
    "示例 1：\n",
    "输入：[\"h\",\"e\",\"l\",\"l\",\"o\"]\n",
    "输出：[\"o\",\"l\",\"l\",\"e\",\"h\"]\n",
    "\n",
    "示例 2：\n",
    "输入：[\"H\",\"a\",\"n\",\"n\",\"a\",\"h\"]\n",
    "输出：[\"h\",\"a\",\"n\",\"n\",\"a\",\"H\"]\n",
    "\"\"\"\n",
    "# str.reverse()\n",
    "# 双指针交换字段"
   ]
  },
  {
   "cell_type": "code",
   "execution_count": 3,
   "metadata": {},
   "outputs": [
    {
     "data": {
      "text/plain": [
       "'\\n判断一个整数是否是回文数。回文数是指正序（从左向右）和倒序（从右向左）读都是一样的整数。\\n\\n示例 1:\\n输入: 121\\n输出: true\\n\\n示例\\xa02:\\n输入: -121\\n输出: false\\n解释: 从左向右读, 为 -121 。 从右向左读, 为 121- 。因此它不是一个回文数。\\n\\n示例 3:\\n输入: 10\\n输出: false\\n解释: 从右向左读, 为 01 。因此它不是一个回文数。\\n\\n进阶:\\n你能不将整数转为字符串来解决这个问题吗？\\n'"
      ]
     },
     "execution_count": 3,
     "metadata": {},
     "output_type": "execute_result"
    }
   ],
   "source": [
    "# 9. 回文数\n",
    "\"\"\"\n",
    "判断一个整数是否是回文数。回文数是指正序（从左向右）和倒序（从右向左）读都是一样的整数。\n",
    "\n",
    "示例 1:\n",
    "输入: 121\n",
    "输出: true\n",
    "\n",
    "示例 2:\n",
    "输入: -121\n",
    "输出: false\n",
    "解释: 从左向右读, 为 -121 。 从右向左读, 为 121- 。因此它不是一个回文数。\n",
    "\n",
    "示例 3:\n",
    "输入: 10\n",
    "输出: false\n",
    "解释: 从右向左读, 为 01 。因此它不是一个回文数。\n",
    "\n",
    "进阶:\n",
    "你能不将整数转为字符串来解决这个问题吗？\n",
    "\"\"\"\n",
    "# return str(x) == str(x)[::-1]"
   ]
  },
  {
   "cell_type": "code",
   "execution_count": null,
   "metadata": {},
   "outputs": [],
   "source": []
  }
 ],
 "metadata": {
  "kernelspec": {
   "display_name": "Python 3",
   "language": "python",
   "name": "python3"
  },
  "language_info": {
   "codemirror_mode": {
    "name": "ipython",
    "version": 3
   },
   "file_extension": ".py",
   "mimetype": "text/x-python",
   "name": "python",
   "nbconvert_exporter": "python",
   "pygments_lexer": "ipython3",
   "version": "3.7.0"
  }
 },
 "nbformat": 4,
 "nbformat_minor": 2
}
