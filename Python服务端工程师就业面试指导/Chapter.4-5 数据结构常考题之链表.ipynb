{
 "cells": [
  {
   "cell_type": "markdown",
   "metadata": {},
   "source": [
    "链表\n",
    "- 链表涉及到指针操作较为复杂，容易出错，经常用作考题\n",
    "- 熟悉链表定义和常见操作\n",
    "- 常考题：删除一个链表节点\n",
    "- 常考题：合并两个有序链表"
   ]
  },
  {
   "cell_type": "code",
   "execution_count": 1,
   "metadata": {},
   "outputs": [],
   "source": [
    "# 删除链表中的节点\n",
    "\"\"\"\n",
    "请编写一个函数，使其可以删除某个链表中给定的（非末尾）节点，你将只被给定要求被删除的节点。\n",
    "\n",
    "示例 1:\n",
    "输入: head = [4,5,1,9], node = 5\n",
    "输出: [4,1,9]\n",
    "解释: 给定你链表中值为 5 的第二个节点，那么在调用了你的函数之后，该链表应变为 4 -> 1 -> 9.\n",
    "\n",
    "示例 2:\n",
    "输入: head = [4,5,1,9], node = 1\n",
    "输出: [4,5,9]\n",
    "解释: 给定你链表中值为 1 的第三个节点，那么在调用了你的函数之后，该链表应变为 4 -> 5 -> 9.\n",
    " \n",
    "\n",
    "说明:\n",
    "链表至少包含两个节点。\n",
    "链表中所有节点的值都是唯一的。\n",
    "给定的节点为非末尾节点并且一定是链表中的一个有效节点。\n",
    "不要从你的函数中返回任何结果。\n",
    "\"\"\"\n",
    "class Solution:\n",
    "    def deleteNode(self, node):\n",
    "        next_node = node.next\n",
    "        after_next_node = node.next.next\n",
    "        node.val = next_node.val\n",
    "        node.next = after_next_node"
   ]
  },
  {
   "cell_type": "code",
   "execution_count": 3,
   "metadata": {},
   "outputs": [],
   "source": [
    "# 21. 合并两个有序链表\n",
    "\"\"\"\n",
    "将两个有序链表合并为一个新的有序链表并返回。\n",
    "新链表是通过拼接给定的两个链表的所有节点组成的。 \n",
    "\n",
    "示例：\n",
    "输入：1->2->4, 1->3->4\n",
    "输出：1->1->2->3->4->4\n",
    "\"\"\"\n",
    "class Solution:\n",
    "    def mergeTwoLists(self, l1, l2):\n",
    "        root = ListNode(None)\n",
    "        cur = root\n",
    "        while l1 and l2:\n",
    "            if l1.val < l2.val:\n",
    "                node = ListNode(l1.val)\n",
    "                l1 = l1.next\n",
    "            else:\n",
    "                node = ListNode(l2.val)\n",
    "                l2 = l2.next\n",
    "            cur.next = node\n",
    "            cur = node\n",
    "        if l1 is None:\n",
    "            cur.next = l2\n",
    "        else:\n",
    "            cur.next = l1\n",
    "        return root.next"
   ]
  },
  {
   "cell_type": "code",
   "execution_count": null,
   "metadata": {},
   "outputs": [],
   "source": []
  }
 ],
 "metadata": {
  "kernelspec": {
   "display_name": "Python 3",
   "language": "python",
   "name": "python3"
  },
  "language_info": {
   "codemirror_mode": {
    "name": "ipython",
    "version": 3
   },
   "file_extension": ".py",
   "mimetype": "text/x-python",
   "name": "python",
   "nbconvert_exporter": "python",
   "pygments_lexer": "ipython3",
   "version": "3.6.5"
  }
 },
 "nbformat": 4,
 "nbformat_minor": 2
}
