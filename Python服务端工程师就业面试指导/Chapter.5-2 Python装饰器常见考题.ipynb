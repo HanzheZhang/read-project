{
 "cells": [
  {
   "cell_type": "markdown",
   "metadata": {},
   "source": [
    "Decorator\n",
    "- Python中一切皆对象，函数也可以当作参数传递\n",
    "- 装饰器是接受一个函数作为参数，添加功能后返回一个新函数的函数\n",
    "- Python中通过@使用装饰器"
   ]
  },
  {
   "cell_type": "code",
   "execution_count": 3,
   "metadata": {},
   "outputs": [
    {
     "name": "stdout",
     "output_type": "stream",
     "text": [
      "used time 1.000128984451294\n"
     ]
    }
   ],
   "source": [
    "# 编写一个记录函数耗时的装饰器\n",
    "import time\n",
    "\n",
    "def log_time(func):\n",
    "    def _log(*args, **kwargs):\n",
    "        start = time.time()\n",
    "        res = func(*args, **kwargs)\n",
    "        end = time.time()\n",
    "        print(\"used time {}\".format(end-start))\n",
    "        return res\n",
    "    return _log\n",
    "\n",
    "\n",
    "@log_time\n",
    "def mysleep():\n",
    "    time.sleep(1)\n",
    "    \n",
    "mysleep()"
   ]
  },
  {
   "cell_type": "code",
   "execution_count": 4,
   "metadata": {},
   "outputs": [
    {
     "name": "stdout",
     "output_type": "stream",
     "text": [
      "used time 1.0004043579101562\n"
     ]
    }
   ],
   "source": [
    "import time\n",
    "\n",
    "\n",
    "class LogTime:\n",
    "    \n",
    "    def __call__(self, func):\n",
    "        def _log(*args, **kwargs):\n",
    "            start = time.time()\n",
    "            res = func(*args, **kwargs)\n",
    "            end = time.time()\n",
    "            print(\"used time {}\".format(end-start))\n",
    "            return res\n",
    "        return _log\n",
    "    \n",
    "\n",
    "@LogTime()\n",
    "def mysleep():\n",
    "    time.sleep(1)\n",
    "    \n",
    "mysleep()"
   ]
  },
  {
   "cell_type": "markdown",
   "metadata": {},
   "source": [
    "可以使用类装饰器比较方便地实现装饰器参数"
   ]
  },
  {
   "cell_type": "code",
   "execution_count": 12,
   "metadata": {},
   "outputs": [
    {
     "name": "stdout",
     "output_type": "stream",
     "text": [
      "used time 1\n"
     ]
    }
   ],
   "source": [
    "import time\n",
    "\n",
    "\n",
    "class LogTime:\n",
    "    \n",
    "    def __init__(self, use_int=False):\n",
    "        self.use_int = use_int\n",
    "    \n",
    "    def __call__(self, func):\n",
    "        def _log(*args, **kwargs):\n",
    "            start = time.time()\n",
    "            res = func(*args, **kwargs)\n",
    "            end = time.time()\n",
    "            if self.use_int:\n",
    "                print(\"used time {}\".format(int(end-start)))\n",
    "            else:\n",
    "                print(\"used time {}\".format(end-start))\n",
    "            return res\n",
    "        return _log\n",
    "    \n",
    "\n",
    "@LogTime(True)\n",
    "def mysleep():\n",
    "    time.sleep(1)\n",
    "    \n",
    "mysleep()"
   ]
  },
  {
   "cell_type": "code",
   "execution_count": null,
   "metadata": {},
   "outputs": [],
   "source": []
  }
 ],
 "metadata": {
  "kernelspec": {
   "display_name": "Python 3",
   "language": "python",
   "name": "python3"
  },
  "language_info": {
   "codemirror_mode": {
    "name": "ipython",
    "version": 3
   },
   "file_extension": ".py",
   "mimetype": "text/x-python",
   "name": "python",
   "nbconvert_exporter": "python",
   "pygments_lexer": "ipython3",
   "version": "3.7.0"
  }
 },
 "nbformat": 4,
 "nbformat_minor": 2
}
