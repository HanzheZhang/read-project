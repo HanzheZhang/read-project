{
 "cells": [
  {
   "cell_type": "markdown",
   "metadata": {},
   "source": [
    "- 事务原理、特性、事务并发控制\n",
    "- 常用的字段、含义和区别\n",
    "- 常用数据库引擎和区别"
   ]
  },
  {
   "cell_type": "markdown",
   "metadata": {},
   "source": [
    "事务\n",
    "- 事务是数据库并发控制的基本单位\n",
    "- 事务可以看作是一系列SQL语句的集合\n",
    "- 事务必须要么全部执行成功，要么全部执行失败"
   ]
  },
  {
   "cell_type": "markdown",
   "metadata": {},
   "source": [
    "事务ACID特性\n",
    "- 原子性(Atomocity)：一个事务中所有操作全部完成或失败\n",
    "- 一致性(Consistency)：事务开始和结束之后数据完整性没有被破坏\n",
    "- 隔离性(Isolation)：允许多个事务同时对数据库修改和读写\n",
    "- 持久性(Durability)：事务结束之后，修改是永久的不会丢失"
   ]
  },
  {
   "cell_type": "markdown",
   "metadata": {},
   "source": [
    "事务的并发控制可能产生哪些问题\n",
    "- 幻读(phantom read)：一个事务第二次查出现第一次没有的结果\n",
    "- 非重复读(nonrepeatable read)：一个事务重复读两次得到不同的结果\n",
    "- 脏读(dirty read)：一个事务读取到另一个事务没有提交的修改\n",
    "- 丢失修改(lost update)：并发写入造成其中一些修改丢失"
   ]
  },
  {
   "cell_type": "markdown",
   "metadata": {},
   "source": [
    "四种事务隔离级别\n",
    "- 读未提交(read uncommitted)：别的事务可以读取到未提交改变\n",
    "- 读已提交(read committed)：只能读取已经提交的数据\n",
    "- 可重复读(repeatable read)：同一个事务先后查询结果一样\n",
    "- 串行化(Serializable)：事务完全串行化的执行，隔离级别最高，执行效率最低"
   ]
  },
  {
   "cell_type": "markdown",
   "metadata": {},
   "source": [
    "如何解决高并发场景下的插入重复\n",
    "- 使用数据库的唯一索引\n",
    "- 使用队列异步写入\n",
    "- 使用redis等实现分布式锁"
   ]
  },
  {
   "cell_type": "markdown",
   "metadata": {},
   "source": [
    "乐观锁和悲观锁\n",
    "- 悲观锁是先获取锁再进行操作。一锁二查三更新\n",
    "- 乐观锁先修改，更新的时候发现数据已经改变就回滚\n",
    "- 使需要根据响应速度、冲突频率、重试代价来判断使用哪一种"
   ]
  },
  {
   "cell_type": "markdown",
   "metadata": {},
   "source": [
    "InnoDB,MyISAM\n",
    "- MyISAM不支持事务，InnoDB支持事务\n",
    "- MyISAM不支持外键\n",
    "- MyISAM只支持表锁"
   ]
  },
  {
   "cell_type": "markdown",
   "metadata": {},
   "source": [
    "## Mysql索引原理及优化常见考题"
   ]
  },
  {
   "cell_type": "markdown",
   "metadata": {},
   "source": [
    "Mysql索引\n",
    "- 索引的原理、类型、结构\n",
    "- 创建索引的注意事项，使用原则\n",
    "- 如何排查和消除慢查询"
   ]
  },
  {
   "cell_type": "markdown",
   "metadata": {},
   "source": [
    "什么是索引\n",
    "- 索引是数据表中一个或多个列进行排序的数据结构\n",
    "- 索引能够大幅提升检索速度\n",
    "- 创建、更新索引本身也会耗费空间和时间"
   ]
  },
  {
   "cell_type": "markdown",
   "metadata": {},
   "source": [
    "B-Tree\n"
   ]
  }
 ],
 "metadata": {
  "kernelspec": {
   "display_name": "Python 3",
   "language": "python",
   "name": "python3"
  },
  "language_info": {
   "codemirror_mode": {
    "name": "ipython",
    "version": 3
   },
   "file_extension": ".py",
   "mimetype": "text/x-python",
   "name": "python",
   "nbconvert_exporter": "python",
   "pygments_lexer": "ipython3",
   "version": "3.7.0"
  }
 },
 "nbformat": 4,
 "nbformat_minor": 2
}
