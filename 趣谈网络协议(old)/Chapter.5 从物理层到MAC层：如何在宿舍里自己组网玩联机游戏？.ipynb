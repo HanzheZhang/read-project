{
 "cells": [
  {
   "cell_type": "markdown",
   "metadata": {},
   "source": [
    "# 第一层（物理层）"
   ]
  },
  {
   "cell_type": "markdown",
   "metadata": {},
   "source": [
    "1. 使用网线连接需要连接的设备\n",
    "2. 配置连接的设备，将设备的IP地址、子网掩码和默认网关配置成同一网络\n",
    "\n",
    "这样，两个设备就已经构成了一个**局域网**，也就是**LAN**。"
   ]
  },
  {
   "cell_type": "markdown",
   "metadata": {},
   "source": [
    "# 第二层（数据链路层）"
   ]
  },
  {
   "cell_type": "markdown",
   "metadata": {},
   "source": [
    "- 数据链路层分为上层**LLC（逻辑链路控制）**和下层**MAC（介质访问控制）**。\n",
    "- MAC主要负责控制与连接物理层的介质。\n",
    "    1. 在发送数据的时候MAC协议可以事先判断是否可以发送数据。\n",
    "    2. 如果可以发送，将给数据加上一些控制信息，\n",
    "    3. 最终将数据以及控制信息以规定的格式发送到物理层\n",
    "    4. 在接收数据的时候，MAC协议首先判断输入的信息以及是否发生了传输错误。如果没有错误，则去掉控制信息发送至LLC层"
   ]
  },
  {
   "cell_type": "markdown",
   "metadata": {},
   "source": [
    "## MAC地址"
   ]
  },
  {
   "cell_type": "markdown",
   "metadata": {},
   "source": [
    "**MAC**的全称是**Medium Access Control**，即**媒体访问控制**。\n",
    "控制在往媒体上发送数据时的先后顺序。\n",
    "\n",
    "**数据链路层地址**，也被称为**MAC地址**，这个地址主要控制发送和接收的对象信息。"
   ]
  },
  {
   "cell_type": "markdown",
   "metadata": {},
   "source": [
    "网络包格式:\n",
    "![网络包格式](https://static001.geekbang.org/resource/image/ce/ed/cef93d665ca863fef40f7f854d5d33ed.jpg)"
   ]
  },
  {
   "cell_type": "markdown",
   "metadata": {},
   "source": [
    "- 包的最开始就是MAC地址和源的MAC地址\n",
    "- 地址后面是类型，大部分类型是IP数据包，IP里面包含TCP、UDP，以及HTTP等，这些都是里层封装\n",
    "- 最后一层是**CRC**，也就是**循环冗余检测**。通过XOR异或的算法，来计算整个包是否在发送的过程中出现了错误"
   ]
  },
  {
   "cell_type": "markdown",
   "metadata": {},
   "source": [
    "数据包在链路上广播，网卡通过MAC地址发现后将包接收，然后打开IP包，找到对应的IP地址，打开TCP包，找到对应的端口，将对应端口的请求提交给nginx，nginx就会返回一个网页。\n",
    "\n",
    "网页信息经过层层封装之后，到达了MAC层，包的源MAC地址就会变成目标MAC，再返回给请求的机器。"
   ]
  },
  {
   "cell_type": "markdown",
   "metadata": {},
   "source": [
    "## ARP协议\n",
    "\n",
    "就是已知IP地址，求MAC地址的协议。用来在广播中寻找对应的MAC地址"
   ]
  },
  {
   "cell_type": "markdown",
   "metadata": {},
   "source": [
    "- 如果不知道MAC地址，就需要使用ARP协议在广播中“吼”，因为是在局域网中，所以能得到目标IP的回复\n",
    "- 为了避免每次都用 ARP 请求，机器本地也会进行 ARP 缓存\n",
    "- IP 随时会改变，所以 ARP 的 MAC 地址缓存过一段时间就会过期 "
   ]
  },
  {
   "cell_type": "markdown",
   "metadata": {},
   "source": [
    "![ARP协议](https://static001.geekbang.org/resource/image/17/3d/17ac2f46ef531e2b4380300f10267e3d.jpg)"
   ]
  },
  {
   "cell_type": "markdown",
   "metadata": {},
   "source": [
    "![ARP协议](https://static001.geekbang.org/resource/image/5f/68/5fe88a40a8b5d507601968efb50ac668.jpg)"
   ]
  },
  {
   "cell_type": "markdown",
   "metadata": {},
   "source": [
    "![询问MAC地址报文](https://img-blog.csdn.net/20180728152925653?watermark/2/text/aHR0cHM6Ly9ibG9nLmNzZG4ubmV0L20wXzM3MzIzNzcx/font/5a6L5L2T/fontsize/400/fill/I0JBQkFCMA==/dissolve/70)"
   ]
  },
  {
   "cell_type": "markdown",
   "metadata": {},
   "source": [
    "# 局域网"
   ]
  },
  {
   "cell_type": "markdown",
   "metadata": {},
   "source": [
    "使用Hub组网，当机器数量增多时，产生冲突的概率就会提高。而且把不需要的包转发过去，就会造成浪费。"
   ]
  },
  {
   "cell_type": "markdown",
   "metadata": {},
   "source": [
    "于是就是需要使用交换机，交换机会学习来知道每个口电脑的MAC地址：**一开始把包转发给除了来的那个口之外的其他所有的的口，而接受到包的口如果不是目标就会把包的来源口记住，只要以后有包的目标地址是这个来口，直接发送这个口就行了。**"
   ]
  },
  {
   "cell_type": "markdown",
   "metadata": {},
   "source": [
    "每个机器IP地址改变时，所在的口业会改变，因而交换机上的学习结果，称为**转发表**，是有一个过期时间。"
   ]
  },
  {
   "cell_type": "markdown",
   "metadata": {},
   "source": [
    "# 额外知识"
   ]
  },
  {
   "cell_type": "markdown",
   "metadata": {},
   "source": [
    "## 交换机和HUB有什么区别？"
   ]
  },
  {
   "cell_type": "markdown",
   "metadata": {},
   "source": [
    "- **交换机可以分割冲突域而HUB不可以分割冲突域，这是他们最本质的区别**\n",
    "    1. Hub连N台电脑，他们共享在一个区域里，如果这个区域里有冲突，所有电脑都收影响。\n",
    "    2. 交换机连N台电脑，每个交换机端口是一个独立的区域，即使有冲突，冲突也局限在相对应的交换机端口，不影响其他电脑\n",
    "\n",
    "- **HUB是广播数据包，交换机是隔离数据包**"
   ]
  },
  {
   "cell_type": "markdown",
   "metadata": {},
   "source": [
    "## 路由器和交换机的区别？"
   ]
  },
  {
   "cell_type": "markdown",
   "metadata": {},
   "source": [
    "- 工作层次不同：交换机比路由器更简单，路由器比交换机能获取更多信息\n",
    "- 数据转发所一句的对象不同\n",
    "- 传统的交换机只能分割冲突域，不能分割广播域；而路由器可以分割广播域\n",
    "- 路由器提供了防火墙服务"
   ]
  },
  {
   "cell_type": "markdown",
   "metadata": {},
   "source": [
    "交换机(Switch)是一种基于MAC(网卡的硬件地址)识别，为始发者和接收者之间建立临时的联网路径。\n",
    "\n",
    "路由器(Router)亦称选径器，是在网络层实现互连的设备。可以连接多个网络或网段的网络设备，包括局域网和广域网。"
   ]
  },
  {
   "cell_type": "markdown",
   "metadata": {},
   "source": [
    "## 如果一个局域网里面有多个交换机，ARP广播的模式会出现什么问题？"
   ]
  },
  {
   "cell_type": "markdown",
   "metadata": {},
   "source": [
    "**ARP广播时，交换机会将一个端口收到的包转发到其他所有的端口上。**\n",
    "\n",
    "比如，数据包经过交换机A到达交换机B，交换机B又将包复制为多份广播出去。\n",
    "\n",
    "如果整个局域网存在一个环路，使得数据包又重新回到了最开始的交换机A，这个包又会被A再次复制多份广播出去。\n",
    "\n",
    "如此循环，数据包会不停地转发，而且越来越多，最终占满宽带，或者使解析协议的硬件过载，形成广播风暴。"
   ]
  }
 ],
 "metadata": {
  "kernelspec": {
   "display_name": "Python 3",
   "language": "python",
   "name": "python3"
  },
  "language_info": {
   "codemirror_mode": {
    "name": "ipython",
    "version": 3
   },
   "file_extension": ".py",
   "mimetype": "text/x-python",
   "name": "python",
   "nbconvert_exporter": "python",
   "pygments_lexer": "ipython3",
   "version": "3.6.5"
  }
 },
 "nbformat": 4,
 "nbformat_minor": 2
}
