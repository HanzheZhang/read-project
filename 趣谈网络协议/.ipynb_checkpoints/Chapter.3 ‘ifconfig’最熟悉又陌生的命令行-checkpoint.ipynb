{
 "cells": [
  {
   "cell_type": "markdown",
   "metadata": {},
   "source": [
    "# ipconfig 最熟悉又陌生的命令行"
   ]
  },
  {
   "cell_type": "markdown",
   "metadata": {},
   "source": [
    "查询IP地址：\n",
    "- windows：ipconfig\n",
    "- linux：ifconfig/ip addr"
   ]
  },
  {
   "cell_type": "markdown",
   "metadata": {},
   "source": [
    "## ip地址\n",
    "\n",
    "IP地址被点分隔成四个部分，每个部分8bit，所以ip地址总共32位。\n",
    "\n",
    "IPv6/inet6是128位。"
   ]
  },
  {
   "cell_type": "markdown",
   "metadata": {},
   "source": [
    "![IP地址分类](https://images2015.cnblogs.com/blog/880287/201604/880287-20160403105152098-758758870.gif)"
   ]
  },
  {
   "cell_type": "markdown",
   "metadata": {},
   "source": [
    "类别 | ip地址范围 | 最大主机数 | 私有ip地址范围\n",
    "-----|------------|-----------|---------------\n",
    "A|0.0.0.0-127.255.255.2555|16777214|10.0.0.0-10.255.255.255\n",
    "B|128.0.0.0-191.255.255.255|65534|172.16.0.0-172.31.255.255\n",
    "C|192.0.0.0-223.255.255.255|254|192.168.0.0-192.168.255.255"
   ]
  },
  {
   "cell_type": "markdown",
   "metadata": {},
   "source": [
    "## 无类型域间选路(CIDR)"
   ]
  },
  {
   "cell_type": "markdown",
   "metadata": {},
   "source": [
    "这种方法将32位的ip地址一分为二，前面是**网络号**，后面是**主机**。ip地址使用“/”分隔，前面24位是网络号，后面8位是主机号。\n",
    "\n",
    "伴随CIDR存在的有两个，一个是**广播地址**，即10.100.122.255。如果发送这个地址，所有的10.100.122网络里面的所有机器都可以收到信息。第二个是**子掩码**，255.255.255.0。将子掩码和ip地址按位计算AND，就可得到网络号。"
   ]
  },
  {
   "cell_type": "markdown",
   "metadata": {},
   "source": [
    "## 共有ip地址和私有ip地址"
   ]
  },
  {
   "cell_type": "markdown",
   "metadata": {},
   "source": [
    "公有ip地址是有个组织同意分配，需要购买。\n",
    "\n",
    "192.168.0.X是最常用的ip地址。192.168.0.1是一般是这个私有网络的出口地址。而192.168.0.255是广播地址。"
   ]
  },
  {
   "cell_type": "markdown",
   "metadata": {},
   "source": []
  }
 ],
 "metadata": {
  "kernelspec": {
   "display_name": "Python 3",
   "language": "python",
   "name": "python3"
  },
  "language_info": {
   "codemirror_mode": {
    "name": "ipython",
    "version": 3
   },
   "file_extension": ".py",
   "mimetype": "text/x-python",
   "name": "python",
   "nbconvert_exporter": "python",
   "pygments_lexer": "ipython3",
   "version": "3.7.0"
  }
 },
 "nbformat": 4,
 "nbformat_minor": 2
}
