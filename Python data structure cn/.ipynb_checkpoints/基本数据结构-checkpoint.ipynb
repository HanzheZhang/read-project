{
 "cells": [
  {
   "cell_type": "markdown",
   "metadata": {},
   "source": [
    "# 栈\n",
    "- 后进先出栈\n",
    "- 有序集合\n",
    "- 添加移除新项总发生在同一端"
   ]
  },
  {
   "cell_type": "markdown",
   "metadata": {},
   "source": [
    "## 栈操作\n",
    "- Stack() 创建一个空的新栈。无参数，返回一个空栈\n",
    "- push(item) 将一个新项添加到栈的顶部。有item做参数，不返回任何内容\n",
    "- pop() 从栈中删除顶部项。 无参数， 栈被修改\n",
    "- peek() 从栈中返回顶部项。 无参数， 栈不被修改\n",
    "- isEmpty() 测试栈是否为空。 无参数，返回布尔值\n",
    "- size() 返回栈中item数量。 无参数， 返回一个整数\n",
    "\n",
    "![](https://facert.gitbooks.io/python-data-structure-cn/3.%E5%9F%BA%E6%9C%AC%E6%95%B0%E6%8D%AE%E7%BB%93%E6%9E%84/3.4.%E6%A0%88%E7%9A%84%E6%8A%BD%E8%B1%A1%E6%95%B0%E6%8D%AE%E7%B1%BB%E5%9E%8B/assets/3.4.%E6%A0%88%E7%9A%84%E6%8A%BD%E8%B1%A1%E6%95%B0%E6%8D%AE%E7%B1%BB%E5%9E%8B.table1.png)\n",
    "\n",
    "## 栈的实现"
   ]
  },
  {
   "cell_type": "code",
   "execution_count": 1,
   "metadata": {},
   "outputs": [],
   "source": [
    "class Stack:\n",
    "    def __init__(self):\n",
    "        self.items = []\n",
    "        \n",
    "    def isEmpty(self):\n",
    "        return self.items == []\n",
    "    \n",
    "    def push(self, item):\n",
    "        self.items.append(item)\n",
    "        \n",
    "    def pop(self):\n",
    "        return self.items.pop()\n",
    "    \n",
    "    def peek(self):\n",
    "        return self.items[len(self.items) - 1]\n",
    "    \n",
    "    def size(self):\n",
    "        return len(self.items)"
   ]
  },
  {
   "cell_type": "code",
   "execution_count": 4,
   "metadata": {},
   "outputs": [
    {
     "name": "stdout",
     "output_type": "stream",
     "text": [
      "True\n",
      "dog\n",
      "3\n",
      "False\n",
      "8.4\n",
      "True\n",
      "2\n"
     ]
    }
   ],
   "source": [
    "s=Stack()\n",
    "\n",
    "print(s.isEmpty())\n",
    "s.push(4)\n",
    "s.push('dog')\n",
    "print(s.peek())\n",
    "s.push(True)\n",
    "print(s.size())\n",
    "print(s.isEmpty())\n",
    "s.push(8.4)\n",
    "print(s.pop())\n",
    "print(s.pop())\n",
    "print(s.size())"
   ]
  },
  {
   "cell_type": "markdown",
   "metadata": {},
   "source": [
    "## 例题：简单括号匹配\n",
    "括号匹配意味着每个开始符号具有相应的结束符号，并且括号能被正确嵌套。考虑下面正确匹配的括号字符串：\n",
    "```\n",
    "(()()()())\n",
    "(((())))\n",
    "(()((())()))\n",
    "```\n",
    "对比那些不匹配的括号：\n",
    "```\n",
    "((((((())\n",
    "()))\n",
    "(()()(()\n",
    "```\n",
    "如何编写一个算法，能够从左到右读取一串符号，并决定符号是否平衡。"
   ]
  },
  {
   "cell_type": "markdown",
   "metadata": {},
   "source": [
    "为了解决这个问题，我们需要做一个重要的观察。从左到右处理符号时，最近开始符号必须与下一个关闭符号相匹配。此外，处理的第一个开始符号必须等待直到其匹配最后一个符号。结束符号以相反的顺序匹配开始符号。他们从内到外匹配。\n",
    "\n",
    "从空栈开始，从左到右处理括号字符串。如果一个符号是一个开始符号，将其作为一个信号，对应的结束符号稍后会出现。另一方面，如果符号是结束符号，弹出栈，只要弹出栈的开始符号可以匹配每个结束符号，则括号保持匹配状态。如果任何时候栈上没有出现符合开始符号的结束符号，则字符串不匹配。最后，当所有符号都被处理后，栈应该是空的。"
   ]
  },
  {
   "cell_type": "code",
   "execution_count": 5,
   "metadata": {},
   "outputs": [
    {
     "name": "stdout",
     "output_type": "stream",
     "text": [
      "True\n",
      "False\n"
     ]
    }
   ],
   "source": [
    "def parChecker(symbolString):\n",
    "    \n",
    "    s = Stack()\n",
    "    \n",
    "    for x in symbolString:\n",
    "        if x == '(':\n",
    "            s.push(x)\n",
    "        else:\n",
    "            if s.isEmpty():\n",
    "                return False\n",
    "            else:\n",
    "                s.pop()\n",
    "                \n",
    "    if s.isEmpty():\n",
    "        return True\n",
    "    else:\n",
    "        return False\n",
    "    \n",
    "    \n",
    "print(parChecker('((()))'))\n",
    "print(parChecker('(()'))"
   ]
  },
  {
   "cell_type": "markdown",
   "metadata": {},
   "source": [
    "## 例题：括号匹配\n",
    "匹配和嵌套不同种类的开始和结束符号的情况经常发生。例如，在 Python 中，方括号 [ 和 ] 用于列表，花括号 { 和 } 用于字典。括号 ( 和 ) 用于元组和算术表达式。只要每个符号都能保持自己的开始和结束关系，就可以混合符号。符号字符串如\n",
    "```\n",
    "{ { ( [ ] [ ] ) } ( ) }\n",
    "[ [ { { ( ( ) ) } } ] ]\n",
    "[ ] [ ] [ ] ( ) { }\n",
    "```\n",
    "这些被恰当的匹配了，因为不仅每个开始符号都有对应的结束符号，而且符号的类型也匹配。\n",
    "相反这些字符串没法匹配：\n",
    "```\n",
    "( [ ) ]\n",
    "( ( ( ) ] ) )\n",
    "[ { ( ) ]\n",
    "```"
   ]
  },
  {
   "cell_type": "code",
   "execution_count": 10,
   "metadata": {},
   "outputs": [
    {
     "name": "stdout",
     "output_type": "stream",
     "text": [
      "True\n",
      "False\n",
      "False\n"
     ]
    }
   ],
   "source": [
    "def parChecker2(symbolString):\n",
    "    \n",
    "    s = Stack()\n",
    "    \n",
    "    opens = {\n",
    "        ')' : '(',\n",
    "        ']' : '[',\n",
    "        '}' : '{'\n",
    "    }\n",
    "    \n",
    "    for x in symbolString:\n",
    "        if x in '([{':\n",
    "            s.push(x)\n",
    "        else:\n",
    "            top = s.pop()\n",
    "            if top != opens[x]:\n",
    "                return False\n",
    "    \n",
    "    if s.isEmpty():\n",
    "        return True\n",
    "    else:\n",
    "        return False\n",
    "    \n",
    "    \n",
    "print(parChecker2('{{([][])}()}'))\n",
    "print(parChecker2('{{([][])}(]}'))\n",
    "print(parChecker2('[{()]'))"
   ]
  },
  {
   "cell_type": "markdown",
   "metadata": {},
   "source": [
    "## 十进制转换成二进制\n",
    "我们如何能够容易地将整数值转换为二进制呢？答案是“除 2”算法，它用栈来跟踪二进制结果的数字。\n",
    "\n",
    "“除 2” 算法假定我们从大于 0 的整数开始。不断迭代的将十进制除以 2，并跟踪余数。第一个除以 2 的余数说明了这个值是偶数还是奇数。偶数有 0 的余数，记为 0。奇数有余数 1，记为 1.我们将得到的二进制构建为数字序列，第一个余数实际上是序列中的最后一个数字。"
   ]
  },
  {
   "cell_type": "code",
   "execution_count": 4,
   "metadata": {},
   "outputs": [
    {
     "name": "stdout",
     "output_type": "stream",
     "text": [
      "101010\n"
     ]
    }
   ],
   "source": [
    "def divideBy2(decNumber):\n",
    "    \n",
    "    remstack = Stack()\n",
    "    \n",
    "    while decNumber > 0:\n",
    "        rem = decNumber % 2\n",
    "        remstack.push(rem)\n",
    "        decNumber = decNumber // 2\n",
    "        \n",
    "    binString = ''\n",
    "    while not remstack.isEmpty():\n",
    "        binString = binString + str(remstack.pop())\n",
    "        \n",
    "    return binString\n",
    "\n",
    "\n",
    "print(divideBy2(42))"
   ]
  },
  {
   "cell_type": "code",
   "execution_count": 6,
   "metadata": {},
   "outputs": [
    {
     "name": "stdout",
     "output_type": "stream",
     "text": [
      "11001\n",
      "31\n",
      "19\n"
     ]
    }
   ],
   "source": [
    "def baseConverter(decNumber, base):\n",
    "    \n",
    "    digits = '0123456789ABCDEF'\n",
    "    remstack = Stack()\n",
    "    \n",
    "    while decNumber > 0:\n",
    "        rem = decNumber % base\n",
    "        remstack.push(rem)\n",
    "        decNumber = decNumber // base\n",
    "        \n",
    "    newString = ''\n",
    "    while not remstack.isEmpty():\n",
    "        newString = newString + digits[remstack.pop()]\n",
    "        \n",
    "    return newString\n",
    "\n",
    "\n",
    "print(baseConverter(25,2))\n",
    "print(baseConverter(25,8))\n",
    "print(baseConverter(25,16))"
   ]
  },
  {
   "cell_type": "markdown",
   "metadata": {},
   "source": [
    "## 中缀表达式转换前缀和后缀"
   ]
  },
  {
   "cell_type": "code",
   "execution_count": 2,
   "metadata": {},
   "outputs": [
    {
     "name": "stdout",
     "output_type": "stream",
     "text": [
      "A B * C D * +\n",
      "A B + C * D E - F G + * -\n"
     ]
    }
   ],
   "source": [
    "def infixToPostfix(infixexpr):\n",
    "    prec = {}\n",
    "    prec[\"*\"] = 3\n",
    "    prec[\"/\"] = 3\n",
    "    prec[\"+\"] = 2\n",
    "    prec[\"-\"] = 2\n",
    "    prec[\"(\"] = 1\n",
    "    opStack = Stack()\n",
    "    postfixList = []\n",
    "    tokenList = infixexpr.split()\n",
    "    \n",
    "    for token in tokenList:\n",
    "        if token in \"ABCDEFGHIJKLMNOPQRSTUVWXYZ\" or token in \"0123456789\":\n",
    "            postfixList.append(token)\n",
    "        elif token == '(':\n",
    "            opStack.push(token)\n",
    "        elif token == ')':\n",
    "            topToken = opStack.pop()\n",
    "            while topToken != '(':\n",
    "                postfixList.append(topToken)\n",
    "                topToken = opStack.pop()\n",
    "        else:\n",
    "            while (not opStack.isEmpty()) and \\\n",
    "            (prec[opStack.peek()] >= prec[token]):\n",
    "                postfixList.append(opStack.pop())\n",
    "            opStack.push(token)\n",
    "        \n",
    "    while not opStack.isEmpty():\n",
    "        postfixList.append(opStack.pop())\n",
    "    return \" \".join(postfixList)\n",
    "\n",
    "\n",
    "print(infixToPostfix(\"A * B + C * D\"))\n",
    "print(infixToPostfix(\"( A + B ) * C - ( D - E ) * ( F + G )\"))"
   ]
  },
  {
   "cell_type": "code",
   "execution_count": 3,
   "metadata": {},
   "outputs": [
    {
     "name": "stdout",
     "output_type": "stream",
     "text": [
      "3.0\n"
     ]
    }
   ],
   "source": [
    "def postfixEval(postfixExpr):\n",
    "    operandStack = Stack()\n",
    "    tokenList = postfixExpr.split()\n",
    "\n",
    "    for token in tokenList:\n",
    "        if token in \"0123456789\":\n",
    "            operandStack.push(int(token))\n",
    "        else:\n",
    "            operand2 = operandStack.pop()\n",
    "            operand1 = operandStack.pop()\n",
    "            result = doMath(token,operand1,operand2)\n",
    "            operandStack.push(result)\n",
    "    return operandStack.pop()\n",
    "\n",
    "def doMath(op, op1, op2):\n",
    "    if op == \"*\":\n",
    "        return op1 * op2\n",
    "    elif op == \"/\":\n",
    "        return op1 / op2\n",
    "    elif op == \"+\":\n",
    "        return op1 + op2\n",
    "    else:\n",
    "        return op1 - op2\n",
    "\n",
    "print(postfixEval('7 8 + 3 2 + /'))"
   ]
  },
  {
   "cell_type": "markdown",
   "metadata": {},
   "source": [
    "# 队列\n",
    "- 项的有序结合\n",
    "- 添加新项的一段称为队尾，移除项的一端称为队首\n",
    "- FIFO，先进先出\n",
    "\n",
    "队列操作：\n",
    "- Queue()创建一个空的新队列。它不需要参数，并返回一个空队列\n",
    "- enqueue(item) 将新项添加到队尾。需要参数item，不返回任何内容\n",
    "- dequeue() 从队首移除项。 不需要参数，返回item\n",
    "- isEmpty() 查看队列是否为空。不需要参数，返回布尔值\n",
    "- size() 返回队列中的项数。不需要参数，返回一个整数\n",
    "\n",
    "![](https://facert.gitbooks.io/python-data-structure-cn/3.%E5%9F%BA%E6%9C%AC%E6%95%B0%E6%8D%AE%E7%BB%93%E6%9E%84/3.11.%E9%98%9F%E5%88%97%E6%8A%BD%E8%B1%A1%E6%95%B0%E6%8D%AE%E7%B1%BB%E5%9E%8B/assets/3.11.%E9%98%9F%E5%88%97%E6%8A%BD%E8%B1%A1%E6%95%B0%E6%8D%AE%E7%B1%BB%E5%9E%8B.table1.png)"
   ]
  },
  {
   "cell_type": "code",
   "execution_count": 1,
   "metadata": {},
   "outputs": [],
   "source": [
    "class Queue:\n",
    "    def __init__(self):\n",
    "        self.items = []\n",
    "        \n",
    "    def isEmpty(self):\n",
    "        return self.items == []\n",
    "    \n",
    "    def enqueue(self, item):\n",
    "        self.items.insert(0, item)\n",
    "        \n",
    "    def dequeue(self):\n",
    "        return self.items.pop()\n",
    "    \n",
    "    def size(self):\n",
    "        return len(self.items)"
   ]
  },
  {
   "cell_type": "markdown",
   "metadata": {},
   "source": [
    "## 模拟：烫手山芋\n",
    "在这个游戏中，孩子们围成一个圈，并尽可能快的将一个山芋递给旁边的孩子。在某一个时间，动作结束，有山芋的孩子从圈中移除。游戏继续开始直到剩下最后一个孩子。\n",
    "![](https://facert.gitbooks.io/python-data-structure-cn/3.%E5%9F%BA%E6%9C%AC%E6%95%B0%E6%8D%AE%E7%BB%93%E6%9E%84/3.13.%E6%A8%A1%E6%8B%9F%EF%BC%9A%E7%83%AB%E6%89%8B%E5%B1%B1%E8%8A%8B/assets/3.13.%E6%A8%A1%E6%8B%9F%EF%BC%9A%E7%83%AB%E6%89%8B%E5%B1%B1%E8%8A%8B.figure2.png)\n",
    "为了模拟这个圈，我们使用队列。假设拿着山芋的孩子在队列的前面。当拿到山芋的时候，这个孩子将先出列再入队列，把他放在队列的最后。经过 num 次的出队入队后，前面的孩子将被永久移除队列。并且另一个周期开始，继续此过程，直到只剩下一个名字（队列的大小为 1）。\n",
    "![](https://facert.gitbooks.io/python-data-structure-cn/3.%E5%9F%BA%E6%9C%AC%E6%95%B0%E6%8D%AE%E7%BB%93%E6%9E%84/3.13.%E6%A8%A1%E6%8B%9F%EF%BC%9A%E7%83%AB%E6%89%8B%E5%B1%B1%E8%8A%8B/assets/3.13.%E6%A8%A1%E6%8B%9F%EF%BC%9A%E7%83%AB%E6%89%8B%E5%B1%B1%E8%8A%8B.figure3.png)"
   ]
  },
  {
   "cell_type": "code",
   "execution_count": 5,
   "metadata": {},
   "outputs": [
    {
     "name": "stdout",
     "output_type": "stream",
     "text": [
      "Susan\n"
     ]
    }
   ],
   "source": [
    "def hotPotato(namelist, num):\n",
    "    simqueue = Queue()\n",
    "    for name in namelist:\n",
    "        simqueue.enqueue(name)\n",
    "        \n",
    "    while simqueue.size() > 1:\n",
    "        for i in range(num):\n",
    "            simqueue.enqueue(simqueue.dequeue())\n",
    "            \n",
    "        simqueue.dequeue()\n",
    "        \n",
    "    return simqueue.dequeue()\n",
    "\n",
    "\n",
    "print(hotPotato([\"Bill\",\"David\",\"Susan\",\"Jane\",\"Kent\",\"Brad\"],7))"
   ]
  },
  {
   "cell_type": "markdown",
   "metadata": {},
   "source": [
    "## 模拟：打印机\n",
    "平均每天大约10名学生在任何给定时间在实验室工作。这些学生通常在此期间打印两次，这些任务的长度范围从1到20页。实验室中的打印机较旧，每分钟以草稿质量可以处理10页。打印机可以切换以提供更好的质量，但是它将每分钟只能处理五页。较慢的打印速度可能会使学生等待太久。应使用什么页面速率？\n",
    "\n",
    "![](https://facert.gitbooks.io/python-data-structure-cn/3.%E5%9F%BA%E6%9C%AC%E6%95%B0%E6%8D%AE%E7%BB%93%E6%9E%84/3.14.%E6%A8%A1%E6%8B%9F%EF%BC%9A%E6%89%93%E5%8D%B0%E6%9C%BA/assets/3.14.%E6%A8%A1%E6%8B%9F%EF%BC%9A%E6%89%93%E5%8D%B0%E6%9C%BA.figure4.png)\n",
    "\n",
    "### 主要模拟步骤\n",
    "1. 创建打印任务的队列，每个任务都有一个时间戳。队列启动的时候为空。\n",
    "2. 每秒(currentSecond)：\n",
    "    - 是否创建新的打印任务？如果是，将currentSecond作为时间戳添加到队列\n",
    "    - 如果打印机不忙并且有任务是在等待\n",
    "        - 从打印机队列中删除一个任务并将其分配给打印机\n",
    "        - 从currentSecond中减去时间戳，以计算该任务的等待时间\n",
    "        - 将该任务的等待时间附件到列表中稍后处理\n",
    "        - 根据打印任务的页数，确定需要多少时间\n",
    "    - 打印机需要一秒打印，所以得从该任务的所需的等待时间减去一秒\n",
    "    - 如果任务已经完成，换句话说，所需的时间已经达到零，打印机空闲\n",
    "3. 模拟完成后，从生成的等待时间列表中计算平均等待时间\n",
    "\n",
    "### Python实现\n",
    "为了设计此模拟，我们将为上述三个真实世界对象创建类：Printer, Task, PrintQueue"
   ]
  },
  {
   "cell_type": "code",
   "execution_count": 2,
   "metadata": {},
   "outputs": [],
   "source": [
    "class Printer:\n",
    "    '''\n",
    "    Printer 类需要跟踪它当前是否有任务。如果有，则它处于忙碌状态，\n",
    "    并且可以从任务的页数计算所需的时间。构造函数允许初始化每分钟页面的配置，\n",
    "    tick 方法将内部定时器递减直到打印机设置为空闲\n",
    "    '''\n",
    "    def __init__(self, ppm):\n",
    "        self.pagerate = ppm\n",
    "        self.currentTask = None\n",
    "        self.timeRemaining = 0\n",
    "        \n",
    "    def tick(self):\n",
    "        if self.currentTask != None:\n",
    "            self.timeRemaining = self.timeRemaining - 1\n",
    "            if self.timeRemaining <= 0:\n",
    "                self.currentTask = None\n",
    "                \n",
    "    def busy(self):\n",
    "        if self.currentTask != None:\n",
    "            return True\n",
    "        else:\n",
    "            return False\n",
    "        \n",
    "    def startNext(self, newtask):\n",
    "        self.currentTask = newtask\n",
    "        self.timeRemaining = newtask.getPages()*60/self.pagerate"
   ]
  },
  {
   "cell_type": "code",
   "execution_count": 3,
   "metadata": {},
   "outputs": [],
   "source": [
    "import random\n",
    "\n",
    "\n",
    "class Task:\n",
    "    '''\n",
    "    Task 类（Listing 3）表示单个打印任务。\n",
    "    创建任务时，随机数生成器将提供 1 到 20 页的长度。\n",
    "    每个任务还需要保存一个时间戳用于计算等待时间。\n",
    "    此时间戳将表示任务被创建并放置到打印机队列中的时间。\n",
    "    可以使用 waitTime 方法来检索在打印开始之前队列中花费的时间。\n",
    "    '''\n",
    "    def __init__(self, time):\n",
    "        self.timestamp = time\n",
    "        self.pages = random.randrange(1,21)\n",
    "        \n",
    "    def getStamp(self):\n",
    "        return self.timestamp\n",
    "    \n",
    "    def getPages(self):\n",
    "        return self.pages\n",
    "    \n",
    "    def waitTime(self, currenttime):\n",
    "        return currenttime - self.timestamp"
   ]
  },
  {
   "cell_type": "code",
   "execution_count": 4,
   "metadata": {},
   "outputs": [
    {
     "name": "stdout",
     "output_type": "stream",
     "text": [
      "Average Wait  56.71 secs   0 tasks remaining.\n",
      "Average Wait 207.57 secs   2 tasks remaining.\n",
      "Average Wait  80.26 secs   0 tasks remaining.\n",
      "Average Wait 127.79 secs   0 tasks remaining.\n",
      "Average Wait  17.69 secs   0 tasks remaining.\n",
      "Average Wait  42.67 secs   0 tasks remaining.\n",
      "Average Wait  88.17 secs   1 tasks remaining.\n",
      "Average Wait  73.38 secs   0 tasks remaining.\n",
      "Average Wait 212.83 secs   1 tasks remaining.\n",
      "Average Wait 146.94 secs   3 tasks remaining.\n"
     ]
    }
   ],
   "source": [
    "def simulation(numSeconds, pagesPerMinute):\n",
    "\n",
    "    labprinter = Printer(pagesPerMinute)\n",
    "    printQueue = Queue()\n",
    "    waitingtimes = []\n",
    "\n",
    "    for currentSecond in range(numSeconds):\n",
    "\n",
    "      if newPrintTask():\n",
    "         task = Task(currentSecond)\n",
    "         printQueue.enqueue(task)\n",
    "\n",
    "      if (not labprinter.busy()) and (not printQueue.isEmpty()):\n",
    "        nexttask = printQueue.dequeue()\n",
    "        waitingtimes.append(nexttask.waitTime(currentSecond))\n",
    "        labprinter.startNext(nexttask)\n",
    "\n",
    "      labprinter.tick()\n",
    "\n",
    "    averageWait=sum(waitingtimes)/len(waitingtimes)\n",
    "    print(\"Average Wait %6.2f secs %3d tasks remaining.\"%(averageWait,printQueue.size()))\n",
    "\n",
    "def newPrintTask():\n",
    "    num = random.randrange(1,181)\n",
    "    if num == 180:\n",
    "        return True\n",
    "    else:\n",
    "        return False\n",
    "\n",
    "for i in range(10):\n",
    "    simulation(3600,5)"
   ]
  },
  {
   "cell_type": "markdown",
   "metadata": {},
   "source": [
    "# Deque\n",
    "- 双端队列\n",
    "- 与队列类似的项的有序集合\n",
    "- 可以在前面或后面添加新项或移除项\n",
    "\n",
    "![](https://facert.gitbooks.io/python-data-structure-cn/3.%E5%9F%BA%E6%9C%AC%E6%95%B0%E6%8D%AE%E7%BB%93%E6%9E%84/3.15.%E4%BB%80%E4%B9%88%E6%98%AFDeque/assets/3.15.%E4%BB%80%E4%B9%88%E6%98%AFDeque.figure1-1.png)\n",
    "\n",
    "数据类型：\n",
    "- Deque()创建一个空的新deque。不需要参数，返回空的deque\n",
    "- addFront(item)将一个新项添加到deque的首部。需要item参数，不返回任何内容\n",
    "- addRear(item)将一个新项添加到deque的尾部。需要item参数，不返回任何内容\n",
    "- removeFront()从deque中删除首项。不需要参数，返回item，deque被修改\n",
    "- removeRear()从deque中删除尾项。不需要参数，返回item，deque被修改\n",
    "- isEmpty()测试deque是否为空，不需要参数，返回布尔值\n",
    "- size()返回deque中的项数，不需要参数，返回一个整数\n",
    "\n",
    "![](https://facert.gitbooks.io/python-data-structure-cn/3.%E5%9F%BA%E6%9C%AC%E6%95%B0%E6%8D%AE%E7%BB%93%E6%9E%84/3.16.Deque%E6%8A%BD%E8%B1%A1%E6%95%B0%E6%8D%AE%E7%B1%BB%E5%9E%8B/assets/3.16.Deque%E6%8A%BD%E8%B1%A1%E6%95%B0%E6%8D%AE%E7%B1%BB%E5%9E%8B.table1.png)"
   ]
  },
  {
   "cell_type": "code",
   "execution_count": 5,
   "metadata": {},
   "outputs": [],
   "source": [
    "class Deque:\n",
    "    def __init__(self):\n",
    "        self.items = []\n",
    "        \n",
    "    def isEmpty(self):\n",
    "        return self.items == []\n",
    "    \n",
    "    def addFront(self, item):\n",
    "        self.items.append(item)\n",
    "        \n",
    "    def addRear(self, item):\n",
    "        self.items.insert(0, item)\n",
    "        \n",
    "    def removeFront(self):\n",
    "        return self.items.pop()\n",
    "    \n",
    "    def removeRear(self):\n",
    "        return self.items.pop(0)\n",
    "    \n",
    "    def size(self):\n",
    "        return len(self.items)"
   ]
  },
  {
   "cell_type": "markdown",
   "metadata": {},
   "source": [
    "## 回文检查\n",
    "回文是一个字符串，读取首尾相同的字符，例如，radar toot madam。 我们想构造一个算法输入一个字符串，并检查它是否是一个回文。\n",
    "\n",
    "![](https://facert.gitbooks.io/python-data-structure-cn/3.%E5%9F%BA%E6%9C%AC%E6%95%B0%E6%8D%AE%E7%BB%93%E6%9E%84/3.18.%E5%9B%9E%E6%96%87%E6%A3%80%E6%9F%A5/assets/3.18.%E5%9B%9E%E6%96%87%E6%A3%80%E6%9F%A5.figure2.png)"
   ]
  },
  {
   "cell_type": "code",
   "execution_count": 6,
   "metadata": {},
   "outputs": [
    {
     "name": "stdout",
     "output_type": "stream",
     "text": [
      "False\n",
      "True\n"
     ]
    }
   ],
   "source": [
    "def palchecker(aString):\n",
    "    \n",
    "    chardeque = Deque()\n",
    "    \n",
    "    for ch in aString:\n",
    "        chardeque.addRear(ch)\n",
    "        \n",
    "    while chardeque.size() > 1:\n",
    "        first = chardeque.removeFront()\n",
    "        last = chardeque.removeRear()\n",
    "        if first != last:\n",
    "            return False\n",
    "        \n",
    "    return True\n",
    "\n",
    "\n",
    "print(palchecker(\"lsdkjfskf\"))\n",
    "print(palchecker(\"radar\"))"
   ]
  },
  {
   "cell_type": "markdown",
   "metadata": {},
   "source": [
    "# 列表\n",
    "\n",
    "操作：\n",
    "- List() 创建一个新的空列表。不需要参数，返回一个空列表\n",
    "- add(item) 向列表中添加一个新项。需要item作为参数，不返回任何内容。\n",
    "- remove(item) 从列表中删除该项。需要item作为参数，修改列表\n",
    "- search(item) 搜索列表中的项目。需要item作为参数，返回一个布尔值\n",
    "- isEmpty() 检查列表是否为空。不需要参数，返回一个布尔值\n",
    "- size() 返回列表中的项数。不需要参数，返回一个整数\n",
    "- append(item) 将一个新项添加到列表的末尾，使其成为集合中的最后一项。需要item作为参数，不返回任何内容\n",
    "- index(item) 返回项在列表中的位置。需要item作为参数，返回索引\n",
    "- insert(pos, item) 在位置pos处项列表中添加一个新项。需要item作为参数，不返回任何内容\n",
    "- pop() 删除并返回列表中的最后一个项。\n",
    "- pop(pos) 删除并返回位置pos处的项。需要pos作为参数，返回项"
   ]
  },
  {
   "cell_type": "markdown",
   "metadata": {},
   "source": [
    "# 实现无序列表：链表\n",
    "链表实现的基本构造块是节点。每个节点必须至少保存两个信息。首先，节点必须包含列表项本身，称为这个节点的数据字段。此外，每个节点必须保存对下个节点的引用。"
   ]
  },
  {
   "cell_type": "code",
   "execution_count": 8,
   "metadata": {},
   "outputs": [
    {
     "name": "stdout",
     "output_type": "stream",
     "text": [
      "93\n"
     ]
    }
   ],
   "source": [
    "class Node:\n",
    "    def __init__(self, initdata):\n",
    "        self.data = initdata\n",
    "        self.next = None\n",
    "        \n",
    "    def getData(self):\n",
    "        return self.data\n",
    "    \n",
    "    def getNext(self):\n",
    "        return self.next\n",
    "    \n",
    "    def setData(self, newdata):\n",
    "        self.data = newdata\n",
    "        \n",
    "    def setNext(self, newnext):\n",
    "        self.next = newnext\n",
    "        \n",
    "        \n",
    "temp = Node(93)\n",
    "print(temp.getData())"
   ]
  },
  {
   "cell_type": "code",
   "execution_count": 10,
   "metadata": {},
   "outputs": [],
   "source": [
    "class UnorderedList:\n",
    "    '''\n",
    "    无序列表\n",
    "    '''\n",
    "    def __init__(self):\n",
    "        self.head = None\n",
    "        \n",
    "    def isEmpty(self):\n",
    "        return self.head == None\n",
    "    \n",
    "    def add(self, item):\n",
    "        temp = Node(item)\n",
    "        temp.setNext(self.head)\n",
    "        self.head = temp\n",
    "        \n",
    "    def size(self):\n",
    "        current = self.head\n",
    "        count = 0\n",
    "        while current != None:\n",
    "            count += 1\n",
    "            current = current.getNext()    \n",
    "            \n",
    "        return count\n",
    "    \n",
    "    def search(self,item):\n",
    "        current = self.head\n",
    "        found = False\n",
    "        while current != None and not found:\n",
    "            if current.getData() == item:\n",
    "                found = True\n",
    "            else:\n",
    "                current = current.getNext()\n",
    "\n",
    "        return found\n",
    "    \n",
    "    def remove(self,item):\n",
    "        current = self.head\n",
    "        previous = None\n",
    "        found = False\n",
    "        while not found:\n",
    "            if current.getData() == item:\n",
    "                found = True\n",
    "            else:\n",
    "                previous = current\n",
    "                current = current.getNext()\n",
    "\n",
    "        if previous == None:\n",
    "            self.head = current.getNext()\n",
    "        else:\n",
    "            previous.setNext(current.getNext())"
   ]
  },
  {
   "cell_type": "code",
   "execution_count": null,
   "metadata": {},
   "outputs": [],
   "source": []
  }
 ],
 "metadata": {
  "kernelspec": {
   "display_name": "Python 3",
   "language": "python",
   "name": "python3"
  },
  "language_info": {
   "codemirror_mode": {
    "name": "ipython",
    "version": 3
   },
   "file_extension": ".py",
   "mimetype": "text/x-python",
   "name": "python",
   "nbconvert_exporter": "python",
   "pygments_lexer": "ipython3",
   "version": "3.6.5"
  }
 },
 "nbformat": 4,
 "nbformat_minor": 2
}
