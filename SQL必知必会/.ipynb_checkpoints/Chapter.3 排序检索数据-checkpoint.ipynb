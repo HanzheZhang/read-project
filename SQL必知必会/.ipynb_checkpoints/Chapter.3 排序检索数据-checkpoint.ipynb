{
 "cells": [
  {
   "cell_type": "markdown",
   "metadata": {},
   "source": [
    "# 3.1 排序数据\n",
    "检索出的数据并不是随机显示的。如果不排序，数据一般将以它在底层表中出现的顺序显示，这有可能是数据最初添加到表中的顺序。但是，如果数据随后进行过更新或删除，那么这个顺序将会收到DBMS重用回收存储空间的方式的影响。因此，如果不明确控制的话，则最终的结果不能依赖该排序顺序。关系数据库设计理论认为，如果不明确规定排序顺序，则不应该假定检索出的数据的顺序有任何意义。\n",
    "\n",
    "子句（clause）：SQL语句有子句构成，有些子句是必需的，有些则是可选的。一个子句通常由一个关键字加上所提供的数据组成。\n",
    "\n",
    "为了明确地排序用SELECT语句检索出的数据，可使用ORDER BY子句。ORDER BY子句取一个或多个列的名字，据此对输出进行排序。\n",
    "- ORDER BY子句的位置：在指定一条ORDER BY子句时，应该保证它是SELECT语句中最后一条子句。如果它不是最后的子句，将会出现错误的消息。"
   ]
  },
  {
   "cell_type": "markdown",
   "metadata": {},
   "source": [
    "# 3.2 按多个列排序\n",
    "要按多个列排序，简单指定列名，列名之间用逗号分开即可。"
   ]
  },
  {
   "cell_type": "markdown",
   "metadata": {},
   "source": [
    "# 3.3 按列位置排序\n",
    "除了能用列名指出排列顺序之外，ORDER BY还支持按相对列位置进行排序。\n",
    "```sql\n",
    "SELECT prod_id,prod_price,prod_name\n",
    "FROM Products\n",
    "ORDER BY 2,3;\n",
    "-- ORDER BY表示先按prod_price,在按prod_name进行排序\n",
    "```\n",
    "- 优点：主要好处在于不用重新输入列名。\n",
    "- 缺点：首先，不明确给出列名有可能造成错用列名排序。其次，在对SELECT清单进行更改时容易错误地对数据进行排序，最后，如果进行排序的列不再SELECT清单中，显然不能使用这项技术。"
   ]
  },
  {
   "cell_type": "markdown",
   "metadata": {},
   "source": [
    "# 3.4 指定排序方向\n",
    "数据排序不限于升序排序，这只是默认的排序顺序。还可以使用ORDER BY子句进行降序排序。为了进行降序排序，必须指定DESC关键字。\n",
    "\n",
    "- DESC关键字只应用到直接位于其前面的列名。\n",
    "- 在多个列上降序排序，如果想在多个列上进行降序排序，必须对每一列指定DESC关键字。\n",
    "- DESC时DESCENDING的缩写，这两个关键字都可以使用。\n",
    "- 与DESC相对的是ASC/ASCENDING，在升序排序时可以指定它。实际上，ASC没有多大用处，因为升序时默认的。"
   ]
  },
  {
   "cell_type": "markdown",
   "metadata": {},
   "source": []
  }
 ],
 "metadata": {
  "kernelspec": {
   "display_name": "Python 3",
   "language": "python",
   "name": "python3"
  },
  "language_info": {
   "codemirror_mode": {
    "name": "ipython",
    "version": 3
   },
   "file_extension": ".py",
   "mimetype": "text/x-python",
   "name": "python",
   "nbconvert_exporter": "python",
   "pygments_lexer": "ipython3",
   "version": "3.6.5"
  }
 },
 "nbformat": 4,
 "nbformat_minor": 2
}
