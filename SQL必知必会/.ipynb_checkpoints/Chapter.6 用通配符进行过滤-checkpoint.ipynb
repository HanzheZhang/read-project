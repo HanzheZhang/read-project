{
 "cells": [
  {
   "cell_type": "markdown",
   "metadata": {},
   "source": [
    "# 6.1 LIKE操作\n",
    "利用通配符，可以创建比较特定数据的搜索模式。\n",
    "\n",
    "- 通配符（wildcard）：用来匹配值的一部分的特殊字符\n",
    "- 搜索模式（search pattern）：有字面值、通配符或两个组合构成的搜索条件\n",
    "\n",
    "## 6.1.1 百分号（%）通配符\n",
    "最常使用的通配符是百分号（%）。在搜索串中，%表示任何字符出现任意次数。\n",
    "```sql\n",
    "- 找出所有以词Fish起头的产品\n",
    "SELECT prod_id,prod_name\n",
    "FROM Products\n",
    "WHERE prod_name LIKE 'Fish%';\n",
    "```\n",
    "\n",
    "- Access通配符：如果使用Mircrosoft Access，需要使用*而不是%。\n",
    "- 区分大小写：根据DBMS的不同及其配置，搜索可以是区分大小写的。\n",
    "- 通配符可以在搜索模式中的任意位置使用，并且可以使用多个通配符。\n",
    "- 请注意后面所跟的空格\n",
    "- 请注意NULL\n",
    "## 6.1.2 下划线（_）通配符\n",
    "另一个有用的通配符是下划线（_）。下划线的用途与%一样，但它只匹配单个字符，而不是多个字符。\n",
    "\n",
    "- DB2不支持通配符_\n",
    "- 如果使用Mircrosoft Access，需要使用？而不是_\n",
    "## 6.1.3 方括号（[]）通配符\n",
    "方括号（[]）通配符用来指定一个字符集，它必须匹配指定的位置（通配符的位置）的一个字符\n",
    "\n",
    "- 只有微软的Access和SQL Server支持集合。\n",
    "- 此通配符可以用前缀字符^(脱字号)来否定。\n",
    "- 如果使用的是Microsoft Access，需要用!而不是^来否定一个集合。"
   ]
  },
  {
   "cell_type": "markdown",
   "metadata": {},
   "source": [
    "# 6.2 使用通配符的技巧\n",
    "\n",
    "- 不要过度使用通配符。如果其他操作符能达到相同的目的，应该使用其他操作符。在确实需要使用通配符时，也尽量不要把它们用在搜索模式的开始处。把通配符置于开始处，搜索起来是最慢的。\n",
    "- 仔细注意通配符的位置。如果放错地方，可能不会返回想要的数据"
   ]
  },
  {
   "cell_type": "markdown",
   "metadata": {},
   "source": []
  }
 ],
 "metadata": {
  "kernelspec": {
   "display_name": "Python 3",
   "language": "python",
   "name": "python3"
  },
  "language_info": {
   "codemirror_mode": {
    "name": "ipython",
    "version": 3
   },
   "file_extension": ".py",
   "mimetype": "text/x-python",
   "name": "python",
   "nbconvert_exporter": "python",
   "pygments_lexer": "ipython3",
   "version": "3.6.5"
  }
 },
 "nbformat": 4,
 "nbformat_minor": 2
}
