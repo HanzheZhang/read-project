{
 "cells": [
  {
   "cell_type": "markdown",
   "metadata": {},
   "source": [
    "# 5.1 组合WHERE子句\n",
    "操作符(operator)：用来联结或改变WHERE子句中的子句的关键字，也称为**逻辑操作符(logical operator)** 。\n",
    "## 5.1.1 AND操作符\n",
    "要通过不止一个列进行过滤，可以使用AND操作符给WHERE子句附加条件。\n",
    "```sql\n",
    "- 检索由供应商DLL01制造且价格小于等于4美元的所有产品的名称和价格\n",
    "SELECT prod_id,prod_price,prod_name\n",
    "FROM Products\n",
    "WHERE vend_id='DLL01' AND prod_price<=4;\n",
    "```\n",
    "## 5.1.2 OR操作符\n",
    "OR操作符与AND操作符正好相反，它只是DBMS检索匹配任一条件的行。事实上，许多DBMS在OR WHERE子句的第一个条件得到满足的情况下，就不再计算第二个条件了。\n",
    "```sql\n",
    "SELECT prod_name,prod_price\n",
    "FROM Products\n",
    "WHERE vend_id='DLL01' OR vend_id='BRS01';\n",
    "```\n",
    "## 5.1.3 求值顺序\n",
    "WHERE子句可以包含任意数目的AND和OR操作符。允许两者结合以进行复杂、高级的过滤。但是，组合AND和OR会带来了一个有趣的问题。\n",
    "```sql\n",
    "- 需要列出价格为10美元及以上，且由DLL01或BRS01制造的所有产品。\n",
    "SELECT prod_name,prod_price\n",
    "FROM Products\n",
    "WHERE vend_id='DLL01' OR vend_id='BRS01'\n",
    "AND prod_price>=10;\n",
    "```\n",
    "在WHERE子句中使用圆括号：任何时候使用具有AND和OR操作符的WHERE子句，都应该使用圆括号明确地分组操作符。不要过分依赖默认求值顺序，即使它确实如你希望的那样。使用圆括号没什么坏处，它能消除歧义。"
   ]
  },
  {
   "cell_type": "markdown",
   "metadata": {},
   "source": [
    "# 5.2 IN操作符\n",
    "IN操作符用来指定条件范围，范围中的每个条件都可以进行匹配。IN取一组由逗号分隔、括在圆括号中的合法值。\n",
    "```sql\n",
    "- 此SELECT语句检索由供应商DLL01和BRS01制造的所有产品。\n",
    "SELECT prod_name,prod_price\n",
    "FROM Products\n",
    "WHERE vend_id IN ('DLL01','BRS01')\n",
    "ORDER BY prod_name;\n",
    "```\n",
    "IN操作符后跟由逗号分隔的合法值，这些值必须括在圆括号中。\n",
    "\n",
    "为什么使用IN操作符：\n",
    "- 在有很多合法选项时，IN操作符的语法更清楚，更直观。\n",
    "- 在与其他AND和OR操作符组合使用IN时，求值顺序更容易管理\n",
    "- IN操作符一般比一组OR\n",
    "- 操作符执行得更快\n",
    "- IN的最大优点时可以包含其他SELECT语句，能够更动态地建立WHERE子句。\n",
    "\n",
    "IN WHERE子句中用来指定要匹配值的清单的关键字，功能与OR相当。"
   ]
  },
  {
   "cell_type": "markdown",
   "metadata": {},
   "source": [
    "# 5.3 NOT操作符\n",
    "WHERE子句中的NOT操作符有且只有一个功能，那就是否定其后所跟的任何条件。因为NOT从不单独使用，所以它的语法与其他操作符有所不同。NOT关键字可以用在要过滤的列前，而不仅是在其后。\n",
    "\n",
    "- NOT：WHERE子句中用来否定其后条件的关键字\n",
    "\n",
    "```sql\n",
    "- 列出除DLL01之外的所有供应商制造的产品\n",
    "SELECT prod_name\n",
    "FROM Products\n",
    "WHERE NOT vend_id='DLL01'\n",
    "ORDER BY prod_name;\n",
    "```\n",
    "\n",
    "- MariaDB中的NOT：MariaDB支持使用NOT否定IN、BETWEEN和EXISTS子句。大多数DBMS允许使用NOT否定任何条件。"
   ]
  },
  {
   "cell_type": "code",
   "execution_count": null,
   "metadata": {},
   "outputs": [],
   "source": []
  }
 ],
 "metadata": {
  "kernelspec": {
   "display_name": "Python 3",
   "language": "python",
   "name": "python3"
  },
  "language_info": {
   "codemirror_mode": {
    "name": "ipython",
    "version": 3
   },
   "file_extension": ".py",
   "mimetype": "text/x-python",
   "name": "python",
   "nbconvert_exporter": "python",
   "pygments_lexer": "ipython3",
   "version": "3.6.5"
  }
 },
 "nbformat": 4,
 "nbformat_minor": 2
}
