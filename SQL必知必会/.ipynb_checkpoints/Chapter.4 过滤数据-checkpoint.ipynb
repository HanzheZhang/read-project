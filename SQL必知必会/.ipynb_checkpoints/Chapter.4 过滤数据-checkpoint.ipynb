{
 "cells": [
  {
   "cell_type": "markdown",
   "metadata": {},
   "source": [
    "# 4.1 使用WHERE子句\n",
    "数据库表一般包含大量的数据，很少需要检索表中的所有行。通常只会根据特定操作或报告的需求提取表数据的子集。只检索所需数据需要指定**搜索条件(search criteria)** ，搜索条件也称为**过滤条件(filter condition)** 。在SELECT语句中，数据根据WHERE子句中指定的搜索条件进行过滤。\n",
    "\n",
    "- 数据也可以在应用层过滤。为此，SQL的SELECT语句为客户端应用检索出超出实际需求的数据，然后客户端代码对返回数据进行循环，提取出需要的行。\n",
    "- where的位置：在同时使用ORDER BY 和WHERE 子句时，应该让ORDER BY位于WHERE之后，否则将会产生错误。"
   ]
  },
  {
   "cell_type": "markdown",
   "metadata": {},
   "source": [
    "# 4.2 WHERE子句操作符\n",
    "where操作符|说明\n",
    "-----------|----\n",
    "=|等于\n",
    "< >|不等于\n",
    "!=|不等于\n",
    "<|小于\n",
    "<=|小于等于\n",
    "!|不小于\n",
    ">|大于\n",
    ">=|大于等于\n",
    "!>|不大于\n",
    "BETWEEN|在指定的两个值之间\n",
    "IS NULL|为NULL值\n",
    "\n",
    "- 操作符兼容：并非所有DBMS都支持这些操作符。\n",
    "\n",
    "## 4.2.1 检查单个值\n",
    "\n",
    "```sql\n",
    "- 列出所有价格小于10美元的产品\n",
    "SELECT prod_name, prod_price\n",
    "FROM Products\n",
    "WHERE prod_price < 10;\n",
    "```\n",
    "\n",
    "## 4.2.2 不匹配检查\n",
    "\n",
    "```sql\n",
    "-列出所有不是供应商DLL01制造的产品\n",
    "SELECT vend_id, prod_name\n",
    "FROM Products\n",
    "WHERE vend_id <> 'DLL01';\n",
    "```\n",
    "- 何时使用引号：单引号用来限定字符串。如果将值与字符串类型的列进行比较，就需要限定引号。用来与数据列进行比较的值不用引号。\n",
    "- !=和<>通常可以互换：但是，并非所有DBMS都支持这两种不等于操作符。\n",
    "\n",
    "## 4.2.3 范围值检查\n",
    "要检查某个范围的值，可以使用BETWEEN操作符。其语法与其他WHERE子句的操作符稍有不同，因为它需要两个值，即范围的开始值和结束值。\n",
    "```sql\n",
    "- 检索价格在5美元和10美元之间的所有产品\n",
    "SELECT prod_name, prod_price\n",
    "FROM Products\n",
    "WHERE prod_price BETWEEN 5 AND 10;\n",
    "```\n",
    "在使用BETWEEN时，必须指定两个值——所需范围的低端值和高端值。这两个值必须用AND关键字分隔。BETWEEN匹配范围中所有的值，包括指定的开始值和结束值。\n",
    "\n",
    "## 4.2.4 空值检查\n",
    "在创建表时，表设计人员可以指定其中的列能否不包含值。在一个列不包含值时，称其包含空值NULL\n",
    "\n",
    "- NULL 空值(no value)，它与字段包含0，空字符串或仅仅包含空格不同。\n",
    "\n",
    "确定值是否为NULL，不能简单地检查是否= NULL。SELECT语句有一个特殊的WHERE子句。可用来检查具有NULL值的列。这个WHERE子句就是IS NULL子句。\n",
    "```sql\n",
    "SELECT prod_name\n",
    "FROM Products\n",
    "WHERE prod_price IS NULL;\n",
    "```\n",
    "\n",
    "- 各DBMS特有的操作符：许多DBMS扩展了标准的操作符集，提供了更高级的过滤选择。\n",
    "- NULL和非匹配：通过过滤选择不包含定制的所有行时，你可能希望返回含NULL值的行。\n",
    "\n",
    "过滤数据时，一定要验证被过滤列中含NULL的行确实出现在返回的数据中。"
   ]
  },
  {
   "cell_type": "code",
   "execution_count": null,
   "metadata": {},
   "outputs": [],
   "source": []
  }
 ],
 "metadata": {
  "kernelspec": {
   "display_name": "Python 3",
   "language": "python",
   "name": "python3"
  },
  "language_info": {
   "codemirror_mode": {
    "name": "ipython",
    "version": 3
   },
   "file_extension": ".py",
   "mimetype": "text/x-python",
   "name": "python",
   "nbconvert_exporter": "python",
   "pygments_lexer": "ipython3",
   "version": "3.6.5"
  }
 },
 "nbformat": 4,
 "nbformat_minor": 2
}
