{
 "cells": [
  {
   "cell_type": "markdown",
   "metadata": {},
   "source": [
    "# 2.1 SELECT语句\n",
    "    关键字(keyword)：作为SQL组成部分的保留字。关键字不能用作表或列的名字。"
   ]
  },
  {
   "cell_type": "markdown",
   "metadata": {},
   "source": [
    "# 2.2 检索单个列\n",
    "如上的一条简单SELELCT语句将返回表中的所有行。数据没有过滤，也灭有排序。\n",
    "\n",
    "提示：\n",
    "- 多条SQL语句必须以分号(;)分隔。多数DBMS不需要在单条SQL语句后加分号，但也有DBMS可能必须在单条SQL语句后加上分号。当然，如果愿意可以总是加上分号。事实上，即使不一定需要，加上分号也肯定没有坏处。\n",
    "- SQL语句不区分大小写，因此SELECT与select是相同的。同样，写成Select也没有关系。许多SQL开发人员喜欢对SQL关键字使用大写，而对列名和表名使用小写，这样做使代码更易于阅读和调试。\n",
    "- 使用空格：在处理SQL语句时，其中所有的空格都被忽略。"
   ]
  },
  {
   "cell_type": "markdown",
   "metadata": {},
   "source": [
    "# 2.3 检索多个列\n",
    "要想从一个表中检索多个列，仍然使用的SELECT语句。唯一的不同是必须在SELECT关键字后给出多个列名，列名之间必须以逗号分隔。\n",
    "\n",
    "提示：\n",
    "- 当心逗号：在选择多个列时，一定要在列名之间加上逗号，但最后一个列名后不加。如果在最后一个列名后加上了逗号，将出现错误。\n",
    "- SQL语句一般返回原始的、无格式的数据。数据的格式化是表示问题，而不是检索问题。因此，表示(如把上面的价格值显示为正确的十进制数值货币金额)一般在显示该数据的应用程序中规定。通常很少直接使用实际检索的数据(没有应用程序提供格式)"
   ]
  },
  {
   "cell_type": "markdown",
   "metadata": {},
   "source": [
    "# 2.4 检索所有列\n",
    "除了指定所需的列外，SELECT语句还可以检索所有的列而不必逐个列出它们。在实际列名的位置使用星号(*)通配符可以做到这点。这样返回列的顺序一般是列在表定义中出现的物理顺序，但并不总是如此。\n",
    "\n",
    "提示：\n",
    "- 一般而言，除非你确定需要表中的每一列，否则最好别使用*通配符。\n",
    "- 检索未知列：使用通配符的一个大优点。"
   ]
  },
  {
   "cell_type": "markdown",
   "metadata": {},
   "source": [
    "# 2.5 检索不同的值\n",
    "SELECT语句返回所有匹配的行。但是，如果想要检索出不同的值，办法就是使用DISTNICT关键字，顾名思义，他指示数据库中返回不同的值。\n",
    "\n",
    "警告：\n",
    "- 不能部分使用DISTINCT：DISTINCT关键字作用于所有的列，不仅仅是跟在其后的那一列。除非指定的两列完全相同，否则所有的行都会被检索出来。"
   ]
  },
  {
   "cell_type": "markdown",
   "metadata": {},
   "source": [
    "# 2.6 限制结果\n",
    "SELECT语句返回指定表中所有匹配的行，很可能是每一行。如果只想返回第一行或者一定数量的行，是可行的，各种数据库中的这一SQL实现并不相同。\n",
    "\n",
    "- 在SQL Server和Access中使用SELECT时，可以使用TOP关键字来限制最多返回多少行。\n",
    "- 使用DB2，很可能习惯使用下面这一DBMS特定的SQL语句\n",
    "    ```sql\n",
    "    SELECT prod_name\n",
    "    FROM Products\n",
    "    FETCH FIRST 5 ROWS ONLY;\n",
    "    ```\n",
    "- 使用Oracle，需要基于ROWNUM(行计数器)来计算行\n",
    "    ```sql\n",
    "    SELECT prod_name\n",
    "    FORM Products\n",
    "    WHERE ROWNUM <= 5;\n",
    "    ```\n",
    "- 使用MySQL、MariaDB、PostgreSQL或者SQLite，需要使用LIMIT子句\n",
    "    ```sql\n",
    "    SELECT prod_name\n",
    "    FORM Products\n",
    "    LIMIT 5;\n",
    "    ```\n",
    "- 为了得到后面的5行数据，需要指定从哪开始以及检索的行数：\n",
    "    ```sql\n",
    "    SELECT prod_name\n",
    "    FORM Products\n",
    "    LIMIT 5 OFFSET 5;\n",
    "    ```\n",
    "    \n",
    "警告：\n",
    "- 第0行：第一个检索的行是第0行，而不是第1行。因此，LIMIT 1 OFFSET 1会检索第2行，而不是第1行。\n",
    "- MySQL和MariaDB支持简化版LIMIT 4 OFFSET 3语句，即LIMIT 3,4。\n",
    "- 并非所有的SQL实现都一样"
   ]
  },
  {
   "cell_type": "markdown",
   "metadata": {},
   "source": [
    "# 2.7 使用注释\n",
    "\n",
    "- 使用--嵌在行内。\n",
    "- 在一行的开始处使用#，这一整行将作为注释。\n",
    "- 注释从/*开始，到*/结束，/*和*/之间的任何内容都是注释。这种方式常用于给代码加注释。"
   ]
  },
  {
   "cell_type": "markdown",
   "metadata": {},
   "source": []
  }
 ],
 "metadata": {
  "kernelspec": {
   "display_name": "Python 3",
   "language": "python",
   "name": "python3"
  },
  "language_info": {
   "codemirror_mode": {
    "name": "ipython",
    "version": 3
   },
   "file_extension": ".py",
   "mimetype": "text/x-python",
   "name": "python",
   "nbconvert_exporter": "python",
   "pygments_lexer": "ipython3",
   "version": "3.6.5"
  }
 },
 "nbformat": 4,
 "nbformat_minor": 2
}
