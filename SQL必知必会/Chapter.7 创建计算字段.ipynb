{
 "cells": [
  {
   "cell_type": "markdown",
   "metadata": {},
   "source": [
    "# 7.1 计算字段\n",
    " **字段（field）**：基本上与**列（column）**的意思相同，经常互换使用，不过数据库列一般称为列，而术语字段通常与计算字段一起使用。"
   ]
  },
  {
   "cell_type": "markdown",
   "metadata": {},
   "source": [
    "# 7.2 拼接字段\n",
    "拼接（concatenate）：将值联结到一起（将一个值附加到另一个值）构成单个值。\n",
    "\n",
    "在SQL中的SELECT语句中，可使用一个特殊的操作符来拼接连两个列。根据你所用的DBMS，此操作符可用加号（+）或两个竖杠（||）表示。在MySQL和MariaDB中，必须使用特殊的函数。\n",
    "\n",
    "- Access和SQL Server使用+号\n",
    "- DB2、Oracle、PostgreSQL、SQLite和Open Office Base使用||\n",
    "\n",
    "```sql\n",
    "SELECT vend_name+'('+vend_country+')'\n",
    "FROM vendors\n",
    "ORDER BY vend_name;\n",
    "```\n",
    "```sql\n",
    "SELECT vend_name||'('||vend_country||')'\n",
    "FROM Vendors\n",
    "ORDER BY vend_name;\n",
    "```\n",
    "\n",
    "- 许多数据库（不是所有）保存填充为列宽的文本值，而实际上你要的结果不需要这些空格。为正确返回格式化的数据，必须去掉这些空格。这可以使用SQL的RERIM()函数来完成。\n",
    "\n",
    "```SQL\n",
    "SELECT TRIM(vend_name)+'('+TRIM(vend_country)+')'\n",
    "FROM Vendors\n",
    "ORDER BY vend_name;\n",
    "```\n",
    "```sql\n",
    "SELECT vend_name||'('||TRIM(vend_country)||')'\n",
    "FROM Vendors\n",
    "ORDER BY vend_name;\n",
    "```\n",
    "\n",
    "- TRTIM函数：大多数DBMS都支持RTRIMS()（正如刚才所见，它去掉字符串右边的空格）、LTRIM()（去掉字符串左边的空格）以及TRTIM()（去掉字符转左右两边的空格）\n",
    "- 使用别名：SQL支持列别名。别名（alias）是一个字段或值的替换名。别名用AS关键字赋予。\n",
    "```SQL\n",
    "SELECT RTRIM(vend_name)+'('+RTRIM(vend_country)+')'\n",
    "    AS vend_title\n",
    "FROM Vendors\n",
    "ORDER BY vend_name;\n",
    "```\n"
   ]
  },
  {
   "cell_type": "code",
   "execution_count": null,
   "metadata": {},
   "outputs": [],
   "source": []
  }
 ],
 "metadata": {
  "kernelspec": {
   "display_name": "Python 3",
   "language": "python",
   "name": "python3"
  },
  "language_info": {
   "codemirror_mode": {
    "name": "ipython",
    "version": 3
   },
   "file_extension": ".py",
   "mimetype": "text/x-python",
   "name": "python",
   "nbconvert_exporter": "python",
   "pygments_lexer": "ipython3",
   "version": "3.6.5"
  }
 },
 "nbformat": 4,
 "nbformat_minor": 2
}
