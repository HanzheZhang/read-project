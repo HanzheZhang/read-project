{
 "cells": [
  {
   "cell_type": "markdown",
   "metadata": {},
   "source": [
    "# 4.1 Vim文本编辑器\n",
    ">命令模式：控制光标移动，可对文本进行复制、粘贴、删除和查找等工作。\n",
    ">输入模式：正常的文本录入。\n",
    ">末行模式：保存或退出文档，以及设置编辑环境。\n",
    "![](https://www.linuxprobe.com/wp-content/uploads/2015/03/vim%E4%B8%8D%E5%90%8C%E6%A8%A1%E5%BC%8F%E9%97%B4%E7%9A%84%E5%88%87%E6%8D%A2.png)\n",
    "\n",
    "Vim中常用的命令\n",
    "\n",
    "命令|作用\n",
    "----|----\n",
    "dd|删除（剪切）光标所在整行\n",
    "5dd|删除（剪切）从光标处开始的5行\n",
    "yy|复制光标所在整行\n",
    "5yy|复制从光标处开始的5行\n",
    "n|显示搜索命令定位到的下一个字符串\n",
    "N|显示搜索命令定位到的上一个字符串\n",
    "u|撤销上一步的操作\n",
    "p|将之前删除（dd）或复制（yy）过的数据粘贴到光标后面\n",
    "\n",
    "末行模式中可用的命令\n",
    "\n",
    "命令|作用\n",
    "----|----\n",
    ":w|保存\n",
    ":q|退出\n",
    ":q!|强制退出（放弃对文档的修改内容）\n",
    ":wq!|强制保存退出\n",
    ":set nu|显示行号\n",
    ":set nonu|不显示行号\n",
    ":命令|执行该命令\n",
    ":整数|跳转到该行\n",
    ":s/one/two|将当前光标所在行的第一个one替换成two\n",
    ":s/one/two/g|将当前光标所在行的所有one替换成two\n",
    ":%s/one/two/g|将全文中的所有one替换成two\n",
    "?字符串|在文本中从下至上搜索该字符串\n",
    "/字符串|在文本中从上至下搜索该字符串"
   ]
  },
  {
   "cell_type": "markdown",
   "metadata": {},
   "source": [
    "## 4.1.1 编写简单文档\n",
    "## 4.1.2 配置主机名称\n",
    "为了便于在局域网中查找某台特定的主机，或者对主机进行区分，除了要有IP地址外，还要为主机配置一个主机名，主机之间可以通过这个类似于域名的名称来相互访问。在Linux系统中，主机名大多保存在/etc/hostname文件中，接下来将/etc/hostname文件的内容修改为“linuxprobe.com”，步骤如下。\n",
    "- 第1步：使用Vim编辑器修改“/etc/hostname”主机名称文件。\n",
    "- 第2步：把原始主机名称删除后追加“linuxprobe.com”。注意，使用Vim编辑器修改主机名称文件后，要在末行模式下执行:wq!命令才能保存并退出文档。\n",
    "- 第3步：保存并退出文档，然后使用hostname命令检查是否修改成功。"
   ]
  },
  {
   "cell_type": "markdown",
   "metadata": {},
   "source": [
    "## 4.1.3 配置网卡信息\n",
    "网卡IP地址配置的是否正确是两台服务器是否可以相互通信的前提。在Linux系统中，一切都是文件，因此配置网络服务的工作其实就是在编辑网卡配置文件\n",
    "\n",
    "现在有一个名称为ifcfg-eno16777736的网卡设备，我们将其配置为开机自启动，并且IP地址、子网、网关等信息由人工指定，其步骤应该如下所示。\n",
    "- 第1步：首先切换到/etc/sysconfig/network-scripts目录中（存放着网卡的配置文件）。\n",
    "- 第2步：使用Vim编辑器修改网卡文件ifcfg-eno16777736，逐项写入下面的配置参数并保存退出。由于每台设备的硬件及架构是不一样的，因此请读者使用ifconfig命令自行确认各自网卡的默认名称。\n",
    "    - 设备类型：TYPE=Ethernet\n",
    "    - 地址分配模式：BOOTPROTO=static\n",
    "    - 网卡名称：NAME=eno16777736\n",
    "    - 是否启动：ONBOOT=yes\n",
    "    - IP地址：IPADDR=192.168.10.10\n",
    "    - 子网掩码：NETMASK=255.255.255.0\n",
    "    - 网关地址：GATEWAY=192.168.10.1\n",
    "    - DNS地址：DNS1=192.168.10.1\n",
    "- 第3步：重启网络服务并测试网络是否联通。\n",
    "进入到网卡配置文件所在的目录，然后编辑网卡配置文件，在其中填入下面的信息：\n",
    "```bash\n",
    "[root@linuxprobe ~]# cd /etc/sysconfig/network-scripts/\n",
    "[root@linuxprobe network-scripts]# vim ifcfg-eno16777736\n",
    "TYPE=Ethernet\n",
    "BOOTPROTO=static\n",
    "NAME=eno16777736\n",
    "ONBOOT=yes\n",
    "IPADDR=192.168.10.10\n",
    "NETMASK=255.255.255.0\n",
    "GATEWAY=192.168.10.1\n",
    "DNS1=192.168.10.1\n",
    "```\n",
    "执行重启网卡设备的命令（在正常情况下不会有提示信息），然后通过ping命令测试网络能否联通。由于在Linux系统中ping命令不会自动终止，因此需要手动按下Ctrl-c键来强行结束进程。\n",
    "```bash\n",
    "[root@linuxprobe network-scripts]# systemctl restart network\n",
    "[root@linuxprobe network-scripts]# ping 192.168.10.10\n",
    "PING 192.168.10.10 (192.168.10.10) 56(84) bytes of data.\n",
    "64 bytes from 192.168.10.10: icmp_seq=1 ttl=64 time=0.081 ms\n",
    "64 bytes from 192.168.10.10: icmp_seq=2 ttl=64 time=0.083 ms\n",
    "64 bytes from 192.168.10.10: icmp_seq=3 ttl=64 time=0.059 ms\n",
    "64 bytes from 192.168.10.10: icmp_seq=4 ttl=64 time=0.097 ms\n",
    "^C\n",
    "--- 192.168.10.10 ping statistics ---\n",
    "4 packets transmitted, 4 received, 0% packet loss, time 2999ms\n",
    "rtt min/avg/max/mdev = 0.059/0.080/0.097/0.013 ms\n",
    "```"
   ]
  },
  {
   "cell_type": "markdown",
   "metadata": {},
   "source": [
    "## 4.1.4 配置Yum仓库\n",
    "搭建并配置Yum软件仓库的大致步骤如下所示。\n",
    "- 第1步：进入到/etc/yum.repos.d/目录中（因为该目录存放着Yum软件仓库的配置文件）。\n",
    "- 第2步：使用Vim编辑器创建一个名为rhel7.repo的新配置文件（文件名称可随意，但后缀必须为.repo），逐项写入下面加粗的配置参数并保存退出（不要写后面的中文注释）。\n",
    "    - [rhel-media] ：Yum软件仓库唯一标识符，避免与其他仓库冲突。\n",
    "    - name=linuxprobe：Yum软件仓库的名称描述，易于识别仓库用处。\n",
    "    - baseurl=file:///media/cdrom： 提供的方式包括FTP（ftp://..）、HTTP（http://..）、本地（file:///..）。\n",
    "    - enabled=1：设置此源是否可用；1为可用，0为禁用。\n",
    "    - gpgcheck=1：设置此源是否校验文件；1为校验，0为不校验。\n",
    "    - gpgkey=file:///media/cdrom/RPM-GPG-KEY-redhat-release： 若上面参数开启校验，那么请指定公钥文件地址。\n",
    "- 第3步：按配置参数的路径挂载光盘，并把光盘挂载信息写入到/etc/fstab文件中。\n",
    "- 第4步：使用“yum install httpd -y”命令检查Yum软件仓库是否已经可用。\n",
    "进入/etc/yum.repos.d目录中后创建Yum配置文件：\n",
    "```bash\n",
    "[root@linuxprobe ~]# cd /etc/yum.repos.d/\n",
    "[root@linuxprobe yum.repos.d]# vim rhel7.repo\n",
    "[rhel7]\n",
    "name=rhel7\n",
    "baseurl=file:///media/cdrom\n",
    "enabled=1\n",
    "gpgcheck=0\n",
    "```"
   ]
  },
  {
   "cell_type": "markdown",
   "metadata": {},
   "source": [
    "# 4.2 编写Shell脚本\n",
    "Shell脚本命令的工作方式有两种：交互式和批处理。\n",
    "- 交互式（Interactive）：用户每输入一条命令就立即执行。\n",
    "- 批处理（Batch）：由用户事先编写好一个完整的Shell脚本，Shell会一次性执行脚本中诸多的命令。"
   ]
  },
  {
   "cell_type": "markdown",
   "metadata": {},
   "source": [
    "## 4.2.1 编写简单的脚本\n",
    "使用Vim编辑器把Linux命令按照顺序依次写入到一个文件中，这就是一个简单的脚本了。\n",
    "\n",
    "例如，如果想查看当前所在工作路径并列出当前目录下所有的文件及属性信息，实现这个功能的脚本应该类似于下面这样：\n",
    "```bash\n",
    "[root@linuxprobe ~]# vim example.sh\n",
    "#!/bin/bash \n",
    "#For Example BY linuxprobe.com \n",
    "pwd \n",
    "ls -al\n",
    "```\n",
    "Shell脚本文件的名称可以任意，但为了避免被误以为是普通文件，建议**将.sh后缀加上，以表示是一个脚本文件。在上面的这个example.sh脚本中实际上出现了三种不同的元素：第一行的脚本声明（#!）用来告诉系统使用哪种Shell解释器来执行该脚本；第二行的注释信息（#）是对脚本功能和某些命令的介绍信息，使得自己或他人在日后看到这个脚本内容时，可以快速知道该脚本的作用或一些警告信息；第三、四行的可执行语句也就是我们平时执行的Linux命令了。**\n",
    "\n",
    "\n",
    "\n"
   ]
  },
  {
   "cell_type": "markdown",
   "metadata": {},
   "source": [
    "## 4.2.2 接收用户的参数\n",
    "**\\$0对应的是当前Shell脚本程序的名称，$#对应的是总共有几个参数，$*对应的是所有位置的参数值，\\$?对应的是显示上一次命令的执行返回值，而\\$1、\\$2、\\$3……则分别对应着第N个位置的参数值**\n",
    "![](https://www.linuxprobe.com/wp-content/uploads/2015/07/Shell%E8%84%9A%E6%9C%AC%E7%A8%8B%E5%BA%8F%E4%B8%AD%E7%9A%84%E5%8F%82%E6%95%B0%E4%BD%8D%E7%BD%AE%E5%8F%98%E9%87%8F-768x140.png)\n",
    "理论过后我们来练习一下。尝试编写一个脚本程序示例，通过引用上面的变量参数来看下真实效果：\n",
    "```bash\n",
    "[root@linuxprobe ~]# vim example.sh\n",
    "#!/bin/bash\n",
    "echo \"当前脚本名称为$0\"\n",
    "echo \"总共有$#个参数，分别是$*。\"\n",
    "echo \"第1个参数为$1，第5个为$5。\"\n",
    "[root@linuxprobe ~]# sh example.sh one two three four five six\n",
    "当前脚本名称为example.sh\n",
    "总共有6个参数，分别是one two three four five six。\n",
    "第1个参数为one，第5个为five。\n",
    "```"
   ]
  },
  {
   "cell_type": "markdown",
   "metadata": {},
   "source": [
    "## 4.2.3 判断用户的参数\n"
   ]
  }
 ],
 "metadata": {
  "kernelspec": {
   "display_name": "Python 3",
   "language": "python",
   "name": "python3"
  },
  "language_info": {
   "codemirror_mode": {
    "name": "ipython",
    "version": 3
   },
   "file_extension": ".py",
   "mimetype": "text/x-python",
   "name": "python",
   "nbconvert_exporter": "python",
   "pygments_lexer": "ipython3",
   "version": "3.7.0"
  }
 },
 "nbformat": 4,
 "nbformat_minor": 2
}
