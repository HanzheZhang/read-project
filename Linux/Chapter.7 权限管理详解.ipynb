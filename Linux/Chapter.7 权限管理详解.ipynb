{
 "cells": [
  {
   "cell_type": "markdown",
   "metadata": {},
   "source": [
    "# ACL访问控制权限"
   ]
  },
  {
   "cell_type": "markdown",
   "metadata": {},
   "source": [
    "在普通权限中，用户对文件只有三种身份，就是属主、属组和其他人；每种用户身份拥有读（read）、写（write）和执行（execute）三种权限。\n",
    "![](http://c.biancheng.net/uploads/allimg/181011/2-1Q011153333H0.jpg)\n",
    "根目录中有一个 /project 目录，这是班级的项目目录。班级中的每个学员都可以访问和修改这个目录，老师也需要对这个目录拥有访问和修改权限，其他班级的学员当然不能访问这个目录。需要怎么规划这个目录的权限呢？应该这样：老师使用 root 用户，作为这个目录的属主，权限为 rwx；班级所有的学员都加入 tgroup 组，使 tgroup 组作为 /project 目录的属组，权限是 rwx；其他人的权限设定为 0。这样这个目录的权限就可以符合我们的项目开发要求了。\n",
    "\n",
    "有一天，班里来了一位试听的学员 st，她必须能够访问 /project 目录，所以必须对这个目录拥有 r 和 x 权限；但是她又没有学习过以前的课程，所以不能赋予她 w 权限，怕她改错了目录中的内容，所以学员 st 的权限就是 r-x。可是如何分配她的身份呢？变为属主？当然不行，要不 root 该放哪里？加入 tgroup 组？也不行，因为 tgroup 组的权限是 rwx，而我们要求学员 st 的权限是 r-x。如果把其他人的权限改为 r-x 呢？这样一来，其他班级的所有学员都可以访问 /project 目录了。\n",
    "\n",
    "当出现这种情况时，普通权限中的三种身份就不够用了。"
   ]
  },
  {
   "cell_type": "markdown",
   "metadata": {},
   "source": [
    "ACL 权限就是为了解决这个问题的。在使用 ACL 权限给用户 st 陚予权限时，st 既不是 /project 目录的属主，也不是属组，仅仅赋予用户 st 针对此目录的 r-x 权限。这有些类似于 Windows 系统中分配权限的方式，单独指定用户并单独分配权限，这样就解决了用户身份不足的问题。"
   ]
  },
  {
   "cell_type": "markdown",
   "metadata": {},
   "source": [
    "**ACL是Access Control List（访问控制列表）的缩写，不过在Linux系统中，ACL用于设定用户针对文件的权限，而不是在交换路由器中用来控制数据访问的功能（类似于防火墙）。**"
   ]
  },
  {
   "cell_type": "markdown",
   "metadata": {},
   "source": [
    "## 开启ACL权限\n",
    "查看ACL权限：\n",
    "```bash\n",
    "[root@localhost ~]# mount\n",
    "/dev/sda1 on /boot type ext4 (rw)\n",
    "/dev/sda3 on I type ext4 (rw)\n",
    "…省略部分输出…\n",
    "#使用mount命令可以看到系统中已经挂载的分区，但是并没有看到ACL权限的设置\n",
    "[root@localhost ~]# dumpe2fs -h /dev/sda3\n",
    "#dumpe2fs是查询指定分区文件系统详细信息的命令\n",
    "…省略部分输出…\n",
    "Default mount options: user_xattr acl\n",
    "…省略部分输出…\n",
    "\n",
    "[root@localhost ~]# mount -o remount, acl /\n",
    "#手动添加ACL，重新挂载根分区，并加入ACL权限\n",
    "\n",
    "[root@localhost ~]#vi /etc/fstab\n",
    "UUID=c2ca6f57-b15c-43ea-bca0-f239083d8bd2 /ext4 defaults, acl 1 1\n",
    "#加入ACL权限\n",
    "[root@localhost ~]# mount -o remount /\n",
    "#重新挂载文件系统或重启系统，使修改生效\n",
    "```\n",
    "其中，dumpe2fs 命令可选的选项及其含义如下：\n",
    "- -h：仅显示超级块中的信息，而不显示磁盘块组的详细信息；"
   ]
  },
  {
   "cell_type": "markdown",
   "metadata": {},
   "source": [
    "## ACL权限设置\n",
    "### ACL权限管理命令\n",
    "命令格式：\n",
    "```bash\n",
    "[root@localhost ~]# getfacle 文件名\n",
    "#查看ACL权限\n",
    "[root@localhost ~]# setfacl 选项 文件名\n",
    "#设定ACL权限\n",
    "```\n",
    "选项：\n",
    "- -m：设定 ACL 权限。如果是给予用户 ACL 权限，则使用\"u:用户名：权限\"格式赋予；如果是给予组 ACL 权限，则使用\"g:组名：权限\" 格式赋予；\n",
    "- -x：删除指定的 ACL 权限；\n",
    "- -b：删除所有的 ACL 权限；\n",
    "- -d：设定默认 ACL 权限。只对目录生效，指目录中新建立的文件拥有此默认权限；\n",
    "- -k：删除默认 ACL 权限；\n",
    "- -R：递归设定 ACL 权限。指设定的 ACL 权限会对目录下的所有子文件生效；"
   ]
  },
  {
   "cell_type": "markdown",
   "metadata": {},
   "source": [
    "### 给用户和用户组添加ACL权限\n",
    "举个例子，就来看看上图中的权限怎么分配。我们要求 root 是 /project 目录的属主，权限是 rwx；tgroup 是此目录的属组，tgroup 组中拥有班级学员 zhangsan 和 lisi，权限是 rwx；其他人的权限是 0。这时，试听学员 st 来了，她的权限是 r-x。我们来看具体的分配命令。\n",
    "```bash\n",
    "[root@localhost ~]# useradd zhangsan\n",
    "[root@localhost ~]# useradd lisi\n",
    "[root@localhost ~]# useradd st\n",
    "[root@localhost ~]# groupadd tgroup\n",
    "#添加需要试验的用户和用户组，省略设定密码的过程\n",
    "[root@localhost ~]# mkdir /project #建立需要分配权限的目录\n",
    "[root@localhost ~]# chown root:tgroup /project/\n",
    "#改变/project目录的属主和属组\n",
    "[root@localhost ~]# chmod 770 /project/\n",
    "#指定/project目录的权限\n",
    "[root@localhost ~]# ll -d /project/\n",
    "drwxrwx--- 2 root tgroup 4096 1月19 04:21 /project/\n",
    "#查看一下权限，已经符合要求了\n",
    "#这时st学员来试听了，如何给她分配权限\n",
    "[root@localhost ~]# setfacl -m u:st:rx /project/\n",
    "#给用户st赋予r-x权限，使用\"u:用户名：权限\" 格式\n",
    "[root@localhost /]# cd /\n",
    "[root@localhost /]# ll -d project/\n",
    "drwxrwx---+ 3 root tgroup 4096 1月19 05:20 project/\n",
    "#使用ls-l査询时会发现，在权限位后面多了一个\"+\"，表示此目录拥有ACL权限\n",
    "[root@localhost /]# getfacl project\n",
    "#查看/prpject目录的ACL权限\n",
    "#file: project <-文件名\n",
    "#owner: root <-文件的属主\n",
    "#group: tgroup <-文件的属组\n",
    "user::rwx <-用户名栏是空的，说明是属主的权限\n",
    "user:st:r-x <-用户st的权限\n",
    "group::rwx <-组名栏是空的，说明是属组的权限\n",
    "mask::rwx <-mask权限\n",
    "other::--- <-其他人的权限\n",
    "```\n",
    "st 用户既不是 /prpject 目录的属主、属组，也不是其他人，我们单独给 st 用户分配了 r-x 权限。这样分配权限太方便了，完全不用先辛苦地规划用户身份了。"
   ]
  },
  {
   "cell_type": "markdown",
   "metadata": {},
   "source": [
    "给用户赋予ACL权限：\n",
    "```bash\n",
    "[root@localhost /]# groupadd tgroup2\n",
    "#添加测试组\n",
    "[root@localhost /]# setfacl -m g:tgroup2:rwx project/\n",
    "#为组tgroup2纷配ACL权限，使用\"g:组名:权限\"格式\n",
    "[root@localhost /]# ll -d project/\n",
    "drwxrwx---+ 2 root tgroup 4096 1月19 04:21 project/\n",
    "#属组并没有更改\n",
    "[root@localhost /]# getfacl project/\n",
    "#file: project/\n",
    "#owner: root\n",
    "#group: tgroup\n",
    "user::rwx\n",
    "user:st:r-x\n",
    "group::rwx\n",
    "group:tgroup2:rwx <-用户组tgroup2拥有了rwx权限\n",
    "mask::rwx\n",
    "other::--\n",
    "```"
   ]
  },
  {
   "cell_type": "markdown",
   "metadata": {},
   "source": [
    "# SetUID文件特殊权限"
   ]
  },
  {
   "cell_type": "markdown",
   "metadata": {},
   "source": []
  }
 ],
 "metadata": {
  "kernelspec": {
   "display_name": "Python 3",
   "language": "python",
   "name": "python3"
  },
  "language_info": {
   "codemirror_mode": {
    "name": "ipython",
    "version": 3
   },
   "file_extension": ".py",
   "mimetype": "text/x-python",
   "name": "python",
   "nbconvert_exporter": "python",
   "pygments_lexer": "ipython3",
   "version": "3.7.0"
  }
 },
 "nbformat": 4,
 "nbformat_minor": 2
}
