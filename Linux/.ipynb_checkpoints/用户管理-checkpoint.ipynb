{
 "cells": [
  {
   "cell_type": "markdown",
   "metadata": {},
   "source": [
    "# 用户管理\n",
    "## 基本介绍\n",
    "1. Linux系统是一个多用户多任务的操作系统，任何一个要使用系统资源的用户，都必须先向管理员申请一个账号，然后使用这个账号登陆操作系统\n",
    "2. Linux系统的用户至少要属于一个组"
   ]
  },
  {
   "cell_type": "markdown",
   "metadata": {},
   "source": [
    "## 指令\n",
    "### user指令\n",
    "- useradd [] username：添加用户\n",
    "    - -c comment 指定一段注释性描述。\n",
    "    - -d 目录 指定用户主目录，如果此目录不存在，则同时使用-m选项，可以创建主目录。\n",
    "    - -g 用户组 指定用户所属的用户组。\n",
    "    - -G 用户组，用户组 指定用户所属的附加组。\n",
    "    - -s Shell文件 指定用户的登录Shell。\n",
    "    - -u 用户号 指定用户的用户号，如果同时有-o选项，则可以重复使用其他用户的标识号。\n",
    "    \n",
    "    举例：\n",
    "    - useradd –d /usr/sam -m sam\n",
    "    此命令创建了一个用户sam，其中-d和-m选项用来为登录名sam产生一个主目录/usr/sam（/usr为默认的用户主目录所在的父目录）。\n",
    "    - useradd -s /bin/sh -g group –G adm,root gem\n",
    "    此命令新建了一个用户gem，该用户的登录Shell是 /bin/sh，它属于group用户组，同时又属于adm和root用户组，其中group用户组是其主组。\n",
    "- passwd username：修改密码\n",
    "    - -l 锁定口令，即禁用账号。\n",
    "    - -u 口令解锁。\n",
    "    - -d 使账号无口令。\n",
    "    - -f 强迫用户下次登录时修改口令。\n",
    "- userdel [] username：删除用户\n",
    "    - -r 把用户的主目录一起删除\n",
    "- id username：查询用户信息\n",
    "- usermod [] username：修改用户\n",
    "    - 选项与useradd相同\n",
    "\n",
    "### group指令\n",
    "- groupadd [] groupname：添加组\n",
    "    - -g GID 指定新用户组的组标识号（GID）。\n",
    "    - -o 一般与-g选项同时使用，表示新用户组的GID可以与系统已有用户组的GID相同。\n",
    "    \n",
    "    举例：\n",
    "    - groupadd group1\n",
    "    此命令向系统中增加了一个新组group1，新组的组标识号是在当前已有的最大组标识号的基础上加1。\n",
    "    - groupadd -g 101 group2\n",
    "    此命令向系统中增加了一个新组group2，同时指定新组的组标识号是101。\n",
    "- groupdel groupname：删除用户组\n",
    "- groupmod [] groupname：修改用户组\n",
    "    - -g GID 为用户组指定新的组标识号。\n",
    "    - -o 与-g选项同时使用，用户组的新GID可以与系统已有用户组的GID相同。\n",
    "    - -n 新用户组 将用户组的名字改为新名字\n",
    "- newgrp root:如果一个用户同时属于多个用户组，那么用户可以在用户组之间切换，以便具有其他用户组的权限。用户可以在登录后，使用命令newgrp切换到其他用户组，这个命令的参数就是目的用户组。"
   ]
  },
  {
   "cell_type": "markdown",
   "metadata": {},
   "source": [
    "## 与用户有关的系统文件\n",
    "    完成用户管理的工作有许多种方法，但是每一种方法实际上都是对有关的系统文件进行修改。\n",
    "### /etc/passwd文件是用户管理工作涉及的最重要的一个文件\n",
    "    Linux系统中的每个用户都在/etc/passwd文件中有一个对应的记录行，它记录了这个用户的一些基本属性。\n",
    "    \n",
    "    举例：\n",
    "    ```shell\n",
    "    cat /etc/passwd\n",
    "    ```\n",
    "    root:x:0:0:Superuser:/:\n",
    "    daemon:x:1:1:System daemons:/etc:\n",
    "    bin:x:2:2:Owner of system commands:/bin:\n",
    "    sys:x:3:3:Owner of system files:/usr/sys:\n",
    "    adm:x:4:4:System accounting:/usr/adm:\n",
    "    uucp:x:5:5:UUCP administrator:/usr/lib/uucp:\n",
    "    auth:x:7:21:Authentication administrator:/tcb/files/auth:\n",
    "    cron:x:9:16:Cron daemon:/usr/spool/cron:\n",
    "    listen:x:37:4:Network daemon:/usr/net/nls:\n",
    "    lp:x:71:18:Printer administrator:/usr/spool/lp:\n",
    "    sam:x:200:50:Sam san:/usr/sam:/bin/sh\n",
    "    \n",
    "    1. \"用户名\"是代表用户账号的字符串。\n",
    "        - 通常长度不超过8个字符，并且由大小写字母和/或数字组成。登录名中不能有冒号(:)，因为冒号在这里是分隔符。为了兼容起见，登录名中最好不要包含点字符(.)，并且不使用连字符(-)和加号(+)打头。\n",
    "    2. “口令”一些系统中，存放着加密后的用户口令字。\n",
    "        - 虽然这个字段存放的只是用户口令的加密串，不是明文，但是由于/etc/passwd文件对所有用户都可读，所以这仍是一个安全隐患。因此，现在许多Linux 系统（如SVR4）都使用了shadow技术，把真正的加密后的用户口令字存放到/etc/shadow文件中，而在/etc/passwd文件的口令字段中只存放一个特殊的字符，例如“x”或者“*”。\n",
    "    3. “用户标识号”是一个整数，系统内部用它来标识用户。\n",
    "        - 一般情况下它与用户名是一一对应的。如果几个用户名对应的用户标识号是一样的，系统内部将把它们视为同一个用户，但是它们可以有不同的口令、不同的主目录以及不同的登录Shell等。\n",
    "        - 通常用户标识号的取值范围是0～65 535。0是超级用户root的标识号，1～99由系统保留，作为管理账号，普通用户的标识号从100开始。在Linux系统中，这个界限是500。\n",
    "    4. “组标识号”字段记录的是用户所属的用户组。\n",
    "        - 它对应着/etc/group文件中的一条记录。\n",
    "    5. “注释性描述”字段记录着用户的一些个人情况。\n",
    "        - 例如用户的真实姓名、电话、地址等，这个字段并没有什么实际的用途。在不同的Linux 系统中，这个字段的格式并没有统一。在许多Linux系统中，这个字段存放的是一段任意的注释性描述文字，用做finger命令的输出。\n",
    "    6. “主目录”，也就是用户的起始工作目录。\n",
    "        - 它是用户在登录到系统之后所处的目录。在大多数系统中，各用户的主目录都被组织在同一个特定的目录下，而用户主目录的名称就是该用户的登录名。各用户对自己的主目录有读、写、执行（搜索）权限，其他用户对此目录的访问权限则根据具体情况设置。\n",
    "    7. 用户登录后，要启动一个进程，负责将用户的操作传给内核，这个进程是用户登录到系统后运行的命令解释器或某个特定的程序，即Shell。\n",
    "        - Shell是用户与Linux系统之间的接口。Linux的Shell有许多种，每种都有不同的特点。常用的有sh(Bourne Shell), csh(C Shell), ksh(Korn Shell), tcsh(TENEX/TOPS-20 type C Shell), bash(Bourne Again Shell)等。\n",
    "        - 系统管理员可以根据系统情况和用户习惯为用户指定某个Shell。如果不指定Shell，那么系统使用sh为默认的登录Shell，即这个字段的值为/bin/sh。\n",
    "        - 用户的登录Shell也可以指定为某个特定的程序（此程序不是一个命令解释器）。\n",
    "        - 利用这一特点，我们可以限制用户只能运行指定的应用程序，在该应用程序运行结束后，用户就自动退出了系统。有些Linux 系统要求只有那些在系统中登记了的程序才能出现在这个字段中。\n",
    "    8. 系统中有一类用户称为伪用户（psuedo users）。\n",
    "        - 这些用户在/etc/passwd文件中也占有一条记录，但是不能登录，因为它们的登录Shell为空。它们的存在主要是方便系统管理，满足相应的系统进程对文件属主的要求。\n",
    "        - 常见的伪用户如下所示： \n",
    "            - bin 拥有可执行的用户命令文件 \n",
    "            - sys 拥有系统文件 \n",
    "            - adm 拥有帐户文件 \n",
    "            - uucp UUCP使用 \n",
    "            - lp lp或lpd子系统使用 \n",
    "            - nobody NFS使用"
   ]
  },
  {
   "cell_type": "markdown",
   "metadata": {},
   "source": [
    "### 除了上面列出的伪用户外，还有许多标准的伪用户，例如：audit, cron, mail, usenet等，它们也都各自为相关的进程和文件所需要。\n",
    "    由于/etc/passwd文件是所有用户都可读的，如果用户的密码太简单或规律比较明显的话，一台普通的计算机就能够很容易地将它破解，因此对安全性要求较高的Linux系统都把加密后的口令字分离出来，单独存放在一个文件中，这个文件是/etc/shadow文件。 有超级用户才拥有该文件读权限，这就保证了用户密码的安全性。"
   ]
  },
  {
   "cell_type": "markdown",
   "metadata": {},
   "source": [
    "### /etc/shadow中的记录行与/etc/passwd中的一一对应，它由pwconv命令根据/etc/passwd中的数据自动产生\n",
    "    它的文件格式与/etc/passwd类似，由若干个字段组成，字段之间用\":\"隔开。这些字段是：\n",
    "    \n",
    "    登录名:加密口令:最后一次修改时间:最小时间间隔:最大时间间隔:警告时间:不活动时间:失效时间:标志\n",
    "        - \"登录名\"是与/etc/passwd文件中的登录名相一致的用户账号\n",
    "        - \"口令\"字段存放的是加密后的用户口令字，长度为13个字符。如果为空，则对应用户没有口令，登录时不需要口令；如果含有不属于集合 { ./0-9A-Za-z }中的字符，则对应的用户不能登录。\n",
    "        - \"最后一次修改时间\"表示的是从某个时刻起，到用户最后一次修改口令时的天数。时间起点对不同的系统可能不一样。例如在SCO Linux 中，这个时间起点是1970年1月1日。\n",
    "        - \"最小时间间隔\"指的是两次修改口令之间所需的最小天数。\n",
    "        - \"最大时间间隔\"指的是口令保持有效的最大天数。\n",
    "        - \"警告时间\"字段表示的是从系统开始警告用户到用户密码正式失效之间的天数。\n",
    "        - \"不活动时间\"表示的是用户没有登录活动但账号仍能保持有效的最大天数。\n",
    "        - \"失效时间\"字段给出的是一个绝对的天数，如果使用了这个字段，那么就给出相应账号的生存期。期满后，该账号就不再是一个合法的账号，也就不能再用来登录了。\n",
    "\n",
    "    下面是/etc/shadow的一个例子：\n",
    "        ＃ cat /etc/shadow\n",
    "\n",
    "        root:Dnakfw28zf38w:8764:0:168:7:::\n",
    "        daemon:*::0:0::::\n",
    "        bin:*::0:0::::\n",
    "        sys:*::0:0::::\n",
    "        adm:*::0:0::::\n",
    "        uucp:*::0:0::::\n",
    "        nuucp:*::0:0::::\n",
    "        auth:*::0:0::::\n",
    "        cron:*::0:0::::\n",
    "        listen:*::0:0::::\n",
    "        lp:*::0:0::::\n",
    "        sam:EkdiSECLWPdSa:9740:0:0::::"
   ]
  },
  {
   "cell_type": "markdown",
   "metadata": {},
   "source": [
    "### 用户组的所有信息都存放在/etc/group文件中。\n",
    "    将用户分组是Linux 系统中对用户进行管理及控制访问权限的一种手段。\n",
    "\n",
    "    每个用户都属于某个用户组；一个组中可以有多个用户，一个用户也可以属于不同的组。\n",
    "\n",
    "    当一个用户同时是多个组中的成员时，在/etc/passwd文件中记录的是用户所属的主组，也就是登录时所属的默认组，而其他组称为附加组。\n",
    "\n",
    "    用户要访问属于附加组的文件时，必须首先使用newgrp命令使自己成为所要访问的组中的成员。\n",
    "\n",
    "    用户组的所有信息都存放在/etc/group文件中。此文件的格式也类似于/etc/passwd文件，由冒号(:)隔开若干个字段，这些字段有：\n",
    "\n",
    "    组名:口令:组标识号:组内用户列表\n",
    "        - \"组名\"是用户组的名称，由字母或数字构成。与/etc/passwd中的登录名一样，组名不应重复。\n",
    "        - \"口令\"字段存放的是用户组加密后的口令字。一般Linux 系统的用户组都没有口令，即这个字段一般为空，或者是*。\n",
    "        - \"组标识号\"与用户标识号类似，也是一个整数，被系统内部用来标识组。\n",
    "        - \"组内用户列表\"是属于这个组的所有用户的列表/b]，不同用户之间用逗号(,)分隔。这个用户组可能是用户的主组，也可能是附加组。\n",
    "\n",
    "    /etc/group文件的一个例子如下：\n",
    "\n",
    "        root::0:root\n",
    "        bin::2:root,bin\n",
    "        sys::3:root,uucp\n",
    "        adm::4:root,adm\n",
    "        daemon::5:root,daemon\n",
    "        lp::7:root,lp\n",
    "        users::20:root,sam"
   ]
  },
  {
   "cell_type": "markdown",
   "metadata": {},
   "source": [
    "## 批量添加用户\n",
    "    添加和删除用户对每位Linux系统管理员都是轻而易举的事，比较棘手的是如果要添加几十个、上百个甚至上千个用户时，我们不太可能还使用useradd一个一个地添加，必然要找一种简便的创建大量用户的方法。Linux系统提供了创建大量用户的工具，可以让您立即创建大量用户"
   ]
  },
  {
   "cell_type": "markdown",
   "metadata": {},
   "source": [
    "### 1.先编辑一个文本用户文件。\n",
    "    每一列按照/etc/passwd密码文件的格式书写，要注意每个用户的用户名、UID、宿主目录都不可以相同，其中密码栏可以留做空白或输入x号。一个范例文件user.txt内容如下：\n",
    "\n",
    "    user001::600:100:user:/home/user001:/bin/bash\n",
    "    user002::601:100:user:/home/user002:/bin/bash\n",
    "    user003::602:100:user:/home/user003:/bin/bash\n",
    "    user004::603:100:user:/home/user004:/bin/bash\n",
    "    user005::604:100:user:/home/user005:/bin/bash\n",
    "    user006::605:100:user:/home/user006:/bin/bash"
   ]
  },
  {
   "cell_type": "markdown",
   "metadata": {},
   "source": [
    "### 2.以root身份执行命令 /usr/sbin/newusers，从刚创建的用户文件user.txt中导入数据，创建用户：\n",
    "     newusers < user.txt\n",
    "    然后可以执行命令 vipw 或 vi /etc/passwd 检查 /etc/passwd 文件是否已经出现这些用户的数据，并且用户的宿主目录是否已经创建。"
   ]
  },
  {
   "cell_type": "markdown",
   "metadata": {},
   "source": [
    "### 3.执行命令/usr/sbin/pwunconv。\n",
    "    将 /etc/shadow 产生的 shadow 密码解码，然后回写到 /etc/passwd 中，并将/etc/shadow的shadow密码栏删掉。这是为了方便下一步的密码转换工作，即先取消 shadow password 功能。\n",
    "\n",
    "     pwunconv"
   ]
  },
  {
   "cell_type": "markdown",
   "metadata": {},
   "source": [
    "### 4.编辑每个用户的密码对照文件。\n",
    "    范例文件 passwd.txt 内容如下：\n",
    "\n",
    "    user001:密码\n",
    "    user002:密码\n",
    "    user003:密码\n",
    "    user004:密码\n",
    "    user005:密码\n",
    "    user006:密码"
   ]
  },
  {
   "cell_type": "markdown",
   "metadata": {},
   "source": [
    "### 5.以root身份执行命令 /usr/sbin/chpasswd。\n",
    "    创建用户密码，chpasswd 会将经过 /usr/bin/passwd 命令编码过的密码写入 /etc/passwd 的密码栏。\n",
    "\n",
    "     chpasswd < passwd.txt"
   ]
  },
  {
   "cell_type": "markdown",
   "metadata": {},
   "source": [
    "### 6.确定密码经编码写入/etc/passwd的密码栏后。\n",
    "    执行命令 /usr/sbin/pwconv 将密码编码为 shadow password，并将结果写入 /etc/shadow。\n",
    "\n",
    "     pwconv"
   ]
  },
  {
   "cell_type": "code",
   "execution_count": null,
   "metadata": {},
   "outputs": [],
   "source": []
  }
 ],
 "metadata": {
  "kernelspec": {
   "display_name": "Python 3",
   "language": "python",
   "name": "python3"
  },
  "language_info": {
   "codemirror_mode": {
    "name": "ipython",
    "version": 3
   },
   "file_extension": ".py",
   "mimetype": "text/x-python",
   "name": "python",
   "nbconvert_exporter": "python",
   "pygments_lexer": "ipython3",
   "version": "3.6.5"
  }
 },
 "nbformat": 4,
 "nbformat_minor": 2
}
