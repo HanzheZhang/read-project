{
 "cells": [
  {
   "cell_type": "markdown",
   "metadata": {},
   "source": [
    "# 指令运行级别\n",
    "## 七个运行级别\n",
    "- 0:系统停机状态，系统默认运行级别不能设置为0，否则不能正常启动，机器关闭。\n",
    "- 1:单用户工作状态，root权限，用于系统维护，禁止远程登陆，就像Windows下的安全模式登录。\n",
    "- 2:多用户状态，没有NFS支持。\n",
    "- 3:完整的多用户模式，有NFS，登陆后进入控制台命令行模式。\n",
    "- 4:系统未使用，保留一般不用，在一些特殊情况下可以用它来做一些事情。例如在笔记本电脑的电池用尽时，可以切换到这个模式来做一些设置。\n",
    "- 5:X11控制台，登陆后进入图形GUI模式，XWindow系统。\n",
    "- 6:系统正常关闭并重启，默认运行级别不能设为6，否则不能正常启动。运行init6机器就会重启。"
   ]
  },
  {
   "cell_type": "markdown",
   "metadata": {},
   "source": [
    "**标准的linux运行级别是3和5**"
   ]
  },
  {
   "cell_type": "markdown",
   "metadata": {},
   "source": [
    "## 运行级别原理\n",
    "1. 在目录/etc/rc.d/init.d下有许多服务器脚本程序，一般称为服务(service)\n",
    "2. 在/etc/rc.d下有7个名为rcN.d的目录，对应系统的7个运行级别\n",
    "3. rcN.d目录下都是一些符号链接文件，这些链接文件都指向init.d目录下的service脚本文件，命名规则为K+nn+服务名或S+nn+服务名，其中nn为两位数字。\n",
    "4. 系统会根据指定的运行级别进入对应的rcN.d目录，并按照文件名顺序检索目录下的链接文件\n",
    "     - 对于以K开头的文件，系统将终止对应的服务\n",
    "     - 对于以S开头的文件，系统将启动对应的服务\n",
    "5. 查看运行级别用：runlevel\n",
    "6. 进入其它运行级别用：init N\n",
    "7. 另外init0为关机，init 6为重启系统"
   ]
  },
  {
   "cell_type": "markdown",
   "metadata": {},
   "source": [
    "## 查看运行级别\n",
    "1. who -r ： 显示当前运行级别以及系统当前时间\n",
    "    ```shell\n",
    "    [outman02@bogon ~]$ who -r\n",
    "    run-level 5  2017-11-02 17:55\n",
    "    ```\n",
    "    \n",
    "2. runlevel ： 显示前一个运行级别（无则显示”N”） 、 当前运行级别\n",
    "    ```shell\n",
    "    [outman02@bogon ~]$ runlevel\n",
    "    N 5\n",
    "    ```"
   ]
  },
  {
   "cell_type": "markdown",
   "metadata": {},
   "source": [
    "## 案例\n",
    "1. 案例一 ： 运行级别切换\n",
    "    ```bash\n",
    "    切换为命令行模式\n",
    "    [outman02@localhost ~]$ init 3\n",
    "    切换为图形界面模式\n",
    "   [outman02@localhost ~]$ init 5\n",
    "    ```\n",
    "    \n",
    "2. 案例二 ： 并不是所有的图形界面运行级别都是5\n",
    "    ```bash\n",
    "    在案例一的基础上（命令行模式下）执行\n",
    "    [outman02@localhost ~]$ startx  //在命令行级别打开GUI\n",
    "    然后打开Terminal 执行级别显示命令\n",
    "    [outman02@localhost ~]$ runlevel\n",
    "    5 3 \n",
    "    发现当前运行级别是3 ， 这是因为在startx启动的桌面只是相当于在命令行级别 中开启了一个进程 。 所以运行级别没有变化 。 \n",
    "    ```\n",
    "    \n",
    "3. 案例三 ： 不是所有的 命令行模式运行级别都是3\n",
    "    ```bash\n",
    "    在图形界面模式下按下ctrl+alt+F2 进入命令行模式 执行\n",
    "    [outman02@localhost ~]$ runlevel\n",
    "    3 5 //当前级别仍然为5\n",
    "    ctrl+alt+F7 回到图形界面模式\n",
    "\n",
    "    ```\n",
    "    \n",
    "4. 总结： 运行界别是相对于系统而言的 ， 切换运行级别通过“init运行级别”来进行切换 。"
   ]
  },
  {
   "cell_type": "markdown",
   "metadata": {},
   "source": [
    "## 运行级别的作用\n",
    "### 作用\n",
    "    1. 重启 \n",
    "    \n",
    "    [outman02@localhost ~]$ reboot\n",
    "    \n",
    "    [outman02@localhost ~]$ shutdown -r now\n",
    "    \n",
    "    [outman02@localhost ~]$ init 6\n",
    "        \n",
    "    2. 服务器一般使用运行级别3 ， 减少图形 界面带来的资源浪费\n",
    "    3. 忘记密码时修改密码\n",
    "    4. 修改启动时默认的运行级别"
   ]
  },
  {
   "cell_type": "markdown",
   "metadata": {},
   "source": [
    "### 密码修改\n",
    "    "
   ]
  },
  {
   "cell_type": "markdown",
   "metadata": {},
   "source": [
    "### 修改启动时默认操作级别\n",
    "    1. [outman02@localhost ~]# vim /etc/inittab\n",
    "    2. 进入文件后将5改为3之后 ， 保存 ， 重启 。"
   ]
  },
  {
   "cell_type": "code",
   "execution_count": null,
   "metadata": {},
   "outputs": [],
   "source": []
  }
 ],
 "metadata": {
  "kernelspec": {
   "display_name": "Python 3",
   "language": "python",
   "name": "python3"
  },
  "language_info": {
   "codemirror_mode": {
    "name": "ipython",
    "version": 3
   },
   "file_extension": ".py",
   "mimetype": "text/x-python",
   "name": "python",
   "nbconvert_exporter": "python",
   "pygments_lexer": "ipython3",
   "version": "3.6.5"
  }
 },
 "nbformat": 4,
 "nbformat_minor": 2
}
