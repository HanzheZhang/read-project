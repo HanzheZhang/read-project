{
 "cells": [
  {
   "cell_type": "markdown",
   "metadata": {},
   "source": [
    "# VMware虚拟机安装Linux"
   ]
  },
  {
   "cell_type": "markdown",
   "metadata": {},
   "source": [
    "## VMware下载和安装\n",
    "绝大多数初学者使用的是 Windows，所以本节只讲解在 Windows 下安装 VMware 和 Linux。\n",
    "\n",
    "VMware 有两个版本，分别是 VMware Workstation Pro 和 VMware Workstation Player。\n",
    "- Player 是免费版本，只能用于非商业用途，适合个人学习。\n",
    "- Pro 是商业版本，功能最强大，付费以后才能使用。\n",
    "\n",
    "我们从互联网上找到了一个带密钥的 Pro 版本，并放在了百度网盘，大家可以无限制的使用：\n",
    "[VMware Workstation Pro 下载地址](https://pan.baidu.com/s/1XXhFFh0Fx0vzvcd1A543Yg)，提取码：2o19（下载得到的压缩包中含有 VMware 安装所需的秘钥，亲测有效，可放心使用）\n",
    "VMware 对计算机的硬件配置要求比较高，配置低了虚拟机会很慢，甚至不能运行。理论上，配置越高越好，现在主流的计算机配置都可以达到运行 VMware 的要求。千万不要用多年珍藏的老古董来运行 VMware，我保证你将会失去耐心。\n",
    "\n",
    "由于 VMware 的安装过程比较简单，与安装普通软件无异，因此不再过多阐述。这里假设读者已经下载并已安装好 VMware，接下来直接开始使用 VMware 安装 Linux 系统。"
   ]
  },
  {
   "cell_type": "markdown",
   "metadata": {},
   "source": [
    "## VMware安装Linux系统\n",
    "启动 VMware，进入其主界面，![](http://c.biancheng.net/uploads/allimg/190313/2-1Z31313391SR.jpg)\n",
    "\n",
    "点击“创建新的虚拟机”，进入虚拟机设置向导界面，这里建议初学者选择“典型（推荐）”。![](http://c.biancheng.net/uploads/allimg/190313/2-1Z3131339362Y.jpg)\n",
    "\n",
    "点击“下一步”，进入“安装操作系统”界面，若初学者已提前准备好 Linux 系统的映像文件（.iso 文件），此处可选择“安装程序光盘映像文件”，并通过“浏览”按钮找到要安装 Linux 系统的 iso 文件；否则选择“稍后安装操作系统”![](http://c.biancheng.net/uploads/allimg/190313/2-1Z313134004B0.jpg)\n",
    "\n",
    "建议初学者提前下载好 CenOS 映像系统，给大家提供 CentOS 6.5 映像文件迅雷下载地址（点击链接或复制链接到迅雷即可开始下载）：\n",
    "- [32 位 CentOS 6.5 映像下载](http://archive.kernel.org/centos-vault/6.5/isos/i386/CentOS-6.5-i386-LiveCD.iso)\n",
    "- [64 位 CentOS 6.5 映像下载](http://archive.kernel.org/centos-vault/6.5/isos/x86_64/CentOS-6.5-x86_64-LiveCD.iso)\n",
    "\n",
    "点击“下一步”，进入“选择客户机操作系统”，选择“Linux”，并在“版本”下拉列表框中选择要安装的对应的 Linux 版本，这里选择“CentOS 6”，![](http://c.biancheng.net/uploads/allimg/190313/2-1Z3131340523V.jpg)\n",
    "\n",
    "继续“下一步”，进入“命名虚拟机”界面，给虚拟机起一个名字（如“CentOS 6.5”），然后单击“浏览”按钮，选择虚拟机系统安装文件的保存位置![](http://c.biancheng.net/uploads/allimg/190313/2-1Z313134110361.jpg)\n",
    "\n",
    "单击\"下一步\"按钮，进入\"指定磁盘容量\"界面。默认虚拟硬盘大小为 20GB（虚拟硬盘会以文件形式存放在虚拟机系统安装目录中）。虚拟硬盘的空间可以根据需要调整大小，但不用担心其占用的空间，因为实际占用的空间还是以安装的系统大小而非此处划分的硬盘大小为依据的。\n",
    "\n",
    "此“指定磁盘容量”界面保持默认设置即可，![](http://c.biancheng.net/uploads/allimg/190313/2-1Z3131341392M.jpg)\n",
    "\n",
    "接下来进入“已准备好创建虚拟机”界面，确认虚拟机设置，不需改动则单击\"完成\"按钮，开始创建虚拟机![](http://c.biancheng.net/uploads/allimg/180927/2-1P92G05509264.jpg)\n",
    "\n",
    "这里，我们可以略做调整，单击\"自定义硬件\"按钮进入硬件调整界面。为了让虚拟机中的系统运行速度快一点，我们可以选择\"内存\"调整虚拟机内存大小，但是建议虚拟机内存不要超过宿主机内存的一半。CentOS6.x 最少需要 628MB 及以上内存分配，否则会开启简易安装过程![](http://c.biancheng.net/uploads/allimg/180927/2-1P92G055391A.jpg)\n",
    "\n",
    "选择“新CD/DVD(IDE)”可以选择光驱配置。如果选择“使用物理驱动器”，则虚拟机会使用宿主机的物理光驱；如果选择“使用 ISO 映像文件”，则可以直接加载 ISO 映像文件，单击“浏览”按钮找到 ISO 映像文件位置即可![](http://c.biancheng.net/uploads/allimg/180927/2-1P92G0561A28.jpg)\n",
    "\n",
    "选择\"网络适配器\"将进入 VMware 新手设置中最难以理解的部分——设置网络类型。此设置较复杂，不过网络适配器配置在虚拟机系统安装完成后还可以再行修改。![](http://c.biancheng.net/uploads/allimg/180927/2-1P92G05640305.jpg)\n",
    "\n",
    "VMware 提供的网络连接有 5 种，分别是\"桥接模式\"、\"NAT 模式\"、\"仅主机模式\"、\"自定义\"和\"LAN 区段\"：\n",
    "- 桥接模式：相当于虚拟机的网卡和宿主机的物理网卡均连接到虚拟机软件所提供的 VMnet0 虚拟交换机上，因此虚拟机和宿主机是平等的，相当于一个网络中的两台计算机。这种设置既可以保证虚拟机和宿主机通信，也可以和局域网内的其他主机通信，还可以连接 Internet，是限制最少的连接方式，推荐新手使用。\n",
    "- NAT 模式：相当于虚拟机的网卡和宿主机的虚拟网卡 VMnet8 连接到虚拟机软件所提供的 VMnet8 虚拟交换机上，因此本机是通过 VMnet8 虚拟网卡通信的。在这种网络结构中，VMware 为虚拟机提供了一个虚拟的 NAT 服务器和一个虚拟的 DHCP 服务器，虚拟机利用这两个服务器可以连接到 Intemet。所以，在正常情况下，虚拟机系统只要设定自动获取 IP 地址，就能既和宿主机通信，又能连接到 Internet了。但是这种设置不能连接局域网内的其他主机。\n",
    "- 仅主机模式：宿主机和虚拟机通信使用的是 VMware 的虚拟网卡 VMnet1，但是这种连接没有 NAT 服务器为虚拟机提供路由功能，所以仅主机网络只能连接宿主机，不能连接局域网，也不能连接 Internet 网络。\n",
    "- 自定义网络：可以手工选择使用哪块虚拟机网卡。如果选择 Vmnet1，就相当于桥接网络；如果选择 VMnet8，就相当于 NAT 网络。\n",
    "- LAN 区段：这是新版 VMware 新增的功能，类似于交换机中的 VLAN（虚拟局域网），可以在多台虚拟机中划分不同的虚拟网络。\n",
    "\n",
    "以上对于 VMware 网络的描述，读者看完了可能会有点困惑。简单总结—下，在 VMware 安装好后，会生成两个虚拟网卡 VMnet1 和 VMnet8 (在 Windows 系统的\"网络连接\"中可以査看到）![](http://c.biancheng.net/uploads/allimg/180927/2-1P92G05S0605.jpg)\n",
    "\n",
    "其中常用设置有以下 2 种：\n",
    "1. 需要宿主机的 Windows 和虚拟机的 Linux 能够进行网络连接，使用\"桥接模式\"（桥接时，Linux 也可以访问互联网，只是虚拟机需要配置和宿主机 Windows 同样的联网环境）；\n",
    "2. 需要宿主机的 Windows 和虚拟机的 Linux 能够进行网络连接，同时虚拟机的 Linux 可以通过宿主机的 Windows 连入互联网，使用\"NAT模式\"。"
   ]
  },
  {
   "cell_type": "markdown",
   "metadata": {},
   "source": [
    "# U盘安装Linux系统"
   ]
  },
  {
   "cell_type": "markdown",
   "metadata": {},
   "source": [
    "## 前期准备\n",
    "使用 U 盘安装 Linux 系统，需要准备以下工具：\n",
    "- 大容量的U盘（安装 CentOS 6.x 系统，U 盘容量至少 8 G）；\n",
    "- UltraISO 工具，用来制作 U 盘启动盘。除此之外，由于 UltraISO 工具是 Windows 软件，所以需要一台安装了 Windows 系统的计算机协助；\n",
    "- CentOS 6.x 系统的 ISO 映像文件。\n",
    "\n",
    "这里所使用的 UltralISO 只是制作 U 盘启动盘的工具之一，除此之外，还可以选择大白菜、老毛桃等软件，都可实现一键快速制作 U 盘启动盘。"
   ]
  },
  {
   "cell_type": "markdown",
   "metadata": {},
   "source": [
    "## U盘安装Linux系统\n",
    "U 盘安装 Linux 系统需经过以下几步：\n",
    "1. 在装有 Windows 系统的电脑上下载和安装 UltraISO 软件。\n",
    "2. 用安装好的 UltroISO 制作 U 盘启动盘，具体操作为：\n",
    "    - 将 U 盘通过 USB 口插到计算机上；\n",
    "    - 启动 UltraISO 软件，依次选择 \"文件->打开\" 命令，找到已下载的 CentOS 6.x 安装映像文件（iso 文件）；\n",
    "    - 选择“启动->写入硬盘映像”命令，打开 \"写入硬盘映像\" 对话框，在 \"硬盘驱动器\" 下拉列表框中选择你的 U 盘（注意不要选错，因为这一步对 U 盘进行格式化操作）。\"写入方式\" 选择 \"USB-HDD +\"，然后单击 \"写入\" 按钮，等待写入完成\n",
    "![](http://c.biancheng.net/uploads/allimg/180927/2-1P92G23320I4.jpg)\n",
    "3. 安装 CentOS 6.x：\n",
    "    - 插入 U 盘，设定 U 盘为第一个启动设备，重启之后出现安装界面。\n",
    "    - 选择第一项“Install  or upgrade an existing system (安装或升级现有系统）”，进入安装语言选择界面\n",
    "    - 选择 \"简体中文\"，选择 \"OK\"，出现键盘选择界面。这里默认选择 \"US\" 美式标准键盘，选择 \"OK\"，出现安装方法界面\n",
    "    - 选择 \"Harddrive (硬盘驱动）\"，选择 \"OK\"，进入选择分区界面。这里分区使用 \"/dev/sdb4\" 代表 U 盘分区。\"Directory holding image\" 项用于搜索 U 盘 image 目录下的 install.img 文件，不用填写，系统会自动搜索\n",
    "    - 选择\"OK\"，进入图形安装界面\n",
    "![](http://c.biancheng.net/uploads/allimg/180927/2-1P92G23503316.jpg)\n",
    "![](http://c.biancheng.net/uploads/allimg/180927/2-1P92G23600Q5.jpg)\n",
    "![](http://c.biancheng.net/uploads/allimg/180927/2-1P92G23633554.jpg)"
   ]
  },
  {
   "cell_type": "markdown",
   "metadata": {},
   "source": [
    "# dd安装Linux"
   ]
  },
  {
   "cell_type": "markdown",
   "metadata": {},
   "source": [
    "无人值守安装（Kickstart），又称全自动安装，其工作原理是，创建一个名为 ks.cfg 的文件记录 Linux 系统在安装过程中需要人工干预填写的各种参数，当安装过程中出现要填写参数时，安装程序会自行去 ks.cfg 文件中查找合适的参数，如果没找到，还是需要手工干预。因此，在 ks.cfg 文件涵盖安装过程所有可能需要填写的参数的前提下，安装者只需要告诉安装程序 ks.cfg 文件的位置，就可实现全自动安装\n",
    "\n",
    "## dd命令是什么\n",
    "dd 命令是用来复制文件的命令，它可以用指定大小的数据块复制一个文件，并在复制的同时进行指定的转换。简单地理解，dd 命令可用于进行两块硬盘之间的复制（完整复制出一块和原系统盘一样的硬盘）。\n",
    "\n",
    "dd命令格式：\n",
    "```bash\n",
    "[root@localhost ~]# dd if=输入文件 of=输出文件 bs=字节数 count=个数\n",
    "```\n",
    "参数：\n",
    "- if=输入文件：指定源文件或源设备；\n",
    "- of=输出文件：指定目标文件或目标设备；\n",
    "- bs=字节数：指定一次输入/输出多少字节，即把这些字节看作一个数据块；\n",
    "- count=个数：指定输入/输出多少个数据块；\n",
    "\n",
    "使用 dd 命令复制硬盘，需满足以下两个前提条件：\n",
    "- 需要批量复制的服务器硬件配置一致。通常，采购服务器都是批量采购的，服务器的配置都是一样的。\n",
    "- 复制硬盘的时候，需要手工更换被复制盘。服务器上一般都是 SCSI 硬盘，SCSI 硬盘支持热插拔，而且不需要拆卸机箱，更换被复制盘非常方便。"
   ]
  },
  {
   "cell_type": "markdown",
   "metadata": {},
   "source": [
    "## dd命令安装Linux详细步骤\n",
    "通过以上的学习我们知道，使用 dd 命令安装 Linux，实际上就是硬盘之间的完整拷贝，其实现过程如下：\n",
    "- 把母盘插入服务器的第一个硬盘插口，把被复制盘插入服务器的第二个硬盘插口，注意不要插反。\n",
    "- 执行复制命令 dd if=/dev/sda of=/dev/sdb。在 dd 命令中，if 指定复制源，of 指定复制目标。/dev/sda 代表第一块 SCSI 盘，/dev/sdb 代表第二块 SCSI 盘。这条命令会把第一块硬盘中的数据完整地复制到第二块硬盘中。"
   ]
  },
  {
   "cell_type": "markdown",
   "metadata": {},
   "source": [
    "# Linux liveCD：从光盘运行Linux"
   ]
  },
  {
   "cell_type": "markdown",
   "metadata": {},
   "source": [
    "# Linux远程运行管理协议"
   ]
  },
  {
   "cell_type": "markdown",
   "metadata": {},
   "source": [
    "远程管理，实际上就是计算机（服务器）之间通过网络进行数据传输（信息交换）的过程，与浏览器需要 HTTP 协议（超文本传输协议）浏览网页一样，远程管理同样需要远程管理协议的支持。\n",
    "\n",
    "目前，常用的远程运行管理协议有以下四种：\n",
    "1. RDP（remote desktop protocol）协议：远程桌面协议，大部分 Windows 系统都默认支持此协议，Windows 系统中的远程桌面管理就基于该协议。\n",
    "2. RFB（Remote FrameBuffer）协议：图形化远程管理协议，VNC 远程管理工具就基于此协议。\n",
    "3. "
   ]
  }
 ],
 "metadata": {
  "kernelspec": {
   "display_name": "Python 3",
   "language": "python",
   "name": "python3"
  },
  "language_info": {
   "codemirror_mode": {
    "name": "ipython",
    "version": 3
   },
   "file_extension": ".py",
   "mimetype": "text/x-python",
   "name": "python",
   "nbconvert_exporter": "python",
   "pygments_lexer": "ipython3",
   "version": "3.7.0"
  }
 },
 "nbformat": 4,
 "nbformat_minor": 2
}
