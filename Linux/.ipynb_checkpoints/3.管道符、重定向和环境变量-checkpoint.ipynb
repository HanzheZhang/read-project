{
 "cells": [
  {
   "cell_type": "markdown",
   "metadata": {},
   "source": [
    "# 3.1 输入输出重定向\n",
    "输入重定向是指把文件导入到命令中，而输出重定向则是指把原本要输出到屏幕的数据信息写入到指定文件中。输出重定向分为了标准输出重定向和错误输出重定向两种不同的技术，以及清空写入与追加写入两种模式。\n",
    "\n",
    ">标准输入重定向（STDIN，文件描述符为0）：默认从键盘输入，也可从其他文件或命令中输入。\n",
    ">标准输出重定向（STDOUT，文件描述符为1）：默认输出到屏幕。\n",
    ">错误输出重定向（STDERR，文件描述符为2）：默认输出到屏幕。\n",
    "\n",
    " 输入重定向中用到的符号及其作用\n",
    "\n",
    "符号|作用\n",
    "----|----\n",
    "命令 < 文件|将文件作为命令的标准输入\n",
    "命令 << 分界符|从标准输入中读入，直到遇见分界符才停止\n",
    "命令 < 文件1 > 文件2|将文件1作为命令的标准输入并将标准输出到文件2\n",
    "\n",
    " 输出重定向中用到的符号及其作用\n",
    "\n",
    "符号|作用\n",
    "----|----\n",
    "命令 > 文件|将标准输出重定向到一个文件中（清空原有文件的数据）\n",
    "命令 2> 文件|将错误输出重定向到一个文件中（清空原有文件的数据）\n",
    "命令 >> 文件|将标准输出重定向到一个文件中（追加到原有内容的后面）\n",
    "命令 2>> 文件|将错误输出重定向到一个文件中（追加到原有内容的后面）\n",
    "命令 >> 文件 2>&1 或 命令 &>> 文件|将标准输出与错误输出共同写入到文件中（追加到原有内容的后面）\n",
    "\n",
    "通过标准输出重定向将man bash命令原本要输出到屏幕的信息写入到文件readme.txt中，然后显示readme.txt文件中的内容。具体命令如下：\n",
    "```bash\n",
    "[root@linuxprobe ~]# man bash > readme.txt\n",
    "[root@linuxprobe ~]# cat readme.txt \n",
    "BASH(1)                     General Commands Manual                    BASH(1)\n",
    "NAME\n",
    "bash - GNU Bourne-Again Shell\n",
    "\n",
    "SYNOPSIS\n",
    "bash [options] [file]\n",
    "\n",
    "COPYRIGHT\n",
    "Bash is Copyright (C) 1989-2011 by the Free Software Foundation, Inc.\n",
    "\n",
    "DESCRIPTION\n",
    "Bash  is  an  sh-compatible  command language interpreter that executes\n",
    "commands read from the standard input or from a file.  Bash also incor‐\n",
    "porates useful features from the Korn and C shells (ksh and csh).\n",
    "\n",
    "Bash  is  intended  to  be a conformant implementation of the Shell and\n",
    "Utilities portion  of  the  IEEE  POSIX  specification  (IEEE  Standard\n",
    "1003.1).  Bash can be configured to be POSIX-conformant by default.\n",
    "\n",
    "………………省略部分输出信息………………\n",
    "```"
   ]
  },
  {
   "cell_type": "markdown",
   "metadata": {},
   "source": [
    "# 3.2 管道命令符\n"
   ]
  }
 ],
 "metadata": {
  "kernelspec": {
   "display_name": "Python 3",
   "language": "python",
   "name": "python3"
  },
  "language_info": {
   "codemirror_mode": {
    "name": "ipython",
    "version": 3
   },
   "file_extension": ".py",
   "mimetype": "text/x-python",
   "name": "python",
   "nbconvert_exporter": "python",
   "pygments_lexer": "ipython3",
   "version": "3.7.0"
  }
 },
 "nbformat": 4,
 "nbformat_minor": 2
}
