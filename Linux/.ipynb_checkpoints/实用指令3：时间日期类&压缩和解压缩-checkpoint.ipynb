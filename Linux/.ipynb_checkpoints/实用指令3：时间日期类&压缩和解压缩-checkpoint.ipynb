{
 "cells": [
  {
   "cell_type": "markdown",
   "metadata": {},
   "source": [
    "# 实用日期类"
   ]
  },
  {
   "cell_type": "markdown",
   "metadata": {},
   "source": [
    "## date：显示当前日期\n",
    "    语法：\n",
    "        1. date：显示当前时间\n",
    "        2. date+%Y：显示当前年份\n",
    "        3. date+%m：显示当前月份\n",
    "        4. date+%d：显示当前是哪一天\n",
    "        5. date\"+%Y-%m-%d %H:%M:%S\"：显示年月日时分秒\n",
    "     参数：\n",
    "         <+时间日期格式>：指定显示时使用的日期时间格式\n",
    "        \n",
    "时间日期格式|意义\n",
    "----|-----\n",
    "%H|小时，24小时制（00-23）\n",
    "%I|小时，12小时制（01-12）\n",
    "%k|小时，24小时制（0-23）\n",
    "%l|小时，12小时制（1-12）\n",
    "%M|分钟（00-59）\n",
    "%p|显示出AM或PM\n",
    "%r|显示时间，12小时制（hh:mm:ss %p）\n",
    "%s|时间戳\n",
    "%S|显示秒（00-59）\n",
    "%T|显示时间，24小时制（hh:mm:ss）\n",
    "%X|显示时间的格式（%H:%M:%S）\n",
    "%Z|显示时区，日期域（CST）\n",
    "%a|星期的简称（Sun-Sat）\n",
    "%A|星期的全称（Sunday-Saturday）\n",
    "%h,%b|月的简称（Jan-Dec）\n",
    "%B|月的全称（January-December）\n",
    "%c|日期和时间（Tue Nov 20 14:12:58 2012）\n",
    "%d|一个月的第几天（01-31）\n",
    "%x,%D|日期（mm/dd/yy）\n",
    "%j|一年的第几天（011-366）\n",
    "%m|月份（01-12）\n",
    "%W|一个星期的第几天（0代表星期天）\n",
    "%w|一年的第几个星期（00-53，星期一为第一天）\n",
    "%y|年的最后两个数字（1999则是99）"
   ]
  },
  {
   "cell_type": "markdown",
   "metadata": {},
   "source": [
    "## date：设置日期\n",
    "    语法：date \n",
    "    选项：\n",
    "        -d<字符串>：显示字符串所指的日期与时间。字符转前后必须加上双引号。\n",
    "        -s<字符串>：根据字符串来设置日期与时间。字符串前后必须加上双引号。\n",
    "        -u：显示GMT\n",
    "        --help：在线帮助\n",
    "        --version：显示版本信息\n",
    "加减操作|效果\n",
    "--------|----\n",
    "date +%Y%m%d|显示前天年月日\n",
    "date -d \"+1 day\" +%Y%m%d|显示前一天的日期\n",
    "date -d \"-1 day\" +%Y%m%d|显示后一天的日期\n",
    "date -d \"-1 month\" +%Y%m%d|显示上一月的日期\n",
    "date -d \"+1 month\" +%Y%m%d|显示下一月的日期\n",
    "date -d \"-1 year\" +%Y%m%d|显示前一年的日期\n",
    "date -d \"+1 year\" +%Y%m%d|显示下一年的日期\n",
    "\n",
    "设定时间|效果\n",
    "--------|----\n",
    "date -s|设置当前时间，只有root权限才能设置，其他只能查看\n",
    "date -s 20120523|设置成20120523，这样会把具体时间设置成空00:00:00\n",
    "date -s 01:01:01|设置具体时间，不会对日期做更改\n",
    "date -s \"01:01:01 2012-05-23\"|这样可以设置全部时间\n",
    "date -s \"01:01:01 20120523\"|这样可以设置全部时间\n",
    "date -s \"2012-05-23 01:01:01\"|这样可以设置全部时间\n",
    "date -s \"20120523 01:01:01\"|这样可以设置全部时间\n"
   ]
  },
  {
   "cell_type": "markdown",
   "metadata": {},
   "source": [
    "## cal：查看日历指令\n",
    "    查看日历等事件信息，如果只有一个参数，则表示年份（1-9999），如果有两个参数，则表示月份和年份\n",
    "    cal [] 月份 年份\n",
    "    \n",
    "    参数：\n",
    "        -1 显示一个月的月历\n",
    "        -3 显示系统前一个月，当前月，下一个月的月历\n",
    "        -s 显示星期天为一个星期的第一天，默认格式\n",
    "        -m 显示星期一为一个星期的第一天\n",
    "        -j 显示在当前年中的第几天（一年日期按天算，从1月1号算起，默认显示当前月再一年中的天数）\n",
    "        -y 显示当前年份的日历"
   ]
  },
  {
   "cell_type": "markdown",
   "metadata": {},
   "source": [
    "# 搜索查找类"
   ]
  },
  {
   "cell_type": "markdown",
   "metadata": {},
   "source": [
    "## find：将从指令目录向下递归地便利其各个子目录，将满足条件的文件或者目录显示在终端\n",
    "    语法：find [搜索范围] [选项]\n",
    "\n",
    "选项|功能\n",
    "----|----\n",
    "-name<查询方式>|按照指定的文件名查找模式查找文件\n",
    "-user<用户名>|查找属于指定用户名所有文件\n",
    "-size<文件大小>|按照指定的文件大小查找文件"
   ]
  },
  {
   "cell_type": "markdown",
   "metadata": {},
   "source": [
    "## locate：查找文件或目录\n",
    "    locate命令要比find -name快得多，原因在于它不搜索具体目录，而是搜索一个数据库/var/lib/mlocate/molcate.db。这个数据库中含有本地所有文件信息。Linux系统自动创建了这个数据库，而且每天自动更新一次，因此，再用whereis和locate查找文件时，有时会找到已经被删除的数据；或者刚刚建立的文件，却无法查找到，原因就是因为数据库文件没有被更新。为了避免这种情况，可以在使用locate之前，先使用updatedb命令，手动更新数据库。\n",
    "    整个locate工作其实是由四部分组成的：\n",
    "        1. /usr/bin/updatedb 主要用来更新数据库，通过crontab自动完成\n",
    "        2. /usr/bin/locate 查询文件位置\n",
    "        3. /etc/updatedb.conf updatedb的配置文件\n",
    "        4. /var/lib/mlocate/mlocate.db 存放文件信息的文件\n",
    "        \n",
    "    locate [] [pattern]\n",
    "选项|意义\n",
    "----|----\n",
    "-e|将排除在寻找的范围之外。\n",
    "-1|如果 是 1．则启动安全模式。在安全模式下，使用者不会看到权限无法看到 的档案。这会始速度减慢，因为 locate 必须至实际的档案系统中取得档案的 权限资料。\n",
    "-f|将特定的档案系统排除在外，例如我们没有到理要把 proc 档案系统中的档案 放在资料库中。\n",
    "-q|安静模式，不会显示任何错误讯息。\n",
    "-n|至多显示 n个输出。\n",
    "-r|使用正规运算式 做寻找的条件。\n",
    "-o|指定资料库存的名称。\n",
    "-d|指定资料库的路径\n",
    "-h|显示辅助讯息\n",
    "-V|显示程式的版本讯息"
   ]
  },
  {
   "cell_type": "markdown",
   "metadata": {},
   "source": [
    "## grep指令和管道符号,|\n",
    "    grep：过滤查找\n",
    "    管道符，|：表示将前一个命令的处理结果输出传递给后面的命令处理\n",
    "    \n",
    "    grep [] 查找内容 源文件\n",
    "    \n",
    "    -n：显示匹配行及行号\n",
    "    -i：忽略字母大小写"
   ]
  },
  {
   "cell_type": "markdown",
   "metadata": {},
   "source": [
    "# 压缩和解压缩"
   ]
  },
  {
   "cell_type": "markdown",
   "metadata": {},
   "source": [
    "## gzip/gunzip指令\n",
    "    gzip 压缩文件\n",
    "    gunzip 解压文件\n",
    "    \n",
    "    gzip 文件\n",
    "    gunzip 文件.gz\n",
    "    \n",
    "    注意：使用gzip对文件进行压缩后，不会保留原来的文件"
   ]
  },
  {
   "cell_type": "markdown",
   "metadata": {},
   "source": [
    "## zip/unzip指令\n",
    "    zip 压缩文件\n",
    "    unzip 解压文件\n",
    "    \n",
    "    zip [] xxx.zip 将要压缩的内容\n",
    "    unzip [] xxx.zip\n",
    "    \n",
    "    -r：递归压缩\n",
    "    -d<目录>：指定解压后的文件的存放目录"
   ]
  },
  {
   "cell_type": "markdown",
   "metadata": {},
   "source": [
    "## tar：打包指令\n",
    "    tar [] xxx.gar.gz 打包的内容\n",
    "选项|功能\n",
    "----|----\n",
    "-c|产生.tar打包文件\n",
    "-v|显示详细信息\n",
    "-f|指定压缩后的文件名\n",
    "-z|打包同时压缩\n",
    "-x|解包.tar文件"
   ]
  },
  {
   "cell_type": "markdown",
   "metadata": {},
   "source": []
  }
 ],
 "metadata": {
  "kernelspec": {
   "display_name": "Python 3",
   "language": "python",
   "name": "python3"
  },
  "language_info": {
   "codemirror_mode": {
    "name": "ipython",
    "version": 3
   },
   "file_extension": ".py",
   "mimetype": "text/x-python",
   "name": "python",
   "nbconvert_exporter": "python",
   "pygments_lexer": "ipython3",
   "version": "3.6.5"
  }
 },
 "nbformat": 4,
 "nbformat_minor": 2
}
