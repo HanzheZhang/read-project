{
 "cells": [
  {
   "cell_type": "markdown",
   "metadata": {},
   "source": [
    "# Linux命令的基本格式\n",
    "## 命令提示符\n",
    "登录系统后，第一眼看到的内容是：\n",
    "```bash\n",
    "[root@localhost ~]#\n",
    "```\n",
    "这就是 Linux 系统的命令提示符。那么，这个提示符的含义是什么呢？\n",
    "- []：这是提示符的分隔符号，没有特殊含义。\n",
    "- root：显示的是当前的登录用户，笔者现在使用的是 root 用户登录。\n",
    "- @：分隔符号，没有特殊含义。\n",
    "- localhost：当前系统的简写主机名（完整主机名是 localhost.localdomain）。\n",
    "- ~：代表用户当前所在的目录，此例中用户当前所在的目录是家目录。\n",
    "- #：命令提示符，Linux 用这个符号标识登录的用户权限等级。如果是超级用户，提示符就是 #；如果是普通用户，提示符就是 \\$。"
   ]
  },
  {
   "cell_type": "markdown",
   "metadata": {},
   "source": [
    "## 命令的基本格式\n",
    "Linux 命令的基本格式:\n",
    "```bash\n",
    "[root@localhost ~]# 命令[选项][参数]\n",
    "```\n",
    "**命令的选项用于调整命令功能，而命令的参数是这个命令的操作对象。**"
   ]
  },
  {
   "cell_type": "markdown",
   "metadata": {},
   "source": [
    "# ls命令"
   ]
  },
  {
   "cell_type": "markdown",
   "metadata": {},
   "source": [
    "- 命令名称：ls\n",
    "- 英文原意：list\n",
    "- 所在路径：/bin/ls\n",
    "- 执行权限：所有用户\n",
    "- 功能描述：显示当前目录下的内容\n",
    "## 命令格式\n",
    "```bash\n",
    "[root@localhost ~]#ls [选项][文件名或目录名]\n",
    "```\n",
    "选项：\n",
    "- -a：显示所有文件\n",
    "- -color=when：支撑颜色输出，when值的默认值是always（总是显示颜色），也可以是never（从不显示颜色）和auto（自动）\n",
    "- -d：显示目录信息，而不是目录下的文件\n",
    "- -h：人性化显示，按照我们习惯的单位显示文件大小\n",
    "- -i：显示文件的i结点号\n",
    "    - 第一列：权限，具体权限的含义将在后续章节中讲解。\n",
    "    - 第二列：引用计数，文件的引用计数代表该文件的硬链接个数，而目录的引用计数代表该目录有多少个一级子目录。\n",
    "    - 第三列：所有者，也就是这个文件属于哪个用户。默认所有者是文件的建立用户\n",
    "    - 第四列：所属组，默认所属组是文件建立用户的有效组，一般情况下就是建立用户的所在组。\n",
    "    - 第五列：大小，默认单位是字节。\n",
    "    - 第六列：文件修改时间，文件状态修改时间或文件数据修改时间都会更改这个时间，注意这个时间不是文件的创建时间。\n",
    "    - 第七列：文件名。\n",
    "- -l：长格式显示"
   ]
  },
  {
   "cell_type": "markdown",
   "metadata": {},
   "source": [
    "# cd命令"
   ]
  },
  {
   "cell_type": "markdown",
   "metadata": {},
   "source": [
    "- 命令名称：cd。\n",
    "- 英文原意：change directory。\n",
    "- 所在路径：Shell 内置命令。\n",
    "- 执行权限：所有用户。\n",
    "- 功能描述：切换所在目录。\n",
    "## 命令格式\n",
    "```bash\n",
    "[root@localhost ~]#cd [目录名]\n",
    "```\n",
    "选项：\n",
    "- -P（大写）是指如果切换的目录是软链接目录，则进入其原始的物理目录，而不是进入软链接目录；\n",
    "- -L（大写）是指如果切换的目录是软链接目录，则直接进入软链接目录。\n",
    "\n",
    "cd命令特殊符号：\n",
    "\n",
    "符号|作用\n",
    "----|----\n",
    "~|代表用户的家目录\n",
    "-|代表上次所在的目录\n",
    ".|代表当前目录\n",
    "..|代表上级目录"
   ]
  },
  {
   "cell_type": "markdown",
   "metadata": {},
   "source": [
    "## 绝对路劲和相对路径\n",
    " Linux 有最高目录，也就是根目录。如果路径是从根目录开始，一级一级指定的，那使用的就是绝对路径。\n",
    " \n",
    " 所谓相对路径，就是只从当前所在目录开始，切换目录。"
   ]
  },
  {
   "cell_type": "markdown",
   "metadata": {},
   "source": [
    "# mkdir命令"
   ]
  },
  {
   "cell_type": "markdown",
   "metadata": {},
   "source": [
    "- 命令名称：mkdir。\n",
    "- 英文原意：make directories。\n",
    "- 所在路径：/bin/mkdir。\n",
    "- 执行权限：所有用户。\n",
    "- 功能描述：创建空目录。\n",
    "## 命令格式：\n",
    "```bash\n",
    "[root@localhost -]# mkdir [选项]目录名\n",
    "```\n",
    "选项：\n",
    "- -p: 递归建立所需目录"
   ]
  },
  {
   "cell_type": "markdown",
   "metadata": {},
   "source": [
    "# rmdir命令"
   ]
  },
  {
   "cell_type": "markdown",
   "metadata": {},
   "source": [
    "- 命令名称：rmdir。\n",
    "- 英文原意：remove empty directories。\n",
    "- 所在路径：/bin/rmdir。\n",
    "- 执行权限：所有用户。\n",
    "- 功能描述：删除空目录。\n",
    "## 命令格式\n",
    "```bash\n",
    "[root@localhost -]# rmdir [选项]目录名\n",
    "```\n",
    "选项：\n",
    "- -p：递归删除目录\n",
    "\n",
    "但 rmdir 命令的作用十分有限，因为只能刪除空目录，所以一旦目录中有内容，就会报错。"
   ]
  },
  {
   "cell_type": "markdown",
   "metadata": {},
   "source": [
    "# touch命令\n",
    "touch 的意思是触摸，如果文件不存在，则会建立空文件；如果文件已经存在，则会修改文件的时间戳（访问时间、数据修改时间、状态修改时间都会改变）。\n",
    "- 命令名称：touch。\n",
    "- 英文原意：change file timestamps。\n",
    "- 所在路径：/bin/touch。\n",
    "- 执行权限：所有用户。\n",
    "- 功能描述：修改文件的时间戳。\n",
    "## 命令格式\n",
    "```bash\n",
    "[root@localhost -]# touch [选项]文件名或目录名\n",
    "```\n",
    "选项：\n",
    "- -a：只修改文件访问时间（Access Time）\n",
    "- -c：如果文件不存在，则不新建文件"
   ]
  },
  {
   "cell_type": "code",
   "execution_count": null,
   "metadata": {},
   "outputs": [],
   "source": []
  }
 ],
 "metadata": {
  "kernelspec": {
   "display_name": "Python 3",
   "language": "python",
   "name": "python3"
  },
  "language_info": {
   "codemirror_mode": {
    "name": "ipython",
    "version": 3
   },
   "file_extension": ".py",
   "mimetype": "text/x-python",
   "name": "python",
   "nbconvert_exporter": "python",
   "pygments_lexer": "ipython3",
   "version": "3.7.0"
  }
 },
 "nbformat": 4,
 "nbformat_minor": 2
}
