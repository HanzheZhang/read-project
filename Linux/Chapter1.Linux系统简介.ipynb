{
 "cells": [
  {
   "cell_type": "markdown",
   "metadata": {},
   "source": [
    "# 操作系统概述"
   ]
  },
  {
   "cell_type": "markdown",
   "metadata": {},
   "source": [
    "计算机是一台机器，它按照用户的要求接收信息、存储数据、处理数据，然后再将处理结果输出。\n",
    "计算机由硬件和软件组成：\n",
    "- 硬件：是计算机赖以工作的实体，包括显示器、键盘、鼠标、硬盘、CPU、主板等\n",
    "- 软件：按照用户的要求协调整台计算机的工作，包括操作系统和应用程序。"
   ]
  },
  {
   "cell_type": "markdown",
   "metadata": {},
   "source": [
    "操作系统（Operating System， OS）是软件的一部分，它是硬件基础上的第一层软件，是硬件和其他软件沟通的桥梁。\n",
    "1. 文件系统：提供计算机存储信息的结构，信息存储在文件中，文件主要存储在计算机的内部硬盘里，在目录的分层结构中组织文件。文件系统为操作系统提供了组织管理数据的方式。\n",
    "2. 设备驱动程序：提供连接计算机的每个硬件设备的接口，设备驱动器使程序能够写入设备，而不需要了解执行每个硬件的细节。\n",
    "3. 用户接口：操作系统需要为用户提供一种运行程序和访问文件系统的方法。如常用的 Windows 图形界面，可以理解为一种用户与操作系统交互的方式；智能手机的 Android 或 iOS 系统，也是一种操作系统的交互方式。\n",
    "4. 系统服务程序：当计算机启动时，会自启动许多系统服务程序，执行安装文件系统、启动网络服务、运行预定任务等操作。"
   ]
  },
  {
   "cell_type": "markdown",
   "metadata": {},
   "source": [
    "![](http://c.biancheng.net/uploads/allimg/190305/1-1Z305103J0640.gif)"
   ]
  },
  {
   "cell_type": "markdown",
   "metadata": {},
   "source": [
    "# linux和unix的关系和区别"
   ]
  },
  {
   "cell_type": "markdown",
   "metadata": {},
   "source": [
    "## unix历史\n",
    "UNIX 操作系统由肯•汤普森（Ken Thompson）和丹尼斯•里奇（Dennis Ritchie）发明。它的部分技术来源可追溯到从 1965 年开始的 Multics 工程计划，该计划由贝尔实验室、美国麻省理工学院和通用电气公司联合发起，目标是开发一种交互式的、具有多道程序处理能力的分时操作系统，以取代当时广泛使用的批处理操作系统。\n",
    "\n",
    "可惜，由于 Multics 工程计划所追求的目标太庞大、太复杂，以至于它的开发人员都不知道要做成什么样子，最终以失败收场。\n",
    "\n",
    "以肯•汤普森为首的贝尔实验室研究人员吸取了 Multics 工程计划失败的经验教训，于 1969 年实现了一种分时操作系统的雏形，1970 年该系统正式取名为 UNIX。\n",
    "\n",
    "想一下英文中的前缀 Multi 和 Uni，就明白了 UNIX 的隐意。Multi 是大的意思，大而且繁；而 Uni 是小的意思，小而且巧。这是 UNIX 开发者的设计初衷，这个理念一直影响至今。\n",
    "\n",
    "有意思的是，肯•汤普森当年开发 UNIX 的初衷是运行他编写的一款计算机游戏 Space Travel，这款游戏模拟太阳系天体运动，由玩家驾驶飞船，观赏景色并尝试在各种行星和月亮上登陆。他先后在多个系统上试验，但运行效果不甚理想，于是决定自己开发操作系统，就这样，UNIX 诞生了。\n",
    "\n",
    "自 1970 年后，UNIX 系统在贝尔实验室内部的程序员之间逐渐流行起来。1971-1972 年，肯•汤普森的同事丹尼斯•里奇发明了传说中的C语言，这是一种适合编写系统软件的高级语言，它的诞生是 UNIX 系统发展过程中的一个重要里程碑，它宣告了在操作系统的开发中，汇编语言不再是主宰。\n",
    "\n",
    "到了 1973 年，UNIX 系统的绝大部分源代码都用C语言进行了重写，这为提高 UNIX 系统的可移植性打下了基础（之前操作系统多采用汇编语言，对硬件依赖性强），也为提高系统软件的开发效率创造了条件。可以说，UNIX 系统与C语言是一对孪生兄弟，具有密不可分的关系。\n",
    "\n",
    "20 世纪 70 年代初，计算机界还有一项伟大的发明——TCP/IP 协议，这是当年美国国防部接手 ARPAnet 后所开发的网络协议。美国国防部把 TCP/IP 协议与 UNIX 系统、C语言捆绑在一起，由 AT&T 发行给美国各个大学非商业的许可证，这为 UNIX 系统、C语言、TCP/IP 协议的发展拉开了序幕，它们分别在操作系统、编程语言、网络协议这三个领域影响至今。肯•汤普森和丹尼斯•里奇因在计算机领域做出的杰出贡献，于 1983 年获得了计算机科学的最高奖——图灵奖。\n",
    "\n"
   ]
  },
  {
   "cell_type": "markdown",
   "metadata": {},
   "source": [
    "## linux历史\n",
    "Linux 内核最初是由李纳斯•托瓦兹（Linus Torvalds）在赫尔辛基大学读书时出于个人爱好而编写的，当时他觉得教学用的迷你版 UNIX 操作系统 Minix 太难用了，于是决定自己开发一个操作系统。第 1 版本于 1991 年 9 月发布，当时仅有 10 000 行代码。\n",
    "\n",
    "李纳斯•托瓦兹没有保留 Linux 源代码的版权，公开了代码，并邀请他人一起完善 Linux。与 Windows 及其他有专利权的操作系统不同，Linux 开放源代码，任何人都可以免费使用它。\n",
    "\n",
    "据估计，现在只有 2% 的 Linux 核心代码是由李纳斯•托瓦兹自己编写的，虽然他仍然拥有 Linux 内核（操作系统的核心部分），并且保留了选择新代码和需要合并的新方法的最终裁定权。现在大家所使用的 Linux，我更倾向于说是由李纳斯•托瓦兹和后来陆续加入的众多 Linux 好者共同开发完成的。\n",
    "\n",
    "李纳斯•托瓦兹无疑是这个世界上最伟大的程序员之一，何况，他还搞出了全世界最大的程序员交友社区 GitHub (开源代码库及版本控制系统）。\n",
    "\n",
    "关于 Linux Logo 的由来是一个很有意思的话题，它是一只企鹅。"
   ]
  },
  {
   "cell_type": "markdown",
   "metadata": {},
   "source": [
    "## linux和unix的区别\n",
    "1. UNIX 系统大多是与硬件配套的，也就是说，大多数 UNIX 系统如 AIX、HP-UX 等是无法安装在 x86 服务器和个人计算机上的，而 Linux 则可以运行在多种硬件平台上；\n",
    "2. UNIX 是商业软件，而 Linux 是开源软件，是免费、公开源代码的。"
   ]
  },
  {
   "cell_type": "markdown",
   "metadata": {},
   "source": [
    "## linux/unix系统结构\n",
    "unix/linux系统可以粗糙地抽象为3个层次：底层是UNIX/Linux操作系统，即系统内核（Kernel）；中间层是Shell层，即命令解释层；高层则是应用层。\n",
    "![UNIX/Linux 系统结掏层次概要](http://c.biancheng.net/uploads/allimg/180926/2-1P926160U0153.jpg)\n",
    "- 内核层\n",
    "\n",
    "内核层是UNIX/Linux系统的核心和基础，它直接附着在硬件平台上，控制和管理系统内各种资源，有效地组织进程的运行，从而扩展硬件的功能，提高资源的利用效率，为用户体哦那个方便、高效、安全、可靠的应用环境。\n",
    "- Shell层\n",
    "\n",
    "Shell层是与用户直接交互的界面。用户可以在提示符下输入命令行，由Shell解释执行并输出相应的结果或者有关信息，所以也把Shell称作命令解释器，利用系统提供的丰富命令可以快捷而简便地完成许多工作。\n",
    "\n",
    "- 应用层\n",
    "\n",
    "应用层提供基于X Window协议的图形环境。X Window协议定义了一个系统所必须具备的功能（就如同 TCP/IP 是一个协议，定义软件所应具备的功能），可系统能满足此协议及符合 X 协会其他的规范，便可称为 X Window。现在大多数的 UNIX 系统上（包括 Solaris、HP-UX、AIX 等）都可以运行 CDE （Common Desktop Environment，通用桌面环境，是运行于 UNIX 的商业桌面环境）的用户界面；而在 Linux 上广泛应用的有 Gnome（见图  4）、KDE 等。\n",
    "\n",
    "X Window 与微软的 Windows 图形环境有很大的区别：\n",
    "* UNIX/Linux 系统与 X Window 没有必然捆绑的关系，也就是说，UNIX/Linux 可以安装 X Window，也可以不安装；而微软的 Windows 图形环境与内核捆绑密切。\n",
    "* UNIX/Linux 系统不依赖图形环境，依然可以通过命令行完成 100% 的功能，而且因为不使用图形环境还会节省大量的系统资源。"
   ]
  },
  {
   "cell_type": "markdown",
   "metadata": {},
   "source": [
    "# 类UNIX系统详解"
   ]
  },
  {
   "cell_type": "markdown",
   "metadata": {},
   "source": [
    "除去 Windows，几乎你所知道的每一个系统都是 UNIX 和类 UNIX，而且它们在 PC 普及前就大放异彩。Windows 仅仅占领了 PC，而别的方方面面都被 UNIX 和类 UNIX 占领了，至于其他的操作系统更是不值一提。比如：\n",
    "- 服务器、超级计算机、嵌入式、机顶盒领域都有 Linux 的身影；\n",
    "- 在手机领域，Android 和 iOS 都是类 UNIX 系统。"
   ]
  },
  {
   "cell_type": "markdown",
   "metadata": {},
   "source": [
    "# Linux的优缺点"
   ]
  },
  {
   "cell_type": "markdown",
   "metadata": {},
   "source": [
    "1. 大量可用软件和免费软件\n",
    "2. 良好的移植性和灵活性\n",
    "3. 优良的稳定性和安全性\n",
    "4. 几乎支持所有的网络协议和开发语言"
   ]
  },
  {
   "cell_type": "markdown",
   "metadata": {},
   "source": [
    "# Linux发行版"
   ]
  },
  {
   "cell_type": "markdown",
   "metadata": {},
   "source": [
    "1. Redhat\n",
    "2. Ubuntu\n",
    "3. SuSE\n",
    "4. Gentoo\n",
    "\n",
    "## Linux发行版本的选择\n",
    "1. 如果你需要的是一个服务器系统，而且已经厌烦了各种 Linux 的配置，只是想要一个比较稳定的服务器系统，那么建议你选择 CentOS 或 RHEL。\n",
    "2. 如果你只是需要一个桌面系统，而且既不想使用盗版，又不想花大价钱购买商业软件，不想自己定制，也不想在系统上浪费太多时间，则可以选择 Ubuntu。\n",
    "3. 如果你想深入摸索一下 Linux 各个方面的知识，而且还想非常灵活地定制自己的 Linux 系统，那就选择 Gentoo 吧，尽情享受 Gentoo 带来的自由快感。\n",
    "4. 如果你对系统稳定性要求很高，则可以考虑 FreeBSD。\n",
    "5. 如果你需要使用数据库高级服务和电子邮件网络应用，则可以选择 SuSE。"
   ]
  },
  {
   "cell_type": "markdown",
   "metadata": {},
   "source": [
    "# Linux桌面环境\n",
    "Linux 中的桌面环境也是一个程序，它和内核不是绑定的，两者的开发也不是同步的；给不带界面的 Linux 系统安装上一个桌面环境，你就能看到各种漂亮的窗口，并能用鼠标点击它们了。\n",
    "## 查看桌面环境\n",
    "```bash\n",
    "[c.biancheng.net]$ echo $DESKTOP_SESSION\n",
    "```\n",
    "另外，你也可以查看/etc下有没有对应的目录，例如 gnome 目录或者 kde 目录，如果有的话，就说明已经安装了。"
   ]
  },
  {
   "cell_type": "markdown",
   "metadata": {},
   "source": [
    "# Linux的应用领域"
   ]
  },
  {
   "cell_type": "markdown",
   "metadata": {},
   "source": [
    "- 网站服务器\n",
    "- 电影工业\n",
    "- 嵌入式应用"
   ]
  },
  {
   "cell_type": "markdown",
   "metadata": {},
   "source": [
    "# 运维工程师\n",
    "![](http://c.biancheng.net/uploads/allimg/180928/1-1P92Q43315106.jpg)"
   ]
  },
  {
   "cell_type": "markdown",
   "metadata": {},
   "source": [
    "可以看出来，Linux（包括 CentOS、Ubuntu 等）已经占据了 80% 左右的市场份额，剩下的基本被 Windows 和 Solaris 瓜分。\n",
    "\n",
    "Linux 在服务器上的应用非常广泛，可以用来搭建 Web 服务器、数据库服务器、负载均衡服务器（CDN）、邮件服务器、DNS服务器、反向代理服务器、VPN服务器、路由器等。用 Linux 作为服务器系统不但非常高效和稳定，还不用担心版权问题，不用付费。正是由于 Linux 服务器的大规模应用，才需要一批专业的人才去管理，这群人就是 Linux 运维工程师（OPS）。OPS 就是负责 Linux 服务器的运行和维护。随着互联网的爆发，Linux 运维在最近几年也迎来了春天，出现了大量的职位需求，催生了一批 Linux 运维培训班。OPS 的主要工作就是搭建起运行环境，让程序员写的代码能够高效、稳定、安全地在服务器上运行，他们属于后勤部门。OPS 的要求并不比程序员低，优秀的 OPS 拥有架设服务器集群的能力，还会编程开发常用的工具。\n",
    "\n",
    "OPS 这项工作的细节内容包括：\n",
    "- 安装操作系统，例如 CentOS、Ubuntu 等。\n",
    "- 部署代码运行环境，例如网站后台语言采用 PHP，就需要安装 Nginx、Apache、MySQL、PHP运行时等。\n",
    "- 及时修复漏洞，防止服务器被攻击，这包括Linux本身漏洞以及各个软件的漏洞。\n",
    "- 根据项目需求升级软件，例如 PHP 7.0 在性能方面获得了重大突破，如果现在服务器压力比较大，就可以考虑将旧版的 PHP 5.x 升级到 PHP 7.0。\n",
    "- 监控服务器压力，别让服务器宕机。例如淘宝双十一的时候就会瞬间涌入大量用户，导致部分服务器宕机，网页没法访问，甚至连支付宝都不能使用。\n",
    "- 分析日志，及时发现代码或者环境的问题，通知相关人员修复。"
   ]
  },
  {
   "cell_type": "markdown",
   "metadata": {},
   "source": [
    "# 开源软件"
   ]
  },
  {
   "cell_type": "markdown",
   "metadata": {},
   "source": [
    "开源软件的有点：\n",
    "\n",
    "优点|说明\n",
    "----|----\n",
    "低风险|使用闭源软件无疑是把命运交给他人，一旦封闭的源代码没有人来维护，你将进退维谷；而且相较于商业软件公司，开源社区很少存在倒闭的问题。\n",
    "高品质|相较于闭源软件产品，开源项目通常是由开源社区来研发及维护的，参与编写、维护、测试的用户量众多，一般的 bug 还没有等爆发就已经被修补。\n",
    "低成本|开源工作者都是在幕后默默且无偿地付出劳动成果，为美好的世界贡献一份力量，因此使用开源社区推动的软件项目可以节省大量的人力、物力和财力。\n",
    "更透明|没有哪个笨蛋会把木马、后门等放到开放的源代码中，这样无疑是把自己的罪行暴露在阳光之下。"
   ]
  },
  {
   "cell_type": "markdown",
   "metadata": {},
   "source": [
    "典型的开源软件：\n",
    "\n",
    "软件|说明\n",
    "----|----\n",
    "Linux|Linux 是一款开源的操作系统，它的内核由多名极客共同维护。Linux 是开源软件的经典之作、代表之作、巅峰之作。\n",
    "Apache|世界使用排名第一的 Web 服务器软件。\n",
    "MySQL|世界上最流行的关系型数据库，适合中小型网站。\n",
    "Firefox|火狐浏览器。在 Chrome 推出之前，Firefox 几乎是最快速的浏览器，直到现在也是 Web 开发人员的调试利器。\n",
    "OpenOffice|套跨平台的办公软件套件，类似 Microsoft Office。\n",
    "GCC|C语言/C++编译器。\n",
    "Java/PHP/Python|开源的编程语言。"
   ]
  },
  {
   "cell_type": "markdown",
   "metadata": {},
   "source": [
    "![](http://c.biancheng.net/uploads/allimg/190328/1-1Z32QA10W42.jpg)"
   ]
  },
  {
   "cell_type": "markdown",
   "metadata": {},
   "source": [
    "# 开源协议"
   ]
  },
  {
   "cell_type": "markdown",
   "metadata": {},
   "source": [
    "![](http://c.biancheng.net/uploads/allimg/190328/1-1Z32QI643931.gif)"
   ]
  },
  {
   "cell_type": "markdown",
   "metadata": {},
   "source": []
  }
 ],
 "metadata": {
  "kernelspec": {
   "display_name": "Python 3",
   "language": "python",
   "name": "python3"
  },
  "language_info": {
   "codemirror_mode": {
    "name": "ipython",
    "version": 3
   },
   "file_extension": ".py",
   "mimetype": "text/x-python",
   "name": "python",
   "nbconvert_exporter": "python",
   "pygments_lexer": "ipython3",
   "version": "3.7.0"
  }
 },
 "nbformat": 4,
 "nbformat_minor": 2
}
