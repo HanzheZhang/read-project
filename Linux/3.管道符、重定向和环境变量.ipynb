{
 "cells": [
  {
   "cell_type": "markdown",
   "metadata": {},
   "source": [
    "# 3.1 输入输出重定向\n",
    "输入重定向是指把文件导入到命令中，而输出重定向则是指把原本要输出到屏幕的数据信息写入到指定文件中。输出重定向分为了标准输出重定向和错误输出重定向两种不同的技术，以及清空写入与追加写入两种模式。\n",
    "\n",
    ">标准输入重定向（STDIN，文件描述符为0）：默认从键盘输入，也可从其他文件或命令中输入。\n",
    ">标准输出重定向（STDOUT，文件描述符为1）：默认输出到屏幕。\n",
    ">错误输出重定向（STDERR，文件描述符为2）：默认输出到屏幕。\n",
    "\n",
    " 输入重定向中用到的符号及其作用\n",
    "\n",
    "符号|作用\n",
    "----|----\n",
    "命令 < 文件|将文件作为命令的标准输入\n",
    "命令 << 分界符|从标准输入中读入，直到遇见分界符才停止\n",
    "命令 < 文件1 > 文件2|将文件1作为命令的标准输入并将标准输出到文件2\n",
    "\n",
    " 输出重定向中用到的符号及其作用\n",
    "\n",
    "符号|作用\n",
    "----|----\n",
    "命令 > 文件|将标准输出重定向到一个文件中（清空原有文件的数据）\n",
    "命令 2> 文件|将错误输出重定向到一个文件中（清空原有文件的数据）\n",
    "命令 >> 文件|将标准输出重定向到一个文件中（追加到原有内容的后面）\n",
    "命令 2>> 文件|将错误输出重定向到一个文件中（追加到原有内容的后面）\n",
    "命令 >> 文件 2>&1 或 命令 &>> 文件|将标准输出与错误输出共同写入到文件中（追加到原有内容的后面）\n",
    "\n",
    "通过标准输出重定向将man bash命令原本要输出到屏幕的信息写入到文件readme.txt中，然后显示readme.txt文件中的内容。具体命令如下：\n",
    "```bash\n",
    "[root@linuxprobe ~]# man bash > readme.txt\n",
    "[root@linuxprobe ~]# cat readme.txt \n",
    "BASH(1)                     General Commands Manual                    BASH(1)\n",
    "NAME\n",
    "bash - GNU Bourne-Again Shell\n",
    "\n",
    "SYNOPSIS\n",
    "bash [options] [file]\n",
    "\n",
    "COPYRIGHT\n",
    "Bash is Copyright (C) 1989-2011 by the Free Software Foundation, Inc.\n",
    "\n",
    "DESCRIPTION\n",
    "Bash  is  an  sh-compatible  command language interpreter that executes\n",
    "commands read from the standard input or from a file.  Bash also incor‐\n",
    "porates useful features from the Korn and C shells (ksh and csh).\n",
    "\n",
    "Bash  is  intended  to  be a conformant implementation of the Shell and\n",
    "Utilities portion  of  the  IEEE  POSIX  specification  (IEEE  Standard\n",
    "1003.1).  Bash can be configured to be POSIX-conformant by default.\n",
    "\n",
    "………………省略部分输出信息………………\n",
    "```"
   ]
  },
  {
   "cell_type": "markdown",
   "metadata": {},
   "source": [
    "# 3.2 管道命令符\n",
    "管道命令符的作用也可以用一句话来概括“把前一个命令原本要输出到屏幕的标准正常数据当作是后一个命令的标准输入”。\n",
    "\n",
    "在修改用户密码时，通常都需要输入两次密码以进行确认，这在编写自动化脚本时将成为一个非常致命的缺陷。通过把管道符和passwd命令的--stdin参数相结合，我们可以用一条命令来完成密码重置操作：\n",
    "```bash\n",
    "[root@linuxprobe ~]# echo \"linuxprobe\" | passwd --stdin root\n",
    "Changing password for user root.\n",
    "passwd: all authentication tokens updated successfully.\n",
    "```\n",
    "比如，在发送电子邮件时，默认采用交互式的方式来进行，我们完全可以利用一条结合了管道符的命令语句，把编辑好的内容与标题一起“打包”，最终用这一条命令实现邮件的发送。\n",
    "```bash\n",
    "[root@linuxprobe ~]# echo \"Content\" | mail -s \"Subject\" linuxprobe\n",
    "[root@linuxprobe ~]# su - linuxprobe\n",
    "Last login: Fri Jul 10 09:44:07 CST 2017 on :0\n",
    "[linuxprobe@linuxprobe ~]$ mail\n",
    "Heirloom Mail version 12.5 7/5/10. Type ? for help.\n",
    "\"/var/spool/mail/linuxprobe\": 1 message 1 new\n",
    ">N 1 root Sun Aug 30 17:33 18/578 \"Subject\"\n",
    "```"
   ]
  },
  {
   "cell_type": "markdown",
   "metadata": {},
   "source": [
    "# 3.2 命令行通配符\n"
   ]
  }
 ],
 "metadata": {
  "kernelspec": {
   "display_name": "Python 3",
   "language": "python",
   "name": "python3"
  },
  "language_info": {
   "codemirror_mode": {
    "name": "ipython",
    "version": 3
   },
   "file_extension": ".py",
   "mimetype": "text/x-python",
   "name": "python",
   "nbconvert_exporter": "python",
   "pygments_lexer": "ipython3",
   "version": "3.7.0"
  }
 },
 "nbformat": 4,
 "nbformat_minor": 2
}
