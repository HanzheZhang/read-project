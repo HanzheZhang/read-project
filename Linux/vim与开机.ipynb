{
 "cells": [
  {
   "cell_type": "markdown",
   "metadata": {},
   "source": [
    "# Linux 目录结构"
   ]
  },
  {
   "cell_type": "markdown",
   "metadata": {},
   "source": [
    "## 基本介绍\n",
    "linux采用级层式树状结构目录，最上层是根目录“/”\n",
    "\n",
    "\n",
    "在linux中，一切皆为文件\n",
    "\n",
    "- /dev 管理设备目录\n",
    "- /media 媒体管理器\n",
    "- /bin 常用指令\n",
    "- /etc 配置文件管理\n",
    "- /home 家目录\n",
    "- /lib 动态库\n",
    "- /mnt 挂在文件夹\n",
    "- /opt 安装文件\n",
    "- /usr 用户安装目录，类似于windows的programm files目录\n",
    "- /sbin 超级用户\n",
    "- /var 日志\n",
    "- /boot 核心文件\n",
    "\n",
    "总结：\n",
    "    1. linux的目录有且只有一个根目录\n",
    "    2. linux的各个目录的内容是预先规划好的\n",
    "    3. linux是以文件的形式来管理设备"
   ]
  },
  {
   "cell_type": "markdown",
   "metadata": {},
   "source": [
    "#  vi 和 vim 编辑器\n",
    "## 基本介绍\n",
    "所有的linux系统中都会内置vi。\n",
    "\n",
    "vim可以看作vi的增强版。\n",
    "## vi和vim的三种模式\n",
    "- 正常模式\n",
    "- 插入模式\n",
    "- 命令行模式\n",
    "![三种模式转换](http://t12.baidu.com/it/u=272278919,2890776915&fm=173&s=EEE1E05EABA845035A7DA1DB010080B3&w=418&h=159&img.GIF)\n",
    "## vi/vim快捷键\n",
    "![vi/vim快捷键](https://www.runoob.com/wp-content/uploads/2015/10/vi-vim-cheat-sheet-sch1.gif)"
   ]
  },
  {
   "cell_type": "markdown",
   "metadata": {},
   "source": [
    "操作|意义\n",
    "----|-----\n",
    "h 或 ←|光标左移一个字符\n",
    "j 或 ↓|光标下移一行\n",
    "k 或 ↑|光标上移一行\n",
    "l (小写字母 L) 或 →|光标右移一个字符\n",
    "H|光标移至屏幕顶行\n",
    "L|光标移至屏幕末行\n",
    "G|光标移至文件末行\n",
    "w|光标右移一个词\n",
    "b|光标左移一个词\n",
    "0 (数字零)|光标移至行首\n",
    "^|光标移至当前行第一个非空格字符\n",
    "|\n",
    "\\$|光标移至当前行行尾\n",
    "Ctrl-B|向后翻页\n",
    "Ctrl-F|向前翻页\n",
    "i|在光标所在位置插入文本\n",
    "I (大写字母 i)|在当前行首插入文本\n",
    "J (大写字母 j)|将下一行与当前行合并（下一行上移到当前行）\n",
    "a|在光标所在位置后追加文本\n",
    "o (小写字母 O)|在当前行下边插入空白行\n",
    "O (大写字母 O)|在当前行上边插入空白行\n",
    "r|替换光标所在位置的一个字符\n",
    "R|从光标所在位置开始覆盖插入文本\n",
    "x|删除光标所在位置的字符\n",
    "X|立即删除光标所在位置之前（左边）的一个字符\n",
    "dd|剪切当前整行文本（为了之后进行粘贴）\n",
    "D|剪切光标所在位置到行末的文本（该命令等效于 d$）\n",
    "yX|给出一个移动命令 X （如 h、j、H、L 等），复制适当数量的字符、单词或者从光标开始到一定数量的行\n",
    "yy 或 Y|复制当前整行\n",
    "p|粘贴在光标所在位置之后（下一行）\n",
    "P|粘贴在光标所在位置之前（上一行）\n",
    ". (句点)|重复最后一个命令\n",
    "u|撤销最后一个命令\n",
    "U|撤销最后一行的最后一个命令，只有光标仍在最后一行才能执行。\n",
    "n|在查找中跳到下一个匹配项\n",
    "N|在查找中跳到前一个匹配项\n",
    "|\n",
    ":n|下一个文件，编辑多个指定文件时，该命令加载下一个文件。\n",
    ":e file|加载新文件来替代当前文件\n",
    ":r file|将新文件的内容插入到光标所在位置的下一行\n",
    ":q|退出并放弃更改\n",
    ":w file|将当期打开的缓存区保存为file。如果是追加到已存在的文件中，则使用 ：w >> file 命令\n",
    ":wq|保存当前文件的内容并退出。等效于 x! 和 ZZ\n",
    ":r! command|执行 command 命令，并将命令的输出插入到光标所在位置的下一行"
   ]
  },
  {
   "cell_type": "markdown",
   "metadata": {},
   "source": [
    "# 开机、重启和用户登陆注销\n",
    "## 基本介绍\n",
    "- shutdown\n",
    "    - shutdown -h now:表示立即关机\n",
    "    - shutdown -h 1:表示一分钟后关机\n",
    "    - shutdown -r now:表示立即重启\n",
    "- halt：直接使用，效果等价于关机\n",
    "- reboot：重启系统\n",
    "- syn：把内存数据同步到磁盘\n",
    "    -注意：在关机或重启时，要先执行syn命令，把内存数据写入到磁盘，防止数据丢失\n",
    "- su user：登陆用户\n",
    "- logout：注销用户"
   ]
  }
 ],
 "metadata": {
  "kernelspec": {
   "display_name": "Python 3",
   "language": "python",
   "name": "python3"
  },
  "language_info": {
   "codemirror_mode": {
    "name": "ipython",
    "version": 3
   },
   "file_extension": ".py",
   "mimetype": "text/x-python",
   "name": "python",
   "nbconvert_exporter": "python",
   "pygments_lexer": "ipython3",
   "version": "3.6.5"
  }
 },
 "nbformat": 4,
 "nbformat_minor": 2
}
