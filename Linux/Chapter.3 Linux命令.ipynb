{
 "cells": [
  {
   "cell_type": "markdown",
   "metadata": {},
   "source": [
    "# Linux命令的基本格式\n",
    "## 命令提示符\n",
    "登录系统后，第一眼看到的内容是：\n",
    "```bash\n",
    "[root@localhost ~]#\n",
    "```\n",
    "这就是 Linux 系统的命令提示符。那么，这个提示符的含义是什么呢？\n",
    "- []：这是提示符的分隔符号，没有特殊含义。\n",
    "- root：显示的是当前的登录用户，笔者现在使用的是 root 用户登录。\n",
    "- @：分隔符号，没有特殊含义。\n",
    "- localhost：当前系统的简写主机名（完整主机名是 localhost.localdomain）。\n",
    "- ~：代表用户当前所在的目录，此例中用户当前所在的目录是家目录。\n",
    "- #：命令提示符，Linux 用这个符号标识登录的用户权限等级。如果是超级用户，提示符就是 #；如果是普通用户，提示符就是 \\$。"
   ]
  },
  {
   "cell_type": "markdown",
   "metadata": {},
   "source": [
    "## 命令的基本格式\n",
    "Linux 命令的基本格式:\n",
    "```bash\n",
    "[root@localhost ~]# 命令[选项][参数]\n",
    "```\n",
    "**命令的选项用于调整命令功能，而命令的参数是这个命令的操作对象。**"
   ]
  },
  {
   "cell_type": "markdown",
   "metadata": {},
   "source": [
    "# ls命令"
   ]
  },
  {
   "cell_type": "markdown",
   "metadata": {},
   "source": [
    "- 命令名称：ls\n",
    "- 英文原意：list\n",
    "- 所在路径：/bin/ls\n",
    "- 执行权限：所有用户\n",
    "- 功能描述：显示当前目录下的内容\n",
    "## 命令格式\n",
    "```bash\n",
    "[root@localhost ~]#ls [选项][文件名或目录名]\n",
    "```\n",
    "选项：\n",
    "- -a：显示所有文件\n",
    "- -color=when：支撑颜色输出，when值的默认值是always（总是显示颜色），也可以是never（从不显示颜色）和auto（自动）\n",
    "- -d：显示目录信息，而不是目录下的文件\n",
    "- -h：人性化显示，按照我们习惯的单位显示文件大小\n",
    "- -i：显示文件的i结点号\n",
    "    - 第一列：权限，具体权限的含义将在后续章节中讲解。\n",
    "    - 第二列：引用计数，文件的引用计数代表该文件的硬链接个数，而目录的引用计数代表该目录有多少个一级子目录。\n",
    "    - 第三列：所有者，也就是这个文件属于哪个用户。默认所有者是文件的建立用户\n",
    "    - 第四列：所属组，默认所属组是文件建立用户的有效组，一般情况下就是建立用户的所在组。\n",
    "    - 第五列：大小，默认单位是字节。\n",
    "    - 第六列：文件修改时间，文件状态修改时间或文件数据修改时间都会更改这个时间，注意这个时间不是文件的创建时间。\n",
    "    - 第七列：文件名。\n",
    "- -l：长格式显示"
   ]
  },
  {
   "cell_type": "markdown",
   "metadata": {},
   "source": [
    "# cd命令"
   ]
  },
  {
   "cell_type": "markdown",
   "metadata": {},
   "source": [
    "- 命令名称：cd。\n",
    "- 英文原意：change directory。\n",
    "- 所在路径：Shell 内置命令。\n",
    "- 执行权限：所有用户。\n",
    "- 功能描述：切换所在目录。\n",
    "## 命令格式\n",
    "```bash\n",
    "[root@localhost ~]#cd [目录名]\n",
    "```\n",
    "选项：\n",
    "- -P（大写）是指如果切换的目录是软链接目录，则进入其原始的物理目录，而不是进入软链接目录；\n",
    "- -L（大写）是指如果切换的目录是软链接目录，则直接进入软链接目录。\n",
    "\n",
    "cd命令特殊符号：\n",
    "\n",
    "符号|作用\n",
    "----|----\n",
    "~|代表用户的家目录\n",
    "-|代表上次所在的目录\n",
    ".|代表当前目录\n",
    "..|代表上级目录"
   ]
  },
  {
   "cell_type": "markdown",
   "metadata": {},
   "source": [
    "## 绝对路劲和相对路径\n",
    " Linux 有最高目录，也就是根目录。如果路径是从根目录开始，一级一级指定的，那使用的就是绝对路径。\n",
    " \n",
    " 所谓相对路径，就是只从当前所在目录开始，切换目录。"
   ]
  },
  {
   "cell_type": "markdown",
   "metadata": {},
   "source": [
    "# mkdir命令"
   ]
  },
  {
   "cell_type": "markdown",
   "metadata": {},
   "source": [
    "- 命令名称：mkdir。\n",
    "- 英文原意：make directories。\n",
    "- 所在路径：/bin/mkdir。\n",
    "- 执行权限：所有用户。\n",
    "- 功能描述：创建空目录。\n",
    "## 命令格式：\n",
    "```bash\n",
    "[root@localhost -]# mkdir [选项]目录名\n",
    "```\n",
    "选项：\n",
    "- -p: 递归建立所需目录"
   ]
  },
  {
   "cell_type": "markdown",
   "metadata": {},
   "source": [
    "# rmdir命令"
   ]
  },
  {
   "cell_type": "markdown",
   "metadata": {},
   "source": [
    "- 命令名称：rmdir。\n",
    "- 英文原意：remove empty directories。\n",
    "- 所在路径：/bin/rmdir。\n",
    "- 执行权限：所有用户。\n",
    "- 功能描述：删除空目录。\n",
    "## 命令格式\n",
    "```bash\n",
    "[root@localhost -]# rmdir [选项]目录名\n",
    "```\n",
    "选项：\n",
    "- -p：递归删除目录\n",
    "\n",
    "但 rmdir 命令的作用十分有限，因为只能刪除空目录，所以一旦目录中有内容，就会报错。"
   ]
  },
  {
   "cell_type": "markdown",
   "metadata": {},
   "source": [
    "# touch命令\n",
    "touch 的意思是触摸，如果文件不存在，则会建立空文件；如果文件已经存在，则会修改文件的时间戳（访问时间、数据修改时间、状态修改时间都会改变）。\n",
    "- 命令名称：touch。\n",
    "- 英文原意：change file timestamps。\n",
    "- 所在路径：/bin/touch。\n",
    "- 执行权限：所有用户。\n",
    "- 功能描述：修改文件的时间戳。\n",
    "## 命令格式\n",
    "```bash\n",
    "[root@localhost -]# touch [选项]文件名或目录名\n",
    "```\n",
    "选项：\n",
    "- -a：只修改文件访问时间（Access Time）\n",
    "- -c：如果文件不存在，则不新建文件\n",
    "- -d：把文件的时间改为指定的时间\n",
    "- -m：只修改文件的数据修改时间（Modify Time）\n",
    "\n",
    "Linux 中的每个文件都有三个时间，分别是**访问时间（Access Time）、数据修改时间（Modify Time）和状态修改时间（Change Time）**。touch 命令只能手工指定只修改访问时间，或是只修改数据修改时间，而不能指定只修改状态修改时间。因为不论是修改访问时间，还是修改文件的数据时间，对文件来讲，状态都会发生改变，即状态修改时间会随之改变。"
   ]
  },
  {
   "cell_type": "markdown",
   "metadata": {},
   "source": [
    "# stat命令\n",
    "- 命令名称：stat。\n",
    "- 英文原意：display file or file system status。\n",
    "- 所在路径：/usr/bin/stat。\n",
    "- 执行权限：所有用户。\n",
    "- 功能描述：显示文件或文件系统的详细信息。\n",
    "## 命令格式\n",
    "```bash\n",
    "[root@localhost ~]# stat [选项]文件名或目录名\n",
    "```\n",
    "选项：\n",
    "- -f：査看文件所在的文件系统信息，而不是査看文件的信息。"
   ]
  },
  {
   "cell_type": "markdown",
   "metadata": {},
   "source": [
    "# cat命令\n",
    "- 命令名称：cat。\n",
    "- 英文原意：concatenate files and print on the standard output。\n",
    "- 所在路径：/bin/cat。\n",
    "- 执行权限：所有用户。\n",
    "- 功能描述：连接文件并打印输出到标准输出。\n",
    "\n",
    "命令格式：\n",
    "```bash\n",
    "[root@localhost ~]# cat [选项]文件名\n",
    "```\n",
    "选项：\n",
    "- -A：相当于 -vET 选项的整合，用于列出所有隐藏符号；\n",
    "- -E：列出每行结尾的回车符 \\$；\n",
    "- -n：显示行号；\n",
    "- -T：把 Tab 键 ^I 显示出来；\n",
    "- -V：列出特殊字符；"
   ]
  },
  {
   "cell_type": "markdown",
   "metadata": {},
   "source": [
    "# more命令\n",
    "- 命令名称：more。\n",
    "- 英文原意：file perusal filter for crt viewin。\n",
    "- 所在路径：/bin/more。\n",
    "- 执行权限：所有用户。\n",
    "- 功能描述：分屏显示文件内容。\n",
    "\n",
    "命令格式：\n",
    "```bash\n",
    "[root@localhost ~]# more 文件名\n",
    "```\n",
    "交互命令：\n",
    "- 空格键：向下翻页。\n",
    "- b：向上翻页。\n",
    "- 回车键：向下滚动一行。\n",
    "- / 字符串：搜索指定的字符串。\n",
    "- q：退出。"
   ]
  },
  {
   "cell_type": "markdown",
   "metadata": {},
   "source": [
    "# head命令\n",
    "- 命令名称：head。\n",
    "- 英文原意：output the first part of files。\n",
    "- 所在路径：/usr/bin/head。\n",
    "- 执行权限：所有用户。\n",
    "- 功能描述：显示文件开头的内容。\n",
    "\n",
    "命令格式\n",
    "```bash\n",
    "[root@localhost ~]# head [选项]文件名\n",
    "```\n",
    "选项：\n",
    "- -n 行数： 从文件头开始，显示指定行数；\n",
    "- -v：显示文件名；"
   ]
  },
  {
   "cell_type": "markdown",
   "metadata": {},
   "source": [
    "# tail命令\n",
    "- 命令名称：tail。\n",
    "- 英文原意：output the last part of files。\n",
    "- 所在路径：/usr/bin/tail。\n",
    "- 执行权限：所有用户。\n",
    "- 功能描述：显示文件结尾的内容。\n",
    "\n",
    "命令格式：\n",
    "```bash\n",
    "[root@localhost ~]#tail [选项] 文件名\n",
    "```\n",
    "选项：\n",
    "- -n 行数：从文條尾开始，显示指定行数\n",
    "- -f：监听文件的新増内容"
   ]
  },
  {
   "cell_type": "markdown",
   "metadata": {},
   "source": [
    "# ln命令\n",
    "- 命令名称：ln。\n",
    "- 英文原意：make links between file0\n",
    "- 所在路径：/bin/ln。\n",
    "- 执行权限：所有用户。\n",
    "- 功能描述：在文件之间建立链接。\n",
    "\n",
    "命令格式：\n",
    "```bash\n",
    "[root@localhost ~]# ln [选项] 源文件 目标文件    \n",
    "```\n",
    "选项：\n",
    "- -s：建立软链接文件。如果不加\"-s\"选项，则建立硬链接文件；\n",
    "- -f：强制。如果目标文件已经存在，则删除目标文件后再建立链接文件；\n",
    "\n",
    "创建硬链接：\n",
    "```bash\n",
    "[root@localhost ~]# touch cangls\n",
    "[root@localhost ~]# ln /root/cangls /tmp/\n",
    "#建立硬链接文件，目标文件没有写文件名，会和原名一致\n",
    "#也就是 /root/cangls 和 /tmp/cangls 是硬链接文件\n",
    "```\n",
    "创建软链接：\n",
    "```bash\n",
    "[root@localhost ~]# touch bols\n",
    "[root@localhost ~]# In /root/bols /tmp/\n",
    "#建立软链接文件\n",
    "```\n",
    "**这里需要注意，软链接文件的源文件必须写成绝对路径，而不能写成相对路径（硬链接没有这样的要求）；否则软链接文件会报错。这是初学者非常容易犯的错误。**\n"
   ]
  },
  {
   "cell_type": "markdown",
   "metadata": {},
   "source": [
    "# rm命令\n",
    "- 命令名称：rm\n",
    "- 英文原意：remove files or directories。\n",
    "- 所在路径：/bin/rm。\n",
    "- 执行权限：所有用户。\n",
    "- 功能描述：删除文件或目录。\n",
    "\n",
    "命令格式：\n",
    "```bash\n",
    "[root@localhost ~]# rm[选项] 文件或目录\n",
    "```\n",
    "选项：\n",
    "- -f：强制删除（force）\n",
    "- -i：交互删除，在删除之前会询问用户\n",
    "- -r：递归删除，可以删除目录（recursive）"
   ]
  },
  {
   "cell_type": "markdown",
   "metadata": {},
   "source": [
    "# cp命令\n",
    "- 命令名称：cp；\n",
    "- 英文原意：copy files and directories；\n",
    "- 所在路径：/bin/cp；\n",
    "- 执行权限：所有用户；\n",
    "- 功能描述：复制文件和目录；\n",
    "\n",
    "命令格式：\n",
    "```bash\n",
    "[root@localhost ~]# cp [选项] 源文件 目标文件\n",
    "```\n",
    "选项：\n",
    "- -a：相当于 -d、-p、-r 选项的集合，这几个选项我们一一介绍；\n",
    "- -d：如果源文件为软链接（对硬链接无效），则复制出的目标文件也为软链接；\n",
    "- -i：询问，如果目标文件已经存在，则会询问是否覆盖；\n",
    "- -l：把目标文件建立为源文件的硬链接文件，而不是复制源文件；\n",
    "- -s：把目标文件建立为源文件的软链接文件，而不是复制源文件；\n",
    "- -p：复制后目标文件保留源文件的属性（包括所有者、所属组、权限和时间）；\n",
    "- -r：递归复制，用于复制目录；"
   ]
  },
  {
   "cell_type": "markdown",
   "metadata": {},
   "source": [
    "# mv命令\n",
    "- 命令名称：mv。\n",
    "- 英文原意：move(rename)files。\n",
    "- 所在路径：/bin/mv。\n",
    "- 执行权限：所有用户。\n",
    "- 功能描述：移动文件或改名。\n",
    "\n",
    "命令格式：\n",
    "```bash\n",
    "[root@localhost ~]# mv 【选项】 源文件 目标文件\n",
    "```\n",
    "选项：\n",
    "- -f：强制覆盖，如果目标文件已经存在，则不询问，直接强制覆盖；\n",
    "- -i：交互移动，如果目标文件已经存在，则询问用户是否覆盖（默认选项）；\n",
    "- -n：如果目标文件已经存在，则不会覆盖移动，而且不询问用户；\n",
    "- -v：显示详细信息；"
   ]
  },
  {
   "cell_type": "markdown",
   "metadata": {},
   "source": [
    "# chmod命令\n",
    "- 命令名称：chmod。\n",
    "- 英文原意：change file mode bits。\n",
    "- 所在路径：/bin/chmod。\n",
    "- 执行权限：所有用户。\n",
    "- 功能描述：修改文件的权限模式。\n",
    "\n",
    "命令格式：\n",
    "```bash\n",
    "[root@localhost ~]# chmod [选项] 权限模式 文件名\n",
    "```\n",
    "选项：\n",
    "- -R：递归设置权限，也就是给子目录中的所有文件设定权限\n",
    "- 用户身份：\n",
    "    - -u：代表所有者(user)。\n",
    "    - -g：代表所属组(group)。\n",
    "    - -o：代也人(other)。\n",
    "    - -a：代表全部身份(all)。\n",
    "- 赋予方式：\n",
    "    - -+：加入权限。\n",
    "    - --：减去权限。\n",
    "    - -=：设置权限。\n",
    "- 权限：\n",
    "    - -r：读取权限(read)。\n",
    "    - -w：写权限(write)。\n",
    "    - -x：执行权限(execute)。\n",
    "- 数字权限\n",
    "    - 4：代表\"r\"权限。\n",
    "    - 2：代表\"w\"权限。\n",
    "    - 1：代表\"x\"权限。\n",
    "- 常用权限\n",
    "    - 644：这是文件的基本权限，代表所有者拥有读、写权限，而所属组和其他人拥有只读权限。\n",
    "    - 755：这是文件的执行权限和目录的基本权限，代表所有者拥有读、写和执行权限，而所属组和其他人拥有读和执行权限。\n",
    "    - 777:这是最大权限。在实际的生产服务器中，要尽力避免给文件或目录赋予这样的权限，这会造成一定的安全隐患。"
   ]
  },
  {
   "cell_type": "markdown",
   "metadata": {},
   "source": [
    "## 权限对文件的作用。\n",
    "- 读(r)：对文件有读（r）权限，代表可以读取文件中的数据。如果把权限对应到命令上，那么一旦对文件有读（r）权限，就可以对文件执行 cat、more、less、head、tail 等文件查看命令。\n",
    "- 写(w)：对文件有写（w）权限，代表可以修改文件中的数据。如果把权限对应到命令上，那么一旦对文件有写（w）权限，就可以对文件执行 vim、echo 等修改文件数据的命令。注意，对文件有写权限，是不能删除文件本身的，只能修改文件中的数据。如果要想删除文件，则需要对文件的上级目录拥有写权限。\n",
    "- 执行(x)：对文件有执行（x）权限，代表文件拥有了执行权限，可以运行。在 Linux 中，只要文件有执行（x）权限，这个文件就是执行文件了。只是这个文件到底能不能正确执行，不仅需要执行（x）权限，还要看文件中的代码是不是正确的语言代码。对文件来说，执行（x）权限是最高权限。\n",
    "\n",
    "## 权限对目录的作用\n",
    "- 读(r)：对目录有读 （r）权限，代表可以查看目录下的内容，也就是可以查看目录下有哪些子文件和子目录。如果把权限对应到命令上，那么一旦对目录拥有了读（r）权限，就可以在目录下执行 ls 命令，查看目录下的内容了。\n",
    "- 写(w)：对目录有写（r）权限，代表可以修改目录下的数据，也就是可以在目录中新建、删除、复制、剪切子文件或子目录。如果把权限对应到命令上，那么一旦对目录拥有了写（w）权限，就可以在目录下执行 touch、rm、cp、mv 命令。对目录来说，写（w）权限是最高权限。\n",
    "- 执行(x)：目录是不能运行的，那么对目录拥有执行（x）权限，代表可以进入目录。如果把权限对应到命令上，那么一旦对目录拥有了执行（x）权限，就可以对目录执行 cd 命令，进入目录。"
   ]
  },
  {
   "cell_type": "markdown",
   "metadata": {},
   "source": [
    "# chown命令\n",
    "- 命令名称：chown。\n",
    "- 文原意：change file owner and group。\n",
    "- 所在路径：/bin/chown。\n",
    "- 执行权限：所有用户。\n",
    "- 功能描述：修改文件和目录的所有者和所属组。\n",
    "\n",
    "命令格式：\n",
    "```bash\n",
    "[root@localhost ~]# chown [选项] 所有者：所属组文件或目录\n",
    "```\n",
    "选项：\n",
    "- -R： 递归设置权限，也就是给子目录中的所有文件设置权限"
   ]
  },
  {
   "cell_type": "markdown",
   "metadata": {},
   "source": [
    "# chgrp命令\n",
    "- 命令名称：chgrp。\n",
    "- 英文原意：change group ownership。\n",
    "- 所在路径：/bin/chgrp。\n",
    "- 执行权限：所有用户。\n",
    "- 功能描述：修改文件和目录的所属组。"
   ]
  },
  {
   "cell_type": "markdown",
   "metadata": {},
   "source": [
    "# man命令\n",
    "- 命令名称：man。\n",
    "- 英文原意：format and display the on-line manual pages。\n",
    "- 所在路径：/usr/bin/man。\n",
    "- 执行权限：所有用户。\n",
    "- 功能描述：显示联机帮助手册。\n",
    "\n",
    "命令格式：\n",
    "```bash\n",
    "[root@localhost ~]# man [选项]命令\n",
    "```\n",
    "选项：\n",
    "- -f：査看命令拥有哪个级别的帮助\n",
    "- -k: 査看和命令相关的所有帮助\n",
    "\n",
    "快捷键：\n",
    "\n",
    "快捷键|作用\n",
    "------|----\n",
    "上箭头|向上移动一行\n",
    "下箭头|向下移动一行\n",
    "PgUp|向上翻一页\n",
    "PgDn|向下翻一页\n",
    "g|移动到第一页\n",
    "G|移动到最后一页\n",
    "q|退出\n",
    "/字符串|从当前页向下搜索字符串\n",
    "?字符串|从当前页向上搜索字符串\n",
    "n|当搜索字符串时，可以使用n键找到下一个字符串\n",
    "N|当搜索字符串时，使用N键反向查询字符串。也就是说，如果使用“/字符串”方式搜索， 则N键表示向上搜索字符串；如果使用“?字符串”方式搜索，则N键表示向下搜索字符串"
   ]
  },
  {
   "cell_type": "markdown",
   "metadata": {},
   "source": [
    "# whereis命令\n",
    "- 命令名称：whereis。\n",
    "- 英文原意：locate the binary, source, and manual page files for a command。\n",
    "- 所在路径：/usr/bin/whereis.\n",
    "- 执行权限：所有用户。\n",
    "- 功能描述：査找二进制命令、源文件和帮助文档的命令。\n",
    "\n",
    "命令格式：\n",
    "```bash\n",
    "[root@localhost ~]# whereis [选项] 命令\n",
    "```\n",
    "选项：\n",
    "- -b: 只査找二制命令；\n",
    "- -m: 只查找帮助文档；"
   ]
  },
  {
   "cell_type": "markdown",
   "metadata": {},
   "source": [
    "# which命令\n",
    "- 命令名称：which。\n",
    "- 英文原意：shows the full path of(shell)commands。\n",
    "- 所在路径：/usr/bin/which。\n",
    "- 执行权限：所有用户。\n",
    "- 功能描述：列出命令的所在路径。"
   ]
  },
  {
   "cell_type": "markdown",
   "metadata": {},
   "source": [
    "# locate命令\n",
    "- 命令名称：locate。\n",
    "- 英文原意：find files by name。\n",
    "- 所在路径：/usr/bin/locate。\n",
    "- 执行权限：所有用户。\n",
    "- 功能描述：按照文件名搜索文件。\n",
    "\n",
    "命令格式：\n",
    "```bash\n",
    "[root@localhost ~]# locate [选项] 文件名\n",
    "```\n",
    "选项：\n",
    "- -i：忽略大小写\n",
    "\n",
    "locate 命令的局限也很明显，它**只能按照文件名来搜索文件，而不能执行更复杂的搜索**，比如按照权限、大小、修改时间等搜索文件。如果要按照复杂条件执行搜索，则只能求助于功能更加强大的 find 命令。**locate 命令的优点鮮常明显，那就是搜索速度非常快，而且耗费系统资源非常小**。这是因为 **locate 命令不会直接搜索硬盘空间，而会先建立 locate 数据库，然后在数据库中按照文件名进行搜索，是快速的搜索命令**。"
   ]
  },
  {
   "cell_type": "markdown",
   "metadata": {},
   "source": [
    "# find命令\n",
    "- 命令名称：find。\n",
    "- 英文原意：search for files in a directory hierarchy.\n",
    "- 所在路径：/bin/find。\n",
    "- 执行权限：所有用户。\n",
    "- 功能描述：在目录中查找文件。\n",
    "\n",
    "命令格式：\n",
    "```bash\n",
    "[root@localhost ~]# find 搜索路径 [选项] 搜索内容\n",
    "```\n",
    "find 是比较特殊的命令，它有两个参数：\n",
    "- 第一个参数用来指定搜索路径；\n",
    "- 第二个参数用来指定搜索内容。\n",
    "\n",
    "## 按照文件名搜索：\n",
    "```bash\n",
    "[root@localhost ~]#find 搜索路径 [选项] 搜索内容\n",
    "```\n",
    "选项：\n",
    "- -name: 按照文件名搜索；\n",
    "- -iname: 按照文件名搜索，不区分文件名大小；\n",
    "- -inum: 按照 inode 号搜索；\n",
    "## 按照文件大小搜索\n",
    "```bash\n",
    "[root@localhost ~]#find 搜索路径 [选项] 搜索内容\n",
    "```\n",
    "选项：\n",
    "- -size[+-]大小：按照指定大小搜索文件\n"
   ]
  }
 ],
 "metadata": {
  "kernelspec": {
   "display_name": "Python 3",
   "language": "python",
   "name": "python3"
  },
  "language_info": {
   "codemirror_mode": {
    "name": "ipython",
    "version": 3
   },
   "file_extension": ".py",
   "mimetype": "text/x-python",
   "name": "python",
   "nbconvert_exporter": "python",
   "pygments_lexer": "ipython3",
   "version": "3.7.0"
  }
 },
 "nbformat": 4,
 "nbformat_minor": 2
}
