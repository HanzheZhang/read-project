{
 "cells": [
  {
   "cell_type": "markdown",
   "metadata": {},
   "source": [
    "# 实用日期类"
   ]
  },
  {
   "cell_type": "markdown",
   "metadata": {},
   "source": [
    "## date：显示当前日期\n",
    "    语法：\n",
    "        1. date：显示当前时间\n",
    "        2. date+%Y：显示当前年份\n",
    "        3. date+%m：显示当前月份\n",
    "        4. date+%d：显示当前是哪一天\n",
    "        5. date\"+%Y-%m-%d %H:%M:%S\"：显示年月日时分秒"
   ]
  },
  {
   "cell_type": "markdown",
   "metadata": {},
   "source": [
    "## date：设置日期\n",
    "    语法：date -s 字符串时间"
   ]
  },
  {
   "cell_type": "markdown",
   "metadata": {},
   "source": [
    "## cal：查看日历指令\n",
    "    不加选项，显示本月日历\n",
    "    cal [] "
   ]
  },
  {
   "cell_type": "code",
   "execution_count": null,
   "metadata": {},
   "outputs": [],
   "source": []
  }
 ],
 "metadata": {
  "kernelspec": {
   "display_name": "Python 3",
   "language": "python",
   "name": "python3"
  },
  "language_info": {
   "codemirror_mode": {
    "name": "ipython",
    "version": 3
   },
   "file_extension": ".py",
   "mimetype": "text/x-python",
   "name": "python",
   "nbconvert_exporter": "python",
   "pygments_lexer": "ipython3",
   "version": "3.6.5"
  }
 },
 "nbformat": 4,
 "nbformat_minor": 2
}
