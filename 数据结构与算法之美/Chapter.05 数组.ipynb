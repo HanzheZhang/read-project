{
 "cells": [
  {
   "cell_type": "markdown",
   "metadata": {},
   "source": [
    "**数组(Array)是一种线性表数据结构。它用一组连续的内存空间，来存储一组具有相同类型的数据**。"
   ]
  },
  {
   "cell_type": "markdown",
   "metadata": {},
   "source": [
    "**线性表**，就是数据排成像一条线一样的结构。每个线性表上的数据最多只有前和后两个方向。\n",
    "![](https://static001.geekbang.org/resource/image/b6/77/b6b71ec46935130dff5c4b62cf273477.jpg)\n",
    "**非线性表**，在非线性表中，数据之间的方向并不是简单的前后关系。\n",
    "![](https://static001.geekbang.org/resource/image/6e/69/6ebf42641b5f98f912d36f6bf86f6569.jpg)"
   ]
  },
  {
   "cell_type": "markdown",
   "metadata": {},
   "source": [
    "数组支持所及访问，根据下标随机访问的时间复杂度为O(1)"
   ]
  },
  {
   "cell_type": "markdown",
   "metadata": {},
   "source": [
    "**数组插入的平均时间复杂度为O(n)。**\n",
    "\n",
    "如果数组中存储的数据并没有任何规律，数组只是被当作一个存储数据的集合。在这种情况下，如果要将某个数组插入到k个位置，为了避免大规模的数据迁移，还有一个简单的办法，就是直接将第k位的数据搬移到数组元素的最后，把新的元素直接放入到第k个位置。利用这种处理技巧，在特定的场景下，在第k个位置插入一个元素的时间复杂度就会降为O(1)。"
   ]
  },
  {
   "cell_type": "markdown",
   "metadata": {},
   "source": [
    "**如果插入数组末尾的数据，平均情况使时间复杂度为O(n)**"
   ]
  },
  {
   "cell_type": "code",
   "execution_count": 12,
   "metadata": {},
   "outputs": [],
   "source": [
    "class MyArray:\n",
    "    \"\"\"A simple wrapper around List.\n",
    "    You cannot have -1 in the array.\n",
    "    \"\"\"\n",
    "\n",
    "    def __init__(self, capacity: int):\n",
    "        self._data = []\n",
    "        self._capacity = capacity\n",
    "\n",
    "    def __getitem__(self, position: int) -> object:\n",
    "        return self._data[position]\n",
    "\n",
    "    def __setitem__(self, index: int, value: object):\n",
    "        self._data[index] = value\n",
    "\n",
    "    def __len__(self) -> int:\n",
    "        return len(self._data)\n",
    "\n",
    "    def __iter__(self):\n",
    "        for item in self._data:\n",
    "            yield item\n",
    "\n",
    "    def find(self, index: int) -> object:\n",
    "        try:\n",
    "            return self._data[index]\n",
    "        except IndexError:\n",
    "            return None\n",
    "\n",
    "    def delete(self, index: int) -> bool:\n",
    "        try:\n",
    "            self._data.pop(index)\n",
    "            return True\n",
    "        except IndexError:\n",
    "            return False\n",
    "\n",
    "    def insert(self, index: int, value: int) -> bool:\n",
    "        if len(self) >= self._capacity:\n",
    "            return False\n",
    "        else:\n",
    "            return self._data.insert(index, value)\n",
    "\n",
    "    def print_all(self):\n",
    "        for item in self:\n",
    "            print(item)"
   ]
  },
  {
   "cell_type": "code",
   "execution_count": 13,
   "metadata": {},
   "outputs": [
    {
     "name": "stdout",
     "output_type": "stream",
     "text": [
      "4\n",
      "5\n",
      "3\n",
      "10\n"
     ]
    }
   ],
   "source": [
    "def test_myarray():\n",
    "    array = MyArray(5)\n",
    "    array.insert(0, 3)\n",
    "    array.insert(0, 4)\n",
    "    array.insert(1, 5)\n",
    "    array.insert(3, 9)\n",
    "    array.insert(3, 10)\n",
    "    assert array.insert(0, 100) is False\n",
    "    assert len(array) == 5\n",
    "    assert array.find(1) == 5\n",
    "    assert array.delete(4) is True\n",
    "    array.print_all()\n",
    "\n",
    "\n",
    "if __name__ == \"__main__\":\n",
    "    test_myarray()"
   ]
  },
  {
   "cell_type": "code",
   "execution_count": null,
   "metadata": {},
   "outputs": [],
   "source": []
  }
 ],
 "metadata": {
  "kernelspec": {
   "display_name": "Python 3",
   "language": "python",
   "name": "python3"
  },
  "language_info": {
   "codemirror_mode": {
    "name": "ipython",
    "version": 3
   },
   "file_extension": ".py",
   "mimetype": "text/x-python",
   "name": "python",
   "nbconvert_exporter": "python",
   "pygments_lexer": "ipython3",
   "version": "3.7.0"
  }
 },
 "nbformat": 4,
 "nbformat_minor": 2
}
