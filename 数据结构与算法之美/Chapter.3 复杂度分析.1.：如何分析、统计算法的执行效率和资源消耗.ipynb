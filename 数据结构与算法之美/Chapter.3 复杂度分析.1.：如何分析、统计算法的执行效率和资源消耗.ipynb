{
 "cells": [
  {
   "cell_type": "markdown",
   "metadata": {},
   "source": [
    "# 大O复杂度表示法"
   ]
  },
  {
   "cell_type": "code",
   "execution_count": 1,
   "metadata": {},
   "outputs": [],
   "source": [
    "def code(n):\n",
    "    sum = 0\n",
    "    for i in range(1,n+1):\n",
    "        sum += i\n",
    "    return sum"
   ]
  },
  {
   "cell_type": "markdown",
   "metadata": {},
   "source": [
    "假设每段代码执行的时间都一样，为unit_time。上面的代码中第二行需要1个unit_time，第2，3行执行了n遍，所以需要2n\\*unit_time的执行时间。所以，总的来说这段代码的总执行时间为(2n+2)\\*unit_time。\n",
    "\n",
    "以上得出结论：**所有代码的执行时间T(n)与每行代码的执行次数成正比**。"
   ]
  },
  {
   "cell_type": "markdown",
   "metadata": {},
   "source": [
    "大O公式：T(n) = O(f(n))\n",
    "\n",
    "- n表示数据规模的大小\n",
    "- f(n)表示每行代码执行次数的总和\n",
    "\n",
    "**大O复杂度实际上并不具体表示代码真正的执行时间，而是表示代码执行时间随数据规模增长的变化趋势。**所以，也叫做渐进时间复杂度，简称时间复杂度。"
   ]
  },
  {
   "cell_type": "markdown",
   "metadata": {},
   "source": [
    "# 时间复杂度"
   ]
  },
  {
   "cell_type": "markdown",
   "metadata": {},
   "source": [
    "1. 只关注循环执行次数的最多一段代码 \n",
    "2. 加法法则：总复杂度等于量级最大的那段代码的复杂度\n",
    "\n",
    "        **总的时间复杂度也就是量级最大的那段代码的时间复杂度**\n",
    "\n",
    "3. 乘法法则：嵌套代码的复杂度等于嵌套内外代码复杂度的乘积"
   ]
  },
  {
   "cell_type": "markdown",
   "metadata": {},
   "source": [
    "# 几种常见的时间复杂度实例分析"
   ]
  },
  {
   "cell_type": "markdown",
   "metadata": {},
   "source": [
    "1. O(1)\n",
    "\n",
    "一般情况下，只要算法中不存在循环语句、递归语句，其时间复杂度就是O(1)"
   ]
  },
  {
   "cell_type": "markdown",
   "metadata": {},
   "source": [
    "2. O(logn)、O(nlogn)\n",
    "```python\n",
    "i = 1\n",
    "while i<n:\n",
    "    i = i*2\n",
    "```\n",
    "上面这个代码中循环部分的执行次数是最多的。所以，只要计算出这段代码被执行了多少次，就能知道争端代码的时间复杂度。\n",
    "\n",
    "从代码中可以看出，变量i的值从1开始取，每循环一次就乘以2.当大于n时，循环结束。实际上，i的取值就是一个**等比数列**。\n",
    "设执行了x次，2^x=n，所以执行次数x=logn。这段代码的时间复杂度为O(logn)。\n",
    "\n",
    "O(logn)是一种比较常见的算法时间复杂度。比如归并排序、快速排序的时间复杂度都是O(logn)。"
   ]
  },
  {
   "cell_type": "markdown",
   "metadata": {},
   "source": [
    "3. O(m+n)、O(m*n)\n",
    "```python\n",
    "def call(m, n):\n",
    "    sum_1 = 0\n",
    "    for i in range(1,m):\n",
    "        sum_1 += 1\n",
    "    sum_2 = 0\n",
    "    for j in range(1,n):\n",
    "        sum_2 += j\n",
    "    return sum_1 + sum_2\n",
    "```\n",
    "这段代码中，我们无法评估m和n哪个量级更大，所以在计算时间复杂度时记作O(m+n)"
   ]
  }
 ],
 "metadata": {
  "kernelspec": {
   "display_name": "Python 3",
   "language": "python",
   "name": "python3"
  },
  "language_info": {
   "codemirror_mode": {
    "name": "ipython",
    "version": 3
   },
   "file_extension": ".py",
   "mimetype": "text/x-python",
   "name": "python",
   "nbconvert_exporter": "python",
   "pygments_lexer": "ipython3",
   "version": "3.7.0"
  }
 },
 "nbformat": 4,
 "nbformat_minor": 2
}
