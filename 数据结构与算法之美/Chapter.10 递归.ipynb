{
 "cells": [
  {
   "cell_type": "markdown",
   "metadata": {},
   "source": [
    "递归需要满足的三个条件\n",
    "1. 一个问题的解可以分解成几个子问题的解\n",
    "2. 这个问题与分解之后的子问题，除了数据规模不同，求解思路完全一样\n",
    "3. 存在递归终止条件\n",
    "\n",
    "写递归代码最关键的是**写出递推公式，找到终止条件**。写递归公式的关键就是找到如何将大问题分解为小问题的规律，并且基于此写出递推公式，然后再推敲终止条件，最后将递推公式和终止条件翻译成代码。\n",
    "\n",
    "如果一个问题A可以分解为若干个子问题B,C,D，可以假设子问题B,C,D已经解决，在此基础上思考如何解决问题A。而且，你只需要思考问题A与子问题B,C,D两层之间的关系即可，不需要一层一层往下思考子问题与子子问题，子子问题与子子子问题之间的关系。屏蔽掉递归细节，这样理解就容易了。因此，**编写递归代码的关键是，只要遇到递归，就把它抽象成一个递推公式，不用想一层层的调用关系，不要试图用人脑分析递归的每个步骤。**\n",
    "\n",
    "递归代码有利有弊，利是递归代码的表达力强，写起来非常简洁；而弊就是空间复杂度高、有堆栈溢出的风险、存在重复计算、过多的函数调用会耗时较多等问题。"
   ]
  },
  {
   "cell_type": "code",
   "execution_count": null,
   "metadata": {},
   "outputs": [],
   "source": []
  }
 ],
 "metadata": {
  "kernelspec": {
   "display_name": "Python 3",
   "language": "python",
   "name": "python3"
  },
  "language_info": {
   "codemirror_mode": {
    "name": "ipython",
    "version": 3
   },
   "file_extension": ".py",
   "mimetype": "text/x-python",
   "name": "python",
   "nbconvert_exporter": "python",
   "pygments_lexer": "ipython3",
   "version": "3.6.5"
  }
 },
 "nbformat": 4,
 "nbformat_minor": 2
}
