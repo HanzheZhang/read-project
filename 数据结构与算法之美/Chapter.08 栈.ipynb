{
 "cells": [
  {
   "cell_type": "markdown",
   "metadata": {},
   "source": [
    "**后进先出、先进后出**，这是典型的栈结构\n",
    "\n",
    "当某个数据集合只涉及到一端插入和删除数据，并且满足后进先出、先进后出的特性，那就应当首选栈结构。\n",
    "\n",
    "栈既可以用数组来实现，也可以用链表来实现。用数组实现的栈叫做**顺序栈**；用链表实现的栈叫做**链式栈**。"
   ]
  },
  {
   "cell_type": "code",
   "execution_count": 1,
   "metadata": {},
   "outputs": [],
   "source": [
    "class Stack:\n",
    "    def __init__(self):\n",
    "        self.stack = []\n",
    "        \n",
    "    def push(self, item):\n",
    "        self.stack.append(item)\n",
    "        \n",
    "    def pop(self):\n",
    "        return stack.pop()"
   ]
  },
  {
   "cell_type": "markdown",
   "metadata": {},
   "source": [
    "**在入栈和出栈过程中，只需要一两个临时变量存储空间，所以空间复杂度是O(1)**\n",
    "\n",
    "**不管是顺序栈还是链式栈，入栈出栈只涉及栈个别数据的操作，时间复杂度是O(1)**"
   ]
  },
  {
   "cell_type": "markdown",
   "metadata": {},
   "source": [
    "1. 函数调用栈\n",
    "\n",
    "槽u走系统给每个线程分配了一块独立的内存空间，这块内存被组织成栈结构，用来存储函数调用时的临时变量。每进入一个函数，就会将临时变量作为一个栈帧入栈，当被调用的函数执行完成，这个函数对应的栈帧出栈\n",
    "2. 栈在表达式求值中的应用\n",
    "\n",
    "算术表达式在编译器中就是通过两个栈来实现的。其中一个保存操作数，另一个保存运算符。从左到右遍历表达式，当遇到数字，就将其直接压入操作数栈；当遇到运算符，就与运算符栈的栈顶元素进行比较。如果此运算符比栈顶的运算符优先级高，就将当前运算符压入栈；如果此运算符比栈顶运算符的优先级低或相同，从运算符栈中取栈顶运算符，从操作数栈的栈顶取2个操作符进行计算，再将计算完的结果压入操作数栈，继续比较\n",
    "![3+5*8-6](https://static001.geekbang.org/resource/image/bc/00/bc77c8d33375750f1700eb7778551600.jpg)\n",
    "3. 栈在括号匹配中的应用"
   ]
  },
  {
   "cell_type": "code",
   "execution_count": null,
   "metadata": {},
   "outputs": [],
   "source": []
  }
 ],
 "metadata": {
  "kernelspec": {
   "display_name": "Python 3",
   "language": "python",
   "name": "python3"
  },
  "language_info": {
   "codemirror_mode": {
    "name": "ipython",
    "version": 3
   },
   "file_extension": ".py",
   "mimetype": "text/x-python",
   "name": "python",
   "nbconvert_exporter": "python",
   "pygments_lexer": "ipython3",
   "version": "3.6.5"
  }
 },
 "nbformat": 4,
 "nbformat_minor": 2
}
