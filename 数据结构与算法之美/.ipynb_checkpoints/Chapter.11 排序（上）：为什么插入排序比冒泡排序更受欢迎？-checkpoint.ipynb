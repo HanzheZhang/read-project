{
 "cells": [
  {
   "cell_type": "markdown",
   "metadata": {},
   "source": [
    "# 排序方法与复杂度归类\n",
    "1. 几种最经典、最常用的排序方法：冒泡排序、插入排序、选择排序、快速排序、归并排序、计数排序、基数排序、桶排序。\n",
    "1. 复杂度归类\n",
    "    - 冒泡排序、插入排序、选择排序 O(n^2)\n",
    "    - 快速排序、归并排序 O(nlogn)\n",
    "    - 计数排序、基数排序、桶排序 O(n)"
   ]
  },
  {
   "cell_type": "markdown",
   "metadata": {},
   "source": [
    "# 如何分析一个“排序算法”？\n",
    "- 算法的执行效率\n",
    "    1. 最好、最坏、平均情况时间复杂度。\n",
    "    2. 时间复杂度的系数、常数和低阶。\n",
    "    3. 比较次数，交换（或移动）次数。\n",
    "- 排序算法的稳定性\n",
    "    1. 稳定性概念：如果待排序的序列中存在值相等的元素，经过排序之后，相等元素之间原有的先后顺序不变。\n",
    "    2. 稳定性重要性：可针对对象的多种属性进行有优先级的排序。\n",
    "    3. 举例：给电商交易系统中的“订单”排序，按照金额大小对订单数据排序，对于相同金额的订单以下单时间早晚排序。用稳定排序算法可简洁地解决。先按照下单时间给订单排序，排序完成后用稳定排序算法按照订单金额重新排序。\n",
    "- 排序算法的内存损耗\n",
    "    - 原地排序算法：特指空间复杂度是O(1)的排序算法。"
   ]
  },
  {
   "cell_type": "markdown",
   "metadata": {},
   "source": [
    "# 冒泡排序\n",
    "       冒泡排序只会操作相邻的两个数据。每次冒泡操作都会对相邻的两个元素进行比较，看是否满足大小关系要求，如果不满足就让它俩互换。\n",
    "- 稳定性：冒泡排序是稳定的排序算法。- \n",
    "- 空间复杂度：冒泡排序是原地排序算法。\n",
    "- 时间复杂度：\n",
    "    1. 最好情况（满有序度）：O(n)。\n",
    "    2. 最坏情况（满逆序度）：O(n^2)。\n",
    "    3. 平均情况：\n",
    "           “有序度”和“逆序度”：对于一个不完全有序的数组，如4，5，6，3，2，1，有序元素对为3个（4，5），（4，6），（5，6），有序度为3，逆序度为12；对于一个完全有序的数组，如1，2，3，4，5，6，有序度就是n*(n-1)/2，也就是15，称作满有序度；逆序度=满有序度-有序度；冒泡排序、插入排序交换（或移动）次数=逆序度。\n",
    "           最好情况下初始有序度为n*(n-1)/2，最坏情况下初始有序度为0，则平均初始有序度为n*(n-1)/4，即交换次数为n*(n-1)/4，因交换次数<比较次数<最坏情况时间复杂度，所以平均时间复杂度为O(n^2)。"
   ]
  },
  {
   "cell_type": "code",
   "execution_count": 2,
   "metadata": {},
   "outputs": [
    {
     "name": "stdout",
     "output_type": "stream",
     "text": [
      "[-1, 2, 4, 5, 6, 6, 7, 8, 10]\n"
     ]
    }
   ],
   "source": [
    "from typing import List\n",
    "\n",
    "def bubble_sort(a: List[int]):\n",
    "    length = len(a)\n",
    "    if length <= 1:\n",
    "        return\n",
    "\n",
    "    for i in range(length):\n",
    "        made_swap = False\n",
    "        for j in range(length - i - 1):\n",
    "            if a[j] > a[j + 1]:\n",
    "                a[j], a[j + 1] = a[j + 1], a[j]\n",
    "                made_swap = True\n",
    "        if not made_swap:\n",
    "            break\n",
    "\n",
    "            \n",
    "def test_bubble_sort():\n",
    "    test_array = [1, 1, 1, 1]\n",
    "    bubble_sort(test_array)\n",
    "    assert test_array == [1, 1, 1, 1]\n",
    "    test_array = [4, 1, 2, 3]\n",
    "    bubble_sort(test_array)\n",
    "    assert test_array == [1, 2, 3, 4]\n",
    "    test_array = [4, 3, 2, 1]\n",
    "    bubble_sort(test_array)\n",
    "    assert test_array == [1, 2, 3, 4]\n",
    "\n",
    "    \n",
    "array = [5, 6, -1, 4, 2, 8, 10, 7, 6]\n",
    "bubble_sort(array)\n",
    "print(array)"
   ]
  },
  {
   "cell_type": "markdown",
   "metadata": {},
   "source": [
    "# 插入排序\n",
    "       插入排序将数组数据分成已排序区间和未排序区间。初始已排序区间只有一个元素，即数组第一个元素。在未排序区间取出一个元素插入到已排序区间的合适位置，直到未排序区间为空。\n",
    "- 空间复杂度：插入排序是原地排序算法。\n",
    "- 时间复杂度：\n",
    "    1. 最好情况：O(n)。\n",
    "    2. 最坏情况：O(n^2)。\n",
    "    3. 平均情况：O(n^2)（往数组中插入一个数的平均时间复杂度是O(n)，一共重复n次）。\n",
    "- 稳定性：插入排序是稳定的排序算法。"
   ]
  },
  {
   "cell_type": "code",
   "execution_count": 3,
   "metadata": {},
   "outputs": [
    {
     "name": "stdout",
     "output_type": "stream",
     "text": [
      "[-1, 2, 4, 5, 6, 6, 7, 8, 10]\n"
     ]
    }
   ],
   "source": [
    "def insertion_sort(a: List[int]):\n",
    "    length = len(a)\n",
    "    if length <= 1:\n",
    "        return\n",
    "    \n",
    "    for i in range(0, length):\n",
    "        value = a[i]\n",
    "        j = i - 1\n",
    "        while j >= 0 and a[j] > value:\n",
    "            a[j + 1] = a[j]\n",
    "            j -= 1\n",
    "        a[j + 1] = value\n",
    "        \n",
    "        \n",
    "def test_insertion_sort():\n",
    "    test_array = [1, 1, 1, 1]\n",
    "    insertion_sort(test_array)\n",
    "    assert test_array == [1, 1, 1, 1]\n",
    "    test_array = [4, 1, 2, 3]\n",
    "    insertion_sort(test_array)\n",
    "    assert test_array == [1, 2, 3, 4]\n",
    "    test_array = [4, 3, 2, 1]\n",
    "    insertion_sort(test_array)\n",
    "    assert test_array == [1, 2, 3, 4]\n",
    "    \n",
    "    \n",
    "array = [5, 6, -1, 4, 2, 8, 10, 7, 6]\n",
    "insertion_sort(array)\n",
    "print(array)"
   ]
  },
  {
   "cell_type": "markdown",
   "metadata": {},
   "source": [
    "# 选择排序\n",
    "       选择排序将数组分成已排序区间和未排序区间。初始已排序区间为空。每次从未排序区间中选出最小的元素插入已排序区间的末尾，直到未排序区间为空。\n",
    "- 空间复杂度：选择排序是原地排序算法。\n",
    "- 时间复杂度：（都是O(n^2)）\n",
    "    1. 最好情况：O(n^2)。\n",
    "    2. 最坏情况：O(n^2)。\n",
    "    3. 平均情况：O(n^2)。\n",
    "- 稳定性：选择排序不是稳定的排序算法。"
   ]
  },
  {
   "cell_type": "code",
   "execution_count": 4,
   "metadata": {},
   "outputs": [
    {
     "name": "stdout",
     "output_type": "stream",
     "text": [
      "[-1, 2, 4, 5, 6, 6, 7, 8, 10]\n"
     ]
    }
   ],
   "source": [
    "def selection_sort(a: List[int]):\n",
    "    length = len(a)\n",
    "    if length <= 1:\n",
    "        return\n",
    "\n",
    "    for i in range(length):\n",
    "        min_index = i\n",
    "        min_val = a[i]\n",
    "        for j in range(i, length):\n",
    "            if a[j] < min_val:\n",
    "                min_val = a[j]\n",
    "                min_index = j\n",
    "        a[i], a[min_index] = a[min_index], a[i]\n",
    "        \n",
    "        \n",
    "def test_selection_sort():\n",
    "    test_array = [1, 1, 1, 1]\n",
    "    selection_sort(test_array)\n",
    "    assert test_array == [1, 1, 1, 1]\n",
    "    test_array = [4, 1, 2, 3]\n",
    "    selection_sort(test_array)\n",
    "    assert test_array == [1, 2, 3, 4]\n",
    "    test_array = [4, 3, 2, 1]\n",
    "    selection_sort(test_array)\n",
    "    assert test_array == [1, 2, 3, 4]\n",
    "    \n",
    "    \n",
    "array = [5, 6, -1, 4, 2, 8, 10, 7, 6]\n",
    "selection_sort(array)\n",
    "print(array)"
   ]
  },
  {
   "cell_type": "markdown",
   "metadata": {},
   "source": [
    "# 思考\n",
    "       选择排序和插入排序的时间复杂度相同，都是O(n^2)，在实际的软件开发中，为什么我们更倾向于使用插入排序而不是冒泡排序算法呢？\n",
    "       答：从代码实现上来看，冒泡排序的数据交换要比插入排序的数据移动要复杂，冒泡排序需要3个赋值操作，而插入排序只需要1个，所以在对相同数组进行排序时，冒泡排序的运行时间理论上要长于插入排序。"
   ]
  },
  {
   "cell_type": "code",
   "execution_count": null,
   "metadata": {},
   "outputs": [],
   "source": []
  }
 ],
 "metadata": {
  "kernelspec": {
   "display_name": "Python 3",
   "language": "python",
   "name": "python3"
  },
  "language_info": {
   "codemirror_mode": {
    "name": "ipython",
    "version": 3
   },
   "file_extension": ".py",
   "mimetype": "text/x-python",
   "name": "python",
   "nbconvert_exporter": "python",
   "pygments_lexer": "ipython3",
   "version": "3.7.0"
  }
 },
 "nbformat": 4,
 "nbformat_minor": 2
}
