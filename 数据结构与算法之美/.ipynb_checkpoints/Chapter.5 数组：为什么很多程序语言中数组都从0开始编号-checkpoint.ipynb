{
 "cells": [
  {
   "cell_type": "markdown",
   "metadata": {},
   "source": [
    "# 数组"
   ]
  },
  {
   "cell_type": "markdown",
   "metadata": {},
   "source": [
    "数组（Array）是一种线性表数据结构。它用一组连续的内存空间，来存储一组具有相同类型的数据。\n",
    "- 线性表\n",
    "\n",
    "线性表就是数据排成一条线一样的结构。每个线性表上的数据最多只有前和两个方向。\n",
    "与他对立的是非线性表。在非线性表中，数据之间不是简单的前后关系。\n",
    "- 连续的内存空间和相同类型的数据\n",
    "\n",
    "一方面，这个属性使数组可以进行随机访问；另一方面，这也使数组相对变得低效。"
   ]
  },
  {
   "cell_type": "markdown",
   "metadata": {},
   "source": [
    "1. 查看\n",
    "\n",
    "数据支持随机访问，根据下标随机访问的时间复杂度为O(1)\n",
    "2. 插入\n",
    "\n",
    "数组数据插入的平均情况的时间复杂度为O(n)\n",
    "3. 删除\n",
    "\n",
    "数组删除数据的平均时间复杂度为O(n)"
   ]
  },
  {
   "cell_type": "markdown",
   "metadata": {},
   "source": [
    "# 警惕数组的越界情况"
   ]
  }
 ],
 "metadata": {
  "kernelspec": {
   "display_name": "Python 3",
   "language": "python",
   "name": "python3"
  },
  "language_info": {
   "codemirror_mode": {
    "name": "ipython",
    "version": 3
   },
   "file_extension": ".py",
   "mimetype": "text/x-python",
   "name": "python",
   "nbconvert_exporter": "python",
   "pygments_lexer": "ipython3",
   "version": "3.7.0"
  }
 },
 "nbformat": 4,
 "nbformat_minor": 2
}
