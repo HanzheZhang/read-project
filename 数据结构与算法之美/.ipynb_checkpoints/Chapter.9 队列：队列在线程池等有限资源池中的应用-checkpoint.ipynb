{
 "cells": [
  {
   "cell_type": "markdown",
   "metadata": {},
   "source": [
    "当我们向固定大小的线程池中请求一个线程时，如果线程池中没有空闲资源了，这个时候线程池如何处理这个请求？是拒绝请求还是排队请求？各种处理策略又是怎么实现的呢？"
   ]
  },
  {
   "cell_type": "markdown",
   "metadata": {},
   "source": [
    "# 如果理解“队列”"
   ]
  },
  {
   "cell_type": "markdown",
   "metadata": {},
   "source": [
    "**先进先出**\n",
    "\n",
    "栈只支持两种基本操作：**入栈push()和出栈pop()**\n",
    "\n",
    "队列支持的基本操作：**入队enqueue()和出队dequeue()**\n",
    "\n",
    "队列与站一样，也是**操作首先的线性表数据结构**。"
   ]
  },
  {
   "cell_type": "markdown",
   "metadata": {},
   "source": [
    "![](https://static001.geekbang.org/resource/image/9e/3e/9eca53f9b557b1213c5d94b94e9dce3e.jpg)"
   ]
  },
  {
   "cell_type": "markdown",
   "metadata": {},
   "source": [
    "# 顺序队列和链式队列"
   ]
  },
  {
   "cell_type": "markdown",
   "metadata": {},
   "source": [
    "队列可以用数组来实现，也可以用链表来实现。用数组实现的队列叫做**顺序队列**，用链表实现的队列叫做**链式队列**。"
   ]
  },
  {
   "cell_type": "code",
   "execution_count": 1,
   "metadata": {},
   "outputs": [],
   "source": [
    "\"\"\"\n",
    "用数组实现队列\n",
    "\"\"\"\n",
    "from typing import Optional\n",
    "\n",
    "class ArrayQueue:\n",
    "    \n",
    "    def __init__(self, capacity:int):\n",
    "        self._items = []\n",
    "        self._capacity = capacity\n",
    "        self._head = 0\n",
    "        self._tail = 0\n",
    "        \n",
    "    def enqueue(self, item:str) -> bool:\n",
    "        if self._tail == self._capacity:\n",
    "            if self._head == 0:\n",
    "                return False\n",
    "            else:\n",
    "                for i in range(0, self._tail - self._head):\n",
    "                    self._items[i] = self._items[i + self._head]\n",
    "                self.tail = self.tail - self._head\n",
    "                self._head = 0\n",
    "        self._items.insert(self._tail, item)\n",
    "        self._tail += 1\n",
    "        return True\n",
    "    \n",
    "    def dequeue(self) -> Optional[str]:\n",
    "        if self._head != self._tail:\n",
    "            item = self._items[self._head]\n",
    "            self._head += 1\n",
    "            return item\n",
    "        else:\n",
    "            return None\n",
    "        \n",
    "    def __repr__(self) -> str:\n",
    "        return \" \".join(item for item in self._items[self._head : self._tail])"
   ]
  },
  {
   "cell_type": "markdown",
   "metadata": {},
   "source": [
    "数组实现队列需要两个指针：一个是head指针，指向对头；另一个是tail指针，指向队尾。"
   ]
  },
  {
   "cell_type": "markdown",
   "metadata": {},
   "source": [
    "当a、b、c、d依次入队之后，队列中的head指针指向下标为0的位置，tail指针指向下标为4的位置\n",
    "![](https://static001.geekbang.org/resource/image/5c/cb/5c0ec42eb797e8a7d48c9dbe89dc93cb.jpg)"
   ]
  },
  {
   "cell_type": "markdown",
   "metadata": {},
   "source": [
    "当调用两次出队操作之后，队列中head指针指向下标为2的位置，tail指针仍然指向下标为4的位置\n",
    "![](https://static001.geekbang.org/resource/image/de/0d/dea27f2c505dd8d0b6b86e262d03430d.jpg)"
   ]
  },
  {
   "cell_type": "markdown",
   "metadata": {},
   "source": [
    "随着不停地进行入队出队操作，head和tail都会持续往后移动。当tail移动到最右边，即使数组中还有空闲空间，也无法继续往队列中添加数据了。"
   ]
  },
  {
   "cell_type": "markdown",
   "metadata": {},
   "source": [
    "## 基于链表的队列实现方法\n",
    "基于链表的实现，我们同样需要两个指针：head指针和tail指针。他们分别指向链表的第一个结点和最后一个结点。如下图所示，入队时，tail->next = new_node,tail = tail->next;出队时，head=head->next。"
   ]
  },
  {
   "cell_type": "markdown",
   "metadata": {},
   "source": [
    "![](https://static001.geekbang.org/resource/image/c9/93/c916fe2212f8f543ddf539296444d393.jpg)"
   ]
  },
  {
   "cell_type": "code",
   "execution_count": 3,
   "metadata": {},
   "outputs": [
    {
     "name": "stdout",
     "output_type": "stream",
     "text": [
      "0->1->2->3->4->5->6->7->8->9\n",
      "3->4->5->6->7->8->9\n",
      "3->4->5->6->7->8->9->7->8\n"
     ]
    }
   ],
   "source": [
    "class Node:\n",
    "    \n",
    "    def __init__(self, data: str, next=None):\n",
    "        self.data = data\n",
    "        self._next = next\n",
    "\n",
    "class LinkedQueue:\n",
    "\n",
    "    def __init__(self):\n",
    "        self._head: Optional[Node] = None\n",
    "        self._tail: Optional[Node] = None\n",
    "    \n",
    "    def enqueue(self, value: str):\n",
    "        new_node = Node(value)\n",
    "        if self._tail:\n",
    "            self._tail._next = new_node\n",
    "        else:\n",
    "            self._head = new_node\n",
    "        self._tail = new_node\n",
    "    \n",
    "    def dequeue(self) -> Optional[str]:\n",
    "        if self._head:\n",
    "            value = self._head.data\n",
    "            self._head = self._head._next\n",
    "            if not self._head:\n",
    "                self._tail = None\n",
    "            return value\n",
    "    \n",
    "    def __repr__(self) -> str:\n",
    "        values = []\n",
    "        current = self._head\n",
    "        while current:\n",
    "            values.append(current.data)\n",
    "            current = current._next\n",
    "        return \"->\".join(value for value in values)\n",
    "\n",
    "\n",
    "if __name__ == \"__main__\":\n",
    "    q = LinkedQueue()\n",
    "    for i in range(10):\n",
    "        q.enqueue(str(i))\n",
    "    print(q)\n",
    "\n",
    "    for _ in range(3):\n",
    "        q.dequeue()\n",
    "    print(q)\n",
    "\n",
    "    q.enqueue(\"7\")\n",
    "    q.enqueue(\"8\")\n",
    "    print(q)"
   ]
  },
  {
   "cell_type": "markdown",
   "metadata": {},
   "source": [
    "# 循环队列"
   ]
  },
  {
   "cell_type": "markdown",
   "metadata": {},
   "source": [
    "![](https://static001.geekbang.org/resource/image/58/90/58ba37bb4102b87d66dffe7148b0f990.jpg)"
   ]
  },
  {
   "cell_type": "markdown",
   "metadata": {},
   "source": [
    "![](https://static001.geekbang.org/resource/image/71/80/71a41effb54ccea9dd463bde1b6abe80.jpg)"
   ]
  },
  {
   "cell_type": "markdown",
   "metadata": {},
   "source": [
    "可以看到，图中这个队列大小为8，开始head=4，tail=7.当有一个新的元素a入队时，放入下标为7的位置。但这个时候，并不把tail更新为8，而是将其在环中后退一位，到下标0的位置。当再有一个元素b入队时，将b放入下标为0的位置，然后tail加1更新为1。\n",
    "\n",
    "通过这样的方法，成功避免了数据搬移操作。\n",
    "\n",
    "在用数组实现的非循环队列中，队满的判断条件是 tail == n，队空的判断条件是 head == tail。"
   ]
  },
  {
   "cell_type": "code",
   "execution_count": 6,
   "metadata": {},
   "outputs": [
    {
     "name": "stdout",
     "output_type": "stream",
     "text": [
      "2 3 4 5\n"
     ]
    }
   ],
   "source": [
    "from itertools import chain\n",
    "\n",
    "\n",
    "class CircularQueue:\n",
    "    \n",
    "    def __init__(self, capacity):\n",
    "        self._items = []\n",
    "        self._capacity = capacity + 1\n",
    "        self._head = 0\n",
    "        self._tail = 0\n",
    "        \n",
    "    def enqueue(self, item:str) -> bool:\n",
    "        if (self._tail + 1) % self._capacity == self._head:\n",
    "            return False\n",
    "        self._items.append(item)\n",
    "        self._tail = (self._tail + 1) % self._capacity\n",
    "        return True\n",
    "    \n",
    "    def dequeue(self) -> Optional[str]:\n",
    "        if self._head != self._tail:\n",
    "            item = self._items[self._head]\n",
    "            self._head = (self._head + 1) % self._capacity\n",
    "            return item\n",
    "        \n",
    "    def __repr__(self) -> str:\n",
    "        if self._tail >= self._head:\n",
    "            return \" \".join(item for item in self._items[self._head : self._tail])\n",
    "        else:\n",
    "            return \" \".join(item for item in chain(self._items[self._head:], self._items[:self._tail]))\n",
    "        \n",
    "        \n",
    "if __name__ == \"__main__\":\n",
    "    q = CircularQueue(5)\n",
    "    for i in range(5):\n",
    "        q.enqueue(str(i))\n",
    "    q.dequeue()\n",
    "    q.dequeue()\n",
    "    q.enqueue(str(5))\n",
    "    print(q)"
   ]
  },
  {
   "cell_type": "markdown",
   "metadata": {},
   "source": [
    "# 阻塞队列和并发队列"
   ]
  },
  {
   "cell_type": "markdown",
   "metadata": {},
   "source": []
  }
 ],
 "metadata": {
  "kernelspec": {
   "display_name": "Python 3",
   "language": "python",
   "name": "python3"
  },
  "language_info": {
   "codemirror_mode": {
    "name": "ipython",
    "version": 3
   },
   "file_extension": ".py",
   "mimetype": "text/x-python",
   "name": "python",
   "nbconvert_exporter": "python",
   "pygments_lexer": "ipython3",
   "version": "3.7.0"
  }
 },
 "nbformat": 4,
 "nbformat_minor": 2
}
