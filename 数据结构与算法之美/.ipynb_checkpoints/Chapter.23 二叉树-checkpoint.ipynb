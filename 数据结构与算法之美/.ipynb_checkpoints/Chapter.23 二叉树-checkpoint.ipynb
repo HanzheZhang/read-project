{
 "cells": [
  {
   "cell_type": "markdown",
   "metadata": {},
   "source": [
    "### 树\n",
    "- 树的每一个元素叫做 节点；用来连线相邻节点之间的关系，叫做 父子关系\n",
    "![树的结构](https://static001.geekbang.org/resource/image/22/ae/220043e683ea33b9912425ef759556ae.jpg)\n",
    "- 如上图，A节点就是B节点的**父节点**，B节点是A节点的**子节点**。B,C,D这三个节点的父节点是同一个节点，所以它们之间互称为**兄弟节点**，没有父节点的节点叫做**根节点**，没有子节点的节点叫做**叶子节点**或者**叶节点**。\n",
    "![树的概念](https://static001.geekbang.org/resource/image/40/1e/4094a733986073fedb6b9d03f877d71e.jpg)\n",
    "![高度、深度和层数](https://static001.geekbang.org/resource/image/50/b4/50f89510ad1f7570791dd12f4e9adeb4.jpg)"
   ]
  },
  {
   "cell_type": "markdown",
   "metadata": {},
   "source": [
    "### 二叉树 Binary Tree\n",
    "- 二叉树，每个节点最多有两个分叉，也就是两个节点，分别是**左子节点**和**右子节点**。\n",
    "- 在一个二叉树中，叶子节点全都在最底层，除了叶子节点之外，每个节点都有左右两个子节点，这种二叉树就叫做**满二叉树**\n",
    "- 在一个二叉树中，叶子节点都在最底下两层，最后一层的叶子节点都靠左排列，并且除了最后一层，其他层的节点个数都要达到最大，这种二叉树叫做**完全二叉树**。\n",
    "- 存储二叉树的方法\n",
    "    1. **链式存储法**：每个节点有三个字段，其中一个存储数据，另外两个是指向左右子节点的指针。\n",
    "    ![链式存储法](https://static001.geekbang.org/resource/image/12/8e/12cd11b2432ed7c4dfc9a2053cb70b8e.jpg)\n",
    "    2. **顺序存储法**：把根节点存储在下标i的位置，那左子节点存储在下标i*2的位置，右子节点存储在i*2+1的位置，父节点就是i/2的位置\n",
    "        - 顺序存储法存储完全二叉树比较节省数组存储空间，如果存储非完全二叉树比较浪费存储空间\n",
    "    ![顺序存储法](https://static001.geekbang.org/resource/image/14/30/14eaa820cb89a17a7303e8847a412330.jpg)\n",
    "    ![顺序存储法存储非完全二叉树](https://static001.geekbang.org/resource/image/08/23/08bd43991561ceeb76679fbb77071223.jpg)\n",
    "    - 二叉树的遍历：分为三种，**前序遍历、后序遍历和中序遍历**\n",
    "        - 前序遍历：对于书中的任意节点来说，先打印这个节点，然后再打印它的左子树，最后打印它的右子树\n",
    "        - 中序遍历：对于树中的任意节点来说，先打印它的左子树，然后再打印它本身，最后打印它的右子树\n",
    "        - 后序遍历：对于书中的任意节点来说，先打印它的左子树，然后再打印它的右子树，最后打印节点本身\n",
    "        ![前、中、后序遍历](https://static001.geekbang.org/resource/image/ab/16/ab103822e75b5b15c615b68560cb2416.jpg)"
   ]
  },
  {
   "cell_type": "code",
   "execution_count": 1,
   "metadata": {},
   "outputs": [],
   "source": [
    "from typing import TypeVar, Generic, Generator, Optional\n",
    "\n",
    "T = TypeVar(\"T\")\n",
    "\n",
    "class TreeNode(Generic[T]):\n",
    "    def __init__(self, value: T):\n",
    "        self.val = value\n",
    "        self.left = None\n",
    "        self.right = None"
   ]
  },
  {
   "cell_type": "code",
   "execution_count": 2,
   "metadata": {},
   "outputs": [],
   "source": [
    "def pre_order(root: Optional[TreeNode[T]]) -> Generator[T, None, None]:\n",
    "    if root:\n",
    "        yield root.val\n",
    "        yield from pre_order(root.left)\n",
    "        yield from pre_order(root.right)"
   ]
  },
  {
   "cell_type": "code",
   "execution_count": 12,
   "metadata": {},
   "outputs": [],
   "source": [
    "def in_order(root: Optional[TreeNode[T]]) -> Generator[T, None, None]:\n",
    "    if root:\n",
    "        yield from in_order(root.left)\n",
    "        yield root.val\n",
    "        yield from in_order(root.right)"
   ]
  },
  {
   "cell_type": "code",
   "execution_count": 13,
   "metadata": {},
   "outputs": [],
   "source": [
    "def post_order(root: Optional[TreeNode[T]]) -> Generator[T, None, None]:\n",
    "    if root:\n",
    "        yield from post_order(root.left)\n",
    "        yield from post_order(root.right)\n",
    "        yield root.val"
   ]
  },
  {
   "cell_type": "code",
   "execution_count": 14,
   "metadata": {},
   "outputs": [
    {
     "name": "stdout",
     "output_type": "stream",
     "text": [
      "['Taylor Swift', 'Country', 'Fearless', 'Love Story', 'White Horse', 'Red', 'We Are Never Ever Getting Back Together', 'I Knew You Were Trouble', 'Pop', '1989', 'Shake It Off', 'Bad Blood', 'Reputation', 'Look What You Made Me Do', 'Gorgeous']\n",
      "['Love Story', 'Fearless', 'White Horse', 'Country', 'We Are Never Ever Getting Back Together', 'Red', 'I Knew You Were Trouble', 'Taylor Swift', 'Shake It Off', '1989', 'Bad Blood', 'Pop', 'Look What You Made Me Do', 'Reputation', 'Gorgeous']\n",
      "['Love Story', 'White Horse', 'Fearless', 'We Are Never Ever Getting Back Together', 'I Knew You Were Trouble', 'Red', 'Country', 'Shake It Off', 'Bad Blood', '1989', 'Look What You Made Me Do', 'Gorgeous', 'Reputation', 'Pop', 'Taylor Swift']\n"
     ]
    }
   ],
   "source": [
    "    singer = TreeNode(\"Taylor Swift\")\n",
    "\n",
    "    genre_country = TreeNode(\"Country\")\n",
    "    genre_pop = TreeNode(\"Pop\")\n",
    "\n",
    "    album_fearless = TreeNode(\"Fearless\")\n",
    "    album_red = TreeNode(\"Red\")\n",
    "    album_1989 = TreeNode(\"1989\")\n",
    "    album_reputation = TreeNode(\"Reputation\")\n",
    "\n",
    "    song_ls = TreeNode(\"Love Story\")\n",
    "    song_wh = TreeNode(\"White Horse\")\n",
    "    song_wanegbt = TreeNode(\"We Are Never Ever Getting Back Together\")\n",
    "    song_ikywt = TreeNode(\"I Knew You Were Trouble\")\n",
    "    song_sio = TreeNode(\"Shake It Off\")\n",
    "    song_bb = TreeNode(\"Bad Blood\")\n",
    "    song_lwymmd = TreeNode(\"Look What You Made Me Do\")\n",
    "    song_g = TreeNode(\"Gorgeous\")\n",
    "\n",
    "    singer.left, singer.right = genre_country, genre_pop\n",
    "    genre_country.left, genre_country.right = album_fearless, album_red\n",
    "    genre_pop.left, genre_pop.right = album_1989, album_reputation\n",
    "    album_fearless.left, album_fearless.right = song_ls, song_wh\n",
    "    album_red.left, album_red.right = song_wanegbt, song_ikywt\n",
    "    album_1989.left, album_1989.right = song_sio, song_bb\n",
    "    album_reputation.left, album_reputation.right = song_lwymmd, song_g\n",
    "\n",
    "    print(list(pre_order(singer)))\n",
    "    print(list(in_order(singer)))\n",
    "    print(list(post_order(singer)))"
   ]
  },
  {
   "cell_type": "markdown",
   "metadata": {},
   "source": [
    "### 二叉查找树 Binary Search Tree\n",
    "**二叉查找树要求，在树中的任意一个节点，其左子树中的每一个节点的值，都要小于这个节点的值，而右子树的值都要大于这个节点的值**\n",
    "- 二叉查找树最大的特点就是支持动态数据集合的快速插入、删除、查找操作。\n",
    "- 二叉查找树的查找操作\n",
    "    - 先取根节点，如果它等于要找到值就返回；如果要找的数据比根节点小，那就在左子树中递归查找；如果要找到数据比根节点大，那就再右子树中递归查找\n",
    "    ![二叉查找树查找操作](https://static001.geekbang.org/resource/image/96/2a/96b3d86ed9b7c4f399e8357ceed0db2a.jpg)\n",
    "- 二叉查找树的插入操作\n",
    "    - 二叉查找树的插入操作过程类似于查找操作。新插入的数据一般都在叶子节点上，所以只需要从根节点开始，依次比较要插入的数据和节点的大小关系。如果要插入的数据比节点的数据大，并且节点的右子树为空，就将新数据直接插到右子节点的位置；如果不为空，就再递归遍历右子树，查找插入位置。同理，如果要插入的数据比节点数值小，并且节点的左子树为空，就将新数据插入到左子节点的位置；如果不为空，就再遍历左子树，查找插入位置。\n",
    "    ![二叉查找树插入操作](https://static001.geekbang.org/resource/image/da/c5/daa9fb557726ee6183c5b80222cfc5c5.jpg)\n",
    "- 二叉查找树的删除操作\n",
    "    - 如果要删除的节点没有子节点，只需要直接将父节点中，指向要删除节点的指针置为null\n",
    "    - 如果要删除的节点只有一个子节点，只需要更新父节点中，指向要删除节点的指针，让它指向要删除节点的子节点就可以了。\n",
    "    - 如果要删除的节点有两个子节点，那么就需要找到右子树中的最小节点，把它替换到要删除的节点上。然后再删除掉这个最小节点。\n",
    "    ![二叉查找树删除操作](https://static001.geekbang.org/resource/image/29/2c/299c615bc2e00dc32225f4d9e3490e2c.jpg)"
   ]
  },
  {
   "cell_type": "code",
   "execution_count": 1,
   "metadata": {},
   "outputs": [],
   "source": [
    "from typing import Optional\n",
    "\n",
    "class TreeNode:\n",
    "    def __init__(self, value: int):\n",
    "        self.val = value\n",
    "        self.left = None\n",
    "        self.right = None"
   ]
  },
  {
   "cell_type": "code",
   "execution_count": 9,
   "metadata": {},
   "outputs": [],
   "source": [
    "class BinarySearchTree:\n",
    "    def __init__(self):\n",
    "        self._root = None\n",
    "        \n",
    "    def find(self, value: int) -> Optional[TreeNode]:\n",
    "        node = self._root\n",
    "        while node and node.val != value:\n",
    "            node = node.left if node.val > value else node == node.right\n",
    "        return node\n",
    "    \n",
    "    def insert(self, value: int):\n",
    "        if not self._root:\n",
    "            self._root = TreeNode(value)\n",
    "            return\n",
    "        parent = None\n",
    "        node = self._root\n",
    "        while node:\n",
    "            parent = node\n",
    "            node = node.left if node.val > value else node.val < value\n",
    "        newnode = TreeNode(value)\n",
    "        if parent.val > newnode:\n",
    "            parent.left = newnode\n",
    "        else:\n",
    "            parent.right = newnode\n",
    "        \n",
    "    def delete(self, value: int):\n",
    "        node = self._root\n",
    "        parent = None\n",
    "        while node and node.val != value:\n",
    "            parent = node\n",
    "            node = node.left if node.val > value else node.right\n",
    "        if not node: return\n",
    "        \n",
    "        # 要删除的节点有两个子节点\n",
    "        if node.left and node.right:\n",
    "            newnode = node.right\n",
    "            newparent = node\n",
    "            while newnode.left:\n",
    "                newparent = newnode\n",
    "                newnode = newnode.left\n",
    "            node.val = newnode.val\n",
    "            if newnode.right:\n",
    "                newparent.left = newnode.right\n",
    "                \n",
    "        # 删除节点是叶子节点或者仅有一个子节点\n",
    "        child = node.left if node.left else node.right\n",
    "        if not parent:\n",
    "            self._root = chilf\n",
    "        elif parent.left == node:\n",
    "            parent.left = child\n",
    "        else:\n",
    "            parent.right = child"
   ]
  },
  {
   "cell_type": "markdown",
   "metadata": {},
   "source": [
    "#### 支持重复数据的二叉查找树\n",
    "1. 二叉查找树中每一个节点不仅会存储一个数据，因此通过链表和支持动态扩容的数组等数据结构，把值相同的数据都存储在同一个节点上\n",
    "![插入相同数据](https://static001.geekbang.org/resource/image/3f/5f/3f59a40e3d927f567022918d89590a5f.jpg)\n",
    "2. 把相同给值当作大于这个数值的值来处理，放到右子树当中\n",
    "    1. 当要查找数据的时候，遇到值相同的节点，并不会停止查找操作，而是继续在右子树中查找，直到遇到叶子节点才停止\n",
    "    ![查找存储了相同数据的二叉树](https://static001.geekbang.org/resource/image/fb/ff/fb7b320efd59a05469d6d6fcf0c98eff.jpg)\n",
    "    2. 对于删除操作，也需要先查找到每个要删除的节点，然后再按前面删除操作的方法，依次删除\n",
    "    ![删除存储了相同数据的二叉树](https://static001.geekbang.org/resource/image/25/17/254a4800703d31612c0af63870260517.jpg)"
   ]
  },
  {
   "cell_type": "markdown",
   "metadata": {},
   "source": [
    "**平衡二叉树的高度接近logn，所以插入、删除、查找操作的时间复杂度也比较稳定，是O(logn)**"
   ]
  },
  {
   "cell_type": "markdown",
   "metadata": {},
   "source": []
  }
 ],
 "metadata": {
  "kernelspec": {
   "display_name": "Python 3",
   "language": "python",
   "name": "python3"
  },
  "language_info": {
   "codemirror_mode": {
    "name": "ipython",
    "version": 3
   },
   "file_extension": ".py",
   "mimetype": "text/x-python",
   "name": "python",
   "nbconvert_exporter": "python",
   "pygments_lexer": "ipython3",
   "version": "3.6.5"
  }
 },
 "nbformat": 4,
 "nbformat_minor": 2
}
