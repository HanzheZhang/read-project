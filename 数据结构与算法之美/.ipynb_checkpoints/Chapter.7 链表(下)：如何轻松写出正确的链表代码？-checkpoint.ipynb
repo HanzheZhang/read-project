{
 "cells": [
  {
   "cell_type": "markdown",
   "metadata": {},
   "source": [
    "# 技巧1：理解指针或引用的含义"
   ]
  },
  {
   "cell_type": "markdown",
   "metadata": {},
   "source": [
    "**将某个变量赋值给指针，实际上就是将这个变量的地址赋值给指针，或者反过来说，指针中存储了这个变量的内存地址，指向了这个变量，通过指针就能找到这个变量。**"
   ]
  },
  {
   "cell_type": "markdown",
   "metadata": {},
   "source": [
    "# 技巧2：警惕指针丢失和内存泄漏"
   ]
  },
  {
   "cell_type": "markdown",
   "metadata": {},
   "source": [
    "在插入和删除结点时，一定要注意操作的顺序，防止指针丢失使链表断开，造成内存泄露"
   ]
  },
  {
   "cell_type": "markdown",
   "metadata": {},
   "source": [
    "不知道你有没有这样的感觉，写链表代码的时候，指针指来指去，一会儿就不知道指到哪里了。所以，我们在写的时候，一定注意不要弄丢了指针。+指针往往都是怎么弄丢的呢？我拿单链表的插入操作为例来给你分析一下"
   ]
  },
  {
   "cell_type": "markdown",
   "metadata": {},
   "source": [
    "![删除链表结点](https://img2018.cnblogs.com/blog/1256425/201810/1256425-20181005114852493-254453134.png)"
   ]
  },
  {
   "cell_type": "markdown",
   "metadata": {},
   "source": [
    "如图所示，我们希望在结点 a 和相邻的结点 b 之间插入结点 x，假设当前指针 p 指向结点 a。如果我们将代码实现变成下面这个样子，就会发生指针丢失和内存泄露。\n",
    "```python\n",
    "p.next = x\n",
    "x.next = p.next\n",
    "```\n",
    "初学者经常会在这儿犯错。p->next+指针在完成第一步操作之后，已经不再指向结点 b 了，而是指向结点 x。第 2 行代码相当于将 x 赋值给 x->next，自己指向自己。因此，整个链表也就断成了两半，从结点 b 往后的所有结点都无法访问到了。"
   ]
  },
  {
   "cell_type": "markdown",
   "metadata": {},
   "source": [
    "# 技巧3：利用哨兵简化实现难度"
   ]
  },
  {
   "cell_type": "markdown",
   "metadata": {},
   "source": [
    "在结点p后面插入一个新的结点：\n",
    "```python\n",
    "new_node.next = p.next\n",
    "p.next = new_node\n",
    "```\n",
    "当要向一个空链表中插入第一个结点：\n",
    "```python\n",
    "new_code.next = p\n",
    "```"
   ]
  },
  {
   "cell_type": "markdown",
   "metadata": {},
   "source": [
    "删除p的后继结点操作：\n",
    "```python\n",
    "p.next = p.next.next\n",
    "```\n",
    "删除最后一个结点：\n",
    "```python\n",
    "p.next = None\n",
    "```"
   ]
  },
  {
   "cell_type": "markdown",
   "metadata": {},
   "source": [
    "**针对链表的插入、删除操作，需要对插入第一个结点和删除最后一个结点的情况进行特殊处理。**"
   ]
  },
  {
   "cell_type": "markdown",
   "metadata": {},
   "source": [
    "# 技巧4：重点留意边界条件处理"
   ]
  },
  {
   "cell_type": "markdown",
   "metadata": {},
   "source": [
    "检查链表代码是否正确的边界条件：\n",
    "- 如果链表为空时，代码是否能正常工作\n",
    "- 如果链表只包含一个结点时，代码是否能正常工作\n",
    "- 如果链表只包含两个结点时，代码是否能正常工作\n",
    "- 代码逻辑在处理头结点和尾结点时候，能否能正常工作"
   ]
  },
  {
   "cell_type": "markdown",
   "metadata": {},
   "source": [
    "# 技巧5：举例画图，辅助思考"
   ]
  },
  {
   "cell_type": "markdown",
   "metadata": {},
   "source": [
    "![画图发](https://img2018.cnblogs.com/blog/1256425/201810/1256425-20181005120252681-1705580262.png)"
   ]
  },
  {
   "cell_type": "markdown",
   "metadata": {},
   "source": [
    "# 技巧6：多写多练，没有捷径"
   ]
  },
  {
   "cell_type": "markdown",
   "metadata": {},
   "source": [
    "1. 单链表反转\n",
    "```python\n",
    "class Nodelist:\n",
    "    def __init__(self, node):\n",
    "    self.node = node\n",
    "    self.next = None\n",
    "```\n",
    "```python\n",
    "class Solution:\n",
    "    def reverseList(self, head):\n",
    "        \"\"\"\n",
    "        :type head: ListNode\n",
    "        :rtype: ListNode\n",
    "        \"\"\"\n",
    "        cur, prev = head, None\n",
    "        while cur:\n",
    "            cur.next, prev.next, cur = prev, cur, cur.next\n",
    "        return prev\n",
    "```"
   ]
  },
  {
   "cell_type": "markdown",
   "metadata": {},
   "source": [
    "2. 链表中环的检测\n",
    "```python\n",
    "class Nodelist:\n",
    "    def __init__(self, node):\n",
    "    self.node = node\n",
    "    self.next = None\n",
    "```\n",
    "```python\n",
    "class Solution:\n",
    "    def has_cycle(self, head):\n",
    "        fast, slow = head, head\n",
    "        while fast and fast.next:\n",
    "            fast = fast.next.next\n",
    "            slow = slow.next\n",
    "            if slow == fast:\n",
    "                return True\n",
    "        return False\n",
    "```"
   ]
  },
  {
   "cell_type": "markdown",
   "metadata": {},
   "source": [
    "3. 两个有序的链表合并\n",
    "```python\n",
    "class Nodelist:\n",
    "    def __init__(self, node):\n",
    "    self.node = node\n",
    "    self.next = None\n",
    "```\n",
    "```python\n",
    "class Solution:\n",
    "    def merge_two_nodelist(self, head1, head2):\n",
    "        node = ListNode(None)\n",
    "        listnode = node\n",
    "        while l1 != None and l2 != None:\n",
    "            if l1.val <= l2.val:\n",
    "                node.next = l1\n",
    "                l1 = l1.next\n",
    "            else:\n",
    "                node.next = l2\n",
    "                l2 = l2.next\n",
    "            node = node.next\n",
    "        if l1 != None:\n",
    "            node.next = l1\n",
    "        if l2 != None:\n",
    "            node.next = l2\n",
    "        return listnode.next\n",
    "```"
   ]
  },
  {
   "cell_type": "markdown",
   "metadata": {},
   "source": [
    "4. 删除链表倒数第n个结点\n",
    "```python\n",
    "class Solution(object):\n",
    "    def removeNthFromEnd(self, head, n):\n",
    "        \"\"\"\n",
    "        :type head: ListNode\n",
    "        :type n: int\n",
    "        :rtype: ListNode\n",
    "        \"\"\"\n",
    "        pre = head\n",
    "        end = head\n",
    "        for _ in range(n):\n",
    "            end = end.next\n",
    "        if end is None:  # 需要删除的节点为第一个节点时，即返回第二个节点为头节点的链表\n",
    "            return head.next\n",
    "        while end.next is not None:\n",
    "            pre = pre.next\n",
    "            end = end.next\n",
    "        pre.next = pre.next.next \n",
    "        return head\n",
    "```\n",
    "第二种方法：\n",
    "```python\n",
    "'''可以使用类似求倒数第k的节点的方式，使用等距法'''\n",
    "        \n",
    "        if head == None:\n",
    "            return None\n",
    "        \n",
    "        p1 = head\n",
    "        p2 = head \n",
    "        # 使用try结构，表示如果链表长度不够n，就不用删除，直接返回首节点即可\n",
    "        try:\n",
    "            for i in range(n):\n",
    "                p2=p2.next\n",
    "        except:\n",
    "            return head\n",
    "        \n",
    "        # 如果长度恰好等于n，就返回以第二个节点为首节点的链表\n",
    "        if p2==None:\n",
    "            return head.next\n",
    "        \n",
    "        # 循环直到p2指向最后一个节点\n",
    "        while p2.next != None:\n",
    "            p1 = p1.next\n",
    "            p2 = p2.next\n",
    "        del_node = p1.next\n",
    "        p1.next = p1.next.next\n",
    "        del del_node\n",
    "        return head\n",
    "```"
   ]
  },
  {
   "cell_type": "markdown",
   "metadata": {},
   "source": [
    "5. 求链表的中间结点\n",
    "\n",
    "快慢指针法：当用慢指针 slow 遍历列表时，让另一个指针 fast 的速度是它的两倍。当 fast 到达列表的末尾时，slow 必然位于中间。\n",
    "```python\n",
    "class Solution(object):\n",
    "    def middleNode(self, head):\n",
    "        \"\"\"\n",
    "        :type head: ListNode\n",
    "        :rtype: ListNode\n",
    "        \"\"\"\n",
    "        slow = fast = head\n",
    "        while fast and fast.next:\n",
    "            slow = slow.next\n",
    "            fast = fast.next.next\n",
    "        return slow\n",
    "```"
   ]
  }
 ],
 "metadata": {
  "kernelspec": {
   "display_name": "Python 3",
   "language": "python",
   "name": "python3"
  },
  "language_info": {
   "codemirror_mode": {
    "name": "ipython",
    "version": 3
   },
   "file_extension": ".py",
   "mimetype": "text/x-python",
   "name": "python",
   "nbconvert_exporter": "python",
   "pygments_lexer": "ipython3",
   "version": "3.7.0"
  }
 },
 "nbformat": 4,
 "nbformat_minor": 2
}
