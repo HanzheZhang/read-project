{
 "cells": [
  {
   "cell_type": "markdown",
   "metadata": {},
   "source": [
    "- 图(Graph)中的元素就叫做顶点(vertex)。\n",
    "- 图中一个顶点可以与任意其他顶点建立连接关系，这种连接关系叫做边(edge)。\n",
    "- 顶点之间向连结的边的条数叫做顶点的度(degree)\n",
    "- 边有方向的图叫做有向图，边没有方向的叫做无向图\n",
    "- 在有向图中，度可以被分为入度(in-degree)和出度(out-degree)，顶点的入度表示有多少条边指向这个顶点，出度表示有多少条边以这个顶点为起点指向其他顶点\n",
    "- 带权图(weighted graph)，每条边都有一个权重(weight)"
   ]
  },
  {
   "cell_type": "markdown",
   "metadata": {},
   "source": [
    "### 邻接矩阵存储方法\n",
    "图最直观的一种存储方法就是**邻接矩阵(Adjacency Matrix)**。\n",
    "![邻接矩阵存储法](https://static001.geekbang.org/resource/image/62/d2/625e7493b5470e774b5aa91fb4fdb9d2.jpg)\n",
    "邻接矩阵的底层依赖一个二维数组。对于无向图来说，如果顶点i与顶点j之间有边，就将A\\[i\\]\\[j\\]和A\\[j\\]\\[i\\]标记为1；对于有向图来说，如果顶点i到顶点j之间，有一个箭头从顶点i指向顶点j的边，那就将A\\[i\\]\\[j\\]标记为1。同理，对于带权图，数组中就存储相应的权重。\n",
    "- 缺点：浪费空间\n",
    "- 优点：简单直接，高效。方便计算"
   ]
  },
  {
   "cell_type": "markdown",
   "metadata": {},
   "source": [
    "### 邻接表存储法(Adjacency List)\n",
    "每个顶点对应一条链表，链表中存储的是与这个顶点相连接的其他顶点。\n",
    "![有向图邻接表存储法](https://static001.geekbang.org/resource/image/03/94/039bc254b97bd11670cdc4bf2a8e1394.jpg)\n",
    "- 优点：节省空间\n",
    "- 缺点：运算耗时"
   ]
  },
  {
   "cell_type": "code",
   "execution_count": 1,
   "metadata": {},
   "outputs": [],
   "source": [
    "class Undigraph:\n",
    "    def __init__(self, vertex_num):\n",
    "        self.v_num = vertex_num\n",
    "        self.adj_tbl = []\n",
    "        for i in range(self.v_num + 1):\n",
    "            self.adj_tbl.append([])\n",
    "            \n",
    "    def add_edge(self, s, t):\n",
    "        if s > self.v_num or t > self.v_num:\n",
    "            return False\n",
    "        self.adj_tbl[s].append(t)\n",
    "        self.adj_tbl[t].append(s)\n",
    "        return True\n",
    "    \n",
    "    def __len__(self):\n",
    "        return self.v_num\n",
    "    \n",
    "    def __getitem__(self, ind):\n",
    "        if ind > self.v_num:\n",
    "            raise IndexError('No Such Vertex')\n",
    "        return self.adj_tbl[ind]\n",
    "    \n",
    "    def __repr__(self):\n",
    "        return str(self.adj_tbl)\n",
    "    \n",
    "    def __str__(self):\n",
    "        return str(self.adj_tbl)"
   ]
  },
  {
   "cell_type": "code",
   "execution_count": 2,
   "metadata": {},
   "outputs": [
    {
     "name": "stdout",
     "output_type": "stream",
     "text": [
      "[[], [9, 3], [3], [1, 2], [], [], [], [], [], [1], []]\n"
     ]
    }
   ],
   "source": [
    "ug = Undigraph(10)\n",
    "ug.add_edge(1, 9)\n",
    "ug.add_edge(1, 3)\n",
    "ug.add_edge(3, 2)\n",
    "print(ug.adj_tbl)"
   ]
  },
  {
   "cell_type": "code",
   "execution_count": 5,
   "metadata": {},
   "outputs": [],
   "source": [
    "class Digraph:\n",
    "    def __init__(self, vertex_num):\n",
    "        self.v_num = vertex_num\n",
    "        self.adj_tbl = []\n",
    "        for i in range(self.v_num + 1):\n",
    "            self.adj_tbl.append([])\n",
    "            \n",
    "    def add_edge(self, frm, to):\n",
    "        if frm > self.v_num or to > self.v_num:\n",
    "            return False\n",
    "        self.adj_tbl[frm].append(to)\n",
    "        \n",
    "    def __len__(self):\n",
    "        return self.v_num\n",
    "    \n",
    "    def __getitem__(self, ind):\n",
    "        if ind > self.v_num:\n",
    "            raise IndexError(\"No such vertex!\")\n",
    "        return self.adj_tbl[ind]\n",
    "    \n",
    "    def __repr__(self):\n",
    "        return str(self.adj_tbl)\n",
    "    \n",
    "    def __str__(self):\n",
    "        return str(self.adj_tbl)"
   ]
  },
  {
   "cell_type": "code",
   "execution_count": 6,
   "metadata": {},
   "outputs": [
    {
     "name": "stdout",
     "output_type": "stream",
     "text": [
      "[[], [9, 3], [], [4], [], [], [], [], [], [], []]\n"
     ]
    }
   ],
   "source": [
    "dg = Digraph(10)\n",
    "dg.add_edge(1, 9)\n",
    "dg.add_edge(1, 3)\n",
    "dg.add_edge(3, 4)\n",
    "print(dg.adj_tbl)"
   ]
  },
  {
   "cell_type": "markdown",
   "metadata": {},
   "source": [
    "### 广度优先搜索(BFS)\n",
    "它其实是一种地毯式层层推进的搜索策略，即先查找离起始顶点最近的，然后是次近的，依次往外搜索。\n",
    "![](https://static001.geekbang.org/resource/image/00/ea/002e9e54fb0d4dbf5462226d946fa1ea.jpg)\n",
    "- visited：用来记录已经被访问的顶点，用来避免顶点被重复访问\n",
    "- queue：用来存储已经被访问的、但连接的顶点还没有被访问的顶点\n",
    "- prev：用来记录搜索路径\n",
    "![](https://static001.geekbang.org/resource/image/4f/3a/4fea8c4505b342cfaf8cb0a93a65503a.jpg)\n",
    "- 时间复杂度是O(V+E)，V表示顶点的个数，E表示边的个数。也可以简写为O(E)\n",
    "- 空间复杂度是O(V)"
   ]
  },
  {
   "cell_type": "markdown",
   "metadata": {},
   "source": [
    "### 深度优先搜索(DFS)\n",
    "![](https://static001.geekbang.org/resource/image/87/85/8778201ce6ff7037c0b3f26b83efba85.jpg)\n",
    "- 深度优先搜索代码也用到了prev、visited变量。除此之外，还用到了特殊变量found()，用来检测是否找到终点\n",
    "- 时间复杂度是O(E)\n",
    "- 空间复杂度是O(V)"
   ]
  },
  {
   "cell_type": "code",
   "execution_count": 18,
   "metadata": {},
   "outputs": [],
   "source": [
    "from typing import List, Optional, Generator, IO\n",
    "from collections import deque\n",
    "\n",
    "class Graph:\n",
    "    \"\"\"Undirected graph.\"\"\"\n",
    "    def __init__(self, num_vertices: int):\n",
    "        self._num_vertices = num_vertices\n",
    "        self._adjacency = [[] for _ in range(num_vertices)]\n",
    "\n",
    "    def add_edge(self, s: int, t: int) -> None:\n",
    "        self._adjacency[s].append(t)\n",
    "        self._adjacency[t].append(s)\n",
    "\n",
    "    def _generate_path(self, s: int, t: int, prev: List[Optional[int]]) -> Generator[str, None, None]:\n",
    "        if prev[t] or s != t:\n",
    "            yield from self._generate_path(s, prev[t], prev)\n",
    "        yield str(t)\n",
    "\n",
    "    def bfs(self, s: int, t: int) -> IO[str]:\n",
    "        \"\"\"Print out the path from Vertex s to Vertex t\n",
    "        using bfs.\n",
    "        \"\"\"\n",
    "        if s == t: return\n",
    "\n",
    "        visited = [False] * self._num_vertices\n",
    "        visited[s] = True\n",
    "        q = deque()\n",
    "        q.append(s)\n",
    "        prev = [None] * self._num_vertices\n",
    "\n",
    "        while q:\n",
    "            v = q.popleft()\n",
    "            for neighbour in self._adjacency[v]:\n",
    "                if not visited[neighbour]:\n",
    "                    prev[neighbour] = v\n",
    "                    if neighbour == t:\n",
    "                        print(\"->\".join(self._generate_path(s, t, prev)))\n",
    "                        return\n",
    "                    visited[neighbour] = True\n",
    "                    q.append(neighbour)\n",
    "\n",
    "    def dfs(self, s: int, t: int) -> IO[str]:\n",
    "        \"\"\"Print out a path from Vertex s to Vertex t\n",
    "        using dfs.\n",
    "        \"\"\"\n",
    "        found = False\n",
    "        visited = [False] * self._num_vertices\n",
    "        prev = [None] * self._num_vertices\n",
    "\n",
    "        def _dfs(from_vertex: int) -> None:\n",
    "            nonlocal found\n",
    "            if found: return\n",
    "            visited[from_vertex] = True\n",
    "            if from_vertex == t:\n",
    "                found = True\n",
    "                return\n",
    "            for neighbour in self._adjacency[from_vertex]:\n",
    "                if not visited[neighbour]:\n",
    "                    prev[neighbour] = from_vertex\n",
    "                    _dfs(neighbour)\n",
    "        \n",
    "        _dfs(s)\n",
    "        print(\"->\".join(self._generate_path(s, t, prev)))"
   ]
  },
  {
   "cell_type": "code",
   "execution_count": 19,
   "metadata": {},
   "outputs": [
    {
     "name": "stdout",
     "output_type": "stream",
     "text": [
      "0->1->2->5->7\n",
      "0->1->2->5->4->6->7\n"
     ]
    }
   ],
   "source": [
    "graph = Graph(8)\n",
    "\n",
    "graph.add_edge(0, 1)\n",
    "graph.add_edge(0, 3)\n",
    "graph.add_edge(1, 2)\n",
    "graph.add_edge(1, 4)\n",
    "graph.add_edge(2, 5)\n",
    "graph.add_edge(3, 4)\n",
    "graph.add_edge(4, 5)\n",
    "graph.add_edge(4, 6)\n",
    "graph.add_edge(5, 7)\n",
    "graph.add_edge(6, 7)\n",
    "\n",
    "graph.bfs(0, 7)\n",
    "graph.dfs(0, 7)"
   ]
  },
  {
   "cell_type": "code",
   "execution_count": 20,
   "metadata": {},
   "outputs": [],
   "source": [
    "def find_vertex_by_degree(graph, s, degree):\n",
    "    if len(graph) <= 1:\n",
    "        return []\n",
    "    if degree == 0:\n",
    "        return [s]\n",
    "    d_vertices = []\n",
    "    queue = deque()\n",
    "    prev = [-1] * len(graph)\n",
    "    visited = [False] * len(graph)\n",
    "    visited[s] = True\n",
    "    queue.append(s)\n",
    "    while len(queue) > 0:\n",
    "        sz = len(queue)\n",
    "        for i in range(sz):\n",
    "            v = queue.popleft()\n",
    "            for adj_v in graph[v]:\n",
    "                if not visited[adj_v]:\n",
    "                    prev[adj_v] = v\n",
    "                    visited[adj_v] = True\n",
    "                    queue.append(adj_v)\n",
    "        degree -= 1\n",
    "        if degree == 0 and len(queue) != 0:\n",
    "            return queue "
   ]
  },
  {
   "cell_type": "code",
   "execution_count": 21,
   "metadata": {},
   "outputs": [
    {
     "name": "stdout",
     "output_type": "stream",
     "text": [
      "deque([7])\n"
     ]
    }
   ],
   "source": [
    "g = Undigraph(8)\n",
    "g.add_edge(0, 1)\n",
    "g.add_edge(0, 3)\n",
    "g.add_edge(1, 2)\n",
    "g.add_edge(1, 4)\n",
    "g.add_edge(2, 5)\n",
    "g.add_edge(3, 4)\n",
    "g.add_edge(4, 5)\n",
    "g.add_edge(4, 6)\n",
    "g.add_edge(5, 7)\n",
    "g.add_edge(6, 7)\n",
    "print(find_vertex_by_degree(g, 0, 4))"
   ]
  },
  {
   "cell_type": "code",
   "execution_count": null,
   "metadata": {},
   "outputs": [],
   "source": []
  }
 ],
 "metadata": {
  "kernelspec": {
   "display_name": "Python 3",
   "language": "python",
   "name": "python3"
  },
  "language_info": {
   "codemirror_mode": {
    "name": "ipython",
    "version": 3
   },
   "file_extension": ".py",
   "mimetype": "text/x-python",
   "name": "python",
   "nbconvert_exporter": "python",
   "pygments_lexer": "ipython3",
   "version": "3.6.5"
  }
 },
 "nbformat": 4,
 "nbformat_minor": 2
}
