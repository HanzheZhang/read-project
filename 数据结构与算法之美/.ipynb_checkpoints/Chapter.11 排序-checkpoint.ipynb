{
 "cells": [
  {
   "cell_type": "markdown",
   "metadata": {},
   "source": [
    "对于一个排序算法执行效率的分析，一般会从几个方面衡量：\n",
    "1. 最好情况、最坏情况、平均情况时间复杂度\n",
    "2. 时间复杂度的系数、常数、低阶\n",
    "3. 比较次数和交换次数"
   ]
  },
  {
   "cell_type": "markdown",
   "metadata": {},
   "source": [
    "原地排序(Sorted inplace):就是指空间复杂度为O(1)的排序算法。\n",
    "\n",
    "稳定性：如果排序的序列中存在值相等的元素，经过排序之后，想等元素之间原有的先后顺序不变。这样的算法叫做**稳定排序算法**，否则叫做**不稳定排序算法**。\n",
    "\n",
    "有序度：指数组中具有有序关系的元素对的个数。对于一个完全有序的n元素数组，**有序度就是n*(n-2)/2，也叫做满有序。满有序-有序度=逆序度，也是一个数组排序需要交换元素的次数。**"
   ]
  },
  {
   "cell_type": "markdown",
   "metadata": {},
   "source": [
    "### 冒泡排序(Bubble Sort)\n",
    "冒泡排序只会操作相邻的两个数据。每次冒泡操作都会对相邻的两个元素进行比较，看是否满足大小关系要求。如果不满足就让它俩互换。一次冒泡会让至少一个元素移动到它应该的位置，重复n次，就完成了n个数据的排序工作。\n",
    "![冒泡排序过程](https://static001.geekbang.org/resource/image/40/e9/4038f64f47975ab9f519e4f739e464e9.jpg)\n",
    "![冒泡排序过程](https://static001.geekbang.org/resource/image/92/09/9246f12cca22e5d872cbfce302ef4d09.jpg)\n",
    "![冒泡排序](https://static001.geekbang.org/resource/image/a9/e6/a9783a3b13c11a5e064c5306c261e8e6.jpg)\n",
    "1. 冒泡排序的空间复杂度是O(1)，是一个原地排序算法\n",
    "2. 冒泡排序是稳定的排序算法\n",
    "3. 冒泡排序的平均时间复杂度是O(n2)"
   ]
  },
  {
   "cell_type": "code",
   "execution_count": 6,
   "metadata": {},
   "outputs": [
    {
     "name": "stdout",
     "output_type": "stream",
     "text": [
      "[-1, 2, 4, 5, 6, 6, 7, 8, 10]\n"
     ]
    }
   ],
   "source": [
    "def bubble_sort(num):\n",
    "    l = len(num)\n",
    "    if l <= 0:return \n",
    "    for i in range(l):\n",
    "        for j in range(i+1,l):\n",
    "            if num[i] > num[j]:\n",
    "                num[i], num[j] = num[j], num[i]\n",
    "    return num\n",
    "                \n",
    "                \n",
    "array = [5, 6, -1, 4, 2, 8, 10, 7, 6]\n",
    "bubble_sort(array)\n",
    "print(array)"
   ]
  },
  {
   "cell_type": "markdown",
   "metadata": {},
   "source": [
    "### 插入排序(Insertion Sort)\n"
   ]
  }
 ],
 "metadata": {
  "kernelspec": {
   "display_name": "Python 3",
   "language": "python",
   "name": "python3"
  },
  "language_info": {
   "codemirror_mode": {
    "name": "ipython",
    "version": 3
   },
   "file_extension": ".py",
   "mimetype": "text/x-python",
   "name": "python",
   "nbconvert_exporter": "python",
   "pygments_lexer": "ipython3",
   "version": "3.6.5"
  }
 },
 "nbformat": 4,
 "nbformat_minor": 2
}
