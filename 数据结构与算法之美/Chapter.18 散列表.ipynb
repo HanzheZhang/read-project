{
 "cells": [
  {
   "cell_type": "markdown",
   "metadata": {},
   "source": [
    "![开放寻址法线性探测插入数据](https://static001.geekbang.org/resource/image/5c/d5/5c31a3127cbc00f0c63409bbe1fbd0d5.jpg)\n",
    "![开放寻址法线性探测查找数据](https://static001.geekbang.org/resource/image/91/ff/9126b0d33476777e7371b96e676e90ff.jpg)\n",
    "![开放寻址法线性探测删除数据](https://static001.geekbang.org/resource/image/fe/1d/fe7482ba09670cbe05a9dfe4dd49bd1d.jpg)\n",
    "![链表法](https://static001.geekbang.org/resource/image/a4/7f/a4b77d593e4cb76acb2b0689294ec17f.jpg)"
   ]
  },
  {
   "cell_type": "markdown",
   "metadata": {},
   "source": [
    "散列表的英文名叫“Hash Table”，平时叫它“哈希表”或者“Hash表”**散列表用的是数组支持按照下标随机访问数据的特性，所以散列表其实就是数组的一种扩展，由数组演化而来**。数据的标识叫做**键/key**或者**关键字**。将关键字转化为数组下标的映射方法叫做**散列函数**，而散列函数计算得到的值叫做**散列值**\n",
    "![散列表](https://static001.geekbang.org/resource/image/92/73/92c89a57e21f49d2f14f4424343a2773.jpg)\n",
    "散列表的时间复杂度是O(1)\n",
    "\n",
    "散列函数：它是一个函数，可以把它定义成hash(key)，其中key表示元素的键值，hash(key)的值表示经过散列函数计算得到的散列值。\n",
    "\n",
    "散列函数的三点设计要求：\n",
    "1. 散列函数计算得到的散列值是一个非负整数\n",
    "2. 如果key1 = key2，那hash(key1) == hash(key2)\n",
    "3. 如果key1 != key2, 那hash(key1) != hash(key2)\n",
    "\n",
    "散列冲突：散列函数无论如何都会出现第三点设计要求冲突的问题\n",
    "1. 开放寻址发 open addressing\n",
    "    1. 线性探测 Linear Probing\n",
    "    2. 当往散列表中插入数据时，如果某个数据经过散列函数之后，存储位置已经被占用了，那就从当前位置开始，依次往后查找，看是否有空闲位置，直到找到位置\n",
    "    3. 在散列表中查找元素的过程类似于插入过程。通过散列函数求出要查找元素的键值对应的散列值，然后比较数组中下标为散列列表的元素和要查找的元素。如果相等，则说明就是要找的元素；否则就顺序往后查找。如果遍历到数组中的空闲位置还没有找到，则说明元素不在散列表中\n",
    "    4. 删除元素时，找到然后将其标记为特殊标记deleted。当线性探测查找的时候，遇到标记为deleted的空间，并不是停下来，而是继续往下探测\n",
    "    5. 除了线性探测法，还有另外两种探测方法：二次探测和双重散列\n",
    "2. 链表法 chaining"
   ]
  },
  {
   "cell_type": "code",
   "execution_count": null,
   "metadata": {},
   "outputs": [],
   "source": []
  }
 ],
 "metadata": {
  "kernelspec": {
   "display_name": "Python 3",
   "language": "python",
   "name": "python3"
  },
  "language_info": {
   "codemirror_mode": {
    "name": "ipython",
    "version": 3
   },
   "file_extension": ".py",
   "mimetype": "text/x-python",
   "name": "python",
   "nbconvert_exporter": "python",
   "pygments_lexer": "ipython3",
   "version": "3.7.0"
  }
 },
 "nbformat": 4,
 "nbformat_minor": 2
}
