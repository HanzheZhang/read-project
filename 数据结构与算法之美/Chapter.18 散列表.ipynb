{
 "cells": [
  {
   "cell_type": "markdown",
   "metadata": {},
   "source": [
    "散列表的英文名叫“Hash Table”，平时叫它“哈希表”或者“Hash表”**散列表用的是数组支持按照下标随机访问数据的特性，所以散列表其实就是数组的一种扩展，由数组演化而来**。数据的标识叫做**键/key**或者**关键字**。将关键字转化为数组下标的映射方法叫做**散列函数**，而散列函数计算得到的值叫做**散列值**\n",
    "![散列表](https://static001.geekbang.org/resource/image/92/73/92c89a57e21f49d2f14f4424343a2773.jpg)\n",
    "散列表的时间复杂度是O(1)\n",
    "\n",
    "散列函数：它是一个函数，可以把它定义成hash(key)，其中key表示元素的键值，hash(key)的值表示经过散列函数计算得到的散列值。\n",
    "\n",
    "散列函数的三点设计要求：\n",
    "1. 散列函数计算得到的散列值是一个非负整数\n",
    "2. 如果key1 = key2，那hash(key1) == hash(key2)\n",
    "3. 如果key1 != key2, 那hash(key1) != hash(key2)\n",
    "\n",
    "散列冲突：散列函数无论如何都会出现第三点设计要求冲突的问题\n",
    "1. 开放寻址发 open addressing\n",
    "    1. 线性探测 Linear Probing\n",
    "    2. 当往散列表中插入数据时，如果某个数据经过散列函数之后，存储位置已经被占用了，那就从当前位置开始，依次往后查找，看是否有空闲位置，直到找到位置\n",
    "    ![开放寻址法线性探测插入数据](https://static001.geekbang.org/resource/image/5c/d5/5c31a3127cbc00f0c63409bbe1fbd0d5.jpg)\n",
    "    3. 在散列表中查找元素的过程类似于插入过程。通过散列函数求出要查找元素的键值对应的散列值，然后比较数组中下标为散列列表的元素和要查找的元素。如果相等，则说明就是要找的元素；否则就顺序往后查找。如果遍历到数组中的空闲位置还没有找到，则说明元素不在散列表中\n",
    "    ![开放寻址法线性探测查找数据](https://static001.geekbang.org/resource/image/91/ff/9126b0d33476777e7371b96e676e90ff.jpg)\n",
    "    4. 删除元素时，找到然后将其标记为特殊标记deleted。当线性探测查找的时候，遇到标记为deleted的空间，并不是停下来，而是继续往下探测\n",
    "    ![开放寻址法线性探测删除数据](https://static001.geekbang.org/resource/image/fe/1d/fe7482ba09670cbe05a9dfe4dd49bd1d.jpg)\n",
    "    5. 除了线性探测法，还有另外两种探测方法：二次探测和双重散列\n",
    "        1. 二次探测，跟线性探测很像，线性探测的步长是1，那它探测的下标序列就是hash(key)+0,hash(key)+1,hash(key)+2。而二次探测探测的步长就变成了原来的二次方，它的探测的下标序列就是hash(key)+0,hash(key)+1^2,hash(key)+2^2\n",
    "        2. 双重序列，意思就是不仅要使用一个散列函数。使用一组散列函数hash1(key),hash2(key),hash3(key),....先用第一个散列函数，然后使用第二个，以此类推。\n",
    "    6. 为了尽可能保证散列表中有一定比例的空闲槽位。使用**装载因子**来表示空位的多少。装载因子越大，说明空闲越少，冲突越多，散列表的性能下降。\n",
    "        - 散列表装载因子 = 填入表的元素个数 / 散列表的长度\n",
    "2. 链表法 chaining\n",
    "当插入的时候，只需要通过散列函数计算出对应的散列槽位，将其插入到对应链表中即可，所以插入时间复杂度是O(1)。当查找、删除一个元素时，同样通过散列函数计算出对应的槽，然后遍历链表查找或者删除。\n",
    "![链表法](https://static001.geekbang.org/resource/image/a4/7f/a4b77d593e4cb76acb2b0689294ec17f.jpg)"
   ]
  },
  {
   "cell_type": "code",
   "execution_count": null,
   "metadata": {},
   "outputs": [],
   "source": []
  }
 ],
 "metadata": {
  "kernelspec": {
   "display_name": "Python 3",
   "language": "python",
   "name": "python3"
  },
  "language_info": {
   "codemirror_mode": {
    "name": "ipython",
    "version": 3
   },
   "file_extension": ".py",
   "mimetype": "text/x-python",
   "name": "python",
   "nbconvert_exporter": "python",
   "pygments_lexer": "ipython3",
   "version": "3.6.5"
  }
 },
 "nbformat": 4,
 "nbformat_minor": 2
}
