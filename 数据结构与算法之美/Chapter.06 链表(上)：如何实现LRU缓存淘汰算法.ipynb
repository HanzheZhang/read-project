{
 "cells": [
  {
   "cell_type": "markdown",
   "metadata": {},
   "source": [
    "# 链表的一个经典场景：LRU缓存淘汰算法"
   ]
  },
  {
   "cell_type": "markdown",
   "metadata": {},
   "source": [
    "缓存时一种提高数据读取性能的技术，在硬件设计、软件开发中都有着非常广泛的应用。\n",
    "比如常见的CPU缓存、数据库缓存、浏览器缓存等等。"
   ]
  },
  {
   "cell_type": "markdown",
   "metadata": {},
   "source": [
    "缓存的大小有限，当缓存被用满时，确定数据的保留和清除需要由缓存淘汰策略来决定。\n",
    "常见的策略有三种：\n",
    "- 先进先出策略FIFO(First In, First On)\n",
    "- 最少使用策略LFU(Least Frequently Used)\n",
    "- 最近最少使用策略LRU(Least Recently Used)"
   ]
  },
  {
   "cell_type": "markdown",
   "metadata": {},
   "source": [
    "# 链表结构\n",
    "链表通过指针将一组零散的内存块串联到一起。其中，内存块称为链表的**结点**。为了将所有的结点串起来，每个链表的结点除了存储数据之外，还需要记录链上的下一个结点的地址。这个地址被称为**后继指针next**。"
   ]
  },
  {
   "cell_type": "markdown",
   "metadata": {},
   "source": [
    "链表支持数据的查找、插入和删除操作。\n",
    "1. 查找数据的时间复杂度为O(n)\n",
    "2. 插入数据的时间复杂度为O(1)\n",
    "3. 删除数据的时间复杂度为O(1)"
   ]
  },
  {
   "cell_type": "markdown",
   "metadata": {},
   "source": [
    "![链表结构](https://img2018.cnblogs.com/blog/1256425/201810/1256425-20181003012937758-1671128402.png)"
   ]
  },
  {
   "cell_type": "markdown",
   "metadata": {},
   "source": [
    "## 单链表\n",
    "单链表如下图所示。其中，第一个结点叫作**头结点**，最后一个结点叫作**尾节点**。\n",
    "其中，头结点用来记录链表的基地址。尾结点的指针指向一个空地址NULL，表示这是链表上最后一个结点。"
   ]
  },
  {
   "cell_type": "markdown",
   "metadata": {},
   "source": [
    "![单链表](https://img2018.cnblogs.com/blog/1256425/201810/1256425-20181003013037290-1589346860.png)"
   ]
  },
  {
   "cell_type": "markdown",
   "metadata": {},
   "source": [
    "## **循环链表**和**双向链表**"
   ]
  },
  {
   "cell_type": "markdown",
   "metadata": {},
   "source": [
    "**循环链表**是一种特殊的单链表。它和单链表唯一的区别在于尾节点，它的尾结点指针指向链表的头结点。\n",
    "\n",
    "和单链表相比，**循环链表**的优点是从链尾到链头比较方便。当要处理的数据具有环型结构特点时，就特别适合采用循环链表。"
   ]
  },
  {
   "cell_type": "markdown",
   "metadata": {},
   "source": [
    "![循环链表](https://img2018.cnblogs.com/blog/1256425/201810/1256425-20181003013326615-710641951.png)"
   ]
  },
  {
   "cell_type": "markdown",
   "metadata": {},
   "source": [
    "## 双向链表"
   ]
  },
  {
   "cell_type": "markdown",
   "metadata": {},
   "source": [
    "双向链表的每个结点除了有一个后继指针next指向下一个结点之外，还有一个前驱指针prev指向前面的结点。\n",
    "\n",
    "双链表每个结点拥有两个指针，这样需要更大的存储空间。\n",
    "从结构看，双向链表支持O(1)时间复杂度的情况下找到前驱结点，这使得双向链表在某些情况下的插入和删除操作比单链表更简单高效。"
   ]
  },
  {
   "cell_type": "markdown",
   "metadata": {},
   "source": [
    "![双向链表](https://img2018.cnblogs.com/blog/1256425/201810/1256425-20181003013427024-466127947.png)"
   ]
  },
  {
   "cell_type": "markdown",
   "metadata": {},
   "source": [
    "## 数组 vs 链表"
   ]
  },
  {
   "cell_type": "markdown",
   "metadata": {},
   "source": [
    "![数组vs链表](https://img2018.cnblogs.com/blog/1256425/201810/1256425-20181003014203032-193606311.png)"
   ]
  },
  {
   "cell_type": "code",
   "execution_count": null,
   "metadata": {},
   "outputs": [],
   "source": []
  }
 ],
 "metadata": {
  "kernelspec": {
   "display_name": "Python 3",
   "language": "python",
   "name": "python3"
  },
  "language_info": {
   "codemirror_mode": {
    "name": "ipython",
    "version": 3
   },
   "file_extension": ".py",
   "mimetype": "text/x-python",
   "name": "python",
   "nbconvert_exporter": "python",
   "pygments_lexer": "ipython3",
   "version": "3.7.0"
  }
 },
 "nbformat": 4,
 "nbformat_minor": 2
}
