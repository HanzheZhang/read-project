{
 "cells": [
  {
   "cell_type": "markdown",
   "metadata": {},
   "source": [
    "# 概念"
   ]
  },
  {
   "cell_type": "markdown",
   "metadata": {},
   "source": [
    "**先进先出，后进后出**\n",
    "\n",
    "从栈的操作特性上来看，**栈是一种“操作受限”的线性表**，只允许在一端插入和删除数据。\n",
    "\n",
    "从功能上来说，数组或链表趋势可以替代栈。但是，特定的数据结构是对特定场景的抽象，而且，数组和链表暴露了太多的操作接口，操作上的确灵活自由，但使用时就比较不可控，自然也更容易出错\n",
    "\n",
    "**当某个数据集合只涉及在一端插入和删除数据，并且满足后进先出，先进后出的特性，就应该首选“栈”这种数据结构**"
   ]
  },
  {
   "cell_type": "markdown",
   "metadata": {},
   "source": [
    "# 如何实现一个栈"
   ]
  },
  {
   "cell_type": "markdown",
   "metadata": {},
   "source": [
    "栈既可以用数组来实现，也可以用链表来实现。用数组来实现的栈叫做**顺序栈**，用链表来实现的栈叫**链式栈**"
   ]
  },
  {
   "cell_type": "code",
   "execution_count": 6,
   "metadata": {},
   "outputs": [
    {
     "name": "stdout",
     "output_type": "stream",
     "text": [
      "8 7 6 5 4 3 2 1 0\n",
      "5 4 3 2 1 0\n"
     ]
    }
   ],
   "source": [
    "\"\"\"\n",
    "基于链表实现的栈\n",
    "\"\"\"\n",
    "from typing import Optional\n",
    "\n",
    "class Node:\n",
    "    \n",
    "    def __init__(self, data: int, next=None):\n",
    "        self._data = data\n",
    "        self._next = next\n",
    "        \n",
    "\n",
    "class LinkedStack:\n",
    "    \n",
    "    def __init__(self):\n",
    "        self._top: Node = None\n",
    "            \n",
    "    def push(self, value: int):\n",
    "        new_top = Node(value)\n",
    "        new_top._next = self._top\n",
    "        self._top = new_top\n",
    "        \n",
    "    def pop(self) -> Optional[int]:\n",
    "        if self._top:\n",
    "            value = self._top._data\n",
    "            self._top = self._top._next\n",
    "            return value\n",
    "    \n",
    "    def __repr__(self) -> str:\n",
    "        current = self._top\n",
    "        nums = []\n",
    "        while current:\n",
    "            nums.append(current._data)\n",
    "            current = current._next\n",
    "        return \" \".join(f\"{num}\" for num in nums)\n",
    "    \n",
    "\n",
    "stack = LinkedStack()\n",
    "for i in range(9):\n",
    "    stack.push(i)\n",
    "print(stack)\n",
    "for _ in range(3):\n",
    "    stack.pop()\n",
    "print(stack)"
   ]
  },
  {
   "cell_type": "code",
   "execution_count": 7,
   "metadata": {},
   "outputs": [],
   "source": [
    "class Stack:\n",
    "    \n",
    "    def __init__(self):\n",
    "        self.stack = []\n",
    "        \n",
    "    def isEmpty(self):\n",
    "        return self.stack == []\n",
    "    \n",
    "    def push(self, item):\n",
    "        self.stack.append(item)\n",
    "        \n",
    "    def pop(self):\n",
    "        if self.isEmpty():\n",
    "            raise IndexError(\"pop from empty stack\")\n",
    "        return self.stack.pop()\n",
    "    \n",
    "    def peek(self):\n",
    "        return self.stack[-1]\n",
    "    \n",
    "    def size(self):\n",
    "        return len(self.stack)"
   ]
  },
  {
   "cell_type": "markdown",
   "metadata": {},
   "source": [
    "不管是顺序栈还是链式栈，存储数据只需要大小为n的数组。**在入栈和出栈过程中，只需要一两个临时变量存储空间，所以空间复杂度是O(1)**。"
   ]
  },
  {
   "cell_type": "markdown",
   "metadata": {},
   "source": [
    "# 支持动态扩容的顺序栈"
   ]
  },
  {
   "cell_type": "markdown",
   "metadata": {},
   "source": [
    "如果要实现一个支持动态扩展的栈，我们只需要底层依赖一个支持动态扩容的数组就可以了。当栈满了之后，就申请一个更大的数组，将原来的数据搬移到新数组中"
   ]
  },
  {
   "cell_type": "markdown",
   "metadata": {},
   "source": [
    "![](https://static001.geekbang.org/resource/image/b1/da/b193adf5db4356d8ab35a1d32142b3da.jpg)"
   ]
  },
  {
   "cell_type": "markdown",
   "metadata": {},
   "source": [
    "对于出栈操作来说，操作不会涉及内存的重新申请和数据的搬移，所以**出栈的时间复杂度仍然是O(1)。但是，对于入栈操作来说，当栈中有空闲空间时，入栈操作的时间复杂度为O(1)。但当空间不够时，就需要重新申请内存和数据搬移，所以时间复杂度为O(n)。**\n",
    "\n",
    "为了分析的方便，需要事先做一些假设和定义：\n",
    "   - 占空间不够时，我们重新申请一个是原来大小两倍的数组\n",
    "   - 为了简化分析，假设只有入栈操作没有出栈操作\n",
    "   - 定义不涉及内存搬移的入栈操作为simple-push操作，时间复杂度为O(1)"
   ]
  },
  {
   "cell_type": "markdown",
   "metadata": {},
   "source": [
    "![](https://static001.geekbang.org/resource/image/c9/bb/c936a39ad54a9fdf526e805dc18cf6bb.jpg)"
   ]
  },
  {
   "cell_type": "markdown",
   "metadata": {},
   "source": [
    "**均摊时间复杂度一般都等于最好情况时间复杂度**\n",
    "\n",
    "在大部分的情况下，入栈操作的时间复杂度O都是O(1),只有在个别时刻才会退化为O(n)，所以平均情况下的耗时接近O(1)。"
   ]
  },
  {
   "cell_type": "markdown",
   "metadata": {},
   "source": [
    "# 栈在函数调用中的应用"
   ]
  },
  {
   "cell_type": "markdown",
   "metadata": {},
   "source": [
    "栈作为一个比较基础的数据结构，一个比较经典的应用场景就是**函数调用栈**\n",
    "\n",
    "操作系统给每个线程分配了一块独立的内存空间，这块内存被组织成“栈”这种结构，用来存储函数调用时的临时变量。每进入一个函数，就会将临时变量作为了一个栈帧入栈，当被调用函数执行完成，返回之后，将这个函数对应的栈帧出栈。"
   ]
  },
  {
   "cell_type": "markdown",
   "metadata": {},
   "source": [
    "![](https://static001.geekbang.org/resource/image/17/1c/17b6c6711e8d60b61d65fb0df5559a1c.jpg)"
   ]
  },
  {
   "cell_type": "markdown",
   "metadata": {},
   "source": [
    "# 栈在表达式求值中的应用"
   ]
  },
  {
   "cell_type": "markdown",
   "metadata": {},
   "source": [
    "编译器如何利用栈来实现**表达式求值**\n",
    "\n",
    "表达式：34+13\\*9+44-12/3\n",
    "求值：\n",
    "    实际上，编译器就是通过两个栈来实现的。其中一个保存操作数的栈，另一个时保存运算符的栈。我们从左向右遍历表达式，当遇到数字时，就直接压入操作数栈；当遇到运算符，就与运算符栈的栈顶元素进行比较。\n",
    "    \n",
    "   如果比运算符栈顶元素的优先级高，就将当前运算符压入栈；如果比运算符栈顶元素的优先级低或者相同，从运算符栈中取栈顶运算符，从操作数栈的栈顶取两个操作数，然后进行计算，再把计算完的结果压入操作数栈，继续比较。\n",
    "    \n",
    "![运算过程](https://static001.geekbang.org/resource/image/bc/00/bc77c8d33375750f1700eb7778551600.jpg)"
   ]
  },
  {
   "cell_type": "markdown",
   "metadata": {},
   "source": [
    "# 栈再括号匹配中的应用"
   ]
  },
  {
   "cell_type": "markdown",
   "metadata": {},
   "source": [
    "除了用栈来实现表达式求值，还可以借助栈来检查表达式中的括号是否匹配。\n",
    "\n",
    "假设表达式中只包含三种括号，圆括号()、方括号[]和花括号{}，并且他们可以任意嵌套。比如，{[{}]}或 [{()}([])] 等都为合法格式，而{[}()] 或 [({)] 为不合法的格式。现在给你一个包含三种括号的表达式字符串，如何检查是否合法？\n",
    "\n",
    "可以用栈来保存为匹配的左括号，从左到右依次扫描字符串。当扫描到左括号时，则将其压入栈中；当扫描到右括号时，从栈顶取出一个左括号。如果能够匹配，则继续扫描剩下的字符串。如果扫描的过程中，遇到不能配对的右括号，或者栈中没有数据，则说明非法格式。\n",
    "\n",
    "当所有的括号都扫描完成之后，如果栈为空，则说明字符串为合法格式；否则，说明有未匹配的左括号，为非法格式。"
   ]
  },
  {
   "cell_type": "code",
   "execution_count": 8,
   "metadata": {},
   "outputs": [],
   "source": [
    "class Solution:\n",
    "    def isValid(self, s):\n",
    "        '''\n",
    "        type s: str\n",
    "        rtype: bool\n",
    "        '''\n",
    "        stask = [None]\n",
    "        maps = {\n",
    "            '(': ')',\n",
    "            '[': ']',\n",
    "            '{': '}'\n",
    "        }\n",
    "        for x in range(len(s)):\n",
    "            if s[x] in maps:\n",
    "                stask.append(maps[s[x]])\n",
    "            elif s[x] == stask[-1]:\n",
    "                stask.pop()\n",
    "            else:\n",
    "                return False\n",
    "        return len(stask) == 1"
   ]
  },
  {
   "cell_type": "markdown",
   "metadata": {},
   "source": [
    "# 解答标题"
   ]
  },
  {
   "cell_type": "markdown",
   "metadata": {},
   "source": [
    "如何实现浏览器的前进、后退功能？\n",
    "\n",
    "使用两个栈， X和Y。把首次浏览的页面一次压入栈X，当点击后退按钮时，再依次从栈X中出栈，并将出栈的数据依次放入栈Y。当点击前进按钮时，依次从栈Y中取出数据，放入栈X中。当栈X中没有数据时，那就说明没有页面可以继续后退浏览。当栈Y中没有数据，就说明没有页面可以点击前进按钮浏览了。\n",
    "\n",
    "![](https://static001.geekbang.org/resource/image/4b/3d/4b579a76ea7ebfc5abae2ad6ae6a3c3d.jpg)\n",
    "![](https://static001.geekbang.org/resource/image/b5/1b/b5e496e2e28fe08f0388958a0e12861b.jpg)\n",
    "![](https://static001.geekbang.org/resource/image/ea/bc/ea804125bea25d25ba467a51fb98c4bc.jpg)\n",
    "![](https://static001.geekbang.org/resource/image/a3/2e/a3c926fe3050d9a741f394f20430692e.jpg)"
   ]
  },
  {
   "cell_type": "code",
   "execution_count": 12,
   "metadata": {},
   "outputs": [
    {
     "name": "stdout",
     "output_type": "stream",
     "text": [
      "Open new url %s a\n",
      "Open new url %s b\n",
      "Open new url %s c\n",
      "back to c\n",
      "forward to c\n",
      "back to c\n",
      "back to b\n",
      "back to a\n"
     ]
    }
   ],
   "source": [
    "class NewLinkedStack(LinkedStack):\n",
    "    \n",
    "    def is_empty(self):\n",
    "        return not self._top\n",
    "    \n",
    "    \n",
    "class Brower:\n",
    "    \n",
    "    def __init__(self):\n",
    "        self.forward_stack = NewLinkedStack()\n",
    "        self.back_stack = NewLinkedStack()\n",
    "        \n",
    "    def can_forward(self):\n",
    "        if self.back_stack.is_empty():\n",
    "            return False\n",
    "        return True\n",
    "    \n",
    "    def can_back(self):\n",
    "        if self.forward_stack.is_empty():\n",
    "            return False\n",
    "        return True\n",
    "    \n",
    "    def open(self, url):\n",
    "        print(\"Open new url %s\", url, end='\\n')\n",
    "        self.forward_stack.push(url)\n",
    "        \n",
    "    def back(self):\n",
    "        if self.forward_stack.is_empty():\n",
    "            return \n",
    "        top = self.forward_stack.pop()\n",
    "        self.back_stack.push(top)\n",
    "        print(\"back to %s\" % top, end=\"\\n\")\n",
    "        \n",
    "    def forward(self):\n",
    "        if self.back_stack.is_empty():\n",
    "            return\n",
    "        top = self.back_stack.pop()\n",
    "        self.forward_stack.push(top)\n",
    "        print(\"forward to %s\" % top, end='\\n')\n",
    "        \n",
    "        \n",
    "if __name__ == '__main__':\n",
    "    browser = Brower()\n",
    "    browser.open('a')\n",
    "    browser.open('b')\n",
    "    browser.open('c')\n",
    "    if browser.can_back():\n",
    "        browser.back()\n",
    "        \n",
    "    if browser.can_forward():\n",
    "        browser.forward()\n",
    "        \n",
    "    browser.back()\n",
    "    browser.back()\n",
    "    browser.back()"
   ]
  },
  {
   "cell_type": "code",
   "execution_count": null,
   "metadata": {},
   "outputs": [],
   "source": []
  }
 ],
 "metadata": {
  "kernelspec": {
   "display_name": "Python 3",
   "language": "python",
   "name": "python3"
  },
  "language_info": {
   "codemirror_mode": {
    "name": "ipython",
    "version": 3
   },
   "file_extension": ".py",
   "mimetype": "text/x-python",
   "name": "python",
   "nbconvert_exporter": "python",
   "pygments_lexer": "ipython3",
   "version": "3.7.0"
  }
 },
 "nbformat": 4,
 "nbformat_minor": 2
}
