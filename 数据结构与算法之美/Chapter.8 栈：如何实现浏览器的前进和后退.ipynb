{
 "cells": [
  {
   "cell_type": "markdown",
   "metadata": {},
   "source": [
    "# 概念"
   ]
  },
  {
   "cell_type": "markdown",
   "metadata": {},
   "source": [
    "**先进先出，后进后出**\n",
    "\n",
    "从栈的操作特性上来看，**栈是一种“操作受限”的线性表**，只允许在一端插入和删除数据。\n",
    "\n",
    "从功能上来说，数组或链表趋势可以替代栈。但是，特定的数据结构是对特定场景的抽象，而且，数组和链表暴露了太多的操作接口，操作上的确灵活自由，但使用时就比较不可控，自然也更容易出错\n",
    "\n",
    "**当某个数据集合只涉及在一端插入和删除数据，并且满足后进先出，先进后出的特性，就应该首选“栈”这种数据结构**"
   ]
  },
  {
   "cell_type": "markdown",
   "metadata": {},
   "source": [
    "# 如何实现一个栈"
   ]
  },
  {
   "cell_type": "markdown",
   "metadata": {},
   "source": [
    "栈既可以用数组来实现，也可以用链表来实现。用数组来实现的栈叫做**顺序栈**，用链表来实现的栈叫**链式栈**"
   ]
  },
  {
   "cell_type": "code",
   "execution_count": null,
   "metadata": {},
   "outputs": [],
   "source": [
    "\"\"\"\n",
    "基于链表实现的栈\n",
    "\"\"\"\n",
    "from typing import Optional\n",
    "\n",
    "class Node:\n",
    "    \n",
    "    def __init__(self, data: int, next=None):\n",
    "        self._data = data\n",
    "        self._next = next\n",
    "        \n",
    "\n",
    "class LinkedStack:\n",
    "    \n",
    "    def __init__(self):\n",
    "        self._top: Node = None\n",
    "            \n",
    "    def push(self, value: int):\n",
    "        new_top = Node(value)\n",
    "        new_top._next = self._top\n",
    "        self._top = new_top\n",
    "        \n",
    "    "
   ]
  }
 ],
 "metadata": {
  "kernelspec": {
   "display_name": "Python 3",
   "language": "python",
   "name": "python3"
  },
  "language_info": {
   "codemirror_mode": {
    "name": "ipython",
    "version": 3
   },
   "file_extension": ".py",
   "mimetype": "text/x-python",
   "name": "python",
   "nbconvert_exporter": "python",
   "pygments_lexer": "ipython3",
   "version": "3.7.0"
  }
 },
 "nbformat": 4,
 "nbformat_minor": 2
}
