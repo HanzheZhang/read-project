{
 "cells": [
  {
   "cell_type": "markdown",
   "metadata": {},
   "source": [
    "**二分查找针对的是一个有序的数据集合，查找思想有点类似分治思想。每次都通过跟区间的中间元素对比，将带查找的区间缩小为之前的一半，直到找到要查找的元素，或者区间被缩小为0**\n",
    "![二分查找](https://static001.geekbang.org/resource/image/8b/29/8bce81259abf0e9a06f115e22586b829.jpg)\n",
    "1. 二分查找的时间复杂度为O(nlogn)\n",
    "2. 二分查找容易出错的三个地方\n",
    "    1. 循环推出条件\n",
    "    2. mid的取值\n",
    "    3. low和high的更新"
   ]
  },
  {
   "cell_type": "code",
   "execution_count": 1,
   "metadata": {},
   "outputs": [],
   "source": [
    "def bsearch(a, n):\n",
    "    low, high = 0, len(a)-1\n",
    "    while low<=high:\n",
    "        mid = low + (high - low) // 2\n",
    "        if a[mid] == n:\n",
    "            return mid\n",
    "        if a[mid] < n:\n",
    "            low = mid + 1\n",
    "        else:\n",
    "            high = mid - 1\n",
    "    return -1"
   ]
  },
  {
   "cell_type": "code",
   "execution_count": 2,
   "metadata": {},
   "outputs": [],
   "source": [
    "def bsearch(nums, target: int):\n",
    "    return bsearch_internally(nums, 0, len(nums)-1, target)\n",
    "\n",
    "\n",
    "def bsearch_internally(nums, low, high, target):\n",
    "    if low > high:\n",
    "        return -1\n",
    "\n",
    "    mid = low+int((high-low) >> 2)\n",
    "    if nums[mid] == target:\n",
    "        return mid\n",
    "    elif nums[mid] < target:\n",
    "        return bsearch_internally(nums, mid+1, high, target)\n",
    "    else:\n",
    "        return bsearch_internally(nums, low, mid-1, target)"
   ]
  },
  {
   "cell_type": "markdown",
   "metadata": {},
   "source": [
    "二分查找应用场景的局限性\n",
    "1. 二分查找依赖的是顺序表结构，简单点说就是数组\n",
    "2. 二分查找针对的是有序数据\n",
    "3. 数据量太小不合适二分查找\n",
    "4. 数据量太大也不适合二分查找"
   ]
  },
  {
   "cell_type": "markdown",
   "metadata": {},
   "source": [
    "#### 变体一：查找第一个值等于给定值的元素\n",
    "有序数据集合中存在重复的数据，我们希望找到第一个值等于给定值的数据\n",
    "\n",
    "a[mid]跟要查找的value的大小关系有三种情况：大于、小于、等于。\n",
    "1. 对于a[mid]>value的情况，我们需要更新high=mid-1；\n",
    "2. 对于a[mid]<value的情况，我们需要更新low=mid+1。\n",
    "3. 对于a[mid]=value的情况，\n",
    "    1. 如果mid等于0，那这个元素已经是数组的第一个元素，那就是我们要找的\n",
    "    2. 如果mid不等于0，但a[mid]的前一个元素a[mid-1]不等于value，也说明a[mid]就是我们要找的等一个值等于给定值的元素\n",
    "    3. 如果mid的前一个元素也等于value，那说明这个数不是第一个值。那我们就更新high=mid-1"
   ]
  },
  {
   "cell_type": "code",
   "execution_count": 3,
   "metadata": {},
   "outputs": [
    {
     "name": "stdout",
     "output_type": "stream",
     "text": [
      "3\n"
     ]
    }
   ],
   "source": [
    "def bsearch_first(a, n):\n",
    "    low, high = 0, len(a)-1\n",
    "    while low<=high:\n",
    "        mid = low + (high - low) // 2\n",
    "        if a[mid] > n:\n",
    "            high = mid - 1\n",
    "        if a[mid] < n:\n",
    "            low = mid + 1\n",
    "        if a[mid] == n:\n",
    "            if mid == 0 or a[mid-1] != n:\n",
    "                return mid\n",
    "            else:\n",
    "                high = mid - 1\n",
    "    return False\n",
    "\n",
    "a = [1,2,3,4,4,4,5]\n",
    "n = bsearch_first(a, 4)\n",
    "print(n)"
   ]
  },
  {
   "cell_type": "markdown",
   "metadata": {},
   "source": [
    "#### 变体二：查找最后一个等于给定值的元素\n",
    "1. 省略\n",
    "2. 省略\n",
    "3. a[mid] == value\n",
    "    1. 如果a[mid]是数组最后一个元素或者a[mid+1]!=value，这就是我么要的值\n",
    "    2. 如果a[mid+1]也等于value，那么low=mid+1"
   ]
  },
  {
   "cell_type": "code",
   "execution_count": 4,
   "metadata": {},
   "outputs": [
    {
     "name": "stdout",
     "output_type": "stream",
     "text": [
      "5\n"
     ]
    }
   ],
   "source": [
    "def bsearch_first(a, n):\n",
    "    low, high = 0, len(a)-1\n",
    "    while low<=high:\n",
    "        mid = low + (high - low) // 2\n",
    "        if a[mid] > n:\n",
    "            high = mid - 1\n",
    "        if a[mid] < n:\n",
    "            low = mid + 1\n",
    "        if a[mid] == n:\n",
    "            if mid == 0 or a[mid+1] != n:\n",
    "                return mid\n",
    "            else:\n",
    "                low = mid + 1\n",
    "    return False\n",
    "\n",
    "a = [1,2,3,4,4,4,5]\n",
    "n = bsearch_first(a, 4)\n",
    "print(n)"
   ]
  },
  {
   "cell_type": "markdown",
   "metadata": {},
   "source": [
    "#### 变体三：查找第一个大于等于给定值的元素\n",
    "1. 如果a[mid]小于value，那更新low=mid+1\n",
    "2. 如果a[mid]大于等于value\n",
    "    1. 如果a[mid]前面已经没有元素，或者前面的值小于value，那么a[mid]就是要找的元素\n",
    "    2. 如果a[mid]前面的元素也大于等于value，更新high=mid-1"
   ]
  },
  {
   "cell_type": "code",
   "execution_count": 1,
   "metadata": {},
   "outputs": [
    {
     "name": "stdout",
     "output_type": "stream",
     "text": [
      "3\n"
     ]
    }
   ],
   "source": [
    "def bsearch_first(a, n):\n",
    "    low, high = 0, len(a)-1\n",
    "    while low<=high:\n",
    "        mid = low + (high - low) // 2\n",
    "        if a[mid] < n:\n",
    "            low = mid + 1\n",
    "        if a[mid] >= n:\n",
    "            if mid == 0 or a[mid-1] < n:\n",
    "                return mid\n",
    "            else:\n",
    "                high = mid - 1\n",
    "    return False\n",
    "\n",
    "a = [1,2,3,4,4,4,5]\n",
    "n = bsearch_first(a, 4)\n",
    "print(n)"
   ]
  },
  {
   "cell_type": "markdown",
   "metadata": {},
   "source": [
    "#### 变体四：查找最后一个小于等于给定值的元素\n",
    "1. 如果a[mid]大于于value，那更新high=mid-1\n",
    "2. 如果a[mid]小于于等于value\n",
    "    1. 如果a[mid]后面已经没有元素，或者后面的值大于value，那么a[mid]就是要找的元素\n",
    "    2. 如果a[mid]后面的元素也小于等于value，更新low=mid+1"
   ]
  },
  {
   "cell_type": "code",
   "execution_count": 2,
   "metadata": {},
   "outputs": [
    {
     "name": "stdout",
     "output_type": "stream",
     "text": [
      "5\n"
     ]
    }
   ],
   "source": [
    "def bsearch_first(a, n):\n",
    "    low, high = 0, len(a)-1\n",
    "    while low<=high:\n",
    "        mid = low + (high - low) // 2\n",
    "        if a[mid] > n:\n",
    "             high = mid - 1\n",
    "        if a[mid] <= n:\n",
    "            if mid == 0 or a[mid+1] > n:\n",
    "                return mid\n",
    "            else:\n",
    "                low = mid + 1\n",
    "    return False\n",
    "\n",
    "a = [1,2,3,4,4,4,5]\n",
    "n = bsearch_first(a, 4)\n",
    "print(n)"
   ]
  },
  {
   "cell_type": "code",
   "execution_count": null,
   "metadata": {},
   "outputs": [],
   "source": []
  }
 ],
 "metadata": {
  "kernelspec": {
   "display_name": "Python 3",
   "language": "python",
   "name": "python3"
  },
  "language_info": {
   "codemirror_mode": {
    "name": "ipython",
    "version": 3
   },
   "file_extension": ".py",
   "mimetype": "text/x-python",
   "name": "python",
   "nbconvert_exporter": "python",
   "pygments_lexer": "ipython3",
   "version": "3.7.0"
  }
 },
 "nbformat": 4,
 "nbformat_minor": 2
}
