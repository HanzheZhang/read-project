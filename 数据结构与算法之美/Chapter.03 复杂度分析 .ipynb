{
 "cells": [
  {
   "cell_type": "markdown",
   "metadata": {},
   "source": [
    "## 大o 复杂度表示法\n",
    "所有代码的执行时间T(n)与每行代码的执行次数成正比\n",
    "\n",
    "大O时间复杂度实际上不具体表示代码真正的执行时间，而是表示**代码执行时间随数据规模增长的变化趋势**，所以，也叫做**渐进时间复杂度**"
   ]
  },
  {
   "cell_type": "markdown",
   "metadata": {},
   "source": [
    "![大O表示法](https://static001.geekbang.org/resource/image/22/ef/22900968aa2b190072c985a08b0e92ef.png)\n",
    "其中，T(n)表示diamagnetic执行的时间；n表示数据规模的大小；f(n)表示每行代码执行的次数总和。\n",
    "1. 只关注循环执行次数最多的一段代码\n",
    "2. 加法法则：总复杂度等于量级最大的那段代码的复杂度\n",
    "3. 乘法法则：嵌套代码的复杂度等于嵌套内外代码复杂度的乘积\n",
    "![常见复杂度量级](https://static001.geekbang.org/resource/image/37/0a/3723793cc5c810e9d5b06bc95325bf0a.jpg)\n",
    "上面的复杂度量级可以分为两类：**多项式量级**和**非多项式量级**。\n",
    "1. 其中，非多项式量级只有两个：O(2n) 和 O(n!)。当数据规模n越来越大时，非多项式量级算法的执行时间会急剧增加，是非常低效的方法。\n",
    "2. O(1)：只是常量级时间复杂度的一种表示方法，并不是指只执行了一行代码。一般来说，只要算法中不存在循环语句、递归语句，即使有成千上万的代码，其时间复杂度也是O(1)。\n",
    "3. O(logn)、O(nlogn)\n",
    "4. O(m+n)、O(m*n)"
   ]
  },
  {
   "cell_type": "markdown",
   "metadata": {},
   "source": [
    "空间复杂度全称就是**渐进空间复杂度**，**表示算法的存储空间与数据规模之间的增长关系**。\n",
    "![复杂度发展趋势](https://static001.geekbang.org/resource/image/49/04/497a3f120b7debee07dc0d03984faf04.jpg)"
   ]
  },
  {
   "cell_type": "markdown",
   "metadata": {},
   "source": [
    "## 浅析最好、最坏、平均\n",
    "\n",
    "**最好情况时间复杂度，就是在最理想的情况下，执行这段代码的时间复杂度**\n",
    "\n",
    "**最坏情况时间复杂度，就是在最糟糕的情况下，执行这段代码的时间复杂度**"
   ]
  },
  {
   "cell_type": "markdown",
   "metadata": {},
   "source": [
    "要查找的变量x在数组中的位置，有n+1种情况：**在数组的0~n-1位置中**和**不在数组中**。把每种情况下，查找需要遍历的元素个数累加起来，然后再除以n+1，就可以得到需要遍历的元素个数的平均值，即：\n",
    "![平均时间复杂度计算方式](https://static001.geekbang.org/resource/image/d8/2f/d889a358b8eccc5bbb90fc16e327a22f.jpg)\n",
    "要查找的变量x，要么在数组里，要么就不在数组中。这两种情况对应的概率统计起来很麻烦，可以假设再数组中与不在数组中的概率都是1/2。另外，要查找的数据出现在0~n-1这n个位置的概率也是一样的，为1/n。所以，根据该列车乘法法则，要查找的数据出现在0~n-1中任意位置的概率就是1/(2n)。\n",
    "![](https://static001.geekbang.org/resource/image/36/7f/36c0aabdac69032f8a43368f5e90c67f.jpg)\n",
    "这个值就是概率论中的**加权平均值**，也叫做**期望值**，所以平均时间复杂度的全称应该叫**加权平均时间复杂度**或者**期望时间复杂度**。"
   ]
  },
  {
   "cell_type": "markdown",
   "metadata": {},
   "source": [
    "对一个数据结构进行一组连续操作中，大部分情况下时间复杂度都很低，只有个别情况下时间复杂度比较高，而且这些操作之间存在前后连贯的时序关系，这个时候，就可以将这一组操作放在一块儿分析，看是否能将时间复杂度那次操作的耗时，平摊到其他那些时间复杂度比较低的操作上。而且，在能够应用均摊时间复杂度分析的场合，一般均摊时间复杂度就等于最好情况时间复杂度。"
   ]
  },
  {
   "cell_type": "code",
   "execution_count": null,
   "metadata": {},
   "outputs": [],
   "source": []
  }
 ],
 "metadata": {
  "kernelspec": {
   "display_name": "Python 3",
   "language": "python",
   "name": "python3"
  },
  "language_info": {
   "codemirror_mode": {
    "name": "ipython",
    "version": 3
   },
   "file_extension": ".py",
   "mimetype": "text/x-python",
   "name": "python",
   "nbconvert_exporter": "python",
   "pygments_lexer": "ipython3",
   "version": "3.7.0"
  }
 },
 "nbformat": 4,
 "nbformat_minor": 2
}
