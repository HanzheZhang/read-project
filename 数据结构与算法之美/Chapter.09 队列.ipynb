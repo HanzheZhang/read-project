{
 "cells": [
  {
   "cell_type": "markdown",
   "metadata": {},
   "source": [
    "\n",
    "![阻塞队列](https://static001.geekbang.org/resource/image/5e/eb/5ef3326181907dea0964f612890185eb.jpg)"
   ]
  },
  {
   "cell_type": "markdown",
   "metadata": {},
   "source": [
    "**先进先出，这就是典型的队列**\n",
    "\n",
    "队列和栈非常相似，支持的操作有限。最基本的操作也是两个：**入队**，放一个数据到队列尾部；**入队**，从队列头部取一个元素。\n",
    "![栈和队列](https://static001.geekbang.org/resource/image/9e/3e/9eca53f9b557b1213c5d94b94e9dce3e.jpg)\n",
    "所以，队列和栈一样，是一种**操作受限的线性数据结构**\n",
    "\n",
    "队列可以用数组来实现，也可以用链表来实现。用数组实现的队列叫做**顺序队列**，用链表实现的队列叫做**链表队列**"
   ]
  },
  {
   "cell_type": "code",
   "execution_count": 6,
   "metadata": {},
   "outputs": [],
   "source": [
    "# 用数组来实现队列\n",
    "from typing import Optional\n",
    "\n",
    "\n",
    "class ArrayQueue:\n",
    "    \n",
    "    def __init__(self, capacity):\n",
    "        self._items = []\n",
    "        self._capacity = capacity\n",
    "        self._head = 0\n",
    "        self._tail = 0\n",
    "        \n",
    "    def enqueue(self, item):\n",
    "        if self._tail == self._capacity:\n",
    "            if self._head == 0:\n",
    "                return False\n",
    "            else:\n",
    "                for i in range(0, self._tail - self._head):\n",
    "                    self._items[i] = self.items[i + self._head]\n",
    "                self._tail = self._tail - self._head\n",
    "                self._head = 0\n",
    "        self._items.insert(self._tail, item)\n",
    "        self._tail += 1\n",
    "        return True\n",
    "    \n",
    "    def dequeue(self):\n",
    "        if self._head == self._tail:\n",
    "            return None\n",
    "        self._head += 1\n",
    "        return self._items[self._head]\n",
    "    \n",
    "    def __repr__(self):\n",
    "        return \" \".join(item for item in self._items[self._head : self._tail])"
   ]
  },
  {
   "cell_type": "code",
   "execution_count": 8,
   "metadata": {},
   "outputs": [],
   "source": [
    "# 用链表实现队列\n",
    "from typing import Optional\n",
    "\n",
    "class Node:\n",
    "    \n",
    "    def __init__(self, data, next=None):\n",
    "        self.data = data\n",
    "        self._next = next\n",
    "        \n",
    "        \n",
    "class LinkedQueue:\n",
    "    \n",
    "    def __init__(self):\n",
    "        self._head = Optional[Node]\n",
    "        self._tail = Optional[Node]\n",
    "        \n",
    "    def enqueue(self, value):\n",
    "        new_node = Node(value)\n",
    "        if self._tail:\n",
    "            self._tail._next = new_node\n",
    "        else:\n",
    "            self._head = new_node\n",
    "        self._tail = new_node\n",
    "        \n",
    "    def dequeue(self):\n",
    "        if self._head:\n",
    "            value = self._head.data\n",
    "            self._head = self._head._next\n",
    "            if not self._head:\n",
    "                self._tail = None\n",
    "            return value"
   ]
  },
  {
   "cell_type": "code",
   "execution_count": null,
   "metadata": {},
   "outputs": [],
   "source": []
  }
 ],
 "metadata": {
  "kernelspec": {
   "display_name": "Python 3",
   "language": "python",
   "name": "python3"
  },
  "language_info": {
   "codemirror_mode": {
    "name": "ipython",
    "version": 3
   },
   "file_extension": ".py",
   "mimetype": "text/x-python",
   "name": "python",
   "nbconvert_exporter": "python",
   "pygments_lexer": "ipython3",
   "version": "3.6.5"
  }
 },
 "nbformat": 4,
 "nbformat_minor": 2
}
