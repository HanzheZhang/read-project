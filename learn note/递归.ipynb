{
 "cells": [
  {
   "cell_type": "markdown",
   "metadata": {},
   "source": [
    "# 递归的定义\n",
    "递归是在所有编程学习中个人认为是最恶心的一部分，其中心思想就让函数自己调用自己。但注意，在实际应用中，使用递归只是让解决方案更加清晰，并不会加快程序的运行速度。反而，如果使用循环，程序的效率可能还比用递归的效率高得多。"
   ]
  },
  {
   "cell_type": "markdown",
   "metadata": {},
   "source": [
    "# 调用栈\n",
    "调用栈可以这么理解，先假设你定义了一个函数并调用它  "
   ]
  },
  {
   "cell_type": "code",
   "execution_count": 1,
   "metadata": {},
   "outputs": [],
   "source": [
    "def greet(name):\n",
    "    print('hello')\n",
    "    greet2(name)\n",
    "    print('getting ready to say goodbye')\n",
    "    bye()"
   ]
  },
  {
   "cell_type": "markdown",
   "metadata": {},
   "source": [
    "这个函数问候了用户，再调用另外两个函数"
   ]
  },
  {
   "cell_type": "code",
   "execution_count": 2,
   "metadata": {},
   "outputs": [],
   "source": [
    "def greet2(name):\n",
    "    print('how are you')\n",
    "def bye():\n",
    "    print('ok,Bye')"
   ]
  },
  {
   "cell_type": "markdown",
   "metadata": {},
   "source": [
    "这个示例程序的逻辑是这样的：\n",
    "- 首先，你有了函数，计算机为其分配了一个内存，再第一次调用的时候，程序执行部分为："
   ]
  },
  {
   "cell_type": "code",
   "execution_count": 3,
   "metadata": {},
   "outputs": [],
   "source": [
    "def greet(name):\n",
    "    print('hello')"
   ]
  },
  {
   "cell_type": "markdown",
   "metadata": {},
   "source": [
    "- 然后，在这个时候，出现了这个函数的第二个定义\n",
    "```python\n",
    "def greet2(name)\n",
    "```\n",
    "- 所以计算机决定先执行这个定义下的逻辑块"
   ]
  },
  {
   "cell_type": "code",
   "execution_count": 5,
   "metadata": {},
   "outputs": [],
   "source": [
    "def greet2(name):\n",
    "    print('how are you')"
   ]
  },
  {
   "cell_type": "markdown",
   "metadata": {},
   "source": [
    "- 在这个时候，定义下的逻辑块执行完毕并且推出，然后计算机想起那个函数的定义程序还有一半没执行，于是补上：\n",
    "```python\n",
    "greet2(name)\n",
    "print(\"getting ready to say goodbye\")\n",
    "```\n",
    "注：这里有一个重要的概念：调用一个函的时候，当前函数暂停并处于未完成的状态，该函数的所有变量值都还保存在计算机内存中等待完成\n",
    "\n",
    "- 在这里，bye()作为一个新的函数被定义并且调用，所以最后执行逻辑是这样子的：\n",
    "```python\n",
    "bye()\n",
    "def bye()\n",
    "    print (\"OK,Bye!\")\n",
    "```"
   ]
  },
  {
   "cell_type": "markdown",
   "metadata": {},
   "source": [
    "# 递归调用栈\n",
    "\n",
    "- 递归指的是自己调用自己的函数\n",
    "- 每个递归都有两个条件：基线条件和基准条件\n",
    "- 栈有两种操作：压入和弹出\n",
    "- 所有函数调用都进入调用栈\n",
    "- 调用栈可能很长，这将占用大量的内存，极大可能会导致系统卡顿而使程序崩溃"
   ]
  },
  {
   "cell_type": "code",
   "execution_count": null,
   "metadata": {},
   "outputs": [],
   "source": []
  }
 ],
 "metadata": {
  "kernelspec": {
   "display_name": "Python 3",
   "language": "python",
   "name": "python3"
  },
  "language_info": {
   "codemirror_mode": {
    "name": "ipython",
    "version": 3
   },
   "file_extension": ".py",
   "mimetype": "text/x-python",
   "name": "python",
   "nbconvert_exporter": "python",
   "pygments_lexer": "ipython3",
   "version": "3.7.0"
  }
 },
 "nbformat": 4,
 "nbformat_minor": 2
}
