{
 "cells": [
  {
   "cell_type": "markdown",
   "metadata": {},
   "source": [
    "# 什么是图\n",
    "先举个列子，假设你和朋友打牌，你的朋友Casey输了，但他现在没钱付给你，也就是说，Casey欠你钱，也就是说可以表示成这样：\n",
    "\n",
    "Casey-->You\n",
    "\n",
    "这就是图，图由节点和边组成，一个节点可能与众多节点直接相连，这些节点被称为邻居。图用于模拟不同的东西是如何相连的，"
   ]
  },
  {
   "cell_type": "markdown",
   "metadata": {},
   "source": [
    "# 广度优先搜索\n",
    "前面我们介绍了一种查找算法---二分查找。广度优先搜索是一种用于图的查找算法，可用来帮助回答两种问题。\n",
    "\n",
    "第一类：从节点A出发，有前往节点B的路径吗？\n",
    "第二类：从节点A出发，前往节点B的哪条路径最短？\n",
    "假设你有个芒果农场，需要找芒果经销商来卖出你的产品，你打算在你那一群朋友中找找看有没有人是芒果经销商。\n",
    "\n",
    "这种查找很简单，首先，创建一个朋友名单，然后，依次检查名单中的每一个人，看他是否是芒果经销商或者能够提供大量芒果售卖的人。假设你没有朋友是芒果的经销商，那么你就得在朋友的朋友中查找，检查名单中的每一个人的时候，你都将其朋友加入名单，比如你的一个朋友Bob不是芒果经销商，你就要把Bob的所有朋友加入查找名单。使用这种算法将搜遍你的整个人脉圈，直到找到你想要的芒果经销商。\n",
    "\n",
    "而刚刚这个例子就已经说明了什么是广度优先搜索。"
   ]
  },
  {
   "cell_type": "markdown",
   "metadata": {},
   "source": [
    "# 查找最短路径\n",
    "前面我们已经提到了，广度优先搜索可用于回答两类问题\n",
    "\n",
    "从点A出发，有前往节点B的路径吗\n",
    "从点A出发，前往节点B的哪条路径最短？\n",
    "刚刚的例子已经解决了第一个问题，下面我们来尝试下回答第二类问题--------谁是关系最近的经销商？\n",
    "\n",
    "在广度优先搜索中，搜索范围从起点开始逐渐向外延申，同样，在这个例子中，你先从朋友这度关系开始搜索，其次再是朋友的朋友，依次向外衍生......\n",
    "\n",
    "**注意：在广度优先搜索中，只有按顺序添加查找时，才能实现由A到Z的查找顺序。换句话说，如果C比A先加入列表，就需要先检查C，再检查A。因此，你需要按添加顺序进行检查。而实现这种目的的一种数据类型就是队列**"
   ]
  },
  {
   "cell_type": "markdown",
   "metadata": {},
   "source": [
    "# 队列\n",
    "队列的工作原理与现实生活中的队列完全相同，队列类似于栈，你不能随机地访问队列中的元素，队列只支持两种操作：入队和出队。而栈于队列的不同就在于：对于栈来说，插入和删除的操作是遵循先进后出的原则，而队列则是先进先出。"
   ]
  },
  {
   "cell_type": "markdown",
   "metadata": {},
   "source": [
    "# 算法实现\n",
    "先讲一下这种算法的工作原理\n",
    "\n",
    "- 创建一个队列，用于存储要检查的人\n",
    "- 从队列中弹出一个人\n",
    "- 检查这个人是否是芒果经销商\n",
    "- 是--->大功告成/不是--->将这个人的所有朋友加入队列----->回到第二步\n",
    "- 如果队列为空，就说明你的人际关系中没有芒果经销商"
   ]
  },
  {
   "cell_type": "markdown",
   "metadata": {},
   "source": [
    "# 代码实现\n",
    "首先，创建一个队列。在Python中，可使用函数deque来创建一个双端队列\n",
    "```python\n",
    "from collections import deque\n",
    "#创建队列\n",
    "search_queue = deque\n",
    "#将你的队列添加到这个搜索队列中\n",
    "search_queue += graph[\"You\"]\n",
    "```\n",
    "注意：graph[\"You\"]是一个数组，其中包含了你的所有邻居。这些邻居都将添加入搜索队列中\n",
    "```python\n",
    "#只要队列不为空\n",
    "while search_queue:\n",
    "#判断一个人是不是芒果销售商\n",
    "def person_is_seller(name):\n",
    "    return name[-1] == 'm'\n",
    "#就取出其中的第一个人\n",
    "    person = search_queue.popleft()\n",
    "#检查这个人是否是芒果经销商\n",
    "    if person_is_seller(person)\n",
    "#是芒果经销商\n",
    "        print person + (\"is a seller\")\n",
    "        return true\n",
    "    else:\n",
    "#不是芒果经销商，将这个人的朋友都加入搜索队列\n",
    "        search_queue += graph[person]\n",
    "return False\n",
    "```"
   ]
  },
  {
   "cell_type": "code",
   "execution_count": 2,
   "metadata": {},
   "outputs": [
    {
     "name": "stdout",
     "output_type": "stream",
     "text": [
      "thom is a mango seller!\n"
     ]
    },
    {
     "data": {
      "text/plain": [
       "True"
      ]
     },
     "execution_count": 2,
     "metadata": {},
     "output_type": "execute_result"
    }
   ],
   "source": [
    "from collections import deque\n",
    "\n",
    "\n",
    "def person_is_seller(name):\n",
    "    return name[-1] == 'm'\n",
    "\n",
    "\n",
    "graph = {}\n",
    "graph['you'] = ['alice', 'bob', 'claire']\n",
    "graph['bob'] = ['anuj', 'peggy']\n",
    "graph['alice'] = ['peggy']\n",
    "graph['claire'] = ['thom', 'jonny']\n",
    "graph[\"anuj\"] = []\n",
    "graph[\"peggy\"] = []\n",
    "graph[\"thom\"] = []\n",
    "graph[\"jonny\"] = []\n",
    "\n",
    "\n",
    "def search(name):\n",
    "    search_queue = deque()\n",
    "    search_queue += graph[name]\n",
    "    # This array is how you keep track of which people you've searched before.\n",
    "    searched = []\n",
    "    while search_queue:\n",
    "        person = search_queue.popleft()\n",
    "        # Only search this person if you haven't already searched them.\n",
    "        if person not in searched:\n",
    "            if person_is_seller(person):\n",
    "                print(person + \" is a mango seller!\")\n",
    "                return True\n",
    "            else:\n",
    "                search_queue += graph[person]\n",
    "                # Marks this person as searched\n",
    "                searched.append(person)\n",
    "    return False\n",
    "\n",
    "search(\"you\")"
   ]
  },
  {
   "cell_type": "code",
   "execution_count": null,
   "metadata": {},
   "outputs": [],
   "source": []
  }
 ],
 "metadata": {
  "kernelspec": {
   "display_name": "Python 3",
   "language": "python",
   "name": "python3"
  },
  "language_info": {
   "codemirror_mode": {
    "name": "ipython",
    "version": 3
   },
   "file_extension": ".py",
   "mimetype": "text/x-python",
   "name": "python",
   "nbconvert_exporter": "python",
   "pygments_lexer": "ipython3",
   "version": "3.7.0"
  }
 },
 "nbformat": 4,
 "nbformat_minor": 2
}
