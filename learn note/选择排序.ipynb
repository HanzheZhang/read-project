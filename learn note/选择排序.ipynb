{
 "cells": [
  {
   "cell_type": "markdown",
   "metadata": {},
   "source": [
    "# 数据与链表的概念\n",
    "在计算机内存里某一系列元素相连存储就是数组。\n",
    "\n",
    "链表不像数组，链表中的元素可以存储在计算机内存的任何地方，其每一个元素中都包含了下一个元素在计算机内存中所在的地址，从而让一系列的随机内存地址串在一起。 也就是是说，只要内存空间足够，计算机就能够为链表分配内存。"
   ]
  },
  {
   "cell_type": "markdown",
   "metadata": {},
   "source": [
    "# 数组和链表的优缺点\n",
    "在多个元素随机读取的时候, 链表的效率就会很低下。\n",
    "\n",
    "对于元素的添加和修改来说，数组就显出它的劣势。"
   ]
  },
  {
   "cell_type": "markdown",
   "metadata": {},
   "source": [
    "# 选择排序\n",
    "举个例子，假如你有10首歌，并且你经常听这10首歌，突然有一天，你想重新把这10首歌按照播放次数从多到少的排列，并将排列后的歌曲添加到一个新的列表中，这个时候你就需要用到选择排序\n",
    "\n",
    "首先，你遍历整个列表，找出播放次数最多的歌曲，并将该歌曲添加到一个新的播放列表中。然后，你再重复这个过程，找出播放次数第二多的歌曲并添加到列表中，重复这个过程，直到完成对这10首歌的排序。这就是选择排序"
   ]
  },
  {
   "cell_type": "code",
   "execution_count": 1,
   "metadata": {},
   "outputs": [
    {
     "name": "stdout",
     "output_type": "stream",
     "text": [
      "[0, 1, 2, 3, 4, 5, 6, 7, 8, 9]\n"
     ]
    }
   ],
   "source": [
    "# 在数组中找到最小值\n",
    "def findSmallest(arr):\n",
    "    # 存储最小值\n",
    "    smallest = arr[0]\n",
    "    # 存储最小值的索引\n",
    "    smallest_index = 0\n",
    "    for i in range(0, len(arr)):\n",
    "        if arr[i] < smallest:\n",
    "            smallest, smallest_index = arr[i], i\n",
    "    return smallest_index\n",
    "\n",
    "\n",
    "# 对数组进行排序\n",
    "def SelectionSort(arr):\n",
    "    newArr = []\n",
    "    for i in range(0, len(arr)):\n",
    "        smallest = findSmallest(arr)\n",
    "        newArr.append(arr.pop(smallest))\n",
    "    return newArr\n",
    "\n",
    "\n",
    "print(SelectionSort([1,3,5,7,9,0,8,6,4,2]))"
   ]
  },
  {
   "cell_type": "code",
   "execution_count": null,
   "metadata": {},
   "outputs": [],
   "source": []
  }
 ],
 "metadata": {
  "kernelspec": {
   "display_name": "Python 3",
   "language": "python",
   "name": "python3"
  },
  "language_info": {
   "codemirror_mode": {
    "name": "ipython",
    "version": 3
   },
   "file_extension": ".py",
   "mimetype": "text/x-python",
   "name": "python",
   "nbconvert_exporter": "python",
   "pygments_lexer": "ipython3",
   "version": "3.7.0"
  }
 },
 "nbformat": 4,
 "nbformat_minor": 2
}
