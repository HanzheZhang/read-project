{
 "cells": [
  {
   "cell_type": "markdown",
   "metadata": {},
   "source": [
    "二分查找, 简而言之就是把一个数组分一半来找.怎么说呢,举个例子吧\n",
    "\n",
    "假如有这么一个游戏, 其规则就是一个人在0到100这个区间里随机想一个数,然后另一个人来猜,每次猜测后想数的那个人会告诉猜数的人小了,大了或者对了.\n",
    "\n",
    "那么问题来了, 如果我们只是顺序猜1,2,3,4,5,6,7,8,9......未免也太耗费时间,如果想数的那个人想的是99,那猜数的那个人得猜99次才会猜到,所以这个时候,就有了更好的查找方式二分查找\n",
    "\n",
    "还是同样这个游戏, 但这次猜数的人就可以直接从中间开始猜---也就是50, 如果想数的人告诉他小了,那么比50小的数就可以全部排除, 于是我们还剩50个数,这时我们再分一半,从75开始猜;如果大了,也就是说我们要找的这个数就在50-75的这个区间,再依次像这样二分查找下去即好,同样,如果说大了,我们就可以把区间定为75-100,然后继续二分即可"
   ]
  },
  {
   "cell_type": "code",
   "execution_count": 4,
   "metadata": {},
   "outputs": [
    {
     "name": "stdout",
     "output_type": "stream",
     "text": [
      "1\n",
      "None\n"
     ]
    }
   ],
   "source": [
    "def binary_search(list, item):\n",
    "    low = 0\n",
    "    high = len(list) - 1    # low和high跟踪你将搜索的列表的哪个部分\n",
    "    \n",
    "    #只要范围没有缩小到只包含一个元素,就检查中间元素\n",
    "    while low <= high:\n",
    "        mid = (low + high) // 2\n",
    "        guess = list[mid]\n",
    "        if guess == item:\n",
    "            return mid\n",
    "        elif guess > item:\n",
    "            high = mid -1\n",
    "        else:\n",
    "            low = mid + 1\n",
    "            \n",
    "    return None\n",
    "\n",
    "my_list = [1, 3, 5, 7, 9]\n",
    "print(binary_search(my_list, 3)) # => 1\n",
    "\n",
    "# 在python中,None表示空,意味着没有找到指定的元素\n",
    "print(binary_search(my_list, -1)) # => None"
   ]
  },
  {
   "cell_type": "code",
   "execution_count": null,
   "metadata": {},
   "outputs": [],
   "source": []
  }
 ],
 "metadata": {
  "kernelspec": {
   "display_name": "Python 3",
   "language": "python",
   "name": "python3"
  },
  "language_info": {
   "codemirror_mode": {
    "name": "ipython",
    "version": 3
   },
   "file_extension": ".py",
   "mimetype": "text/x-python",
   "name": "python",
   "nbconvert_exporter": "python",
   "pygments_lexer": "ipython3",
   "version": "3.7.0"
  }
 },
 "nbformat": 4,
 "nbformat_minor": 2
}
