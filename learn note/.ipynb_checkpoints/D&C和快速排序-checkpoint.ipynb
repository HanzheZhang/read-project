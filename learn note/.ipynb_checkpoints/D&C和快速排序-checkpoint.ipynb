{
 "cells": [
  {
   "cell_type": "markdown",
   "metadata": {},
   "source": [
    "# 什么是分而治之（Divide And Conquer)（D&C）\n",
    "假如你是一个农场主，你有块1680m x 640m的土地，现在你需要把这块土地均匀的分成方块，且分出的方块要尽可能的大。那么这时就需要D&C来解决问题\n",
    "- 找出基线条件，这种条件必须尽可能的简单\n",
    "- 不断将问题分解，直到符合基线条件\n",
    "对于这个问题来说，我们先找出基线条件，如果这个方块一边长25米，另一边长50米，那么可使用的最大方块为25x25米。\n",
    "\n",
    "现在需要找出递归条件，根据D&C的定义，我们首先找出这块地可容纳的最大方块，那么根据前面给出的数据可得知，我们可以从这块地中画出640x640米的方块，但是现在还剩一块640x400米的地，于是我们再重复D&C划分，最后可得到80x80米的土地。然后，反推回去，对于那片最初的土地，适用的最大方块就是80x80米"
   ]
  },
  {
   "cell_type": "markdown",
   "metadata": {},
   "source": [
    "# 分而治之的工作原理\n",
    "1. 找出简单基线条件\n",
    "2. 确定如何缩小问题的规模，使其符合基线条件"
   ]
  },
  {
   "cell_type": "markdown",
   "metadata": {},
   "source": [
    "# 分而治之在代码中的应用\n",
    "首先咱得先交代一点就是我们后面即将会用到的sum函数的工作原理：\n",
    "* 交代一个函数 \n",
    "* 如果列表为空，则返回（）\n",
    "* 如果列表不为空，则计算列表中除第一个数字外的其它数字之和，将其与第一个数字相加，再返回结果\n",
    "\n",
    "假设给定一个数字数组【2， 4， 6】，你需要将这些数字相加，并返回结果。通常情况我们可以用循环来完成这个："
   ]
  },
  {
   "cell_type": "code",
   "execution_count": 1,
   "metadata": {},
   "outputs": [
    {
     "name": "stdout",
     "output_type": "stream",
     "text": [
      "10\n"
     ]
    }
   ],
   "source": [
    "def sum(arr):\n",
    "    total = 0\n",
    "    for x in arr:\n",
    "        total += x\n",
    "    return total\n",
    "\n",
    "print(sum([1,2,3,4]))"
   ]
  },
  {
   "cell_type": "markdown",
   "metadata": {},
   "source": [
    "但如何用递归函数来写呢？\n",
    "## 明确思路\n",
    "- 找出基线条件：0不包含任何元素 --> 总和为0；1只包含一个元素 ----> 总和为7\n",
    "- 每次递归调用都必须离空数组更近一步，所以我们可以用：2+sum(4,6)"
   ]
  },
  {
   "cell_type": "code",
   "execution_count": 2,
   "metadata": {},
   "outputs": [],
   "source": [
    "#给定一个list\n",
    "def sum(list):\n",
    "#调用sum函数\n",
    "      if list == []:\n",
    "#基线条件\n",
    "          return 0\n",
    "#递归条件\n",
    "          return list[0] + sum(list[1:])"
   ]
  },
  {
   "cell_type": "markdown",
   "metadata": {},
   "source": [
    "# 快速排序\n",
    "对于快速排序来说，空数组和只包含一个元素的数组只需要原样返回值就好，根本就不用排序\n",
    "```python\n",
    "def quicksort(array):\n",
    "     if len(array) < 2:\n",
    "         return array\n",
    "```\n",
    "如果是两个元素的数组，就检查第一个元素是否比第二个元素小，如果不是，则将两个元素交换位置即可\n",
    "\n",
    "对于三个及以上的元素来说，我们需要先找到个基准值，然后将三个元素与基准值相比较，再将比较的结果排序，下面是代码的实现："
   ]
  },
  {
   "cell_type": "code",
   "execution_count": 4,
   "metadata": {},
   "outputs": [
    {
     "name": "stdout",
     "output_type": "stream",
     "text": [
      "[0, 1, 2, 3, 4, 5, 6, 7, 8, 9]\n"
     ]
    }
   ],
   "source": [
    "def quicksort(array):\n",
    "    if len(array) < 2:\n",
    "        # 基线条件，为空或只包含一个元素的数组是“有序”的\n",
    "        return array\n",
    "    # 递归条件\n",
    "    low = array[0]\n",
    "    # 由所有小于等于基准值的元素所组成的组数组\n",
    "    less = [i for i in array[1:] if i <= low]\n",
    "    # 由所有大于基准值的元素所组成的组数组\n",
    "    greater = [i for i in array[1:] if i > low]\n",
    "    return quicksort(less) + [low] + quicksort(greater)\n",
    "\n",
    "\n",
    "print(quicksort([1,3,5,7,9,0,8,6,4,2]))"
   ]
  },
  {
   "cell_type": "markdown",
   "metadata": {},
   "source": [
    "# 小结\n",
    "- D&C将问题逐步分解，使用D&C处理列表的时候，基线条件很可能是空数组或只包含一个元素的数组\n",
    "- 实现快速排序的时候，请随机选择用作基准值的元素"
   ]
  },
  {
   "cell_type": "code",
   "execution_count": null,
   "metadata": {},
   "outputs": [],
   "source": []
  }
 ],
 "metadata": {
  "kernelspec": {
   "display_name": "Python 3",
   "language": "python",
   "name": "python3"
  },
  "language_info": {
   "codemirror_mode": {
    "name": "ipython",
    "version": 3
   },
   "file_extension": ".py",
   "mimetype": "text/x-python",
   "name": "python",
   "nbconvert_exporter": "python",
   "pygments_lexer": "ipython3",
   "version": "3.7.0"
  }
 },
 "nbformat": 4,
 "nbformat_minor": 2
}
